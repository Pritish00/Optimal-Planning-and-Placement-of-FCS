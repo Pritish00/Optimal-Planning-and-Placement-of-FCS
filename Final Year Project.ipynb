{
 "cells": [
  {
   "cell_type": "markdown",
   "metadata": {
    "extensions": {
     "jupyter_dashboards": {
      "version": 1,
      "views": {
       "grid_default": {},
       "report_default": {}
      }
     }
    }
   },
   "source": [
    "# Optimal number of FCs"
   ]
  },
  {
   "cell_type": "markdown",
   "metadata": {
    "extensions": {
     "jupyter_dashboards": {
      "version": 1,
      "views": {
       "grid_default": {},
       "report_default": {}
      }
     }
    }
   },
   "source": [
    "Importing Required Libraries"
   ]
  },
  {
   "cell_type": "code",
   "execution_count": 17,
   "metadata": {
    "extensions": {
     "jupyter_dashboards": {
      "version": 1,
      "views": {
       "grid_default": {},
       "report_default": {}
      }
     }
    }
   },
   "outputs": [],
   "source": [
    "import pandas as pd\n",
    "import numpy as np\n",
    "import random\n",
    "import matplotlib.pyplot as plt"
   ]
  },
  {
   "cell_type": "code",
   "execution_count": 18,
   "metadata": {
    "extensions": {
     "jupyter_dashboards": {
      "version": 1,
      "views": {
       "grid_default": {},
       "report_default": {}
      }
     }
    }
   },
   "outputs": [
    {
     "name": "stdout",
     "output_type": "stream",
     "text": [
      "      sr  zone   x   y\n",
      "0      1     0   0  11\n",
      "1      2     3   0  10\n",
      "2      3     7   0   9\n",
      "3      4     6   0   8\n",
      "4      5     4   0   7\n",
      "5      6     0   0   6\n",
      "6      7     7   0   5\n",
      "7      8     4   0   4\n",
      "8      9     8   0   3\n",
      "9     10     3   0   2\n",
      "10    11     0   0   1\n",
      "11    12     0   0   0\n",
      "12    13     3   1  11\n",
      "13    14     5   1  10\n",
      "14    15    11   1   9\n",
      "15    16     1   1   8\n",
      "16    17     6   1   7\n",
      "17    18    13   1   6\n",
      "18    19    11   1   5\n",
      "19    20     9   1   4\n",
      "20    21    13   1   3\n",
      "21    22    12   1   2\n",
      "22    23     6   1   1\n",
      "23    24     5   1   0\n",
      "24    25     5   2  11\n",
      "25    26     4   2  10\n",
      "26    27    16   2   9\n",
      "27    28     7   2   8\n",
      "28    29     9   2   7\n",
      "29    30    14   2   6\n",
      "..   ...   ...  ..  ..\n",
      "150  151    12  12   5\n",
      "151  152    17  12   4\n",
      "152  153     9  12   3\n",
      "153  154    15  12   2\n",
      "154  155     4  12   1\n",
      "155  156     4  12   0\n",
      "156  157     4  13  11\n",
      "157  158     6  13  10\n",
      "158  159     5  13   9\n",
      "159  160    15  13   8\n",
      "160  161     9  13   7\n",
      "161  162     9  13   6\n",
      "162  163     8  13   5\n",
      "163  164    12  13   4\n",
      "164  165    15  13   3\n",
      "165  166    13  13   2\n",
      "166  167     0  13   1\n",
      "167  168     3  13   0\n",
      "168  169     0  14  11\n",
      "169  170     4  14  10\n",
      "170  171     3  14   9\n",
      "171  172     1  14   8\n",
      "172  173     7  14   7\n",
      "173  174     4  14   6\n",
      "174  175     0  14   5\n",
      "175  176     6  14   4\n",
      "176  177     8  14   3\n",
      "177  178     3  14   2\n",
      "178  179     0  14   1\n",
      "179  180     4  14   0\n",
      "\n",
      "[180 rows x 4 columns]\n"
     ]
    }
   ],
   "source": [
    "zonexy=pd.read_excel(\"xy.xlsx\",sheet_name=\"Sheet2\")  ##Study Area Data\n",
    "print(zonexy)"
   ]
  },
  {
   "cell_type": "code",
   "execution_count": 19,
   "metadata": {
    "extensions": {
     "jupyter_dashboards": {
      "version": 1,
      "views": {
       "grid_default": {},
       "report_default": {}
      }
     }
    }
   },
   "outputs": [],
   "source": [
    "zdata=pd.read_excel(\"xy.xlsx\",sheet_name=\"Sheet3\")\n"
   ]
  },
  {
   "cell_type": "code",
   "execution_count": 20,
   "metadata": {
    "extensions": {
     "jupyter_dashboards": {
      "version": 1,
      "views": {
       "grid_default": {},
       "report_default": {}
      }
     }
    }
   },
   "outputs": [
    {
     "name": "stdout",
     "output_type": "stream",
     "text": [
      "      sr  zone   x   y\n",
      "0      1     7   0   9\n",
      "1      2     7   0   5\n",
      "2      3     8   0   3\n",
      "3      4    11   1   9\n",
      "4      5    13   1   6\n",
      "5      6    11   1   5\n",
      "6      7     9   1   4\n",
      "7      8    13   1   3\n",
      "8      9    12   1   2\n",
      "9     10    16   2   9\n",
      "10    11     7   2   8\n",
      "11    12     9   2   7\n",
      "12    13    14   2   6\n",
      "13    14    15   2   4\n",
      "14    15    14   2   3\n",
      "15    16     9   2   2\n",
      "16    17     7   2   1\n",
      "17    18     6   3  10\n",
      "18    19     9   3   9\n",
      "19    20    15   3   8\n",
      "20    21    10   3   7\n",
      "21    22    10   3   6\n",
      "22    23    16   3   5\n",
      "23    24    14   3   4\n",
      "24    25    19   3   3\n",
      "25    26    16   3   2\n",
      "26    27     8   3   1\n",
      "27    28     9   4   9\n",
      "28    29    16   4   8\n",
      "29    30     8   4   7\n",
      "..   ...   ...  ..  ..\n",
      "88    89    12  10   4\n",
      "89    90    11  10   3\n",
      "90    91    17  10   2\n",
      "91    92     7  11  10\n",
      "92    93    17  11   8\n",
      "93    94    11  11   7\n",
      "94    95     8  11   6\n",
      "95    96    19  11   5\n",
      "96    97    17  11   4\n",
      "97    98    13  11   3\n",
      "98    99    16  11   2\n",
      "99   100     6  12  11\n",
      "100  101     9  12   9\n",
      "101  102     9  12   8\n",
      "102  103     7  12   7\n",
      "103  104    15  12   6\n",
      "104  105    12  12   5\n",
      "105  106    17  12   4\n",
      "106  107     9  12   3\n",
      "107  108    15  12   2\n",
      "108  109     6  13  10\n",
      "109  110    15  13   8\n",
      "110  111     9  13   7\n",
      "111  112     9  13   6\n",
      "112  113     8  13   5\n",
      "113  114    12  13   4\n",
      "114  115    15  13   3\n",
      "115  116    13  13   2\n",
      "116  117     7  14   7\n",
      "117  118     8  14   3\n",
      "\n",
      "[118 rows x 4 columns]\n"
     ]
    }
   ],
   "source": [
    "busxy=pd.read_excel(\"bus1.xlsx\")     ##Bus Data\n",
    "print(busxy)"
   ]
  },
  {
   "cell_type": "code",
   "execution_count": 21,
   "metadata": {
    "extensions": {
     "jupyter_dashboards": {
      "version": 1,
      "views": {
       "grid_default": {},
       "report_default": {}
      }
     }
    }
   },
   "outputs": [],
   "source": [
    "def xyfc(ns):                        ##Funtion to place station Equdistantly\n",
    "    \n",
    "    x=118//(ns+1)\n",
    "    xy=[]\n",
    "    nos=x\n",
    "    n=0\n",
    "    while(n<ns):\n",
    "    \n",
    "        xcor=busxy['x'][nos-1]\n",
    "        ycor=busxy['y'][nos-1]\n",
    "        xy.append([xcor,ycor])\n",
    "        nos+=x\n",
    "        n+=1\n",
    "    return(xy)"
   ]
  },
  {
   "cell_type": "code",
   "execution_count": 22,
   "metadata": {
    "extensions": {
     "jupyter_dashboards": {
      "version": 1,
      "views": {
       "grid_default": {},
       "report_default": {}
      }
     }
    }
   },
   "outputs": [],
   "source": [
    "def s(j):                            ##Function for S(j)\n",
    "    z=1\n",
    "    sum1=0\n",
    "    while(z<=180):\n",
    "        var=0\n",
    "        if(zdata['st'][z-1]==j):\n",
    "            var=1\n",
    "        sum1+=(0.1*zonexy['zone'][z-1]*var)\n",
    "        z+=1\n",
    "    return sum1"
   ]
  },
  {
   "cell_type": "code",
   "execution_count": 23,
   "metadata": {
    "extensions": {
     "jupyter_dashboards": {
      "version": 1,
      "views": {
       "grid_default": {},
       "report_default": {}
      }
     }
    }
   },
   "outputs": [],
   "source": [
    "def sdc(cha):                         ##Function to calculate SDC\n",
    "    \n",
    "    val=70000+(25*240*s(cha))+(208.33*(s(cha)-1)*96)\n",
    "    return val"
   ]
  },
  {
   "cell_type": "code",
   "execution_count": 24,
   "metadata": {
    "extensions": {
     "jupyter_dashboards": {
      "version": 1,
      "views": {
       "grid_default": {},
       "report_default": {}
      }
     }
    }
   },
   "outputs": [],
   "source": [
    "def evuc(z):                           ##Function to calculate EVUC\n",
    "    vals=0\n",
    "    j=zdata[\"st\"][z-1]\n",
    "    x1=zonexy['x'][z-1]\n",
    "    x2=lis[j-1][0]\n",
    "    y1=zonexy['y'][z-1]\n",
    "    y2=lis[j-1][1]\n",
    "    dist1=np.sqrt((x2-x1)**2 + (y2-y1)**2)\n",
    "    \n",
    "    vals+=(dist1)*0.142*4*0.98*zonexy['zone'][z-1]*87.7\n",
    "    \n",
    "    return vals\n",
    "    \n",
    "    "
   ]
  },
  {
   "cell_type": "markdown",
   "metadata": {
    "extensions": {
     "jupyter_dashboards": {
      "version": 1,
      "views": {
       "grid_default": {},
       "report_default": {}
      }
     }
    }
   },
   "source": [
    "Process to find the Optimal Number of FCs"
   ]
  },
  {
   "cell_type": "code",
   "execution_count": 25,
   "metadata": {
    "extensions": {
     "jupyter_dashboards": {
      "version": 1,
      "views": {
       "grid_default": {},
       "report_default": {}
      }
     }
    }
   },
   "outputs": [
    {
     "name": "stdout",
     "output_type": "stream",
     "text": [
      "[4758107.043948352, 4716736.866156581, 4743671.780449519, 4783093.592155193, 4853034.630667915, 4930601.911632003, 5010335.218234033, 5056115.271347978, 5035300.7746197125, 5060542.890124918, 5101908.575189765]\n",
      "[5, 6, 7, 8, 9, 10, 11, 12, 13, 14, 15]\n"
     ]
    }
   ],
   "source": [
    "sdcarr=[]\n",
    "xaxis=[]\n",
    "for ns in range(5,16):\n",
    "    zdata=pd.read_excel(\"xy.xlsx\",sheet_name=\"Sheet3\")\n",
    "    xaxis.append(ns)\n",
    "\n",
    "    for j in range(1,181):\n",
    "\n",
    "        dist=100000000\n",
    "        h=0\n",
    "        lis=xyfc(ns)\n",
    "        for i in lis:\n",
    "            x1=zonexy['x'][j-1]\n",
    "            x2=i[0]\n",
    "            y1=zonexy['y'][j-1]\n",
    "            y2=i[1]\n",
    "\n",
    "            dist1=np.sqrt((x2-x1)**2 + (y2-y1)**2)\n",
    "            if(dist1<dist):\n",
    "                dist=dist1\n",
    "                h=(lis.index(i))+1\n",
    "\n",
    "        df2 = {'st': h, 'zone':j}\n",
    "        zdata = zdata.append(df2, ignore_index = True)\n",
    "       \n",
    "    sdcval=0\n",
    "    for x in range(1,ns+1):\n",
    "        \n",
    "        value=sdc(x)\n",
    "        sdcval+=value\n",
    "    evval=0\n",
    "    for zon in range(1,181):\n",
    "       \n",
    "        evval+=evuc(zon)\n",
    "        \n",
    "    sdcval+=evval\n",
    "    \n",
    "    sdcarr.append(sdcval)\n",
    "    \n",
    "print(sdcarr)\n",
    "print(xaxis)\n",
    "#print(zdata)\n",
    "        \n",
    "    \n",
    "    \n",
    "    \n",
    "    "
   ]
  },
  {
   "cell_type": "code",
   "execution_count": 26,
   "metadata": {
    "extensions": {
     "jupyter_dashboards": {
      "version": 1,
      "views": {
       "grid_default": {},
       "report_default": {}
      }
     }
    }
   },
   "outputs": [
    {
     "data": {
      "image/png": "[encoded data removed]",
      "text/plain": [
       "<Figure size 432x288 with 1 Axes>"
      ]
     },
     "metadata": {
      "needs_background": "light"
     },
     "output_type": "display_data"
    }
   ],
   "source": [
    "plt.scatter(xaxis,sdcarr)    ##Plotting of Objective Function\n",
    "plt.title(\"Optimal no. of Fast Charging Stations\")\n",
    "plt.xlabel(\"No. of Charging Station\")\n",
    "plt.ylabel(\"f(x)\")\n",
    "plt.show()"
   ]
  },
  {
   "cell_type": "code",
   "execution_count": 27,
   "metadata": {
    "extensions": {
     "jupyter_dashboards": {
      "version": 1,
      "views": {
       "grid_default": {},
       "report_default": {}
      }
     }
    }
   },
   "outputs": [
    {
     "data": {
      "text/plain": [
       "6"
      ]
     },
     "execution_count": 27,
     "metadata": {},
     "output_type": "execute_result"
    }
   ],
   "source": [
    "optimal_fcs=xaxis[sdcarr.index(min(sdcarr))]         ##Min number of FCs required.\n",
    "optimal_fcs\n"
   ]
  },
  {
   "cell_type": "code",
   "execution_count": 28,
   "metadata": {
    "extensions": {
     "jupyter_dashboards": {
      "version": 1,
      "views": {
       "grid_default": {},
       "report_default": {}
      }
     }
    }
   },
   "outputs": [
    {
     "data": {
      "text/html": [
       "<div>\n",
       "<style scoped>\n",
       "    .dataframe tbody tr th:only-of-type {\n",
       "        vertical-align: middle;\n",
       "    }\n",
       "\n",
       "    .dataframe tbody tr th {\n",
       "        vertical-align: top;\n",
       "    }\n",
       "\n",
       "    .dataframe thead th {\n",
       "        text-align: right;\n",
       "    }\n",
       "</style>\n",
       "<table border=\"1\" class=\"dataframe\">\n",
       "  <thead>\n",
       "    <tr style=\"text-align: right;\">\n",
       "      <th></th>\n",
       "      <th>zone</th>\n",
       "      <th>st</th>\n",
       "    </tr>\n",
       "  </thead>\n",
       "  <tbody>\n",
       "    <tr>\n",
       "      <th>0</th>\n",
       "      <td>1</td>\n",
       "      <td>3</td>\n",
       "    </tr>\n",
       "    <tr>\n",
       "      <th>1</th>\n",
       "      <td>2</td>\n",
       "      <td>3</td>\n",
       "    </tr>\n",
       "    <tr>\n",
       "      <th>2</th>\n",
       "      <td>3</td>\n",
       "      <td>2</td>\n",
       "    </tr>\n",
       "    <tr>\n",
       "      <th>3</th>\n",
       "      <td>4</td>\n",
       "      <td>2</td>\n",
       "    </tr>\n",
       "    <tr>\n",
       "      <th>4</th>\n",
       "      <td>5</td>\n",
       "      <td>2</td>\n",
       "    </tr>\n",
       "    <tr>\n",
       "      <th>5</th>\n",
       "      <td>6</td>\n",
       "      <td>2</td>\n",
       "    </tr>\n",
       "    <tr>\n",
       "      <th>6</th>\n",
       "      <td>7</td>\n",
       "      <td>1</td>\n",
       "    </tr>\n",
       "    <tr>\n",
       "      <th>7</th>\n",
       "      <td>8</td>\n",
       "      <td>1</td>\n",
       "    </tr>\n",
       "    <tr>\n",
       "      <th>8</th>\n",
       "      <td>9</td>\n",
       "      <td>1</td>\n",
       "    </tr>\n",
       "    <tr>\n",
       "      <th>9</th>\n",
       "      <td>10</td>\n",
       "      <td>1</td>\n",
       "    </tr>\n",
       "    <tr>\n",
       "      <th>10</th>\n",
       "      <td>11</td>\n",
       "      <td>1</td>\n",
       "    </tr>\n",
       "    <tr>\n",
       "      <th>11</th>\n",
       "      <td>12</td>\n",
       "      <td>1</td>\n",
       "    </tr>\n",
       "    <tr>\n",
       "      <th>12</th>\n",
       "      <td>13</td>\n",
       "      <td>3</td>\n",
       "    </tr>\n",
       "    <tr>\n",
       "      <th>13</th>\n",
       "      <td>14</td>\n",
       "      <td>3</td>\n",
       "    </tr>\n",
       "    <tr>\n",
       "      <th>14</th>\n",
       "      <td>15</td>\n",
       "      <td>2</td>\n",
       "    </tr>\n",
       "    <tr>\n",
       "      <th>15</th>\n",
       "      <td>16</td>\n",
       "      <td>2</td>\n",
       "    </tr>\n",
       "    <tr>\n",
       "      <th>16</th>\n",
       "      <td>17</td>\n",
       "      <td>2</td>\n",
       "    </tr>\n",
       "    <tr>\n",
       "      <th>17</th>\n",
       "      <td>18</td>\n",
       "      <td>2</td>\n",
       "    </tr>\n",
       "    <tr>\n",
       "      <th>18</th>\n",
       "      <td>19</td>\n",
       "      <td>2</td>\n",
       "    </tr>\n",
       "    <tr>\n",
       "      <th>19</th>\n",
       "      <td>20</td>\n",
       "      <td>1</td>\n",
       "    </tr>\n",
       "    <tr>\n",
       "      <th>20</th>\n",
       "      <td>21</td>\n",
       "      <td>1</td>\n",
       "    </tr>\n",
       "    <tr>\n",
       "      <th>21</th>\n",
       "      <td>22</td>\n",
       "      <td>1</td>\n",
       "    </tr>\n",
       "    <tr>\n",
       "      <th>22</th>\n",
       "      <td>23</td>\n",
       "      <td>1</td>\n",
       "    </tr>\n",
       "    <tr>\n",
       "      <th>23</th>\n",
       "      <td>24</td>\n",
       "      <td>1</td>\n",
       "    </tr>\n",
       "    <tr>\n",
       "      <th>24</th>\n",
       "      <td>25</td>\n",
       "      <td>3</td>\n",
       "    </tr>\n",
       "    <tr>\n",
       "      <th>25</th>\n",
       "      <td>26</td>\n",
       "      <td>3</td>\n",
       "    </tr>\n",
       "    <tr>\n",
       "      <th>26</th>\n",
       "      <td>27</td>\n",
       "      <td>3</td>\n",
       "    </tr>\n",
       "    <tr>\n",
       "      <th>27</th>\n",
       "      <td>28</td>\n",
       "      <td>2</td>\n",
       "    </tr>\n",
       "    <tr>\n",
       "      <th>28</th>\n",
       "      <td>29</td>\n",
       "      <td>2</td>\n",
       "    </tr>\n",
       "    <tr>\n",
       "      <th>29</th>\n",
       "      <td>30</td>\n",
       "      <td>2</td>\n",
       "    </tr>\n",
       "    <tr>\n",
       "      <th>...</th>\n",
       "      <td>...</td>\n",
       "      <td>...</td>\n",
       "    </tr>\n",
       "    <tr>\n",
       "      <th>150</th>\n",
       "      <td>151</td>\n",
       "      <td>6</td>\n",
       "    </tr>\n",
       "    <tr>\n",
       "      <th>151</th>\n",
       "      <td>152</td>\n",
       "      <td>6</td>\n",
       "    </tr>\n",
       "    <tr>\n",
       "      <th>152</th>\n",
       "      <td>153</td>\n",
       "      <td>6</td>\n",
       "    </tr>\n",
       "    <tr>\n",
       "      <th>153</th>\n",
       "      <td>154</td>\n",
       "      <td>5</td>\n",
       "    </tr>\n",
       "    <tr>\n",
       "      <th>154</th>\n",
       "      <td>155</td>\n",
       "      <td>5</td>\n",
       "    </tr>\n",
       "    <tr>\n",
       "      <th>155</th>\n",
       "      <td>156</td>\n",
       "      <td>5</td>\n",
       "    </tr>\n",
       "    <tr>\n",
       "      <th>156</th>\n",
       "      <td>157</td>\n",
       "      <td>4</td>\n",
       "    </tr>\n",
       "    <tr>\n",
       "      <th>157</th>\n",
       "      <td>158</td>\n",
       "      <td>4</td>\n",
       "    </tr>\n",
       "    <tr>\n",
       "      <th>158</th>\n",
       "      <td>159</td>\n",
       "      <td>6</td>\n",
       "    </tr>\n",
       "    <tr>\n",
       "      <th>159</th>\n",
       "      <td>160</td>\n",
       "      <td>6</td>\n",
       "    </tr>\n",
       "    <tr>\n",
       "      <th>160</th>\n",
       "      <td>161</td>\n",
       "      <td>6</td>\n",
       "    </tr>\n",
       "    <tr>\n",
       "      <th>161</th>\n",
       "      <td>162</td>\n",
       "      <td>6</td>\n",
       "    </tr>\n",
       "    <tr>\n",
       "      <th>162</th>\n",
       "      <td>163</td>\n",
       "      <td>6</td>\n",
       "    </tr>\n",
       "    <tr>\n",
       "      <th>163</th>\n",
       "      <td>164</td>\n",
       "      <td>6</td>\n",
       "    </tr>\n",
       "    <tr>\n",
       "      <th>164</th>\n",
       "      <td>165</td>\n",
       "      <td>6</td>\n",
       "    </tr>\n",
       "    <tr>\n",
       "      <th>165</th>\n",
       "      <td>166</td>\n",
       "      <td>6</td>\n",
       "    </tr>\n",
       "    <tr>\n",
       "      <th>166</th>\n",
       "      <td>167</td>\n",
       "      <td>5</td>\n",
       "    </tr>\n",
       "    <tr>\n",
       "      <th>167</th>\n",
       "      <td>168</td>\n",
       "      <td>5</td>\n",
       "    </tr>\n",
       "    <tr>\n",
       "      <th>168</th>\n",
       "      <td>169</td>\n",
       "      <td>4</td>\n",
       "    </tr>\n",
       "    <tr>\n",
       "      <th>169</th>\n",
       "      <td>170</td>\n",
       "      <td>6</td>\n",
       "    </tr>\n",
       "    <tr>\n",
       "      <th>170</th>\n",
       "      <td>171</td>\n",
       "      <td>6</td>\n",
       "    </tr>\n",
       "    <tr>\n",
       "      <th>171</th>\n",
       "      <td>172</td>\n",
       "      <td>6</td>\n",
       "    </tr>\n",
       "    <tr>\n",
       "      <th>172</th>\n",
       "      <td>173</td>\n",
       "      <td>6</td>\n",
       "    </tr>\n",
       "    <tr>\n",
       "      <th>173</th>\n",
       "      <td>174</td>\n",
       "      <td>6</td>\n",
       "    </tr>\n",
       "    <tr>\n",
       "      <th>174</th>\n",
       "      <td>175</td>\n",
       "      <td>6</td>\n",
       "    </tr>\n",
       "    <tr>\n",
       "      <th>175</th>\n",
       "      <td>176</td>\n",
       "      <td>6</td>\n",
       "    </tr>\n",
       "    <tr>\n",
       "      <th>176</th>\n",
       "      <td>177</td>\n",
       "      <td>6</td>\n",
       "    </tr>\n",
       "    <tr>\n",
       "      <th>177</th>\n",
       "      <td>178</td>\n",
       "      <td>6</td>\n",
       "    </tr>\n",
       "    <tr>\n",
       "      <th>178</th>\n",
       "      <td>179</td>\n",
       "      <td>6</td>\n",
       "    </tr>\n",
       "    <tr>\n",
       "      <th>179</th>\n",
       "      <td>180</td>\n",
       "      <td>5</td>\n",
       "    </tr>\n",
       "  </tbody>\n",
       "</table>\n",
       "<p>180 rows × 2 columns</p>\n",
       "</div>"
      ],
      "text/plain": [
       "    zone st\n",
       "0      1  3\n",
       "1      2  3\n",
       "2      3  2\n",
       "3      4  2\n",
       "4      5  2\n",
       "5      6  2\n",
       "6      7  1\n",
       "7      8  1\n",
       "8      9  1\n",
       "9     10  1\n",
       "10    11  1\n",
       "11    12  1\n",
       "12    13  3\n",
       "13    14  3\n",
       "14    15  2\n",
       "15    16  2\n",
       "16    17  2\n",
       "17    18  2\n",
       "18    19  2\n",
       "19    20  1\n",
       "20    21  1\n",
       "21    22  1\n",
       "22    23  1\n",
       "23    24  1\n",
       "24    25  3\n",
       "25    26  3\n",
       "26    27  3\n",
       "27    28  2\n",
       "28    29  2\n",
       "29    30  2\n",
       "..   ... ..\n",
       "150  151  6\n",
       "151  152  6\n",
       "152  153  6\n",
       "153  154  5\n",
       "154  155  5\n",
       "155  156  5\n",
       "156  157  4\n",
       "157  158  4\n",
       "158  159  6\n",
       "159  160  6\n",
       "160  161  6\n",
       "161  162  6\n",
       "162  163  6\n",
       "163  164  6\n",
       "164  165  6\n",
       "165  166  6\n",
       "166  167  5\n",
       "167  168  5\n",
       "168  169  4\n",
       "169  170  6\n",
       "170  171  6\n",
       "171  172  6\n",
       "172  173  6\n",
       "173  174  6\n",
       "174  175  6\n",
       "175  176  6\n",
       "176  177  6\n",
       "177  178  6\n",
       "178  179  6\n",
       "179  180  5\n",
       "\n",
       "[180 rows x 2 columns]"
      ]
     },
     "execution_count": 28,
     "metadata": {},
     "output_type": "execute_result"
    }
   ],
   "source": [
    "zdata=pd.read_excel(\"xy.xlsx\",sheet_name=\"Sheet3\")\n",
    "xaxis.append(ns)\n",
    "\n",
    "for j in range(1,181):\n",
    "\n",
    "    dist=100000000\n",
    "    h=0\n",
    "    lis=xyfc(optimal_fcs)\n",
    "    for i in lis:\n",
    "        x1=zonexy['x'][j-1]\n",
    "        x2=i[0]\n",
    "        y1=zonexy['y'][j-1]\n",
    "        y2=i[1]\n",
    "\n",
    "        dist1=np.sqrt((x2-x1)**2 + (y2-y1)**2)\n",
    "        if(dist1<dist):\n",
    "            dist=dist1\n",
    "            h=(lis.index(i))+1\n",
    "\n",
    "    df2 = {'st': h, 'zone':j}\n",
    "    zdata = zdata.append(df2, ignore_index = True)\n",
    "        \n",
    "zdata"
   ]
  },
  {
   "cell_type": "code",
   "execution_count": 29,
   "metadata": {
    "extensions": {
     "jupyter_dashboards": {
      "version": 1,
      "views": {
       "grid_default": {},
       "report_default": {}
      }
     }
    }
   },
   "outputs": [
    {
     "name": "stdout",
     "output_type": "stream",
     "text": [
      "[[2, 2], [4, 5], [6, 9], [8, 10], [9, 3], [11, 5]]\n"
     ]
    }
   ],
   "source": [
    "print(xyfc(6))\n"
   ]
  },
  {
   "cell_type": "code",
   "execution_count": 30,
   "metadata": {
    "extensions": {
     "jupyter_dashboards": {
      "version": 1,
      "views": {
       "grid_default": {},
       "report_default": {}
      }
     }
    }
   },
   "outputs": [
    {
     "data": {
      "text/plain": [
       "[[0, 9],\n",
       " [0, 5],\n",
       " [0, 3],\n",
       " [1, 9],\n",
       " [1, 6],\n",
       " [1, 5],\n",
       " [1, 4],\n",
       " [1, 3],\n",
       " [1, 2],\n",
       " [2, 9],\n",
       " [2, 8],\n",
       " [2, 7],\n",
       " [2, 6],\n",
       " [2, 4],\n",
       " [2, 3],\n",
       " [2, 2],\n",
       " [2, 1],\n",
       " [3, 10],\n",
       " [3, 9],\n",
       " [3, 8],\n",
       " [3, 7],\n",
       " [3, 6],\n",
       " [3, 5],\n",
       " [3, 4],\n",
       " [3, 3],\n",
       " [3, 2],\n",
       " [3, 1],\n",
       " [4, 9],\n",
       " [4, 8],\n",
       " [4, 7],\n",
       " [4, 6],\n",
       " [4, 5],\n",
       " [4, 4],\n",
       " [4, 3],\n",
       " [4, 2],\n",
       " [4, 1],\n",
       " [5, 11],\n",
       " [5, 10],\n",
       " [5, 9],\n",
       " [5, 8],\n",
       " [5, 7],\n",
       " [5, 6],\n",
       " [5, 5],\n",
       " [5, 4],\n",
       " [5, 3],\n",
       " [5, 2],\n",
       " [6, 10],\n",
       " [6, 9],\n",
       " [6, 8],\n",
       " [6, 7],\n",
       " [6, 6],\n",
       " [6, 5],\n",
       " [6, 3],\n",
       " [6, 2],\n",
       " [7, 10],\n",
       " [7, 9],\n",
       " [7, 8],\n",
       " [7, 7],\n",
       " [7, 6],\n",
       " [7, 5],\n",
       " [7, 4],\n",
       " [7, 2],\n",
       " [7, 0],\n",
       " [8, 10],\n",
       " [8, 9],\n",
       " [8, 8],\n",
       " [8, 6],\n",
       " [8, 5],\n",
       " [8, 4],\n",
       " [8, 3],\n",
       " [8, 2],\n",
       " [8, 1],\n",
       " [9, 10],\n",
       " [9, 9],\n",
       " [9, 8],\n",
       " [9, 7],\n",
       " [9, 6],\n",
       " [9, 5],\n",
       " [9, 4],\n",
       " [9, 3],\n",
       " [9, 2],\n",
       " [10, 11],\n",
       " [10, 10],\n",
       " [10, 9],\n",
       " [10, 8],\n",
       " [10, 7],\n",
       " [10, 6],\n",
       " [10, 5],\n",
       " [10, 4],\n",
       " [10, 3],\n",
       " [10, 2],\n",
       " [11, 10],\n",
       " [11, 8],\n",
       " [11, 7],\n",
       " [11, 6],\n",
       " [11, 5],\n",
       " [11, 4],\n",
       " [11, 3],\n",
       " [11, 2],\n",
       " [12, 11],\n",
       " [12, 9],\n",
       " [12, 8],\n",
       " [12, 7],\n",
       " [12, 6],\n",
       " [12, 5],\n",
       " [12, 4],\n",
       " [12, 3],\n",
       " [12, 2],\n",
       " [13, 10],\n",
       " [13, 8],\n",
       " [13, 7],\n",
       " [13, 6],\n",
       " [13, 5],\n",
       " [13, 4],\n",
       " [13, 3],\n",
       " [13, 2],\n",
       " [14, 7],\n",
       " [14, 3]]"
      ]
     },
     "execution_count": 30,
     "metadata": {},
     "output_type": "execute_result"
    }
   ],
   "source": [
    "xy_buses=[]\n",
    "x_bus=list(busxy['x'])\n",
    "y_bus=list(busxy['y'])\n",
    "\n",
    "for i in range(len(x_bus)):\n",
    "    x=[x_bus[i],y_bus[i]]\n",
    "    xy_buses.append(x)\n",
    "xy_buses"
   ]
  },
  {
   "cell_type": "code",
   "execution_count": 35,
   "metadata": {},
   "outputs": [
    {
     "name": "stdout",
     "output_type": "stream",
     "text": [
      "[[[10, 4], [0, 3], [3, 1], [12, 11], [2, 8], [10, 3]], [[9, 10], [6, 2], [12, 2], [12, 9], [4, 3], [4, 9]], [[10, 4], [5, 4], [12, 6], [11, 4], [8, 4], [8, 10]], [[0, 5], [11, 7], [9, 5], [8, 5], [10, 3], [9, 3]], [[9, 2], [12, 7], [8, 6], [2, 2], [6, 7], [11, 2]], [[5, 7], [9, 7], [6, 5], [3, 1], [2, 1], [10, 9]], [[9, 8], [3, 3], [1, 5], [3, 4], [9, 7], [9, 2]], [[9, 2], [10, 11], [4, 9], [6, 8], [2, 3], [12, 5]], [[11, 2], [6, 5], [3, 3], [10, 6], [4, 5], [10, 8]], [[1, 9], [7, 8], [3, 7], [4, 2], [9, 2], [9, 4]]]\n"
     ]
    }
   ],
   "source": [
    "ran_pop=[]\n",
    "for i in range(100):\n",
    "    rand=random.sample(xy_buses, optimal_fcs)\n",
    "    ran_pop.append(rand)\n",
    "print(ran_pop[:10])"
   ]
  },
  {
   "cell_type": "code",
   "execution_count": 34,
   "metadata": {},
   "outputs": [
    {
     "data": {
      "text/plain": [
       "100"
      ]
     },
     "execution_count": 34,
     "metadata": {},
     "output_type": "execute_result"
    }
   ],
   "source": [
    "len(ran_pop)"
   ]
  },
  {
   "cell_type": "code",
   "execution_count": null,
   "metadata": {},
   "outputs": [],
   "source": []
  }
 ],
 "metadata": {
  "extensions": {
   "jupyter_dashboards": {
    "activeView": "grid_default",
    "version": 1,
    "views": {
     "grid_default": {
      "cellMargin": 10,
      "defaultCellHeight": 20,
      "maxColumns": 12,
      "name": "grid",
      "type": "grid"
     },
     "report_default": {
      "name": "report",
      "type": "report"
     }
    }
   }
  },
  "kernelspec": {
   "display_name": "Python 3",
   "language": "python",
   "name": "python3"
  },
  "language_info": {
   "codemirror_mode": {
    "name": "ipython",
    "version": 3
   },
   "file_extension": ".py",
   "mimetype": "text/x-python",
   "name": "python",
   "nbconvert_exporter": "python",
   "pygments_lexer": "ipython3",
   "version": "3.7.3"
  }
 },
 "nbformat": 4,
 "nbformat_minor": 2
}
