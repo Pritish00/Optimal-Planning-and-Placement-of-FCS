{
 "cells": [
  {
   "cell_type": "markdown",
   "metadata": {
    "extensions": {
     "jupyter_dashboards": {
      "version": 1,
      "views": {
       "grid_default": {},
       "report_default": {}
      }
     }
    }
   },
   "source": [
    "# Optimal number of FCs"
   ]
  },
  {
   "cell_type": "markdown",
   "metadata": {
    "extensions": {
     "jupyter_dashboards": {
      "version": 1,
      "views": {
       "grid_default": {},
       "report_default": {}
      }
     }
    }
   },
   "source": [
    "Importing Required Libraries"
   ]
  },
  {
   "cell_type": "code",
   "execution_count": null,
   "metadata": {},
   "outputs": [],
   "source": [
    "pip install --upgrade matplotlib"
   ]
  },
  {
   "cell_type": "code",
   "execution_count": null,
   "metadata": {},
   "outputs": [],
   "source": [
    "import matplotlib.pyplot as plt"
   ]
  },
  {
   "cell_type": "code",
   "execution_count": 2,
   "metadata": {
    "extensions": {
     "jupyter_dashboards": {
      "version": 1,
      "views": {
       "grid_default": {},
       "report_default": {}
      }
     }
    }
   },
   "outputs": [
    {
     "name": "stderr",
     "output_type": "stream",
     "text": [
      "D:\\Anaconda\\lib\\site-packages\\pandas\\compat\\_optional.py:138: UserWarning: Pandas requires version '2.7.0' or newer of 'numexpr' (version '2.6.9' currently installed).\n",
      "  warnings.warn(msg, UserWarning)\n",
      "D:\\Anaconda\\lib\\site-packages\\dask\\config.py:168: YAMLLoadWarning: calling yaml.load() without Loader=... is deprecated, as the default Loader is unsafe. Please read https://msg.pyyaml.org/load for full details.\n",
      "  data = yaml.load(f.read()) or {}\n",
      "D:\\Anaconda\\lib\\site-packages\\distributed\\config.py:20: YAMLLoadWarning: calling yaml.load() without Loader=... is deprecated, as the default Loader is unsafe. Please read https://msg.pyyaml.org/load for full details.\n",
      "  defaults = yaml.load(f)\n"
     ]
    }
   ],
   "source": [
    "import pandas as pd\n",
    "import numpy as np\n",
    "import pypsa\n",
    "import random\n",
    "import matplotlib.pyplot as plt\n",
    "import copy"
   ]
  },
  {
   "cell_type": "code",
   "execution_count": 3,
   "metadata": {
    "extensions": {
     "jupyter_dashboards": {
      "version": 1,
      "views": {
       "grid_default": {},
       "report_default": {}
      }
     }
    }
   },
   "outputs": [
    {
     "name": "stdout",
     "output_type": "stream",
     "text": [
      "      sr  zone   x   y\n",
      "0      1     0   0  11\n",
      "1      2     3   0  10\n",
      "2      3     7   0   9\n",
      "3      4     6   0   8\n",
      "4      5     4   0   7\n",
      "..   ...   ...  ..  ..\n",
      "175  176     6  14   4\n",
      "176  177     8  14   3\n",
      "177  178     3  14   2\n",
      "178  179     0  14   1\n",
      "179  180     4  14   0\n",
      "\n",
      "[180 rows x 4 columns]\n"
     ]
    }
   ],
   "source": [
    "zonexy=pd.read_excel(\"xy.xlsx\",sheet_name=\"Sheet2\")  ##Study Area Data\n",
    "print(zonexy)"
   ]
  },
  {
   "cell_type": "code",
   "execution_count": 4,
   "metadata": {
    "extensions": {
     "jupyter_dashboards": {
      "version": 1,
      "views": {
       "grid_default": {},
       "report_default": {}
      }
     }
    }
   },
   "outputs": [],
   "source": [
    "zdata=pd.read_excel(\"xy.xlsx\",sheet_name=\"Sheet3\")\n"
   ]
  },
  {
   "cell_type": "code",
   "execution_count": 5,
   "metadata": {
    "extensions": {
     "jupyter_dashboards": {
      "version": 1,
      "views": {
       "grid_default": {},
       "report_default": {}
      }
     }
    }
   },
   "outputs": [
    {
     "name": "stdout",
     "output_type": "stream",
     "text": [
      "      sr  zone   x  y\n",
      "0      1     7   0  9\n",
      "1      2     7   0  5\n",
      "2      3     8   0  3\n",
      "3      4    11   1  9\n",
      "4      5    13   1  6\n",
      "..   ...   ...  .. ..\n",
      "113  114    12  13  4\n",
      "114  115    15  13  3\n",
      "115  116    13  13  2\n",
      "116  117     7  14  7\n",
      "117  118     8  14  3\n",
      "\n",
      "[118 rows x 4 columns]\n"
     ]
    }
   ],
   "source": [
    "busxy=pd.read_excel(\"bus1.xlsx\")     ##Bus Data\n",
    "print(busxy)"
   ]
  },
  {
   "cell_type": "code",
   "execution_count": 6,
   "metadata": {
    "extensions": {
     "jupyter_dashboards": {
      "version": 1,
      "views": {
       "grid_default": {},
       "report_default": {}
      }
     }
    }
   },
   "outputs": [],
   "source": [
    "def xyfc(ns):                        ##Funtion to place station Equdistantly\n",
    "    \n",
    "    x=118//(ns+1)\n",
    "    xy=[]\n",
    "    nos=x\n",
    "    n=0\n",
    "    while(n<ns):\n",
    "    \n",
    "        xcor=busxy['x'][nos-1]\n",
    "        ycor=busxy['y'][nos-1]\n",
    "        xy.append([xcor,ycor])\n",
    "        nos+=x\n",
    "        n+=1\n",
    "    return(xy)"
   ]
  },
  {
   "cell_type": "code",
   "execution_count": 7,
   "metadata": {
    "extensions": {
     "jupyter_dashboards": {
      "version": 1,
      "views": {
       "grid_default": {},
       "report_default": {}
      }
     }
    }
   },
   "outputs": [],
   "source": [
    "def s(j):                            ##Function for S(j)\n",
    "    z=1\n",
    "    sum1=0\n",
    "    while(z<=180):\n",
    "        var=0\n",
    "        if(zdata['st'][z-1]==j):\n",
    "            var=1\n",
    "        sum1+=(0.1*zonexy['zone'][z-1]*var)\n",
    "        z+=1\n",
    "    return sum1"
   ]
  },
  {
   "cell_type": "code",
   "execution_count": 8,
   "metadata": {
    "extensions": {
     "jupyter_dashboards": {
      "version": 1,
      "views": {
       "grid_default": {},
       "report_default": {}
      }
     }
    }
   },
   "outputs": [],
   "source": [
    "def sdc(cha):                         ##Function to calculate SDC\n",
    "    \n",
    "    val=70000+(25*240*s(cha))+(208.33*(s(cha)-1)*96)\n",
    "    return val"
   ]
  },
  {
   "cell_type": "code",
   "execution_count": 9,
   "metadata": {
    "extensions": {
     "jupyter_dashboards": {
      "version": 1,
      "views": {
       "grid_default": {},
       "report_default": {}
      }
     }
    }
   },
   "outputs": [],
   "source": [
    "def evuc(z):                           ##Function to calculate EVUC\n",
    "    vals=0\n",
    "    j=zdata[\"st\"][z-1]\n",
    "    x1=zonexy['x'][z-1]\n",
    "    x2=lis[j-1][0]\n",
    "    y1=zonexy['y'][z-1]\n",
    "    y2=lis[j-1][1]\n",
    "    dist1=np.sqrt((x2-x1)**2 + (y2-y1)**2)\n",
    "    \n",
    "    vals+=(dist1)*0.142*4*0.98*zonexy['zone'][z-1]*87.7\n",
    "    \n",
    "    return vals\n",
    "    \n",
    "    "
   ]
  },
  {
   "cell_type": "markdown",
   "metadata": {
    "extensions": {
     "jupyter_dashboards": {
      "version": 1,
      "views": {
       "grid_default": {},
       "report_default": {}
      }
     }
    }
   },
   "source": [
    "Process to find the Optimal Number of FCs"
   ]
  },
  {
   "cell_type": "code",
   "execution_count": 10,
   "metadata": {
    "extensions": {
     "jupyter_dashboards": {
      "version": 1,
      "views": {
       "grid_default": {},
       "report_default": {}
      }
     }
    }
   },
   "outputs": [
    {
     "name": "stdout",
     "output_type": "stream",
     "text": [
      "[4758107.043948352, 4716736.866156581, 4743671.780449519, 4783093.592155193, 4853034.630667915, 4930601.911632003, 5010335.218234033, 5056115.271347978, 5035300.7746197125, 5060542.890124918, 5101908.575189765]\n",
      "[5, 6, 7, 8, 9, 10, 11, 12, 13, 14, 15]\n"
     ]
    }
   ],
   "source": [
    "sdcarr=[]\n",
    "xaxis=[]\n",
    "for ns in range(5,16):\n",
    "    zdata=pd.read_excel(\"xy.xlsx\",sheet_name=\"Sheet3\")\n",
    "    xaxis.append(ns)\n",
    "\n",
    "    for j in range(1,181):\n",
    "\n",
    "        dist=100000000\n",
    "        h=0\n",
    "        lis=xyfc(ns)\n",
    "        for i in lis:\n",
    "            x1=zonexy['x'][j-1]\n",
    "            x2=i[0]\n",
    "            y1=zonexy['y'][j-1]\n",
    "            y2=i[1]\n",
    "\n",
    "            dist1=np.sqrt((x2-x1)**2 + (y2-y1)**2)\n",
    "            if(dist1<dist):\n",
    "                dist=dist1\n",
    "                h=(lis.index(i))+1\n",
    "\n",
    "        df2 = {'st': h, 'zone':j}\n",
    "        zdata = zdata.append(df2, ignore_index = True)\n",
    "       \n",
    "    sdcval=0\n",
    "    for x in range(1,ns+1):\n",
    "        \n",
    "        value=sdc(x)\n",
    "        sdcval+=value\n",
    "    evval=0\n",
    "    for zon in range(1,181):\n",
    "       \n",
    "        evval+=evuc(zon)\n",
    "        \n",
    "    sdcval+=evval\n",
    "    \n",
    "    sdcarr.append(sdcval)\n",
    "    \n",
    "print(sdcarr)\n",
    "print(xaxis)\n",
    "#print(zdata)\n",
    "        \n",
    "    \n",
    "    \n",
    "    \n",
    "    "
   ]
  },
  {
   "cell_type": "code",
   "execution_count": 11,
   "metadata": {
    "extensions": {
     "jupyter_dashboards": {
      "version": 1,
      "views": {
       "grid_default": {},
       "report_default": {}
      }
     }
    }
   },
   "outputs": [
    {
     "data": {
      "image/png": "[encoded data removed]",
      "text/plain": [
       "<Figure size 432x288 with 1 Axes>"
      ]
     },
     "metadata": {
      "needs_background": "light"
     },
     "output_type": "display_data"
    }
   ],
   "source": [
    "plt.scatter(xaxis,sdcarr)    ##Plotting of Objective Function\n",
    "plt.title(\"Optimal no. of Fast Charging Stations\")\n",
    "plt.xlabel(\"No. of Charging Station\")\n",
    "plt.ylabel(\"f(x)\")\n",
    "plt.show()"
   ]
  },
  {
   "cell_type": "code",
   "execution_count": 12,
   "metadata": {
    "extensions": {
     "jupyter_dashboards": {
      "version": 1,
      "views": {
       "grid_default": {},
       "report_default": {}
      }
     }
    }
   },
   "outputs": [
    {
     "data": {
      "text/plain": [
       "6"
      ]
     },
     "execution_count": 12,
     "metadata": {},
     "output_type": "execute_result"
    }
   ],
   "source": [
    "optimal_fcs=xaxis[sdcarr.index(min(sdcarr))]         ##Min number of FCs required.\n",
    "optimal_fcs\n"
   ]
  },
  {
   "cell_type": "code",
   "execution_count": 13,
   "metadata": {
    "extensions": {
     "jupyter_dashboards": {
      "version": 1,
      "views": {
       "grid_default": {},
       "report_default": {}
      }
     }
    }
   },
   "outputs": [
    {
     "data": {
      "text/html": [
       "<div>\n",
       "<style scoped>\n",
       "    .dataframe tbody tr th:only-of-type {\n",
       "        vertical-align: middle;\n",
       "    }\n",
       "\n",
       "    .dataframe tbody tr th {\n",
       "        vertical-align: top;\n",
       "    }\n",
       "\n",
       "    .dataframe thead th {\n",
       "        text-align: right;\n",
       "    }\n",
       "</style>\n",
       "<table border=\"1\" class=\"dataframe\">\n",
       "  <thead>\n",
       "    <tr style=\"text-align: right;\">\n",
       "      <th></th>\n",
       "      <th>zone</th>\n",
       "      <th>st</th>\n",
       "    </tr>\n",
       "  </thead>\n",
       "  <tbody>\n",
       "    <tr>\n",
       "      <th>0</th>\n",
       "      <td>1</td>\n",
       "      <td>3</td>\n",
       "    </tr>\n",
       "    <tr>\n",
       "      <th>1</th>\n",
       "      <td>2</td>\n",
       "      <td>3</td>\n",
       "    </tr>\n",
       "    <tr>\n",
       "      <th>2</th>\n",
       "      <td>3</td>\n",
       "      <td>2</td>\n",
       "    </tr>\n",
       "    <tr>\n",
       "      <th>3</th>\n",
       "      <td>4</td>\n",
       "      <td>2</td>\n",
       "    </tr>\n",
       "    <tr>\n",
       "      <th>4</th>\n",
       "      <td>5</td>\n",
       "      <td>2</td>\n",
       "    </tr>\n",
       "    <tr>\n",
       "      <th>...</th>\n",
       "      <td>...</td>\n",
       "      <td>...</td>\n",
       "    </tr>\n",
       "    <tr>\n",
       "      <th>175</th>\n",
       "      <td>176</td>\n",
       "      <td>6</td>\n",
       "    </tr>\n",
       "    <tr>\n",
       "      <th>176</th>\n",
       "      <td>177</td>\n",
       "      <td>6</td>\n",
       "    </tr>\n",
       "    <tr>\n",
       "      <th>177</th>\n",
       "      <td>178</td>\n",
       "      <td>6</td>\n",
       "    </tr>\n",
       "    <tr>\n",
       "      <th>178</th>\n",
       "      <td>179</td>\n",
       "      <td>6</td>\n",
       "    </tr>\n",
       "    <tr>\n",
       "      <th>179</th>\n",
       "      <td>180</td>\n",
       "      <td>5</td>\n",
       "    </tr>\n",
       "  </tbody>\n",
       "</table>\n",
       "<p>180 rows × 2 columns</p>\n",
       "</div>"
      ],
      "text/plain": [
       "    zone st\n",
       "0      1  3\n",
       "1      2  3\n",
       "2      3  2\n",
       "3      4  2\n",
       "4      5  2\n",
       "..   ... ..\n",
       "175  176  6\n",
       "176  177  6\n",
       "177  178  6\n",
       "178  179  6\n",
       "179  180  5\n",
       "\n",
       "[180 rows x 2 columns]"
      ]
     },
     "execution_count": 13,
     "metadata": {},
     "output_type": "execute_result"
    }
   ],
   "source": [
    "zdata=pd.read_excel(\"xy.xlsx\",sheet_name=\"Sheet3\")\n",
    "xaxis.append(ns)\n",
    "\n",
    "for j in range(1,181):\n",
    "\n",
    "    dist=100000000\n",
    "    h=0\n",
    "    lis=xyfc(optimal_fcs)\n",
    "    for i in lis:\n",
    "        x1=zonexy['x'][j-1]\n",
    "        x2=i[0]\n",
    "        y1=zonexy['y'][j-1]\n",
    "        y2=i[1]\n",
    "\n",
    "        dist1=np.sqrt((x2-x1)**2 + (y2-y1)**2)\n",
    "        if(dist1<dist):\n",
    "            dist=dist1\n",
    "            h=(lis.index(i))+1\n",
    "\n",
    "    df2 = {'st': h, 'zone':j}\n",
    "    zdata = zdata.append(df2, ignore_index = True)\n",
    "        \n",
    "zdata"
   ]
  },
  {
   "cell_type": "code",
   "execution_count": 14,
   "metadata": {
    "extensions": {
     "jupyter_dashboards": {
      "version": 1,
      "views": {
       "grid_default": {},
       "report_default": {}
      }
     }
    }
   },
   "outputs": [
    {
     "data": {
      "text/plain": [
       "[[0, 9],\n",
       " [0, 5],\n",
       " [0, 3],\n",
       " [1, 9],\n",
       " [1, 6],\n",
       " [1, 5],\n",
       " [1, 4],\n",
       " [1, 3],\n",
       " [1, 2],\n",
       " [2, 9],\n",
       " [2, 8],\n",
       " [2, 7],\n",
       " [2, 6],\n",
       " [2, 4],\n",
       " [2, 3],\n",
       " [2, 2],\n",
       " [2, 1],\n",
       " [3, 10],\n",
       " [3, 9],\n",
       " [3, 8],\n",
       " [3, 7],\n",
       " [3, 6],\n",
       " [3, 5],\n",
       " [3, 4],\n",
       " [3, 3],\n",
       " [3, 2],\n",
       " [3, 1],\n",
       " [4, 9],\n",
       " [4, 8],\n",
       " [4, 7],\n",
       " [4, 6],\n",
       " [4, 5],\n",
       " [4, 4],\n",
       " [4, 3],\n",
       " [4, 2],\n",
       " [4, 1],\n",
       " [5, 11],\n",
       " [5, 10],\n",
       " [5, 9],\n",
       " [5, 8],\n",
       " [5, 7],\n",
       " [5, 6],\n",
       " [5, 5],\n",
       " [5, 4],\n",
       " [5, 3],\n",
       " [5, 2],\n",
       " [6, 10],\n",
       " [6, 9],\n",
       " [6, 8],\n",
       " [6, 7],\n",
       " [6, 6],\n",
       " [6, 5],\n",
       " [6, 3],\n",
       " [6, 2],\n",
       " [7, 10],\n",
       " [7, 9],\n",
       " [7, 8],\n",
       " [7, 7],\n",
       " [7, 6],\n",
       " [7, 5],\n",
       " [7, 4],\n",
       " [7, 2],\n",
       " [7, 0],\n",
       " [8, 10],\n",
       " [8, 9],\n",
       " [8, 8],\n",
       " [8, 6],\n",
       " [8, 5],\n",
       " [8, 4],\n",
       " [8, 3],\n",
       " [8, 2],\n",
       " [8, 1],\n",
       " [9, 10],\n",
       " [9, 9],\n",
       " [9, 8],\n",
       " [9, 7],\n",
       " [9, 6],\n",
       " [9, 5],\n",
       " [9, 4],\n",
       " [9, 3],\n",
       " [9, 2],\n",
       " [10, 11],\n",
       " [10, 10],\n",
       " [10, 9],\n",
       " [10, 8],\n",
       " [10, 7],\n",
       " [10, 6],\n",
       " [10, 5],\n",
       " [10, 4],\n",
       " [10, 3],\n",
       " [10, 2],\n",
       " [11, 10],\n",
       " [11, 8],\n",
       " [11, 7],\n",
       " [11, 6],\n",
       " [11, 5],\n",
       " [11, 4],\n",
       " [11, 3],\n",
       " [11, 2],\n",
       " [12, 11],\n",
       " [12, 9],\n",
       " [12, 8],\n",
       " [12, 7],\n",
       " [12, 6],\n",
       " [12, 5],\n",
       " [12, 4],\n",
       " [12, 3],\n",
       " [12, 2],\n",
       " [13, 10],\n",
       " [13, 8],\n",
       " [13, 7],\n",
       " [13, 6],\n",
       " [13, 5],\n",
       " [13, 4],\n",
       " [13, 3],\n",
       " [13, 2],\n",
       " [14, 7],\n",
       " [14, 3]]"
      ]
     },
     "execution_count": 14,
     "metadata": {},
     "output_type": "execute_result"
    }
   ],
   "source": [
    "xy_buses=[]\n",
    "x_bus=list(busxy['x'])\n",
    "y_bus=list(busxy['y'])\n",
    "\n",
    "for i in range(len(x_bus)):\n",
    "    x=[x_bus[i],y_bus[i]]\n",
    "    xy_buses.append(x)\n",
    "xy_buses"
   ]
  },
  {
   "cell_type": "code",
   "execution_count": 15,
   "metadata": {
    "extensions": {
     "jupyter_dashboards": {
      "version": 1,
      "views": {
       "grid_default": {},
       "report_default": {}
      }
     }
    }
   },
   "outputs": [
    {
     "name": "stdout",
     "output_type": "stream",
     "text": [
      "[[[7, 2], [2, 4], [13, 4], [14, 7], [6, 7], [13, 5]], [[3, 4], [5, 4], [7, 5], [3, 8], [7, 6], [13, 3]], [[5, 2], [5, 9], [14, 3], [12, 9], [2, 4], [7, 5]], [[3, 10], [11, 8], [1, 5], [2, 8], [5, 4], [12, 11]], [[7, 2], [5, 2], [3, 6], [13, 7], [10, 5], [6, 3]], [[5, 10], [2, 9], [3, 5], [10, 11], [12, 7], [12, 6]], [[9, 3], [10, 3], [12, 5], [2, 8], [5, 6], [5, 3]], [[7, 8], [9, 7], [0, 9], [5, 11], [10, 10], [8, 8]], [[8, 8], [10, 7], [9, 4], [0, 5], [1, 2], [7, 7]], [[13, 10], [8, 2], [8, 4], [4, 2], [3, 10], [12, 3]]]\n"
     ]
    }
   ],
   "source": [
    "ran_pop=[]\n",
    "for i in range(100):\n",
    "    rand=random.sample(xy_buses, optimal_fcs)\n",
    "    ran_pop.append(rand)\n",
    "print(ran_pop[:10])"
   ]
  },
  {
   "cell_type": "code",
   "execution_count": 16,
   "metadata": {
    "extensions": {
     "jupyter_dashboards": {
      "version": 1,
      "views": {
       "grid_default": {},
       "report_default": {}
      }
     }
    }
   },
   "outputs": [
    {
     "data": {
      "text/plain": [
       "100"
      ]
     },
     "execution_count": 16,
     "metadata": {},
     "output_type": "execute_result"
    }
   ],
   "source": [
    "len(ran_pop)"
   ]
  },
  {
   "cell_type": "code",
   "execution_count": 17,
   "metadata": {
    "extensions": {
     "jupyter_dashboards": {
      "version": 1,
      "views": {
       "grid_default": {},
       "report_default": {}
      }
     }
    }
   },
   "outputs": [
    {
     "name": "stdout",
     "output_type": "stream",
     "text": [
      "attribute   v_nom type    x    y carrier  unit  v_mag_pu_set  v_mag_pu_min  \\\n",
      "Bus No 1    138.0       0.0  0.0      AC  None           1.0           0.0   \n",
      "Bus No 2    138.0       0.0  0.0      AC  None           1.0           0.0   \n",
      "Bus No 3    138.0       0.0  0.0      AC  None           1.0           0.0   \n",
      "Bus No 4    138.0       0.0  0.0      AC  None           1.0           0.0   \n",
      "Bus No 5    138.0       0.0  0.0      AC  None           1.0           0.0   \n",
      "...           ...  ...  ...  ...     ...   ...           ...           ...   \n",
      "Bus No 114  138.0       0.0  0.0      AC  None           1.0           0.0   \n",
      "Bus No 115  138.0       0.0  0.0      AC  None           1.0           0.0   \n",
      "Bus No 116  138.0       0.0  0.0      AC  None           1.0           0.0   \n",
      "Bus No 117  138.0       0.0  0.0      AC  None           1.0           0.0   \n",
      "Bus No 118  138.0       0.0  0.0      AC  None           1.0           0.0   \n",
      "\n",
      "attribute   v_mag_pu_max control sub_network  \n",
      "Bus No 1             inf      PQ              \n",
      "Bus No 2             inf      PQ              \n",
      "Bus No 3             inf      PQ              \n",
      "Bus No 4             inf      PQ              \n",
      "Bus No 5             inf      PQ              \n",
      "...                  ...     ...         ...  \n",
      "Bus No 114           inf      PQ              \n",
      "Bus No 115           inf      PQ              \n",
      "Bus No 116           inf      PQ              \n",
      "Bus No 117           inf      PQ              \n",
      "Bus No 118           inf      PQ              \n",
      "\n",
      "[118 rows x 11 columns]\n"
     ]
    }
   ],
   "source": [
    "network=pypsa.Network()\n",
    "\n",
    "nbus=118\n",
    "for i in range(1,nbus+1):\n",
    "    network.add(\"Bus\",\"Bus No {}\".format(i),v_nom=138)\n",
    "\n",
    "\n",
    "    \n",
    "print(network.buses)"
   ]
  },
  {
   "cell_type": "code",
   "execution_count": 18,
   "metadata": {
    "extensions": {
     "jupyter_dashboards": {
      "version": 1,
      "views": {
       "grid_default": {},
       "report_default": {}
      }
     }
    }
   },
   "outputs": [
    {
     "data": {
      "text/html": [
       "<div>\n",
       "<style scoped>\n",
       "    .dataframe tbody tr th:only-of-type {\n",
       "        vertical-align: middle;\n",
       "    }\n",
       "\n",
       "    .dataframe tbody tr th {\n",
       "        vertical-align: top;\n",
       "    }\n",
       "\n",
       "    .dataframe thead th {\n",
       "        text-align: right;\n",
       "    }\n",
       "</style>\n",
       "<table border=\"1\" class=\"dataframe\">\n",
       "  <thead>\n",
       "    <tr style=\"text-align: right;\">\n",
       "      <th></th>\n",
       "      <th>fbus</th>\n",
       "      <th>tbus</th>\n",
       "      <th>r</th>\n",
       "      <th>x</th>\n",
       "    </tr>\n",
       "  </thead>\n",
       "  <tbody>\n",
       "    <tr>\n",
       "      <th>0</th>\n",
       "      <td>1</td>\n",
       "      <td>2</td>\n",
       "      <td>0.03030</td>\n",
       "      <td>0.09990</td>\n",
       "    </tr>\n",
       "    <tr>\n",
       "      <th>1</th>\n",
       "      <td>1</td>\n",
       "      <td>3</td>\n",
       "      <td>0.01290</td>\n",
       "      <td>0.04240</td>\n",
       "    </tr>\n",
       "    <tr>\n",
       "      <th>2</th>\n",
       "      <td>4</td>\n",
       "      <td>5</td>\n",
       "      <td>0.00176</td>\n",
       "      <td>0.00798</td>\n",
       "    </tr>\n",
       "    <tr>\n",
       "      <th>3</th>\n",
       "      <td>3</td>\n",
       "      <td>5</td>\n",
       "      <td>0.02410</td>\n",
       "      <td>0.10800</td>\n",
       "    </tr>\n",
       "    <tr>\n",
       "      <th>4</th>\n",
       "      <td>5</td>\n",
       "      <td>6</td>\n",
       "      <td>0.01190</td>\n",
       "      <td>0.05400</td>\n",
       "    </tr>\n",
       "    <tr>\n",
       "      <th>...</th>\n",
       "      <td>...</td>\n",
       "      <td>...</td>\n",
       "      <td>...</td>\n",
       "      <td>...</td>\n",
       "    </tr>\n",
       "    <tr>\n",
       "      <th>181</th>\n",
       "      <td>114</td>\n",
       "      <td>115</td>\n",
       "      <td>0.00230</td>\n",
       "      <td>0.01040</td>\n",
       "    </tr>\n",
       "    <tr>\n",
       "      <th>182</th>\n",
       "      <td>68</td>\n",
       "      <td>116</td>\n",
       "      <td>0.00034</td>\n",
       "      <td>0.00405</td>\n",
       "    </tr>\n",
       "    <tr>\n",
       "      <th>183</th>\n",
       "      <td>12</td>\n",
       "      <td>117</td>\n",
       "      <td>0.03290</td>\n",
       "      <td>0.14000</td>\n",
       "    </tr>\n",
       "    <tr>\n",
       "      <th>184</th>\n",
       "      <td>75</td>\n",
       "      <td>118</td>\n",
       "      <td>0.01450</td>\n",
       "      <td>0.04810</td>\n",
       "    </tr>\n",
       "    <tr>\n",
       "      <th>185</th>\n",
       "      <td>76</td>\n",
       "      <td>118</td>\n",
       "      <td>0.01640</td>\n",
       "      <td>0.05440</td>\n",
       "    </tr>\n",
       "  </tbody>\n",
       "</table>\n",
       "<p>186 rows × 4 columns</p>\n",
       "</div>"
      ],
      "text/plain": [
       "     fbus  tbus        r        x\n",
       "0       1     2  0.03030  0.09990\n",
       "1       1     3  0.01290  0.04240\n",
       "2       4     5  0.00176  0.00798\n",
       "3       3     5  0.02410  0.10800\n",
       "4       5     6  0.01190  0.05400\n",
       "..    ...   ...      ...      ...\n",
       "181   114   115  0.00230  0.01040\n",
       "182    68   116  0.00034  0.00405\n",
       "183    12   117  0.03290  0.14000\n",
       "184    75   118  0.01450  0.04810\n",
       "185    76   118  0.01640  0.05440\n",
       "\n",
       "[186 rows x 4 columns]"
      ]
     },
     "execution_count": 18,
     "metadata": {},
     "output_type": "execute_result"
    }
   ],
   "source": [
    "line_data=pd.read_excel(\"line_data.xlsx\")\n",
    "line_data"
   ]
  },
  {
   "cell_type": "code",
   "execution_count": 19,
   "metadata": {
    "extensions": {
     "jupyter_dashboards": {
      "version": 1,
      "views": {
       "grid_default": {},
       "report_default": {}
      }
     }
    }
   },
   "outputs": [
    {
     "data": {
      "text/html": [
       "<div>\n",
       "<style scoped>\n",
       "    .dataframe tbody tr th:only-of-type {\n",
       "        vertical-align: middle;\n",
       "    }\n",
       "\n",
       "    .dataframe tbody tr th {\n",
       "        vertical-align: top;\n",
       "    }\n",
       "\n",
       "    .dataframe thead th {\n",
       "        text-align: right;\n",
       "    }\n",
       "</style>\n",
       "<table border=\"1\" class=\"dataframe\">\n",
       "  <thead>\n",
       "    <tr style=\"text-align: right;\">\n",
       "      <th>attribute</th>\n",
       "      <th>bus0</th>\n",
       "      <th>bus1</th>\n",
       "      <th>type</th>\n",
       "      <th>x</th>\n",
       "      <th>r</th>\n",
       "      <th>g</th>\n",
       "      <th>b</th>\n",
       "      <th>s_nom</th>\n",
       "      <th>s_nom_extendable</th>\n",
       "      <th>s_nom_min</th>\n",
       "      <th>...</th>\n",
       "      <th>v_ang_min</th>\n",
       "      <th>v_ang_max</th>\n",
       "      <th>sub_network</th>\n",
       "      <th>x_pu</th>\n",
       "      <th>r_pu</th>\n",
       "      <th>g_pu</th>\n",
       "      <th>b_pu</th>\n",
       "      <th>x_pu_eff</th>\n",
       "      <th>r_pu_eff</th>\n",
       "      <th>s_nom_opt</th>\n",
       "    </tr>\n",
       "  </thead>\n",
       "  <tbody>\n",
       "    <tr>\n",
       "      <th>Line No 0</th>\n",
       "      <td>Bus No 1</td>\n",
       "      <td>Bus No 2</td>\n",
       "      <td></td>\n",
       "      <td>0.09990</td>\n",
       "      <td>0.03030</td>\n",
       "      <td>0.0</td>\n",
       "      <td>0.0</td>\n",
       "      <td>0.0</td>\n",
       "      <td>False</td>\n",
       "      <td>0.0</td>\n",
       "      <td>...</td>\n",
       "      <td>-inf</td>\n",
       "      <td>inf</td>\n",
       "      <td></td>\n",
       "      <td>0.0</td>\n",
       "      <td>0.0</td>\n",
       "      <td>0.0</td>\n",
       "      <td>0.0</td>\n",
       "      <td>0.0</td>\n",
       "      <td>0.0</td>\n",
       "      <td>0.0</td>\n",
       "    </tr>\n",
       "    <tr>\n",
       "      <th>Line No 1</th>\n",
       "      <td>Bus No 1</td>\n",
       "      <td>Bus No 3</td>\n",
       "      <td></td>\n",
       "      <td>0.04240</td>\n",
       "      <td>0.01290</td>\n",
       "      <td>0.0</td>\n",
       "      <td>0.0</td>\n",
       "      <td>0.0</td>\n",
       "      <td>False</td>\n",
       "      <td>0.0</td>\n",
       "      <td>...</td>\n",
       "      <td>-inf</td>\n",
       "      <td>inf</td>\n",
       "      <td></td>\n",
       "      <td>0.0</td>\n",
       "      <td>0.0</td>\n",
       "      <td>0.0</td>\n",
       "      <td>0.0</td>\n",
       "      <td>0.0</td>\n",
       "      <td>0.0</td>\n",
       "      <td>0.0</td>\n",
       "    </tr>\n",
       "    <tr>\n",
       "      <th>Line No 2</th>\n",
       "      <td>Bus No 4</td>\n",
       "      <td>Bus No 5</td>\n",
       "      <td></td>\n",
       "      <td>0.00798</td>\n",
       "      <td>0.00176</td>\n",
       "      <td>0.0</td>\n",
       "      <td>0.0</td>\n",
       "      <td>0.0</td>\n",
       "      <td>False</td>\n",
       "      <td>0.0</td>\n",
       "      <td>...</td>\n",
       "      <td>-inf</td>\n",
       "      <td>inf</td>\n",
       "      <td></td>\n",
       "      <td>0.0</td>\n",
       "      <td>0.0</td>\n",
       "      <td>0.0</td>\n",
       "      <td>0.0</td>\n",
       "      <td>0.0</td>\n",
       "      <td>0.0</td>\n",
       "      <td>0.0</td>\n",
       "    </tr>\n",
       "    <tr>\n",
       "      <th>Line No 3</th>\n",
       "      <td>Bus No 3</td>\n",
       "      <td>Bus No 5</td>\n",
       "      <td></td>\n",
       "      <td>0.10800</td>\n",
       "      <td>0.02410</td>\n",
       "      <td>0.0</td>\n",
       "      <td>0.0</td>\n",
       "      <td>0.0</td>\n",
       "      <td>False</td>\n",
       "      <td>0.0</td>\n",
       "      <td>...</td>\n",
       "      <td>-inf</td>\n",
       "      <td>inf</td>\n",
       "      <td></td>\n",
       "      <td>0.0</td>\n",
       "      <td>0.0</td>\n",
       "      <td>0.0</td>\n",
       "      <td>0.0</td>\n",
       "      <td>0.0</td>\n",
       "      <td>0.0</td>\n",
       "      <td>0.0</td>\n",
       "    </tr>\n",
       "    <tr>\n",
       "      <th>Line No 4</th>\n",
       "      <td>Bus No 5</td>\n",
       "      <td>Bus No 6</td>\n",
       "      <td></td>\n",
       "      <td>0.05400</td>\n",
       "      <td>0.01190</td>\n",
       "      <td>0.0</td>\n",
       "      <td>0.0</td>\n",
       "      <td>0.0</td>\n",
       "      <td>False</td>\n",
       "      <td>0.0</td>\n",
       "      <td>...</td>\n",
       "      <td>-inf</td>\n",
       "      <td>inf</td>\n",
       "      <td></td>\n",
       "      <td>0.0</td>\n",
       "      <td>0.0</td>\n",
       "      <td>0.0</td>\n",
       "      <td>0.0</td>\n",
       "      <td>0.0</td>\n",
       "      <td>0.0</td>\n",
       "      <td>0.0</td>\n",
       "    </tr>\n",
       "    <tr>\n",
       "      <th>...</th>\n",
       "      <td>...</td>\n",
       "      <td>...</td>\n",
       "      <td>...</td>\n",
       "      <td>...</td>\n",
       "      <td>...</td>\n",
       "      <td>...</td>\n",
       "      <td>...</td>\n",
       "      <td>...</td>\n",
       "      <td>...</td>\n",
       "      <td>...</td>\n",
       "      <td>...</td>\n",
       "      <td>...</td>\n",
       "      <td>...</td>\n",
       "      <td>...</td>\n",
       "      <td>...</td>\n",
       "      <td>...</td>\n",
       "      <td>...</td>\n",
       "      <td>...</td>\n",
       "      <td>...</td>\n",
       "      <td>...</td>\n",
       "      <td>...</td>\n",
       "    </tr>\n",
       "    <tr>\n",
       "      <th>Line No 181</th>\n",
       "      <td>Bus No 114</td>\n",
       "      <td>Bus No 115</td>\n",
       "      <td></td>\n",
       "      <td>0.01040</td>\n",
       "      <td>0.00230</td>\n",
       "      <td>0.0</td>\n",
       "      <td>0.0</td>\n",
       "      <td>0.0</td>\n",
       "      <td>False</td>\n",
       "      <td>0.0</td>\n",
       "      <td>...</td>\n",
       "      <td>-inf</td>\n",
       "      <td>inf</td>\n",
       "      <td></td>\n",
       "      <td>0.0</td>\n",
       "      <td>0.0</td>\n",
       "      <td>0.0</td>\n",
       "      <td>0.0</td>\n",
       "      <td>0.0</td>\n",
       "      <td>0.0</td>\n",
       "      <td>0.0</td>\n",
       "    </tr>\n",
       "    <tr>\n",
       "      <th>Line No 182</th>\n",
       "      <td>Bus No 68</td>\n",
       "      <td>Bus No 116</td>\n",
       "      <td></td>\n",
       "      <td>0.00405</td>\n",
       "      <td>0.00034</td>\n",
       "      <td>0.0</td>\n",
       "      <td>0.0</td>\n",
       "      <td>0.0</td>\n",
       "      <td>False</td>\n",
       "      <td>0.0</td>\n",
       "      <td>...</td>\n",
       "      <td>-inf</td>\n",
       "      <td>inf</td>\n",
       "      <td></td>\n",
       "      <td>0.0</td>\n",
       "      <td>0.0</td>\n",
       "      <td>0.0</td>\n",
       "      <td>0.0</td>\n",
       "      <td>0.0</td>\n",
       "      <td>0.0</td>\n",
       "      <td>0.0</td>\n",
       "    </tr>\n",
       "    <tr>\n",
       "      <th>Line No 183</th>\n",
       "      <td>Bus No 12</td>\n",
       "      <td>Bus No 117</td>\n",
       "      <td></td>\n",
       "      <td>0.14000</td>\n",
       "      <td>0.03290</td>\n",
       "      <td>0.0</td>\n",
       "      <td>0.0</td>\n",
       "      <td>0.0</td>\n",
       "      <td>False</td>\n",
       "      <td>0.0</td>\n",
       "      <td>...</td>\n",
       "      <td>-inf</td>\n",
       "      <td>inf</td>\n",
       "      <td></td>\n",
       "      <td>0.0</td>\n",
       "      <td>0.0</td>\n",
       "      <td>0.0</td>\n",
       "      <td>0.0</td>\n",
       "      <td>0.0</td>\n",
       "      <td>0.0</td>\n",
       "      <td>0.0</td>\n",
       "    </tr>\n",
       "    <tr>\n",
       "      <th>Line No 184</th>\n",
       "      <td>Bus No 75</td>\n",
       "      <td>Bus No 118</td>\n",
       "      <td></td>\n",
       "      <td>0.04810</td>\n",
       "      <td>0.01450</td>\n",
       "      <td>0.0</td>\n",
       "      <td>0.0</td>\n",
       "      <td>0.0</td>\n",
       "      <td>False</td>\n",
       "      <td>0.0</td>\n",
       "      <td>...</td>\n",
       "      <td>-inf</td>\n",
       "      <td>inf</td>\n",
       "      <td></td>\n",
       "      <td>0.0</td>\n",
       "      <td>0.0</td>\n",
       "      <td>0.0</td>\n",
       "      <td>0.0</td>\n",
       "      <td>0.0</td>\n",
       "      <td>0.0</td>\n",
       "      <td>0.0</td>\n",
       "    </tr>\n",
       "    <tr>\n",
       "      <th>Line No 185</th>\n",
       "      <td>Bus No 76</td>\n",
       "      <td>Bus No 118</td>\n",
       "      <td></td>\n",
       "      <td>0.05440</td>\n",
       "      <td>0.01640</td>\n",
       "      <td>0.0</td>\n",
       "      <td>0.0</td>\n",
       "      <td>0.0</td>\n",
       "      <td>False</td>\n",
       "      <td>0.0</td>\n",
       "      <td>...</td>\n",
       "      <td>-inf</td>\n",
       "      <td>inf</td>\n",
       "      <td></td>\n",
       "      <td>0.0</td>\n",
       "      <td>0.0</td>\n",
       "      <td>0.0</td>\n",
       "      <td>0.0</td>\n",
       "      <td>0.0</td>\n",
       "      <td>0.0</td>\n",
       "      <td>0.0</td>\n",
       "    </tr>\n",
       "  </tbody>\n",
       "</table>\n",
       "<p>186 rows × 29 columns</p>\n",
       "</div>"
      ],
      "text/plain": [
       "attribute          bus0        bus1 type        x        r    g    b  s_nom  \\\n",
       "Line No 0      Bus No 1    Bus No 2       0.09990  0.03030  0.0  0.0    0.0   \n",
       "Line No 1      Bus No 1    Bus No 3       0.04240  0.01290  0.0  0.0    0.0   \n",
       "Line No 2      Bus No 4    Bus No 5       0.00798  0.00176  0.0  0.0    0.0   \n",
       "Line No 3      Bus No 3    Bus No 5       0.10800  0.02410  0.0  0.0    0.0   \n",
       "Line No 4      Bus No 5    Bus No 6       0.05400  0.01190  0.0  0.0    0.0   \n",
       "...                 ...         ...  ...      ...      ...  ...  ...    ...   \n",
       "Line No 181  Bus No 114  Bus No 115       0.01040  0.00230  0.0  0.0    0.0   \n",
       "Line No 182   Bus No 68  Bus No 116       0.00405  0.00034  0.0  0.0    0.0   \n",
       "Line No 183   Bus No 12  Bus No 117       0.14000  0.03290  0.0  0.0    0.0   \n",
       "Line No 184   Bus No 75  Bus No 118       0.04810  0.01450  0.0  0.0    0.0   \n",
       "Line No 185   Bus No 76  Bus No 118       0.05440  0.01640  0.0  0.0    0.0   \n",
       "\n",
       "attribute    s_nom_extendable  s_nom_min  ...  v_ang_min  v_ang_max  \\\n",
       "Line No 0               False        0.0  ...       -inf        inf   \n",
       "Line No 1               False        0.0  ...       -inf        inf   \n",
       "Line No 2               False        0.0  ...       -inf        inf   \n",
       "Line No 3               False        0.0  ...       -inf        inf   \n",
       "Line No 4               False        0.0  ...       -inf        inf   \n",
       "...                       ...        ...  ...        ...        ...   \n",
       "Line No 181             False        0.0  ...       -inf        inf   \n",
       "Line No 182             False        0.0  ...       -inf        inf   \n",
       "Line No 183             False        0.0  ...       -inf        inf   \n",
       "Line No 184             False        0.0  ...       -inf        inf   \n",
       "Line No 185             False        0.0  ...       -inf        inf   \n",
       "\n",
       "attribute    sub_network  x_pu  r_pu  g_pu b_pu  x_pu_eff  r_pu_eff  s_nom_opt  \n",
       "Line No 0                  0.0   0.0   0.0  0.0       0.0       0.0        0.0  \n",
       "Line No 1                  0.0   0.0   0.0  0.0       0.0       0.0        0.0  \n",
       "Line No 2                  0.0   0.0   0.0  0.0       0.0       0.0        0.0  \n",
       "Line No 3                  0.0   0.0   0.0  0.0       0.0       0.0        0.0  \n",
       "Line No 4                  0.0   0.0   0.0  0.0       0.0       0.0        0.0  \n",
       "...                  ...   ...   ...   ...  ...       ...       ...        ...  \n",
       "Line No 181                0.0   0.0   0.0  0.0       0.0       0.0        0.0  \n",
       "Line No 182                0.0   0.0   0.0  0.0       0.0       0.0        0.0  \n",
       "Line No 183                0.0   0.0   0.0  0.0       0.0       0.0        0.0  \n",
       "Line No 184                0.0   0.0   0.0  0.0       0.0       0.0        0.0  \n",
       "Line No 185                0.0   0.0   0.0  0.0       0.0       0.0        0.0  \n",
       "\n",
       "[186 rows x 29 columns]"
      ]
     },
     "execution_count": 19,
     "metadata": {},
     "output_type": "execute_result"
    }
   ],
   "source": [
    "for i in range(186):\n",
    "    network.add(\"Line\",\"Line No {}\".format(i),bus0=\"Bus No {}\".format(line_data['fbus'][i])\n",
    "    ,bus1=\"Bus No {}\".format(line_data['tbus'][i]),r=line_data['r'][i],x=line_data['x'][i])\n",
    "    \n",
    "network.lines"
   ]
  },
  {
   "cell_type": "code",
   "execution_count": 20,
   "metadata": {
    "extensions": {
     "jupyter_dashboards": {
      "version": 1,
      "views": {
       "grid_default": {},
       "report_default": {}
      }
     }
    }
   },
   "outputs": [],
   "source": [
    "network.add(\"Generator\",\"Slack Gen\",bus=\"Bus No 1\",p_set=0,control=\"Slack\")"
   ]
  },
  {
   "cell_type": "code",
   "execution_count": 21,
   "metadata": {
    "extensions": {
     "jupyter_dashboards": {
      "version": 1,
      "views": {
       "grid_default": {},
       "report_default": {}
      }
     }
    }
   },
   "outputs": [
    {
     "data": {
      "text/html": [
       "<div>\n",
       "<style scoped>\n",
       "    .dataframe tbody tr th:only-of-type {\n",
       "        vertical-align: middle;\n",
       "    }\n",
       "\n",
       "    .dataframe tbody tr th {\n",
       "        vertical-align: top;\n",
       "    }\n",
       "\n",
       "    .dataframe thead th {\n",
       "        text-align: right;\n",
       "    }\n",
       "</style>\n",
       "<table border=\"1\" class=\"dataframe\">\n",
       "  <thead>\n",
       "    <tr style=\"text-align: right;\">\n",
       "      <th></th>\n",
       "      <th>bus no</th>\n",
       "      <th>p_set</th>\n",
       "    </tr>\n",
       "  </thead>\n",
       "  <tbody>\n",
       "    <tr>\n",
       "      <th>0</th>\n",
       "      <td>1</td>\n",
       "      <td>100.0</td>\n",
       "    </tr>\n",
       "    <tr>\n",
       "      <th>1</th>\n",
       "      <td>4</td>\n",
       "      <td>100.0</td>\n",
       "    </tr>\n",
       "    <tr>\n",
       "      <th>2</th>\n",
       "      <td>6</td>\n",
       "      <td>100.0</td>\n",
       "    </tr>\n",
       "    <tr>\n",
       "      <th>3</th>\n",
       "      <td>8</td>\n",
       "      <td>100.0</td>\n",
       "    </tr>\n",
       "    <tr>\n",
       "      <th>4</th>\n",
       "      <td>10</td>\n",
       "      <td>550.0</td>\n",
       "    </tr>\n",
       "    <tr>\n",
       "      <th>5</th>\n",
       "      <td>12</td>\n",
       "      <td>185.0</td>\n",
       "    </tr>\n",
       "    <tr>\n",
       "      <th>6</th>\n",
       "      <td>15</td>\n",
       "      <td>100.0</td>\n",
       "    </tr>\n",
       "    <tr>\n",
       "      <th>7</th>\n",
       "      <td>18</td>\n",
       "      <td>100.0</td>\n",
       "    </tr>\n",
       "    <tr>\n",
       "      <th>8</th>\n",
       "      <td>19</td>\n",
       "      <td>100.0</td>\n",
       "    </tr>\n",
       "    <tr>\n",
       "      <th>9</th>\n",
       "      <td>24</td>\n",
       "      <td>100.0</td>\n",
       "    </tr>\n",
       "    <tr>\n",
       "      <th>10</th>\n",
       "      <td>25</td>\n",
       "      <td>320.0</td>\n",
       "    </tr>\n",
       "    <tr>\n",
       "      <th>11</th>\n",
       "      <td>26</td>\n",
       "      <td>414.0</td>\n",
       "    </tr>\n",
       "    <tr>\n",
       "      <th>12</th>\n",
       "      <td>27</td>\n",
       "      <td>100.0</td>\n",
       "    </tr>\n",
       "    <tr>\n",
       "      <th>13</th>\n",
       "      <td>31</td>\n",
       "      <td>107.0</td>\n",
       "    </tr>\n",
       "    <tr>\n",
       "      <th>14</th>\n",
       "      <td>32</td>\n",
       "      <td>100.0</td>\n",
       "    </tr>\n",
       "    <tr>\n",
       "      <th>15</th>\n",
       "      <td>34</td>\n",
       "      <td>100.0</td>\n",
       "    </tr>\n",
       "    <tr>\n",
       "      <th>16</th>\n",
       "      <td>36</td>\n",
       "      <td>100.0</td>\n",
       "    </tr>\n",
       "    <tr>\n",
       "      <th>17</th>\n",
       "      <td>40</td>\n",
       "      <td>100.0</td>\n",
       "    </tr>\n",
       "    <tr>\n",
       "      <th>18</th>\n",
       "      <td>42</td>\n",
       "      <td>100.0</td>\n",
       "    </tr>\n",
       "    <tr>\n",
       "      <th>19</th>\n",
       "      <td>46</td>\n",
       "      <td>119.0</td>\n",
       "    </tr>\n",
       "    <tr>\n",
       "      <th>20</th>\n",
       "      <td>49</td>\n",
       "      <td>304.0</td>\n",
       "    </tr>\n",
       "    <tr>\n",
       "      <th>21</th>\n",
       "      <td>54</td>\n",
       "      <td>148.0</td>\n",
       "    </tr>\n",
       "    <tr>\n",
       "      <th>22</th>\n",
       "      <td>55</td>\n",
       "      <td>100.0</td>\n",
       "    </tr>\n",
       "    <tr>\n",
       "      <th>23</th>\n",
       "      <td>56</td>\n",
       "      <td>100.0</td>\n",
       "    </tr>\n",
       "    <tr>\n",
       "      <th>24</th>\n",
       "      <td>59</td>\n",
       "      <td>255.0</td>\n",
       "    </tr>\n",
       "    <tr>\n",
       "      <th>25</th>\n",
       "      <td>61</td>\n",
       "      <td>260.0</td>\n",
       "    </tr>\n",
       "    <tr>\n",
       "      <th>26</th>\n",
       "      <td>62</td>\n",
       "      <td>100.0</td>\n",
       "    </tr>\n",
       "    <tr>\n",
       "      <th>27</th>\n",
       "      <td>65</td>\n",
       "      <td>491.0</td>\n",
       "    </tr>\n",
       "    <tr>\n",
       "      <th>28</th>\n",
       "      <td>66</td>\n",
       "      <td>492.0</td>\n",
       "    </tr>\n",
       "    <tr>\n",
       "      <th>29</th>\n",
       "      <td>69</td>\n",
       "      <td>805.2</td>\n",
       "    </tr>\n",
       "    <tr>\n",
       "      <th>30</th>\n",
       "      <td>70</td>\n",
       "      <td>100.0</td>\n",
       "    </tr>\n",
       "    <tr>\n",
       "      <th>31</th>\n",
       "      <td>72</td>\n",
       "      <td>100.0</td>\n",
       "    </tr>\n",
       "    <tr>\n",
       "      <th>32</th>\n",
       "      <td>73</td>\n",
       "      <td>100.0</td>\n",
       "    </tr>\n",
       "    <tr>\n",
       "      <th>33</th>\n",
       "      <td>74</td>\n",
       "      <td>100.0</td>\n",
       "    </tr>\n",
       "    <tr>\n",
       "      <th>34</th>\n",
       "      <td>76</td>\n",
       "      <td>100.0</td>\n",
       "    </tr>\n",
       "    <tr>\n",
       "      <th>35</th>\n",
       "      <td>77</td>\n",
       "      <td>100.0</td>\n",
       "    </tr>\n",
       "    <tr>\n",
       "      <th>36</th>\n",
       "      <td>80</td>\n",
       "      <td>577.0</td>\n",
       "    </tr>\n",
       "    <tr>\n",
       "      <th>37</th>\n",
       "      <td>85</td>\n",
       "      <td>100.0</td>\n",
       "    </tr>\n",
       "    <tr>\n",
       "      <th>38</th>\n",
       "      <td>87</td>\n",
       "      <td>104.0</td>\n",
       "    </tr>\n",
       "    <tr>\n",
       "      <th>39</th>\n",
       "      <td>89</td>\n",
       "      <td>707.0</td>\n",
       "    </tr>\n",
       "    <tr>\n",
       "      <th>40</th>\n",
       "      <td>90</td>\n",
       "      <td>100.0</td>\n",
       "    </tr>\n",
       "    <tr>\n",
       "      <th>41</th>\n",
       "      <td>91</td>\n",
       "      <td>100.0</td>\n",
       "    </tr>\n",
       "    <tr>\n",
       "      <th>42</th>\n",
       "      <td>92</td>\n",
       "      <td>100.0</td>\n",
       "    </tr>\n",
       "    <tr>\n",
       "      <th>43</th>\n",
       "      <td>99</td>\n",
       "      <td>100.0</td>\n",
       "    </tr>\n",
       "    <tr>\n",
       "      <th>44</th>\n",
       "      <td>100</td>\n",
       "      <td>352.0</td>\n",
       "    </tr>\n",
       "    <tr>\n",
       "      <th>45</th>\n",
       "      <td>103</td>\n",
       "      <td>140.0</td>\n",
       "    </tr>\n",
       "    <tr>\n",
       "      <th>46</th>\n",
       "      <td>104</td>\n",
       "      <td>100.0</td>\n",
       "    </tr>\n",
       "    <tr>\n",
       "      <th>47</th>\n",
       "      <td>105</td>\n",
       "      <td>100.0</td>\n",
       "    </tr>\n",
       "    <tr>\n",
       "      <th>48</th>\n",
       "      <td>107</td>\n",
       "      <td>100.0</td>\n",
       "    </tr>\n",
       "    <tr>\n",
       "      <th>49</th>\n",
       "      <td>110</td>\n",
       "      <td>100.0</td>\n",
       "    </tr>\n",
       "    <tr>\n",
       "      <th>50</th>\n",
       "      <td>111</td>\n",
       "      <td>136.0</td>\n",
       "    </tr>\n",
       "    <tr>\n",
       "      <th>51</th>\n",
       "      <td>112</td>\n",
       "      <td>100.0</td>\n",
       "    </tr>\n",
       "    <tr>\n",
       "      <th>52</th>\n",
       "      <td>113</td>\n",
       "      <td>100.0</td>\n",
       "    </tr>\n",
       "    <tr>\n",
       "      <th>53</th>\n",
       "      <td>116</td>\n",
       "      <td>100.0</td>\n",
       "    </tr>\n",
       "  </tbody>\n",
       "</table>\n",
       "</div>"
      ],
      "text/plain": [
       "    bus no  p_set\n",
       "0        1  100.0\n",
       "1        4  100.0\n",
       "2        6  100.0\n",
       "3        8  100.0\n",
       "4       10  550.0\n",
       "5       12  185.0\n",
       "6       15  100.0\n",
       "7       18  100.0\n",
       "8       19  100.0\n",
       "9       24  100.0\n",
       "10      25  320.0\n",
       "11      26  414.0\n",
       "12      27  100.0\n",
       "13      31  107.0\n",
       "14      32  100.0\n",
       "15      34  100.0\n",
       "16      36  100.0\n",
       "17      40  100.0\n",
       "18      42  100.0\n",
       "19      46  119.0\n",
       "20      49  304.0\n",
       "21      54  148.0\n",
       "22      55  100.0\n",
       "23      56  100.0\n",
       "24      59  255.0\n",
       "25      61  260.0\n",
       "26      62  100.0\n",
       "27      65  491.0\n",
       "28      66  492.0\n",
       "29      69  805.2\n",
       "30      70  100.0\n",
       "31      72  100.0\n",
       "32      73  100.0\n",
       "33      74  100.0\n",
       "34      76  100.0\n",
       "35      77  100.0\n",
       "36      80  577.0\n",
       "37      85  100.0\n",
       "38      87  104.0\n",
       "39      89  707.0\n",
       "40      90  100.0\n",
       "41      91  100.0\n",
       "42      92  100.0\n",
       "43      99  100.0\n",
       "44     100  352.0\n",
       "45     103  140.0\n",
       "46     104  100.0\n",
       "47     105  100.0\n",
       "48     107  100.0\n",
       "49     110  100.0\n",
       "50     111  136.0\n",
       "51     112  100.0\n",
       "52     113  100.0\n",
       "53     116  100.0"
      ]
     },
     "execution_count": 21,
     "metadata": {},
     "output_type": "execute_result"
    }
   ],
   "source": [
    "gen_data=pd.read_excel(\"generator data.xlsx\")\n",
    "gen_data"
   ]
  },
  {
   "cell_type": "code",
   "execution_count": 22,
   "metadata": {
    "extensions": {
     "jupyter_dashboards": {
      "version": 1,
      "views": {
       "grid_default": {},
       "report_default": {}
      }
     }
    }
   },
   "outputs": [
    {
     "data": {
      "text/html": [
       "<div>\n",
       "<style scoped>\n",
       "    .dataframe tbody tr th:only-of-type {\n",
       "        vertical-align: middle;\n",
       "    }\n",
       "\n",
       "    .dataframe tbody tr th {\n",
       "        vertical-align: top;\n",
       "    }\n",
       "\n",
       "    .dataframe thead th {\n",
       "        text-align: right;\n",
       "    }\n",
       "</style>\n",
       "<table border=\"1\" class=\"dataframe\">\n",
       "  <thead>\n",
       "    <tr style=\"text-align: right;\">\n",
       "      <th>attribute</th>\n",
       "      <th>bus</th>\n",
       "      <th>control</th>\n",
       "      <th>type</th>\n",
       "      <th>p_nom</th>\n",
       "      <th>p_nom_extendable</th>\n",
       "      <th>p_nom_min</th>\n",
       "      <th>p_nom_max</th>\n",
       "      <th>p_min_pu</th>\n",
       "      <th>p_max_pu</th>\n",
       "      <th>p_set</th>\n",
       "      <th>...</th>\n",
       "      <th>shut_down_cost</th>\n",
       "      <th>min_up_time</th>\n",
       "      <th>min_down_time</th>\n",
       "      <th>up_time_before</th>\n",
       "      <th>down_time_before</th>\n",
       "      <th>ramp_limit_up</th>\n",
       "      <th>ramp_limit_down</th>\n",
       "      <th>ramp_limit_start_up</th>\n",
       "      <th>ramp_limit_shut_down</th>\n",
       "      <th>p_nom_opt</th>\n",
       "    </tr>\n",
       "  </thead>\n",
       "  <tbody>\n",
       "    <tr>\n",
       "      <th>Slack Gen</th>\n",
       "      <td>Bus No 1</td>\n",
       "      <td>Slack</td>\n",
       "      <td></td>\n",
       "      <td>0.0</td>\n",
       "      <td>False</td>\n",
       "      <td>0.0</td>\n",
       "      <td>inf</td>\n",
       "      <td>0.0</td>\n",
       "      <td>1.0</td>\n",
       "      <td>0.0</td>\n",
       "      <td>...</td>\n",
       "      <td>0.0</td>\n",
       "      <td>0</td>\n",
       "      <td>0</td>\n",
       "      <td>1</td>\n",
       "      <td>0</td>\n",
       "      <td>NaN</td>\n",
       "      <td>NaN</td>\n",
       "      <td>1.0</td>\n",
       "      <td>1.0</td>\n",
       "      <td>0.0</td>\n",
       "    </tr>\n",
       "    <tr>\n",
       "      <th>Gen No 2</th>\n",
       "      <td>Bus No 4</td>\n",
       "      <td>PV</td>\n",
       "      <td></td>\n",
       "      <td>0.0</td>\n",
       "      <td>False</td>\n",
       "      <td>0.0</td>\n",
       "      <td>inf</td>\n",
       "      <td>0.0</td>\n",
       "      <td>1.0</td>\n",
       "      <td>100.0</td>\n",
       "      <td>...</td>\n",
       "      <td>0.0</td>\n",
       "      <td>0</td>\n",
       "      <td>0</td>\n",
       "      <td>1</td>\n",
       "      <td>0</td>\n",
       "      <td>NaN</td>\n",
       "      <td>NaN</td>\n",
       "      <td>1.0</td>\n",
       "      <td>1.0</td>\n",
       "      <td>0.0</td>\n",
       "    </tr>\n",
       "    <tr>\n",
       "      <th>Gen No 3</th>\n",
       "      <td>Bus No 6</td>\n",
       "      <td>PV</td>\n",
       "      <td></td>\n",
       "      <td>0.0</td>\n",
       "      <td>False</td>\n",
       "      <td>0.0</td>\n",
       "      <td>inf</td>\n",
       "      <td>0.0</td>\n",
       "      <td>1.0</td>\n",
       "      <td>100.0</td>\n",
       "      <td>...</td>\n",
       "      <td>0.0</td>\n",
       "      <td>0</td>\n",
       "      <td>0</td>\n",
       "      <td>1</td>\n",
       "      <td>0</td>\n",
       "      <td>NaN</td>\n",
       "      <td>NaN</td>\n",
       "      <td>1.0</td>\n",
       "      <td>1.0</td>\n",
       "      <td>0.0</td>\n",
       "    </tr>\n",
       "    <tr>\n",
       "      <th>Gen No 4</th>\n",
       "      <td>Bus No 8</td>\n",
       "      <td>PV</td>\n",
       "      <td></td>\n",
       "      <td>0.0</td>\n",
       "      <td>False</td>\n",
       "      <td>0.0</td>\n",
       "      <td>inf</td>\n",
       "      <td>0.0</td>\n",
       "      <td>1.0</td>\n",
       "      <td>100.0</td>\n",
       "      <td>...</td>\n",
       "      <td>0.0</td>\n",
       "      <td>0</td>\n",
       "      <td>0</td>\n",
       "      <td>1</td>\n",
       "      <td>0</td>\n",
       "      <td>NaN</td>\n",
       "      <td>NaN</td>\n",
       "      <td>1.0</td>\n",
       "      <td>1.0</td>\n",
       "      <td>0.0</td>\n",
       "    </tr>\n",
       "    <tr>\n",
       "      <th>Gen No 5</th>\n",
       "      <td>Bus No 10</td>\n",
       "      <td>PV</td>\n",
       "      <td></td>\n",
       "      <td>0.0</td>\n",
       "      <td>False</td>\n",
       "      <td>0.0</td>\n",
       "      <td>inf</td>\n",
       "      <td>0.0</td>\n",
       "      <td>1.0</td>\n",
       "      <td>550.0</td>\n",
       "      <td>...</td>\n",
       "      <td>0.0</td>\n",
       "      <td>0</td>\n",
       "      <td>0</td>\n",
       "      <td>1</td>\n",
       "      <td>0</td>\n",
       "      <td>NaN</td>\n",
       "      <td>NaN</td>\n",
       "      <td>1.0</td>\n",
       "      <td>1.0</td>\n",
       "      <td>0.0</td>\n",
       "    </tr>\n",
       "    <tr>\n",
       "      <th>Gen No 6</th>\n",
       "      <td>Bus No 12</td>\n",
       "      <td>PV</td>\n",
       "      <td></td>\n",
       "      <td>0.0</td>\n",
       "      <td>False</td>\n",
       "      <td>0.0</td>\n",
       "      <td>inf</td>\n",
       "      <td>0.0</td>\n",
       "      <td>1.0</td>\n",
       "      <td>185.0</td>\n",
       "      <td>...</td>\n",
       "      <td>0.0</td>\n",
       "      <td>0</td>\n",
       "      <td>0</td>\n",
       "      <td>1</td>\n",
       "      <td>0</td>\n",
       "      <td>NaN</td>\n",
       "      <td>NaN</td>\n",
       "      <td>1.0</td>\n",
       "      <td>1.0</td>\n",
       "      <td>0.0</td>\n",
       "    </tr>\n",
       "    <tr>\n",
       "      <th>Gen No 7</th>\n",
       "      <td>Bus No 15</td>\n",
       "      <td>PV</td>\n",
       "      <td></td>\n",
       "      <td>0.0</td>\n",
       "      <td>False</td>\n",
       "      <td>0.0</td>\n",
       "      <td>inf</td>\n",
       "      <td>0.0</td>\n",
       "      <td>1.0</td>\n",
       "      <td>100.0</td>\n",
       "      <td>...</td>\n",
       "      <td>0.0</td>\n",
       "      <td>0</td>\n",
       "      <td>0</td>\n",
       "      <td>1</td>\n",
       "      <td>0</td>\n",
       "      <td>NaN</td>\n",
       "      <td>NaN</td>\n",
       "      <td>1.0</td>\n",
       "      <td>1.0</td>\n",
       "      <td>0.0</td>\n",
       "    </tr>\n",
       "    <tr>\n",
       "      <th>Gen No 8</th>\n",
       "      <td>Bus No 18</td>\n",
       "      <td>PV</td>\n",
       "      <td></td>\n",
       "      <td>0.0</td>\n",
       "      <td>False</td>\n",
       "      <td>0.0</td>\n",
       "      <td>inf</td>\n",
       "      <td>0.0</td>\n",
       "      <td>1.0</td>\n",
       "      <td>100.0</td>\n",
       "      <td>...</td>\n",
       "      <td>0.0</td>\n",
       "      <td>0</td>\n",
       "      <td>0</td>\n",
       "      <td>1</td>\n",
       "      <td>0</td>\n",
       "      <td>NaN</td>\n",
       "      <td>NaN</td>\n",
       "      <td>1.0</td>\n",
       "      <td>1.0</td>\n",
       "      <td>0.0</td>\n",
       "    </tr>\n",
       "    <tr>\n",
       "      <th>Gen No 9</th>\n",
       "      <td>Bus No 19</td>\n",
       "      <td>PV</td>\n",
       "      <td></td>\n",
       "      <td>0.0</td>\n",
       "      <td>False</td>\n",
       "      <td>0.0</td>\n",
       "      <td>inf</td>\n",
       "      <td>0.0</td>\n",
       "      <td>1.0</td>\n",
       "      <td>100.0</td>\n",
       "      <td>...</td>\n",
       "      <td>0.0</td>\n",
       "      <td>0</td>\n",
       "      <td>0</td>\n",
       "      <td>1</td>\n",
       "      <td>0</td>\n",
       "      <td>NaN</td>\n",
       "      <td>NaN</td>\n",
       "      <td>1.0</td>\n",
       "      <td>1.0</td>\n",
       "      <td>0.0</td>\n",
       "    </tr>\n",
       "    <tr>\n",
       "      <th>Gen No 10</th>\n",
       "      <td>Bus No 24</td>\n",
       "      <td>PV</td>\n",
       "      <td></td>\n",
       "      <td>0.0</td>\n",
       "      <td>False</td>\n",
       "      <td>0.0</td>\n",
       "      <td>inf</td>\n",
       "      <td>0.0</td>\n",
       "      <td>1.0</td>\n",
       "      <td>100.0</td>\n",
       "      <td>...</td>\n",
       "      <td>0.0</td>\n",
       "      <td>0</td>\n",
       "      <td>0</td>\n",
       "      <td>1</td>\n",
       "      <td>0</td>\n",
       "      <td>NaN</td>\n",
       "      <td>NaN</td>\n",
       "      <td>1.0</td>\n",
       "      <td>1.0</td>\n",
       "      <td>0.0</td>\n",
       "    </tr>\n",
       "    <tr>\n",
       "      <th>Gen No 11</th>\n",
       "      <td>Bus No 25</td>\n",
       "      <td>PV</td>\n",
       "      <td></td>\n",
       "      <td>0.0</td>\n",
       "      <td>False</td>\n",
       "      <td>0.0</td>\n",
       "      <td>inf</td>\n",
       "      <td>0.0</td>\n",
       "      <td>1.0</td>\n",
       "      <td>320.0</td>\n",
       "      <td>...</td>\n",
       "      <td>0.0</td>\n",
       "      <td>0</td>\n",
       "      <td>0</td>\n",
       "      <td>1</td>\n",
       "      <td>0</td>\n",
       "      <td>NaN</td>\n",
       "      <td>NaN</td>\n",
       "      <td>1.0</td>\n",
       "      <td>1.0</td>\n",
       "      <td>0.0</td>\n",
       "    </tr>\n",
       "    <tr>\n",
       "      <th>Gen No 12</th>\n",
       "      <td>Bus No 26</td>\n",
       "      <td>PV</td>\n",
       "      <td></td>\n",
       "      <td>0.0</td>\n",
       "      <td>False</td>\n",
       "      <td>0.0</td>\n",
       "      <td>inf</td>\n",
       "      <td>0.0</td>\n",
       "      <td>1.0</td>\n",
       "      <td>414.0</td>\n",
       "      <td>...</td>\n",
       "      <td>0.0</td>\n",
       "      <td>0</td>\n",
       "      <td>0</td>\n",
       "      <td>1</td>\n",
       "      <td>0</td>\n",
       "      <td>NaN</td>\n",
       "      <td>NaN</td>\n",
       "      <td>1.0</td>\n",
       "      <td>1.0</td>\n",
       "      <td>0.0</td>\n",
       "    </tr>\n",
       "    <tr>\n",
       "      <th>Gen No 13</th>\n",
       "      <td>Bus No 27</td>\n",
       "      <td>PV</td>\n",
       "      <td></td>\n",
       "      <td>0.0</td>\n",
       "      <td>False</td>\n",
       "      <td>0.0</td>\n",
       "      <td>inf</td>\n",
       "      <td>0.0</td>\n",
       "      <td>1.0</td>\n",
       "      <td>100.0</td>\n",
       "      <td>...</td>\n",
       "      <td>0.0</td>\n",
       "      <td>0</td>\n",
       "      <td>0</td>\n",
       "      <td>1</td>\n",
       "      <td>0</td>\n",
       "      <td>NaN</td>\n",
       "      <td>NaN</td>\n",
       "      <td>1.0</td>\n",
       "      <td>1.0</td>\n",
       "      <td>0.0</td>\n",
       "    </tr>\n",
       "    <tr>\n",
       "      <th>Gen No 14</th>\n",
       "      <td>Bus No 31</td>\n",
       "      <td>PV</td>\n",
       "      <td></td>\n",
       "      <td>0.0</td>\n",
       "      <td>False</td>\n",
       "      <td>0.0</td>\n",
       "      <td>inf</td>\n",
       "      <td>0.0</td>\n",
       "      <td>1.0</td>\n",
       "      <td>107.0</td>\n",
       "      <td>...</td>\n",
       "      <td>0.0</td>\n",
       "      <td>0</td>\n",
       "      <td>0</td>\n",
       "      <td>1</td>\n",
       "      <td>0</td>\n",
       "      <td>NaN</td>\n",
       "      <td>NaN</td>\n",
       "      <td>1.0</td>\n",
       "      <td>1.0</td>\n",
       "      <td>0.0</td>\n",
       "    </tr>\n",
       "    <tr>\n",
       "      <th>Gen No 15</th>\n",
       "      <td>Bus No 32</td>\n",
       "      <td>PV</td>\n",
       "      <td></td>\n",
       "      <td>0.0</td>\n",
       "      <td>False</td>\n",
       "      <td>0.0</td>\n",
       "      <td>inf</td>\n",
       "      <td>0.0</td>\n",
       "      <td>1.0</td>\n",
       "      <td>100.0</td>\n",
       "      <td>...</td>\n",
       "      <td>0.0</td>\n",
       "      <td>0</td>\n",
       "      <td>0</td>\n",
       "      <td>1</td>\n",
       "      <td>0</td>\n",
       "      <td>NaN</td>\n",
       "      <td>NaN</td>\n",
       "      <td>1.0</td>\n",
       "      <td>1.0</td>\n",
       "      <td>0.0</td>\n",
       "    </tr>\n",
       "    <tr>\n",
       "      <th>Gen No 16</th>\n",
       "      <td>Bus No 34</td>\n",
       "      <td>PV</td>\n",
       "      <td></td>\n",
       "      <td>0.0</td>\n",
       "      <td>False</td>\n",
       "      <td>0.0</td>\n",
       "      <td>inf</td>\n",
       "      <td>0.0</td>\n",
       "      <td>1.0</td>\n",
       "      <td>100.0</td>\n",
       "      <td>...</td>\n",
       "      <td>0.0</td>\n",
       "      <td>0</td>\n",
       "      <td>0</td>\n",
       "      <td>1</td>\n",
       "      <td>0</td>\n",
       "      <td>NaN</td>\n",
       "      <td>NaN</td>\n",
       "      <td>1.0</td>\n",
       "      <td>1.0</td>\n",
       "      <td>0.0</td>\n",
       "    </tr>\n",
       "    <tr>\n",
       "      <th>Gen No 17</th>\n",
       "      <td>Bus No 36</td>\n",
       "      <td>PV</td>\n",
       "      <td></td>\n",
       "      <td>0.0</td>\n",
       "      <td>False</td>\n",
       "      <td>0.0</td>\n",
       "      <td>inf</td>\n",
       "      <td>0.0</td>\n",
       "      <td>1.0</td>\n",
       "      <td>100.0</td>\n",
       "      <td>...</td>\n",
       "      <td>0.0</td>\n",
       "      <td>0</td>\n",
       "      <td>0</td>\n",
       "      <td>1</td>\n",
       "      <td>0</td>\n",
       "      <td>NaN</td>\n",
       "      <td>NaN</td>\n",
       "      <td>1.0</td>\n",
       "      <td>1.0</td>\n",
       "      <td>0.0</td>\n",
       "    </tr>\n",
       "    <tr>\n",
       "      <th>Gen No 18</th>\n",
       "      <td>Bus No 40</td>\n",
       "      <td>PV</td>\n",
       "      <td></td>\n",
       "      <td>0.0</td>\n",
       "      <td>False</td>\n",
       "      <td>0.0</td>\n",
       "      <td>inf</td>\n",
       "      <td>0.0</td>\n",
       "      <td>1.0</td>\n",
       "      <td>100.0</td>\n",
       "      <td>...</td>\n",
       "      <td>0.0</td>\n",
       "      <td>0</td>\n",
       "      <td>0</td>\n",
       "      <td>1</td>\n",
       "      <td>0</td>\n",
       "      <td>NaN</td>\n",
       "      <td>NaN</td>\n",
       "      <td>1.0</td>\n",
       "      <td>1.0</td>\n",
       "      <td>0.0</td>\n",
       "    </tr>\n",
       "    <tr>\n",
       "      <th>Gen No 19</th>\n",
       "      <td>Bus No 42</td>\n",
       "      <td>PV</td>\n",
       "      <td></td>\n",
       "      <td>0.0</td>\n",
       "      <td>False</td>\n",
       "      <td>0.0</td>\n",
       "      <td>inf</td>\n",
       "      <td>0.0</td>\n",
       "      <td>1.0</td>\n",
       "      <td>100.0</td>\n",
       "      <td>...</td>\n",
       "      <td>0.0</td>\n",
       "      <td>0</td>\n",
       "      <td>0</td>\n",
       "      <td>1</td>\n",
       "      <td>0</td>\n",
       "      <td>NaN</td>\n",
       "      <td>NaN</td>\n",
       "      <td>1.0</td>\n",
       "      <td>1.0</td>\n",
       "      <td>0.0</td>\n",
       "    </tr>\n",
       "    <tr>\n",
       "      <th>Gen No 20</th>\n",
       "      <td>Bus No 46</td>\n",
       "      <td>PV</td>\n",
       "      <td></td>\n",
       "      <td>0.0</td>\n",
       "      <td>False</td>\n",
       "      <td>0.0</td>\n",
       "      <td>inf</td>\n",
       "      <td>0.0</td>\n",
       "      <td>1.0</td>\n",
       "      <td>119.0</td>\n",
       "      <td>...</td>\n",
       "      <td>0.0</td>\n",
       "      <td>0</td>\n",
       "      <td>0</td>\n",
       "      <td>1</td>\n",
       "      <td>0</td>\n",
       "      <td>NaN</td>\n",
       "      <td>NaN</td>\n",
       "      <td>1.0</td>\n",
       "      <td>1.0</td>\n",
       "      <td>0.0</td>\n",
       "    </tr>\n",
       "    <tr>\n",
       "      <th>Gen No 21</th>\n",
       "      <td>Bus No 49</td>\n",
       "      <td>PV</td>\n",
       "      <td></td>\n",
       "      <td>0.0</td>\n",
       "      <td>False</td>\n",
       "      <td>0.0</td>\n",
       "      <td>inf</td>\n",
       "      <td>0.0</td>\n",
       "      <td>1.0</td>\n",
       "      <td>304.0</td>\n",
       "      <td>...</td>\n",
       "      <td>0.0</td>\n",
       "      <td>0</td>\n",
       "      <td>0</td>\n",
       "      <td>1</td>\n",
       "      <td>0</td>\n",
       "      <td>NaN</td>\n",
       "      <td>NaN</td>\n",
       "      <td>1.0</td>\n",
       "      <td>1.0</td>\n",
       "      <td>0.0</td>\n",
       "    </tr>\n",
       "    <tr>\n",
       "      <th>Gen No 22</th>\n",
       "      <td>Bus No 54</td>\n",
       "      <td>PV</td>\n",
       "      <td></td>\n",
       "      <td>0.0</td>\n",
       "      <td>False</td>\n",
       "      <td>0.0</td>\n",
       "      <td>inf</td>\n",
       "      <td>0.0</td>\n",
       "      <td>1.0</td>\n",
       "      <td>148.0</td>\n",
       "      <td>...</td>\n",
       "      <td>0.0</td>\n",
       "      <td>0</td>\n",
       "      <td>0</td>\n",
       "      <td>1</td>\n",
       "      <td>0</td>\n",
       "      <td>NaN</td>\n",
       "      <td>NaN</td>\n",
       "      <td>1.0</td>\n",
       "      <td>1.0</td>\n",
       "      <td>0.0</td>\n",
       "    </tr>\n",
       "    <tr>\n",
       "      <th>Gen No 23</th>\n",
       "      <td>Bus No 55</td>\n",
       "      <td>PV</td>\n",
       "      <td></td>\n",
       "      <td>0.0</td>\n",
       "      <td>False</td>\n",
       "      <td>0.0</td>\n",
       "      <td>inf</td>\n",
       "      <td>0.0</td>\n",
       "      <td>1.0</td>\n",
       "      <td>100.0</td>\n",
       "      <td>...</td>\n",
       "      <td>0.0</td>\n",
       "      <td>0</td>\n",
       "      <td>0</td>\n",
       "      <td>1</td>\n",
       "      <td>0</td>\n",
       "      <td>NaN</td>\n",
       "      <td>NaN</td>\n",
       "      <td>1.0</td>\n",
       "      <td>1.0</td>\n",
       "      <td>0.0</td>\n",
       "    </tr>\n",
       "    <tr>\n",
       "      <th>Gen No 24</th>\n",
       "      <td>Bus No 56</td>\n",
       "      <td>PV</td>\n",
       "      <td></td>\n",
       "      <td>0.0</td>\n",
       "      <td>False</td>\n",
       "      <td>0.0</td>\n",
       "      <td>inf</td>\n",
       "      <td>0.0</td>\n",
       "      <td>1.0</td>\n",
       "      <td>100.0</td>\n",
       "      <td>...</td>\n",
       "      <td>0.0</td>\n",
       "      <td>0</td>\n",
       "      <td>0</td>\n",
       "      <td>1</td>\n",
       "      <td>0</td>\n",
       "      <td>NaN</td>\n",
       "      <td>NaN</td>\n",
       "      <td>1.0</td>\n",
       "      <td>1.0</td>\n",
       "      <td>0.0</td>\n",
       "    </tr>\n",
       "    <tr>\n",
       "      <th>Gen No 25</th>\n",
       "      <td>Bus No 59</td>\n",
       "      <td>PV</td>\n",
       "      <td></td>\n",
       "      <td>0.0</td>\n",
       "      <td>False</td>\n",
       "      <td>0.0</td>\n",
       "      <td>inf</td>\n",
       "      <td>0.0</td>\n",
       "      <td>1.0</td>\n",
       "      <td>255.0</td>\n",
       "      <td>...</td>\n",
       "      <td>0.0</td>\n",
       "      <td>0</td>\n",
       "      <td>0</td>\n",
       "      <td>1</td>\n",
       "      <td>0</td>\n",
       "      <td>NaN</td>\n",
       "      <td>NaN</td>\n",
       "      <td>1.0</td>\n",
       "      <td>1.0</td>\n",
       "      <td>0.0</td>\n",
       "    </tr>\n",
       "    <tr>\n",
       "      <th>Gen No 26</th>\n",
       "      <td>Bus No 61</td>\n",
       "      <td>PV</td>\n",
       "      <td></td>\n",
       "      <td>0.0</td>\n",
       "      <td>False</td>\n",
       "      <td>0.0</td>\n",
       "      <td>inf</td>\n",
       "      <td>0.0</td>\n",
       "      <td>1.0</td>\n",
       "      <td>260.0</td>\n",
       "      <td>...</td>\n",
       "      <td>0.0</td>\n",
       "      <td>0</td>\n",
       "      <td>0</td>\n",
       "      <td>1</td>\n",
       "      <td>0</td>\n",
       "      <td>NaN</td>\n",
       "      <td>NaN</td>\n",
       "      <td>1.0</td>\n",
       "      <td>1.0</td>\n",
       "      <td>0.0</td>\n",
       "    </tr>\n",
       "    <tr>\n",
       "      <th>Gen No 27</th>\n",
       "      <td>Bus No 62</td>\n",
       "      <td>PV</td>\n",
       "      <td></td>\n",
       "      <td>0.0</td>\n",
       "      <td>False</td>\n",
       "      <td>0.0</td>\n",
       "      <td>inf</td>\n",
       "      <td>0.0</td>\n",
       "      <td>1.0</td>\n",
       "      <td>100.0</td>\n",
       "      <td>...</td>\n",
       "      <td>0.0</td>\n",
       "      <td>0</td>\n",
       "      <td>0</td>\n",
       "      <td>1</td>\n",
       "      <td>0</td>\n",
       "      <td>NaN</td>\n",
       "      <td>NaN</td>\n",
       "      <td>1.0</td>\n",
       "      <td>1.0</td>\n",
       "      <td>0.0</td>\n",
       "    </tr>\n",
       "    <tr>\n",
       "      <th>Gen No 28</th>\n",
       "      <td>Bus No 65</td>\n",
       "      <td>PV</td>\n",
       "      <td></td>\n",
       "      <td>0.0</td>\n",
       "      <td>False</td>\n",
       "      <td>0.0</td>\n",
       "      <td>inf</td>\n",
       "      <td>0.0</td>\n",
       "      <td>1.0</td>\n",
       "      <td>491.0</td>\n",
       "      <td>...</td>\n",
       "      <td>0.0</td>\n",
       "      <td>0</td>\n",
       "      <td>0</td>\n",
       "      <td>1</td>\n",
       "      <td>0</td>\n",
       "      <td>NaN</td>\n",
       "      <td>NaN</td>\n",
       "      <td>1.0</td>\n",
       "      <td>1.0</td>\n",
       "      <td>0.0</td>\n",
       "    </tr>\n",
       "    <tr>\n",
       "      <th>Gen No 29</th>\n",
       "      <td>Bus No 66</td>\n",
       "      <td>PV</td>\n",
       "      <td></td>\n",
       "      <td>0.0</td>\n",
       "      <td>False</td>\n",
       "      <td>0.0</td>\n",
       "      <td>inf</td>\n",
       "      <td>0.0</td>\n",
       "      <td>1.0</td>\n",
       "      <td>492.0</td>\n",
       "      <td>...</td>\n",
       "      <td>0.0</td>\n",
       "      <td>0</td>\n",
       "      <td>0</td>\n",
       "      <td>1</td>\n",
       "      <td>0</td>\n",
       "      <td>NaN</td>\n",
       "      <td>NaN</td>\n",
       "      <td>1.0</td>\n",
       "      <td>1.0</td>\n",
       "      <td>0.0</td>\n",
       "    </tr>\n",
       "    <tr>\n",
       "      <th>Gen No 30</th>\n",
       "      <td>Bus No 69</td>\n",
       "      <td>PV</td>\n",
       "      <td></td>\n",
       "      <td>0.0</td>\n",
       "      <td>False</td>\n",
       "      <td>0.0</td>\n",
       "      <td>inf</td>\n",
       "      <td>0.0</td>\n",
       "      <td>1.0</td>\n",
       "      <td>805.2</td>\n",
       "      <td>...</td>\n",
       "      <td>0.0</td>\n",
       "      <td>0</td>\n",
       "      <td>0</td>\n",
       "      <td>1</td>\n",
       "      <td>0</td>\n",
       "      <td>NaN</td>\n",
       "      <td>NaN</td>\n",
       "      <td>1.0</td>\n",
       "      <td>1.0</td>\n",
       "      <td>0.0</td>\n",
       "    </tr>\n",
       "    <tr>\n",
       "      <th>Gen No 31</th>\n",
       "      <td>Bus No 70</td>\n",
       "      <td>PV</td>\n",
       "      <td></td>\n",
       "      <td>0.0</td>\n",
       "      <td>False</td>\n",
       "      <td>0.0</td>\n",
       "      <td>inf</td>\n",
       "      <td>0.0</td>\n",
       "      <td>1.0</td>\n",
       "      <td>100.0</td>\n",
       "      <td>...</td>\n",
       "      <td>0.0</td>\n",
       "      <td>0</td>\n",
       "      <td>0</td>\n",
       "      <td>1</td>\n",
       "      <td>0</td>\n",
       "      <td>NaN</td>\n",
       "      <td>NaN</td>\n",
       "      <td>1.0</td>\n",
       "      <td>1.0</td>\n",
       "      <td>0.0</td>\n",
       "    </tr>\n",
       "    <tr>\n",
       "      <th>Gen No 32</th>\n",
       "      <td>Bus No 72</td>\n",
       "      <td>PV</td>\n",
       "      <td></td>\n",
       "      <td>0.0</td>\n",
       "      <td>False</td>\n",
       "      <td>0.0</td>\n",
       "      <td>inf</td>\n",
       "      <td>0.0</td>\n",
       "      <td>1.0</td>\n",
       "      <td>100.0</td>\n",
       "      <td>...</td>\n",
       "      <td>0.0</td>\n",
       "      <td>0</td>\n",
       "      <td>0</td>\n",
       "      <td>1</td>\n",
       "      <td>0</td>\n",
       "      <td>NaN</td>\n",
       "      <td>NaN</td>\n",
       "      <td>1.0</td>\n",
       "      <td>1.0</td>\n",
       "      <td>0.0</td>\n",
       "    </tr>\n",
       "    <tr>\n",
       "      <th>Gen No 33</th>\n",
       "      <td>Bus No 73</td>\n",
       "      <td>PV</td>\n",
       "      <td></td>\n",
       "      <td>0.0</td>\n",
       "      <td>False</td>\n",
       "      <td>0.0</td>\n",
       "      <td>inf</td>\n",
       "      <td>0.0</td>\n",
       "      <td>1.0</td>\n",
       "      <td>100.0</td>\n",
       "      <td>...</td>\n",
       "      <td>0.0</td>\n",
       "      <td>0</td>\n",
       "      <td>0</td>\n",
       "      <td>1</td>\n",
       "      <td>0</td>\n",
       "      <td>NaN</td>\n",
       "      <td>NaN</td>\n",
       "      <td>1.0</td>\n",
       "      <td>1.0</td>\n",
       "      <td>0.0</td>\n",
       "    </tr>\n",
       "    <tr>\n",
       "      <th>Gen No 34</th>\n",
       "      <td>Bus No 74</td>\n",
       "      <td>PV</td>\n",
       "      <td></td>\n",
       "      <td>0.0</td>\n",
       "      <td>False</td>\n",
       "      <td>0.0</td>\n",
       "      <td>inf</td>\n",
       "      <td>0.0</td>\n",
       "      <td>1.0</td>\n",
       "      <td>100.0</td>\n",
       "      <td>...</td>\n",
       "      <td>0.0</td>\n",
       "      <td>0</td>\n",
       "      <td>0</td>\n",
       "      <td>1</td>\n",
       "      <td>0</td>\n",
       "      <td>NaN</td>\n",
       "      <td>NaN</td>\n",
       "      <td>1.0</td>\n",
       "      <td>1.0</td>\n",
       "      <td>0.0</td>\n",
       "    </tr>\n",
       "    <tr>\n",
       "      <th>Gen No 35</th>\n",
       "      <td>Bus No 76</td>\n",
       "      <td>PV</td>\n",
       "      <td></td>\n",
       "      <td>0.0</td>\n",
       "      <td>False</td>\n",
       "      <td>0.0</td>\n",
       "      <td>inf</td>\n",
       "      <td>0.0</td>\n",
       "      <td>1.0</td>\n",
       "      <td>100.0</td>\n",
       "      <td>...</td>\n",
       "      <td>0.0</td>\n",
       "      <td>0</td>\n",
       "      <td>0</td>\n",
       "      <td>1</td>\n",
       "      <td>0</td>\n",
       "      <td>NaN</td>\n",
       "      <td>NaN</td>\n",
       "      <td>1.0</td>\n",
       "      <td>1.0</td>\n",
       "      <td>0.0</td>\n",
       "    </tr>\n",
       "    <tr>\n",
       "      <th>Gen No 36</th>\n",
       "      <td>Bus No 77</td>\n",
       "      <td>PV</td>\n",
       "      <td></td>\n",
       "      <td>0.0</td>\n",
       "      <td>False</td>\n",
       "      <td>0.0</td>\n",
       "      <td>inf</td>\n",
       "      <td>0.0</td>\n",
       "      <td>1.0</td>\n",
       "      <td>100.0</td>\n",
       "      <td>...</td>\n",
       "      <td>0.0</td>\n",
       "      <td>0</td>\n",
       "      <td>0</td>\n",
       "      <td>1</td>\n",
       "      <td>0</td>\n",
       "      <td>NaN</td>\n",
       "      <td>NaN</td>\n",
       "      <td>1.0</td>\n",
       "      <td>1.0</td>\n",
       "      <td>0.0</td>\n",
       "    </tr>\n",
       "    <tr>\n",
       "      <th>Gen No 37</th>\n",
       "      <td>Bus No 80</td>\n",
       "      <td>PV</td>\n",
       "      <td></td>\n",
       "      <td>0.0</td>\n",
       "      <td>False</td>\n",
       "      <td>0.0</td>\n",
       "      <td>inf</td>\n",
       "      <td>0.0</td>\n",
       "      <td>1.0</td>\n",
       "      <td>577.0</td>\n",
       "      <td>...</td>\n",
       "      <td>0.0</td>\n",
       "      <td>0</td>\n",
       "      <td>0</td>\n",
       "      <td>1</td>\n",
       "      <td>0</td>\n",
       "      <td>NaN</td>\n",
       "      <td>NaN</td>\n",
       "      <td>1.0</td>\n",
       "      <td>1.0</td>\n",
       "      <td>0.0</td>\n",
       "    </tr>\n",
       "    <tr>\n",
       "      <th>Gen No 38</th>\n",
       "      <td>Bus No 85</td>\n",
       "      <td>PV</td>\n",
       "      <td></td>\n",
       "      <td>0.0</td>\n",
       "      <td>False</td>\n",
       "      <td>0.0</td>\n",
       "      <td>inf</td>\n",
       "      <td>0.0</td>\n",
       "      <td>1.0</td>\n",
       "      <td>100.0</td>\n",
       "      <td>...</td>\n",
       "      <td>0.0</td>\n",
       "      <td>0</td>\n",
       "      <td>0</td>\n",
       "      <td>1</td>\n",
       "      <td>0</td>\n",
       "      <td>NaN</td>\n",
       "      <td>NaN</td>\n",
       "      <td>1.0</td>\n",
       "      <td>1.0</td>\n",
       "      <td>0.0</td>\n",
       "    </tr>\n",
       "    <tr>\n",
       "      <th>Gen No 39</th>\n",
       "      <td>Bus No 87</td>\n",
       "      <td>PV</td>\n",
       "      <td></td>\n",
       "      <td>0.0</td>\n",
       "      <td>False</td>\n",
       "      <td>0.0</td>\n",
       "      <td>inf</td>\n",
       "      <td>0.0</td>\n",
       "      <td>1.0</td>\n",
       "      <td>104.0</td>\n",
       "      <td>...</td>\n",
       "      <td>0.0</td>\n",
       "      <td>0</td>\n",
       "      <td>0</td>\n",
       "      <td>1</td>\n",
       "      <td>0</td>\n",
       "      <td>NaN</td>\n",
       "      <td>NaN</td>\n",
       "      <td>1.0</td>\n",
       "      <td>1.0</td>\n",
       "      <td>0.0</td>\n",
       "    </tr>\n",
       "    <tr>\n",
       "      <th>Gen No 40</th>\n",
       "      <td>Bus No 89</td>\n",
       "      <td>PV</td>\n",
       "      <td></td>\n",
       "      <td>0.0</td>\n",
       "      <td>False</td>\n",
       "      <td>0.0</td>\n",
       "      <td>inf</td>\n",
       "      <td>0.0</td>\n",
       "      <td>1.0</td>\n",
       "      <td>707.0</td>\n",
       "      <td>...</td>\n",
       "      <td>0.0</td>\n",
       "      <td>0</td>\n",
       "      <td>0</td>\n",
       "      <td>1</td>\n",
       "      <td>0</td>\n",
       "      <td>NaN</td>\n",
       "      <td>NaN</td>\n",
       "      <td>1.0</td>\n",
       "      <td>1.0</td>\n",
       "      <td>0.0</td>\n",
       "    </tr>\n",
       "    <tr>\n",
       "      <th>Gen No 41</th>\n",
       "      <td>Bus No 90</td>\n",
       "      <td>PV</td>\n",
       "      <td></td>\n",
       "      <td>0.0</td>\n",
       "      <td>False</td>\n",
       "      <td>0.0</td>\n",
       "      <td>inf</td>\n",
       "      <td>0.0</td>\n",
       "      <td>1.0</td>\n",
       "      <td>100.0</td>\n",
       "      <td>...</td>\n",
       "      <td>0.0</td>\n",
       "      <td>0</td>\n",
       "      <td>0</td>\n",
       "      <td>1</td>\n",
       "      <td>0</td>\n",
       "      <td>NaN</td>\n",
       "      <td>NaN</td>\n",
       "      <td>1.0</td>\n",
       "      <td>1.0</td>\n",
       "      <td>0.0</td>\n",
       "    </tr>\n",
       "    <tr>\n",
       "      <th>Gen No 42</th>\n",
       "      <td>Bus No 91</td>\n",
       "      <td>PV</td>\n",
       "      <td></td>\n",
       "      <td>0.0</td>\n",
       "      <td>False</td>\n",
       "      <td>0.0</td>\n",
       "      <td>inf</td>\n",
       "      <td>0.0</td>\n",
       "      <td>1.0</td>\n",
       "      <td>100.0</td>\n",
       "      <td>...</td>\n",
       "      <td>0.0</td>\n",
       "      <td>0</td>\n",
       "      <td>0</td>\n",
       "      <td>1</td>\n",
       "      <td>0</td>\n",
       "      <td>NaN</td>\n",
       "      <td>NaN</td>\n",
       "      <td>1.0</td>\n",
       "      <td>1.0</td>\n",
       "      <td>0.0</td>\n",
       "    </tr>\n",
       "    <tr>\n",
       "      <th>Gen No 43</th>\n",
       "      <td>Bus No 92</td>\n",
       "      <td>PV</td>\n",
       "      <td></td>\n",
       "      <td>0.0</td>\n",
       "      <td>False</td>\n",
       "      <td>0.0</td>\n",
       "      <td>inf</td>\n",
       "      <td>0.0</td>\n",
       "      <td>1.0</td>\n",
       "      <td>100.0</td>\n",
       "      <td>...</td>\n",
       "      <td>0.0</td>\n",
       "      <td>0</td>\n",
       "      <td>0</td>\n",
       "      <td>1</td>\n",
       "      <td>0</td>\n",
       "      <td>NaN</td>\n",
       "      <td>NaN</td>\n",
       "      <td>1.0</td>\n",
       "      <td>1.0</td>\n",
       "      <td>0.0</td>\n",
       "    </tr>\n",
       "    <tr>\n",
       "      <th>Gen No 44</th>\n",
       "      <td>Bus No 99</td>\n",
       "      <td>PV</td>\n",
       "      <td></td>\n",
       "      <td>0.0</td>\n",
       "      <td>False</td>\n",
       "      <td>0.0</td>\n",
       "      <td>inf</td>\n",
       "      <td>0.0</td>\n",
       "      <td>1.0</td>\n",
       "      <td>100.0</td>\n",
       "      <td>...</td>\n",
       "      <td>0.0</td>\n",
       "      <td>0</td>\n",
       "      <td>0</td>\n",
       "      <td>1</td>\n",
       "      <td>0</td>\n",
       "      <td>NaN</td>\n",
       "      <td>NaN</td>\n",
       "      <td>1.0</td>\n",
       "      <td>1.0</td>\n",
       "      <td>0.0</td>\n",
       "    </tr>\n",
       "    <tr>\n",
       "      <th>Gen No 45</th>\n",
       "      <td>Bus No 100</td>\n",
       "      <td>PV</td>\n",
       "      <td></td>\n",
       "      <td>0.0</td>\n",
       "      <td>False</td>\n",
       "      <td>0.0</td>\n",
       "      <td>inf</td>\n",
       "      <td>0.0</td>\n",
       "      <td>1.0</td>\n",
       "      <td>352.0</td>\n",
       "      <td>...</td>\n",
       "      <td>0.0</td>\n",
       "      <td>0</td>\n",
       "      <td>0</td>\n",
       "      <td>1</td>\n",
       "      <td>0</td>\n",
       "      <td>NaN</td>\n",
       "      <td>NaN</td>\n",
       "      <td>1.0</td>\n",
       "      <td>1.0</td>\n",
       "      <td>0.0</td>\n",
       "    </tr>\n",
       "    <tr>\n",
       "      <th>Gen No 46</th>\n",
       "      <td>Bus No 103</td>\n",
       "      <td>PV</td>\n",
       "      <td></td>\n",
       "      <td>0.0</td>\n",
       "      <td>False</td>\n",
       "      <td>0.0</td>\n",
       "      <td>inf</td>\n",
       "      <td>0.0</td>\n",
       "      <td>1.0</td>\n",
       "      <td>140.0</td>\n",
       "      <td>...</td>\n",
       "      <td>0.0</td>\n",
       "      <td>0</td>\n",
       "      <td>0</td>\n",
       "      <td>1</td>\n",
       "      <td>0</td>\n",
       "      <td>NaN</td>\n",
       "      <td>NaN</td>\n",
       "      <td>1.0</td>\n",
       "      <td>1.0</td>\n",
       "      <td>0.0</td>\n",
       "    </tr>\n",
       "    <tr>\n",
       "      <th>Gen No 47</th>\n",
       "      <td>Bus No 104</td>\n",
       "      <td>PV</td>\n",
       "      <td></td>\n",
       "      <td>0.0</td>\n",
       "      <td>False</td>\n",
       "      <td>0.0</td>\n",
       "      <td>inf</td>\n",
       "      <td>0.0</td>\n",
       "      <td>1.0</td>\n",
       "      <td>100.0</td>\n",
       "      <td>...</td>\n",
       "      <td>0.0</td>\n",
       "      <td>0</td>\n",
       "      <td>0</td>\n",
       "      <td>1</td>\n",
       "      <td>0</td>\n",
       "      <td>NaN</td>\n",
       "      <td>NaN</td>\n",
       "      <td>1.0</td>\n",
       "      <td>1.0</td>\n",
       "      <td>0.0</td>\n",
       "    </tr>\n",
       "    <tr>\n",
       "      <th>Gen No 48</th>\n",
       "      <td>Bus No 105</td>\n",
       "      <td>PV</td>\n",
       "      <td></td>\n",
       "      <td>0.0</td>\n",
       "      <td>False</td>\n",
       "      <td>0.0</td>\n",
       "      <td>inf</td>\n",
       "      <td>0.0</td>\n",
       "      <td>1.0</td>\n",
       "      <td>100.0</td>\n",
       "      <td>...</td>\n",
       "      <td>0.0</td>\n",
       "      <td>0</td>\n",
       "      <td>0</td>\n",
       "      <td>1</td>\n",
       "      <td>0</td>\n",
       "      <td>NaN</td>\n",
       "      <td>NaN</td>\n",
       "      <td>1.0</td>\n",
       "      <td>1.0</td>\n",
       "      <td>0.0</td>\n",
       "    </tr>\n",
       "    <tr>\n",
       "      <th>Gen No 49</th>\n",
       "      <td>Bus No 107</td>\n",
       "      <td>PV</td>\n",
       "      <td></td>\n",
       "      <td>0.0</td>\n",
       "      <td>False</td>\n",
       "      <td>0.0</td>\n",
       "      <td>inf</td>\n",
       "      <td>0.0</td>\n",
       "      <td>1.0</td>\n",
       "      <td>100.0</td>\n",
       "      <td>...</td>\n",
       "      <td>0.0</td>\n",
       "      <td>0</td>\n",
       "      <td>0</td>\n",
       "      <td>1</td>\n",
       "      <td>0</td>\n",
       "      <td>NaN</td>\n",
       "      <td>NaN</td>\n",
       "      <td>1.0</td>\n",
       "      <td>1.0</td>\n",
       "      <td>0.0</td>\n",
       "    </tr>\n",
       "    <tr>\n",
       "      <th>Gen No 50</th>\n",
       "      <td>Bus No 110</td>\n",
       "      <td>PV</td>\n",
       "      <td></td>\n",
       "      <td>0.0</td>\n",
       "      <td>False</td>\n",
       "      <td>0.0</td>\n",
       "      <td>inf</td>\n",
       "      <td>0.0</td>\n",
       "      <td>1.0</td>\n",
       "      <td>100.0</td>\n",
       "      <td>...</td>\n",
       "      <td>0.0</td>\n",
       "      <td>0</td>\n",
       "      <td>0</td>\n",
       "      <td>1</td>\n",
       "      <td>0</td>\n",
       "      <td>NaN</td>\n",
       "      <td>NaN</td>\n",
       "      <td>1.0</td>\n",
       "      <td>1.0</td>\n",
       "      <td>0.0</td>\n",
       "    </tr>\n",
       "    <tr>\n",
       "      <th>Gen No 51</th>\n",
       "      <td>Bus No 111</td>\n",
       "      <td>PV</td>\n",
       "      <td></td>\n",
       "      <td>0.0</td>\n",
       "      <td>False</td>\n",
       "      <td>0.0</td>\n",
       "      <td>inf</td>\n",
       "      <td>0.0</td>\n",
       "      <td>1.0</td>\n",
       "      <td>136.0</td>\n",
       "      <td>...</td>\n",
       "      <td>0.0</td>\n",
       "      <td>0</td>\n",
       "      <td>0</td>\n",
       "      <td>1</td>\n",
       "      <td>0</td>\n",
       "      <td>NaN</td>\n",
       "      <td>NaN</td>\n",
       "      <td>1.0</td>\n",
       "      <td>1.0</td>\n",
       "      <td>0.0</td>\n",
       "    </tr>\n",
       "    <tr>\n",
       "      <th>Gen No 52</th>\n",
       "      <td>Bus No 112</td>\n",
       "      <td>PV</td>\n",
       "      <td></td>\n",
       "      <td>0.0</td>\n",
       "      <td>False</td>\n",
       "      <td>0.0</td>\n",
       "      <td>inf</td>\n",
       "      <td>0.0</td>\n",
       "      <td>1.0</td>\n",
       "      <td>100.0</td>\n",
       "      <td>...</td>\n",
       "      <td>0.0</td>\n",
       "      <td>0</td>\n",
       "      <td>0</td>\n",
       "      <td>1</td>\n",
       "      <td>0</td>\n",
       "      <td>NaN</td>\n",
       "      <td>NaN</td>\n",
       "      <td>1.0</td>\n",
       "      <td>1.0</td>\n",
       "      <td>0.0</td>\n",
       "    </tr>\n",
       "    <tr>\n",
       "      <th>Gen No 53</th>\n",
       "      <td>Bus No 113</td>\n",
       "      <td>PV</td>\n",
       "      <td></td>\n",
       "      <td>0.0</td>\n",
       "      <td>False</td>\n",
       "      <td>0.0</td>\n",
       "      <td>inf</td>\n",
       "      <td>0.0</td>\n",
       "      <td>1.0</td>\n",
       "      <td>100.0</td>\n",
       "      <td>...</td>\n",
       "      <td>0.0</td>\n",
       "      <td>0</td>\n",
       "      <td>0</td>\n",
       "      <td>1</td>\n",
       "      <td>0</td>\n",
       "      <td>NaN</td>\n",
       "      <td>NaN</td>\n",
       "      <td>1.0</td>\n",
       "      <td>1.0</td>\n",
       "      <td>0.0</td>\n",
       "    </tr>\n",
       "    <tr>\n",
       "      <th>Gen No 54</th>\n",
       "      <td>Bus No 116</td>\n",
       "      <td>PV</td>\n",
       "      <td></td>\n",
       "      <td>0.0</td>\n",
       "      <td>False</td>\n",
       "      <td>0.0</td>\n",
       "      <td>inf</td>\n",
       "      <td>0.0</td>\n",
       "      <td>1.0</td>\n",
       "      <td>100.0</td>\n",
       "      <td>...</td>\n",
       "      <td>0.0</td>\n",
       "      <td>0</td>\n",
       "      <td>0</td>\n",
       "      <td>1</td>\n",
       "      <td>0</td>\n",
       "      <td>NaN</td>\n",
       "      <td>NaN</td>\n",
       "      <td>1.0</td>\n",
       "      <td>1.0</td>\n",
       "      <td>0.0</td>\n",
       "    </tr>\n",
       "  </tbody>\n",
       "</table>\n",
       "<p>54 rows × 30 columns</p>\n",
       "</div>"
      ],
      "text/plain": [
       "attribute         bus control type  p_nom  p_nom_extendable  p_nom_min  \\\n",
       "Slack Gen    Bus No 1   Slack         0.0             False        0.0   \n",
       "Gen No 2     Bus No 4      PV         0.0             False        0.0   \n",
       "Gen No 3     Bus No 6      PV         0.0             False        0.0   \n",
       "Gen No 4     Bus No 8      PV         0.0             False        0.0   \n",
       "Gen No 5    Bus No 10      PV         0.0             False        0.0   \n",
       "Gen No 6    Bus No 12      PV         0.0             False        0.0   \n",
       "Gen No 7    Bus No 15      PV         0.0             False        0.0   \n",
       "Gen No 8    Bus No 18      PV         0.0             False        0.0   \n",
       "Gen No 9    Bus No 19      PV         0.0             False        0.0   \n",
       "Gen No 10   Bus No 24      PV         0.0             False        0.0   \n",
       "Gen No 11   Bus No 25      PV         0.0             False        0.0   \n",
       "Gen No 12   Bus No 26      PV         0.0             False        0.0   \n",
       "Gen No 13   Bus No 27      PV         0.0             False        0.0   \n",
       "Gen No 14   Bus No 31      PV         0.0             False        0.0   \n",
       "Gen No 15   Bus No 32      PV         0.0             False        0.0   \n",
       "Gen No 16   Bus No 34      PV         0.0             False        0.0   \n",
       "Gen No 17   Bus No 36      PV         0.0             False        0.0   \n",
       "Gen No 18   Bus No 40      PV         0.0             False        0.0   \n",
       "Gen No 19   Bus No 42      PV         0.0             False        0.0   \n",
       "Gen No 20   Bus No 46      PV         0.0             False        0.0   \n",
       "Gen No 21   Bus No 49      PV         0.0             False        0.0   \n",
       "Gen No 22   Bus No 54      PV         0.0             False        0.0   \n",
       "Gen No 23   Bus No 55      PV         0.0             False        0.0   \n",
       "Gen No 24   Bus No 56      PV         0.0             False        0.0   \n",
       "Gen No 25   Bus No 59      PV         0.0             False        0.0   \n",
       "Gen No 26   Bus No 61      PV         0.0             False        0.0   \n",
       "Gen No 27   Bus No 62      PV         0.0             False        0.0   \n",
       "Gen No 28   Bus No 65      PV         0.0             False        0.0   \n",
       "Gen No 29   Bus No 66      PV         0.0             False        0.0   \n",
       "Gen No 30   Bus No 69      PV         0.0             False        0.0   \n",
       "Gen No 31   Bus No 70      PV         0.0             False        0.0   \n",
       "Gen No 32   Bus No 72      PV         0.0             False        0.0   \n",
       "Gen No 33   Bus No 73      PV         0.0             False        0.0   \n",
       "Gen No 34   Bus No 74      PV         0.0             False        0.0   \n",
       "Gen No 35   Bus No 76      PV         0.0             False        0.0   \n",
       "Gen No 36   Bus No 77      PV         0.0             False        0.0   \n",
       "Gen No 37   Bus No 80      PV         0.0             False        0.0   \n",
       "Gen No 38   Bus No 85      PV         0.0             False        0.0   \n",
       "Gen No 39   Bus No 87      PV         0.0             False        0.0   \n",
       "Gen No 40   Bus No 89      PV         0.0             False        0.0   \n",
       "Gen No 41   Bus No 90      PV         0.0             False        0.0   \n",
       "Gen No 42   Bus No 91      PV         0.0             False        0.0   \n",
       "Gen No 43   Bus No 92      PV         0.0             False        0.0   \n",
       "Gen No 44   Bus No 99      PV         0.0             False        0.0   \n",
       "Gen No 45  Bus No 100      PV         0.0             False        0.0   \n",
       "Gen No 46  Bus No 103      PV         0.0             False        0.0   \n",
       "Gen No 47  Bus No 104      PV         0.0             False        0.0   \n",
       "Gen No 48  Bus No 105      PV         0.0             False        0.0   \n",
       "Gen No 49  Bus No 107      PV         0.0             False        0.0   \n",
       "Gen No 50  Bus No 110      PV         0.0             False        0.0   \n",
       "Gen No 51  Bus No 111      PV         0.0             False        0.0   \n",
       "Gen No 52  Bus No 112      PV         0.0             False        0.0   \n",
       "Gen No 53  Bus No 113      PV         0.0             False        0.0   \n",
       "Gen No 54  Bus No 116      PV         0.0             False        0.0   \n",
       "\n",
       "attribute  p_nom_max  p_min_pu  p_max_pu  p_set  ...  shut_down_cost  \\\n",
       "Slack Gen        inf       0.0       1.0    0.0  ...             0.0   \n",
       "Gen No 2         inf       0.0       1.0  100.0  ...             0.0   \n",
       "Gen No 3         inf       0.0       1.0  100.0  ...             0.0   \n",
       "Gen No 4         inf       0.0       1.0  100.0  ...             0.0   \n",
       "Gen No 5         inf       0.0       1.0  550.0  ...             0.0   \n",
       "Gen No 6         inf       0.0       1.0  185.0  ...             0.0   \n",
       "Gen No 7         inf       0.0       1.0  100.0  ...             0.0   \n",
       "Gen No 8         inf       0.0       1.0  100.0  ...             0.0   \n",
       "Gen No 9         inf       0.0       1.0  100.0  ...             0.0   \n",
       "Gen No 10        inf       0.0       1.0  100.0  ...             0.0   \n",
       "Gen No 11        inf       0.0       1.0  320.0  ...             0.0   \n",
       "Gen No 12        inf       0.0       1.0  414.0  ...             0.0   \n",
       "Gen No 13        inf       0.0       1.0  100.0  ...             0.0   \n",
       "Gen No 14        inf       0.0       1.0  107.0  ...             0.0   \n",
       "Gen No 15        inf       0.0       1.0  100.0  ...             0.0   \n",
       "Gen No 16        inf       0.0       1.0  100.0  ...             0.0   \n",
       "Gen No 17        inf       0.0       1.0  100.0  ...             0.0   \n",
       "Gen No 18        inf       0.0       1.0  100.0  ...             0.0   \n",
       "Gen No 19        inf       0.0       1.0  100.0  ...             0.0   \n",
       "Gen No 20        inf       0.0       1.0  119.0  ...             0.0   \n",
       "Gen No 21        inf       0.0       1.0  304.0  ...             0.0   \n",
       "Gen No 22        inf       0.0       1.0  148.0  ...             0.0   \n",
       "Gen No 23        inf       0.0       1.0  100.0  ...             0.0   \n",
       "Gen No 24        inf       0.0       1.0  100.0  ...             0.0   \n",
       "Gen No 25        inf       0.0       1.0  255.0  ...             0.0   \n",
       "Gen No 26        inf       0.0       1.0  260.0  ...             0.0   \n",
       "Gen No 27        inf       0.0       1.0  100.0  ...             0.0   \n",
       "Gen No 28        inf       0.0       1.0  491.0  ...             0.0   \n",
       "Gen No 29        inf       0.0       1.0  492.0  ...             0.0   \n",
       "Gen No 30        inf       0.0       1.0  805.2  ...             0.0   \n",
       "Gen No 31        inf       0.0       1.0  100.0  ...             0.0   \n",
       "Gen No 32        inf       0.0       1.0  100.0  ...             0.0   \n",
       "Gen No 33        inf       0.0       1.0  100.0  ...             0.0   \n",
       "Gen No 34        inf       0.0       1.0  100.0  ...             0.0   \n",
       "Gen No 35        inf       0.0       1.0  100.0  ...             0.0   \n",
       "Gen No 36        inf       0.0       1.0  100.0  ...             0.0   \n",
       "Gen No 37        inf       0.0       1.0  577.0  ...             0.0   \n",
       "Gen No 38        inf       0.0       1.0  100.0  ...             0.0   \n",
       "Gen No 39        inf       0.0       1.0  104.0  ...             0.0   \n",
       "Gen No 40        inf       0.0       1.0  707.0  ...             0.0   \n",
       "Gen No 41        inf       0.0       1.0  100.0  ...             0.0   \n",
       "Gen No 42        inf       0.0       1.0  100.0  ...             0.0   \n",
       "Gen No 43        inf       0.0       1.0  100.0  ...             0.0   \n",
       "Gen No 44        inf       0.0       1.0  100.0  ...             0.0   \n",
       "Gen No 45        inf       0.0       1.0  352.0  ...             0.0   \n",
       "Gen No 46        inf       0.0       1.0  140.0  ...             0.0   \n",
       "Gen No 47        inf       0.0       1.0  100.0  ...             0.0   \n",
       "Gen No 48        inf       0.0       1.0  100.0  ...             0.0   \n",
       "Gen No 49        inf       0.0       1.0  100.0  ...             0.0   \n",
       "Gen No 50        inf       0.0       1.0  100.0  ...             0.0   \n",
       "Gen No 51        inf       0.0       1.0  136.0  ...             0.0   \n",
       "Gen No 52        inf       0.0       1.0  100.0  ...             0.0   \n",
       "Gen No 53        inf       0.0       1.0  100.0  ...             0.0   \n",
       "Gen No 54        inf       0.0       1.0  100.0  ...             0.0   \n",
       "\n",
       "attribute  min_up_time min_down_time  up_time_before  down_time_before  \\\n",
       "Slack Gen            0             0               1                 0   \n",
       "Gen No 2             0             0               1                 0   \n",
       "Gen No 3             0             0               1                 0   \n",
       "Gen No 4             0             0               1                 0   \n",
       "Gen No 5             0             0               1                 0   \n",
       "Gen No 6             0             0               1                 0   \n",
       "Gen No 7             0             0               1                 0   \n",
       "Gen No 8             0             0               1                 0   \n",
       "Gen No 9             0             0               1                 0   \n",
       "Gen No 10            0             0               1                 0   \n",
       "Gen No 11            0             0               1                 0   \n",
       "Gen No 12            0             0               1                 0   \n",
       "Gen No 13            0             0               1                 0   \n",
       "Gen No 14            0             0               1                 0   \n",
       "Gen No 15            0             0               1                 0   \n",
       "Gen No 16            0             0               1                 0   \n",
       "Gen No 17            0             0               1                 0   \n",
       "Gen No 18            0             0               1                 0   \n",
       "Gen No 19            0             0               1                 0   \n",
       "Gen No 20            0             0               1                 0   \n",
       "Gen No 21            0             0               1                 0   \n",
       "Gen No 22            0             0               1                 0   \n",
       "Gen No 23            0             0               1                 0   \n",
       "Gen No 24            0             0               1                 0   \n",
       "Gen No 25            0             0               1                 0   \n",
       "Gen No 26            0             0               1                 0   \n",
       "Gen No 27            0             0               1                 0   \n",
       "Gen No 28            0             0               1                 0   \n",
       "Gen No 29            0             0               1                 0   \n",
       "Gen No 30            0             0               1                 0   \n",
       "Gen No 31            0             0               1                 0   \n",
       "Gen No 32            0             0               1                 0   \n",
       "Gen No 33            0             0               1                 0   \n",
       "Gen No 34            0             0               1                 0   \n",
       "Gen No 35            0             0               1                 0   \n",
       "Gen No 36            0             0               1                 0   \n",
       "Gen No 37            0             0               1                 0   \n",
       "Gen No 38            0             0               1                 0   \n",
       "Gen No 39            0             0               1                 0   \n",
       "Gen No 40            0             0               1                 0   \n",
       "Gen No 41            0             0               1                 0   \n",
       "Gen No 42            0             0               1                 0   \n",
       "Gen No 43            0             0               1                 0   \n",
       "Gen No 44            0             0               1                 0   \n",
       "Gen No 45            0             0               1                 0   \n",
       "Gen No 46            0             0               1                 0   \n",
       "Gen No 47            0             0               1                 0   \n",
       "Gen No 48            0             0               1                 0   \n",
       "Gen No 49            0             0               1                 0   \n",
       "Gen No 50            0             0               1                 0   \n",
       "Gen No 51            0             0               1                 0   \n",
       "Gen No 52            0             0               1                 0   \n",
       "Gen No 53            0             0               1                 0   \n",
       "Gen No 54            0             0               1                 0   \n",
       "\n",
       "attribute  ramp_limit_up  ramp_limit_down  ramp_limit_start_up  \\\n",
       "Slack Gen            NaN              NaN                  1.0   \n",
       "Gen No 2             NaN              NaN                  1.0   \n",
       "Gen No 3             NaN              NaN                  1.0   \n",
       "Gen No 4             NaN              NaN                  1.0   \n",
       "Gen No 5             NaN              NaN                  1.0   \n",
       "Gen No 6             NaN              NaN                  1.0   \n",
       "Gen No 7             NaN              NaN                  1.0   \n",
       "Gen No 8             NaN              NaN                  1.0   \n",
       "Gen No 9             NaN              NaN                  1.0   \n",
       "Gen No 10            NaN              NaN                  1.0   \n",
       "Gen No 11            NaN              NaN                  1.0   \n",
       "Gen No 12            NaN              NaN                  1.0   \n",
       "Gen No 13            NaN              NaN                  1.0   \n",
       "Gen No 14            NaN              NaN                  1.0   \n",
       "Gen No 15            NaN              NaN                  1.0   \n",
       "Gen No 16            NaN              NaN                  1.0   \n",
       "Gen No 17            NaN              NaN                  1.0   \n",
       "Gen No 18            NaN              NaN                  1.0   \n",
       "Gen No 19            NaN              NaN                  1.0   \n",
       "Gen No 20            NaN              NaN                  1.0   \n",
       "Gen No 21            NaN              NaN                  1.0   \n",
       "Gen No 22            NaN              NaN                  1.0   \n",
       "Gen No 23            NaN              NaN                  1.0   \n",
       "Gen No 24            NaN              NaN                  1.0   \n",
       "Gen No 25            NaN              NaN                  1.0   \n",
       "Gen No 26            NaN              NaN                  1.0   \n",
       "Gen No 27            NaN              NaN                  1.0   \n",
       "Gen No 28            NaN              NaN                  1.0   \n",
       "Gen No 29            NaN              NaN                  1.0   \n",
       "Gen No 30            NaN              NaN                  1.0   \n",
       "Gen No 31            NaN              NaN                  1.0   \n",
       "Gen No 32            NaN              NaN                  1.0   \n",
       "Gen No 33            NaN              NaN                  1.0   \n",
       "Gen No 34            NaN              NaN                  1.0   \n",
       "Gen No 35            NaN              NaN                  1.0   \n",
       "Gen No 36            NaN              NaN                  1.0   \n",
       "Gen No 37            NaN              NaN                  1.0   \n",
       "Gen No 38            NaN              NaN                  1.0   \n",
       "Gen No 39            NaN              NaN                  1.0   \n",
       "Gen No 40            NaN              NaN                  1.0   \n",
       "Gen No 41            NaN              NaN                  1.0   \n",
       "Gen No 42            NaN              NaN                  1.0   \n",
       "Gen No 43            NaN              NaN                  1.0   \n",
       "Gen No 44            NaN              NaN                  1.0   \n",
       "Gen No 45            NaN              NaN                  1.0   \n",
       "Gen No 46            NaN              NaN                  1.0   \n",
       "Gen No 47            NaN              NaN                  1.0   \n",
       "Gen No 48            NaN              NaN                  1.0   \n",
       "Gen No 49            NaN              NaN                  1.0   \n",
       "Gen No 50            NaN              NaN                  1.0   \n",
       "Gen No 51            NaN              NaN                  1.0   \n",
       "Gen No 52            NaN              NaN                  1.0   \n",
       "Gen No 53            NaN              NaN                  1.0   \n",
       "Gen No 54            NaN              NaN                  1.0   \n",
       "\n",
       "attribute  ramp_limit_shut_down  p_nom_opt  \n",
       "Slack Gen                   1.0        0.0  \n",
       "Gen No 2                    1.0        0.0  \n",
       "Gen No 3                    1.0        0.0  \n",
       "Gen No 4                    1.0        0.0  \n",
       "Gen No 5                    1.0        0.0  \n",
       "Gen No 6                    1.0        0.0  \n",
       "Gen No 7                    1.0        0.0  \n",
       "Gen No 8                    1.0        0.0  \n",
       "Gen No 9                    1.0        0.0  \n",
       "Gen No 10                   1.0        0.0  \n",
       "Gen No 11                   1.0        0.0  \n",
       "Gen No 12                   1.0        0.0  \n",
       "Gen No 13                   1.0        0.0  \n",
       "Gen No 14                   1.0        0.0  \n",
       "Gen No 15                   1.0        0.0  \n",
       "Gen No 16                   1.0        0.0  \n",
       "Gen No 17                   1.0        0.0  \n",
       "Gen No 18                   1.0        0.0  \n",
       "Gen No 19                   1.0        0.0  \n",
       "Gen No 20                   1.0        0.0  \n",
       "Gen No 21                   1.0        0.0  \n",
       "Gen No 22                   1.0        0.0  \n",
       "Gen No 23                   1.0        0.0  \n",
       "Gen No 24                   1.0        0.0  \n",
       "Gen No 25                   1.0        0.0  \n",
       "Gen No 26                   1.0        0.0  \n",
       "Gen No 27                   1.0        0.0  \n",
       "Gen No 28                   1.0        0.0  \n",
       "Gen No 29                   1.0        0.0  \n",
       "Gen No 30                   1.0        0.0  \n",
       "Gen No 31                   1.0        0.0  \n",
       "Gen No 32                   1.0        0.0  \n",
       "Gen No 33                   1.0        0.0  \n",
       "Gen No 34                   1.0        0.0  \n",
       "Gen No 35                   1.0        0.0  \n",
       "Gen No 36                   1.0        0.0  \n",
       "Gen No 37                   1.0        0.0  \n",
       "Gen No 38                   1.0        0.0  \n",
       "Gen No 39                   1.0        0.0  \n",
       "Gen No 40                   1.0        0.0  \n",
       "Gen No 41                   1.0        0.0  \n",
       "Gen No 42                   1.0        0.0  \n",
       "Gen No 43                   1.0        0.0  \n",
       "Gen No 44                   1.0        0.0  \n",
       "Gen No 45                   1.0        0.0  \n",
       "Gen No 46                   1.0        0.0  \n",
       "Gen No 47                   1.0        0.0  \n",
       "Gen No 48                   1.0        0.0  \n",
       "Gen No 49                   1.0        0.0  \n",
       "Gen No 50                   1.0        0.0  \n",
       "Gen No 51                   1.0        0.0  \n",
       "Gen No 52                   1.0        0.0  \n",
       "Gen No 53                   1.0        0.0  \n",
       "Gen No 54                   1.0        0.0  \n",
       "\n",
       "[54 rows x 30 columns]"
      ]
     },
     "execution_count": 22,
     "metadata": {},
     "output_type": "execute_result"
    }
   ],
   "source": [
    "for i in range(1,54):\n",
    "    network.add(\"Generator\",\"Gen No {}\".format(i+1),bus=\"Bus No {}\".format(gen_data['bus no'][i]),p_set=gen_data['p_set'][i],control=\"PV\")\n",
    "    \n",
    "network.generators"
   ]
  },
  {
   "cell_type": "code",
   "execution_count": 23,
   "metadata": {
    "extensions": {
     "jupyter_dashboards": {
      "version": 1,
      "views": {
       "grid_default": {},
       "report_default": {}
      }
     }
    }
   },
   "outputs": [
    {
     "data": {
      "text/html": [
       "<div>\n",
       "<style scoped>\n",
       "    .dataframe tbody tr th:only-of-type {\n",
       "        vertical-align: middle;\n",
       "    }\n",
       "\n",
       "    .dataframe tbody tr th {\n",
       "        vertical-align: top;\n",
       "    }\n",
       "\n",
       "    .dataframe thead th {\n",
       "        text-align: right;\n",
       "    }\n",
       "</style>\n",
       "<table border=\"1\" class=\"dataframe\">\n",
       "  <thead>\n",
       "    <tr style=\"text-align: right;\">\n",
       "      <th>attribute</th>\n",
       "      <th>bus</th>\n",
       "      <th>carrier</th>\n",
       "      <th>type</th>\n",
       "      <th>p_set</th>\n",
       "      <th>q_set</th>\n",
       "      <th>sign</th>\n",
       "    </tr>\n",
       "  </thead>\n",
       "  <tbody>\n",
       "    <tr>\n",
       "      <th>Load No 15</th>\n",
       "      <td>Bus No 1</td>\n",
       "      <td></td>\n",
       "      <td></td>\n",
       "      <td>541.4</td>\n",
       "      <td>86.6</td>\n",
       "      <td>-1.0</td>\n",
       "    </tr>\n",
       "    <tr>\n",
       "      <th>Load No 16</th>\n",
       "      <td>Bus No 3</td>\n",
       "      <td></td>\n",
       "      <td></td>\n",
       "      <td>414.0</td>\n",
       "      <td>106.2</td>\n",
       "      <td>-1.0</td>\n",
       "    </tr>\n",
       "    <tr>\n",
       "      <th>Load No 17</th>\n",
       "      <td>Bus No 2</td>\n",
       "      <td></td>\n",
       "      <td></td>\n",
       "      <td>212.3</td>\n",
       "      <td>95.5</td>\n",
       "      <td>-1.0</td>\n",
       "    </tr>\n",
       "    <tr>\n",
       "      <th>Load No 18</th>\n",
       "      <td>Bus No 117</td>\n",
       "      <td></td>\n",
       "      <td></td>\n",
       "      <td>212.3</td>\n",
       "      <td>84.9</td>\n",
       "      <td>-1.0</td>\n",
       "    </tr>\n",
       "    <tr>\n",
       "      <th>Load No 19</th>\n",
       "      <td>Bus No 12</td>\n",
       "      <td></td>\n",
       "      <td></td>\n",
       "      <td>498.9</td>\n",
       "      <td>106.2</td>\n",
       "      <td>-1.0</td>\n",
       "    </tr>\n",
       "    <tr>\n",
       "      <th>Load No 20</th>\n",
       "      <td>Bus No 11</td>\n",
       "      <td></td>\n",
       "      <td></td>\n",
       "      <td>743.1</td>\n",
       "      <td>244.2</td>\n",
       "      <td>-1.0</td>\n",
       "    </tr>\n",
       "    <tr>\n",
       "      <th>Load No 21</th>\n",
       "      <td>Bus No 16</td>\n",
       "      <td></td>\n",
       "      <td></td>\n",
       "      <td>265.4</td>\n",
       "      <td>106.2</td>\n",
       "      <td>-1.0</td>\n",
       "    </tr>\n",
       "    <tr>\n",
       "      <th>Load No 22</th>\n",
       "      <td>Bus No 18</td>\n",
       "      <td></td>\n",
       "      <td></td>\n",
       "      <td>636.9</td>\n",
       "      <td>360.9</td>\n",
       "      <td>-1.0</td>\n",
       "    </tr>\n",
       "    <tr>\n",
       "      <th>Load No 23</th>\n",
       "      <td>Bus No 20</td>\n",
       "      <td></td>\n",
       "      <td></td>\n",
       "      <td>191.1</td>\n",
       "      <td>31.8</td>\n",
       "      <td>-1.0</td>\n",
       "    </tr>\n",
       "    <tr>\n",
       "      <th>Load No 24</th>\n",
       "      <td>Bus No 21</td>\n",
       "      <td></td>\n",
       "      <td></td>\n",
       "      <td>148.6</td>\n",
       "      <td>84.9</td>\n",
       "      <td>-1.0</td>\n",
       "    </tr>\n",
       "    <tr>\n",
       "      <th>Load No 25</th>\n",
       "      <td>Bus No 22</td>\n",
       "      <td></td>\n",
       "      <td></td>\n",
       "      <td>106.2</td>\n",
       "      <td>53.1</td>\n",
       "      <td>-1.0</td>\n",
       "    </tr>\n",
       "    <tr>\n",
       "      <th>Load No 26</th>\n",
       "      <td>Bus No 23</td>\n",
       "      <td></td>\n",
       "      <td></td>\n",
       "      <td>74.3</td>\n",
       "      <td>31.8</td>\n",
       "      <td>-1.0</td>\n",
       "    </tr>\n",
       "    <tr>\n",
       "      <th>Load No 27</th>\n",
       "      <td>Bus No 70</td>\n",
       "      <td></td>\n",
       "      <td></td>\n",
       "      <td>660.0</td>\n",
       "      <td>200.0</td>\n",
       "      <td>-1.0</td>\n",
       "    </tr>\n",
       "    <tr>\n",
       "      <th>Load No 28</th>\n",
       "      <td>Bus No 74</td>\n",
       "      <td></td>\n",
       "      <td></td>\n",
       "      <td>680.0</td>\n",
       "      <td>270.0</td>\n",
       "      <td>-1.0</td>\n",
       "    </tr>\n",
       "    <tr>\n",
       "      <th>Load No 29</th>\n",
       "      <td>Bus No 75</td>\n",
       "      <td></td>\n",
       "      <td></td>\n",
       "      <td>470.0</td>\n",
       "      <td>110.0</td>\n",
       "      <td>-1.0</td>\n",
       "    </tr>\n",
       "    <tr>\n",
       "      <th>Load No 30</th>\n",
       "      <td>Bus No 118</td>\n",
       "      <td></td>\n",
       "      <td></td>\n",
       "      <td>330.0</td>\n",
       "      <td>150.0</td>\n",
       "      <td>-1.0</td>\n",
       "    </tr>\n",
       "    <tr>\n",
       "      <th>Load No 31</th>\n",
       "      <td>Bus No 76</td>\n",
       "      <td></td>\n",
       "      <td></td>\n",
       "      <td>680.0</td>\n",
       "      <td>360.0</td>\n",
       "      <td>-1.0</td>\n",
       "    </tr>\n",
       "    <tr>\n",
       "      <th>Load No 32</th>\n",
       "      <td>Bus No 78</td>\n",
       "      <td></td>\n",
       "      <td></td>\n",
       "      <td>710.0</td>\n",
       "      <td>260.0</td>\n",
       "      <td>-1.0</td>\n",
       "    </tr>\n",
       "    <tr>\n",
       "      <th>Load No 33</th>\n",
       "      <td>Bus No 79</td>\n",
       "      <td></td>\n",
       "      <td></td>\n",
       "      <td>390.0</td>\n",
       "      <td>320.0</td>\n",
       "      <td>-1.0</td>\n",
       "    </tr>\n",
       "  </tbody>\n",
       "</table>\n",
       "</div>"
      ],
      "text/plain": [
       "attribute          bus carrier type  p_set  q_set  sign\n",
       "Load No 15    Bus No 1               541.4   86.6  -1.0\n",
       "Load No 16    Bus No 3               414.0  106.2  -1.0\n",
       "Load No 17    Bus No 2               212.3   95.5  -1.0\n",
       "Load No 18  Bus No 117               212.3   84.9  -1.0\n",
       "Load No 19   Bus No 12               498.9  106.2  -1.0\n",
       "Load No 20   Bus No 11               743.1  244.2  -1.0\n",
       "Load No 21   Bus No 16               265.4  106.2  -1.0\n",
       "Load No 22   Bus No 18               636.9  360.9  -1.0\n",
       "Load No 23   Bus No 20               191.1   31.8  -1.0\n",
       "Load No 24   Bus No 21               148.6   84.9  -1.0\n",
       "Load No 25   Bus No 22               106.2   53.1  -1.0\n",
       "Load No 26   Bus No 23                74.3   31.8  -1.0\n",
       "Load No 27   Bus No 70               660.0  200.0  -1.0\n",
       "Load No 28   Bus No 74               680.0  270.0  -1.0\n",
       "Load No 29   Bus No 75               470.0  110.0  -1.0\n",
       "Load No 30  Bus No 118               330.0  150.0  -1.0\n",
       "Load No 31   Bus No 76               680.0  360.0  -1.0\n",
       "Load No 32   Bus No 78               710.0  260.0  -1.0\n",
       "Load No 33   Bus No 79               390.0  320.0  -1.0"
      ]
     },
     "execution_count": 23,
     "metadata": {},
     "output_type": "execute_result"
    }
   ],
   "source": [
    "load_data=pd.read_excel(\"load data.xlsx\")\n",
    "o=15\n",
    "for i in range(19):\n",
    "    network.add(\"Load\",\"Load No {}\".format(o),bus=\"Bus No {}\".format(load_data['Bus'][i]),p_set=load_data['P'][i],q_set=load_data['Q'][i])\n",
    "    o+=1\n",
    "network.loads"
   ]
  },
  {
   "cell_type": "code",
   "execution_count": 24,
   "metadata": {
    "extensions": {
     "jupyter_dashboards": {
      "version": 1,
      "views": {
       "grid_default": {},
       "report_default": {}
      }
     }
    }
   },
   "outputs": [],
   "source": [
    "def capFCS(j,zdata):\n",
    "    z=1\n",
    "    sum1=0\n",
    "    while(z<=180):\n",
    "        var=0\n",
    "        if(zdata['st'][z-1]==j):\n",
    "            var=1\n",
    "        sum1+=(0.1*zonexy['zone'][z-1]*var)\n",
    "        z+=1\n",
    "    return sum1*96\n",
    "    \n",
    "    "
   ]
  },
  {
   "cell_type": "code",
   "execution_count": 25,
   "metadata": {
    "extensions": {
     "jupyter_dashboards": {
      "version": 1,
      "views": {
       "grid_default": {},
       "report_default": {}
      }
     }
    }
   },
   "outputs": [],
   "source": [
    "def f2(x):\n",
    "    xylis=[]\n",
    "    print(x)\n",
    "    for busno in x:\n",
    "        xbus=busxy['x'][busno-1]\n",
    "        ybus=busxy['y'][busno-1]\n",
    "        xylis.append([xbus,ybus])\n",
    "    print(xylis)\n",
    "    zdata=pd.read_excel(\"xy.xlsx\",sheet_name=\"Sheet3\")\n",
    "    for j in range(1,181):\n",
    "\n",
    "        dist=100000000\n",
    "        h=0\n",
    "        \n",
    "        for i in xylis:\n",
    "            x1=zonexy['x'][j-1]\n",
    "            x2=i[0]\n",
    "            y1=zonexy['y'][j-1]\n",
    "            y2=i[1]\n",
    "\n",
    "            dist1=np.sqrt((x2-x1)**2 + (y2-y1)**2)\n",
    "            if(dist1<dist):\n",
    "                dist=dist1\n",
    "                h=(xylis.index(i))+1\n",
    "\n",
    "        df2 = {'st': h, 'zone':j}\n",
    "        zdata = zdata.append(df2, ignore_index = True)\n",
    "        k=1\n",
    "       \n",
    "    for i in x:\n",
    "        network.add(\"Load\",\"Load No {}\".format(k),bus = \"Bus No {}\".format(i),p_set=capFCS(k,zdata),q_set=200)\n",
    "        k+=1\n",
    "    network.pf()\n",
    "    df1=network.buses_t.v_mag_pu\n",
    "    mini=100000000000\n",
    "    for i in range(118):\n",
    "        if(df1.iloc[0][i]<mini):\n",
    "            mini=df1.iloc[0][i]\n",
    "    vdev=1-mini\n",
    "    for i in range(1,7):\n",
    "        network.remove(\"Load\",\"Load No {}\".format(i))\n",
    "    return vdev*100"
   ]
  },
  {
   "cell_type": "code",
   "execution_count": 34,
   "metadata": {
    "extensions": {
     "jupyter_dashboards": {
      "version": 1,
      "views": {
       "grid_default": {},
       "report_default": {}
      }
     }
    }
   },
   "outputs": [],
   "source": [
    "def f3(x):\n",
    "    xylis=[]\n",
    "    \n",
    "    for busno in x:\n",
    "        xbus=busxy['x'][busno-1]\n",
    "        ybus=busxy['y'][busno-1]\n",
    "        xylis.append([xbus,ybus])\n",
    "    \n",
    "    zdata=pd.read_excel(\"xy.xlsx\",sheet_name=\"Sheet3\")\n",
    "    for j in range(1,181):\n",
    "\n",
    "        dist=100000000\n",
    "        h=0\n",
    "        \n",
    "        for i in xylis:\n",
    "            x1=zonexy['x'][j-1]\n",
    "            x2=i[0]\n",
    "            y1=zonexy['y'][j-1]\n",
    "            y2=i[1]\n",
    "\n",
    "            dist1=np.sqrt((x2-x1)**2 + (y2-y1)**2)\n",
    "            if(dist1<dist):\n",
    "                dist=dist1\n",
    "                h=(xylis.index(i))+1\n",
    "\n",
    "        df2 = {'st': h, 'zone':j}\n",
    "        zdata = zdata.append(df2, ignore_index = True)\n",
    "        k=1\n",
    "       \n",
    "    for i in x:\n",
    "        network.add(\"Load\",\"Load No {}\".format(k),bus = \"Bus No {}\".format(i),p_set=capFCS(k,zdata),q_set=200)\n",
    "        k+=1\n",
    "    network.pf()\n",
    "    df3 = network.lines_t\n",
    "    nploss=0\n",
    "    for i in range(186):\n",
    "        nploss+=(df3.p0.iloc[0][i]+df3.p1.iloc[0][i])\n",
    "    \n",
    "    for i in range(1,7):\n",
    "        network.remove(\"Load\",\"Load No {}\".format(i)) \n",
    "        \n",
    "    return abs(nploss*250.57)\n",
    "        "
   ]
  },
  {
   "cell_type": "code",
   "execution_count": 35,
   "metadata": {
    "extensions": {
     "jupyter_dashboards": {
      "version": 1,
      "views": {
       "grid_default": {},
       "report_default": {}
      }
     }
    }
   },
   "outputs": [],
   "source": [
    "def evucnew(z,xylis):                           ##Function to calculate EVUC\n",
    "    vals=0\n",
    "    j=zdata[\"st\"][z-1]\n",
    "    x1=zonexy['x'][z-1]\n",
    "    x2=xylis[j-1][0]\n",
    "    y1=zonexy['y'][z-1]\n",
    "    y2=xylis[j-1][1]\n",
    "    dist1=np.sqrt((x2-x1)**2 + (y2-y1)**2)\n",
    "    \n",
    "    vals+=(dist1)*0.142*4*0.98*zonexy['zone'][z-1]*87.7\n",
    "    \n",
    "    return vals/20"
   ]
  },
  {
   "cell_type": "code",
   "execution_count": 37,
   "metadata": {},
   "outputs": [],
   "source": [
    "def solver(position,swarm_size,list_of_functions):\n",
    "    \n",
    "    for i in range(0, swarm_size):\n",
    "        xylis=[]\n",
    "\n",
    "\n",
    "        x=list(position[i,0:position.shape[1]-len(list_of_functions)])\n",
    "        x=[int(u) for u in x ]\n",
    "        print(x)\n",
    "        for busno in x:\n",
    "            xbus=busxy['x'][busno-1]\n",
    "            ybus=busxy['y'][busno-1]\n",
    "            xylis.append([xbus,ybus])\n",
    "\n",
    "        zdata=pd.read_excel(\"xy.xlsx\",sheet_name=\"Sheet3\")\n",
    "        for j in range(1,181):\n",
    "\n",
    "            dist=100000000\n",
    "            h=0\n",
    "\n",
    "            for si in xylis:\n",
    "                x1=zonexy['x'][j-1]\n",
    "                x2=si[0]\n",
    "                y1=zonexy['y'][j-1]\n",
    "                y2=si[1]\n",
    "\n",
    "                dist1=np.sqrt((x2-x1)**2 + (y2-y1)**2)\n",
    "                if(dist1<dist):\n",
    "                    dist=dist1\n",
    "                    h=(xylis.index(si))+1\n",
    "\n",
    "            df2 = {'st': h, 'zone':j}\n",
    "            zdata = zdata.append(df2, ignore_index = True)\n",
    "\n",
    "        r=1\n",
    "        for s in x:\n",
    "            network.add(\"Load\",\"Load No {}\".format(r),bus = \"Bus No {}\".format(s),p_set=capFCS(r,zdata),q_set=200)\n",
    "            r+=1\n",
    "        network.pf()\n",
    "        df3 = network\n",
    "\n",
    "        for k in range (1, len(list_of_functions) + 1):\n",
    "\n",
    "            position[i,-k] = list_of_functions[-k](list(position[i,0:position.shape[1]-len(list_of_functions)]),zdata,xylis,df3)\n",
    "    return position \n"
   ]
  },
  {
   "cell_type": "code",
   "execution_count": 38,
   "metadata": {
    "extensions": {
     "jupyter_dashboards": {
      "version": 1,
      "views": {
       "grid_default": {},
       "report_default": {}
      }
     }
    }
   },
   "outputs": [],
   "source": [
    "# Function: Initialize Variables\n",
    "def initial_population(swarm_size = 5, min_values = [-5,-5], max_values = [5,5], list_of_functions = []):\n",
    "    position = np.zeros((swarm_size, len(min_values) + len(list_of_functions)))\n",
    "    for i in range(0, swarm_size):\n",
    "        varran=[x for x in range(1,119)]\n",
    "        \n",
    "        ifeat = random.sample(varran,6)\n",
    "        for j in range(0,len(min_values)):\n",
    "            position[i,j]=ifeat[j]\n",
    "            \n",
    "                \n",
    "        xylis=[]\n",
    "            \n",
    "            \n",
    "        x=list(position[i,0:position.shape[1]-len(list_of_functions)])\n",
    "        x=[int(i) for i in x ]\n",
    "        print(x)\n",
    "        for busno in x:\n",
    "            xbus=busxy['x'][busno-1]\n",
    "            ybus=busxy['y'][busno-1]\n",
    "            xylis.append([xbus,ybus])\n",
    "\n",
    "        zdata=pd.read_excel(\"xy.xlsx\",sheet_name=\"Sheet3\")\n",
    "        for dj in range(1,181):\n",
    "\n",
    "            dist=100000000\n",
    "            h=0\n",
    "\n",
    "            for si in xylis:\n",
    "                x1=zonexy['x'][dj-1]\n",
    "                x2=si[0]\n",
    "                y1=zonexy['y'][dj-1]\n",
    "                y2=si[1]\n",
    "\n",
    "                dist1=np.sqrt((x2-x1)**2 + (y2-y1)**2)\n",
    "                if(dist1<dist):\n",
    "                    dist=dist1\n",
    "                    h=(xylis.index(si))+1\n",
    "\n",
    "            df2 = {'st': h, 'zone':dj}\n",
    "            zdata = zdata.append(df2, ignore_index = True)\n",
    "\n",
    "        r=1\n",
    "        for s in x:\n",
    "            network.add(\"Load\",\"Load No {}\".format(r),bus = \"Bus No {}\".format(s),p_set=capFCS(r,zdata),q_set=200)\n",
    "            r+=1\n",
    "        network.pf()\n",
    "        df3 = network\n",
    "                \n",
    "        for k in range (1, len(list_of_functions) + 1):\n",
    "            \n",
    "            posxval = list_of_functions[-k](list(position[i,0:position.shape[1]-len(list_of_functions)]),zdata,xylis,df3)\n",
    "            #print(posxval)\n",
    "            position[i,-k]=posxval\n",
    "    return position \n",
    "\n",
    "\n",
    "# Function: Fast Non-Dominated Sorting\n",
    "def fast_non_dominated_sorting(population, number_of_functions = 2):\n",
    "    S     = [[] for i in range(0, population.shape[0])]\n",
    "    front = [[]]\n",
    "    n     = [0 for i in range(0, population.shape[0])]\n",
    "    rank  = [0 for i in range(0, population.shape[0])]\n",
    "    for p in range(0, population.shape[0]):\n",
    "        S[p] = []\n",
    "        n[p] = 0\n",
    "        for q in range(0, population.shape[0]):\n",
    "            if ((population[p,-number_of_functions:] <= population[q,-number_of_functions:]).all()):\n",
    "                if (q not in S[p]):\n",
    "                    S[p].append(q)\n",
    "            elif ((population[q,-number_of_functions:] <= population[p,-number_of_functions:]).all()):\n",
    "                n[p] = n[p] + 1\n",
    "        if (n[p] == 0):\n",
    "            rank[p] = 0\n",
    "            if (p not in front[0]):\n",
    "                front[0].append(p)\n",
    "    i = 0\n",
    "    while (front[i] != []):\n",
    "        Q = []\n",
    "        for p in front[i]:\n",
    "            for q in S[p]:\n",
    "                n[q] = n[q] - 1\n",
    "                if(n[q] == 0):\n",
    "                    rank[q] = i+1\n",
    "                    if q not in Q:\n",
    "                        Q.append(q)\n",
    "        i = i+1\n",
    "        front.append(Q)\n",
    "    del front[len(front)-1]\n",
    "    rank = np.zeros((population.shape[0], 1))\n",
    "    for i in range(0, len(front)):\n",
    "        for j in range(0, len(front[i])):\n",
    "            rank[front[i][j], 0] = i + 1\n",
    "    return rank\n",
    "\n",
    "# Function: Sort Population by Rank\n",
    "def sort_population_by_rank(population, rank):\n",
    "    idx        = np.argsort(rank[:,0], axis = 0).tolist()\n",
    "    rank       = rank[idx,:]\n",
    "    population = population[idx,:]\n",
    "    return population, rank\n",
    "\n",
    "# Function: Mutation\n",
    "def mutation(population, eta = 1, min_values = [-5,-5], max_values = [5,5], list_of_functions = []):\n",
    "    d_mutation    = 0\n",
    "    mutation_rate = 2\n",
    "    offspring     = np.copy(population)         \n",
    "    for i in range (0, offspring.shape[0]):\n",
    "        xylis=[]\n",
    "        x=list(offspring[i,0:offspring.shape[1]-len(list_of_functions)])\n",
    "\n",
    "        x=[int(u) for u in x ]\n",
    "        print(x)\n",
    "        if(0 in x):\n",
    "                ind=x.index(0)\n",
    "                x[ind]=1\n",
    "        for busno in x:\n",
    "            xbus=busxy['x'][busno-1]\n",
    "            ybus=busxy['y'][busno-1]\n",
    "            xylis.append([xbus,ybus])\n",
    "\n",
    "        zdata=pd.read_excel(\"xy.xlsx\",sheet_name=\"Sheet3\")\n",
    "        for j in range(1,181):\n",
    "\n",
    "            dist=100000000\n",
    "            h=0\n",
    "\n",
    "            for st in xylis:\n",
    "                x1=zonexy['x'][j-1]\n",
    "                x2=st[0]\n",
    "                y1=zonexy['y'][j-1]\n",
    "                y2=st[1]\n",
    "\n",
    "                dist1=np.sqrt((x2-x1)**2 + (y2-y1)**2)\n",
    "                if(dist1<dist):\n",
    "                    dist=dist1\n",
    "                    h=(xylis.index(st))+1\n",
    "\n",
    "            df2 = {'st': h, 'zone':j}\n",
    "            zdata = zdata.append(df2, ignore_index = True)\n",
    "\n",
    "        r=1\n",
    "        for s in x:\n",
    "            network.add(\"Load\",\"Load No {}\".format(r),bus = \"Bus No {}\".format(s),p_set=capFCS(r,zdata),q_set=200)\n",
    "            r+=1\n",
    "        network.pf()\n",
    "        df3 = network\n",
    "        for j in range(0, offspring.shape[1] - len(list_of_functions)):\n",
    "            probability = int.from_bytes(os.urandom(8), byteorder = \"big\") / ((1 << 64) - 1)\n",
    "            if (probability < mutation_rate):\n",
    "                rand   = int.from_bytes(os.urandom(8), byteorder = \"big\") / ((1 << 64) - 1)\n",
    "                rand_d = int.from_bytes(os.urandom(8), byteorder = \"big\") / ((1 << 64) - 1)                                     \n",
    "                if (rand <= 0.5):\n",
    "                    d_mutation = 2*(rand_d)\n",
    "                    d_mutation = d_mutation**(1/(eta + 1)) - 1\n",
    "                elif (rand > 0.5):  \n",
    "                    d_mutation = 2*(1 - rand_d)\n",
    "                    d_mutation = 1 - d_mutation**(1/(eta + 1))                \n",
    "                posval = (offspring[i,j] + d_mutation)\n",
    "                if(posval==0):\n",
    "                    posval=1\n",
    "                if(posval!=118):\n",
    "                    posval=posval%118\n",
    "                offspring[i,j]=posval                        \n",
    "        for k in range (1, len(list_of_functions) + 1):\n",
    "            offspring[i,-k] = list_of_functions[-k](offspring[i,0:offspring.shape[1]-len(list_of_functions)],zdata,xylis,df3)\n",
    "    return offspring\n",
    "\n",
    "############################################################################\n",
    "\n",
    "# PAES Function\n",
    "def pareto_archived_evolution_strategy(population_size = 5, min_values = [-5,-5], max_values = [5,5], list_of_functions = [], generations = 50, eta = 1):     \n",
    "    count         = 0\n",
    "    M             = len(list_of_functions)\n",
    "    population    = initial_population(population_size, min_values, max_values, list_of_functions)  \n",
    "    offspring     = mutation(population, eta, min_values, max_values, list_of_functions) \n",
    "    while (count <= generations):       \n",
    "        print('Generation = ', count)\n",
    "        population = np.vstack([population, offspring])\n",
    "        rank       = fast_non_dominated_sorting(population, number_of_functions = M)\n",
    "        population,rank = sort_population_by_rank(population, rank)\n",
    "        population = population[0:population_size,:]\n",
    "        offspring  = mutation(population, eta, min_values, max_values, list_of_functions)  \n",
    "        count      = count + 1              \n",
    "    return population"
   ]
  },
  {
   "cell_type": "code",
   "execution_count": 39,
   "metadata": {},
   "outputs": [],
   "source": [
    "import math\n",
    " \n",
    "def minimax (curDepth, nodeIndex,\n",
    "             maxTurn, scores,\n",
    "             targetDepth):\n",
    " \n",
    "    # base case : targetDepth reached\n",
    "    if (curDepth == targetDepth):\n",
    "        return scores[nodeIndex]\n",
    "     \n",
    "    if (maxTurn):\n",
    "        return max(minimax(curDepth + 1, nodeIndex * 2,\n",
    "                    False, scores, targetDepth),\n",
    "                   minimax(curDepth + 1, nodeIndex * 2 + 1,\n",
    "                    False, scores, targetDepth))\n",
    "     \n",
    "    else:\n",
    "        return min(minimax(curDepth + 1, nodeIndex * 2,\n",
    "                     True, scores, targetDepth),\n",
    "                   minimax(curDepth + 1, nodeIndex * 2 + 1,\n",
    "                     True, scores, targetDepth))\n",
    "     \n",
    "# Driver code\n"
   ]
  },
  {
   "cell_type": "markdown",
   "metadata": {},
   "source": [
    "##  CASE 1"
   ]
  },
  {
   "cell_type": "code",
   "execution_count": 40,
   "metadata": {},
   "outputs": [],
   "source": [
    "from termcolor import colored"
   ]
  },
  {
   "cell_type": "code",
   "execution_count": 42,
   "metadata": {
    "scrolled": true
   },
   "outputs": [
    {
     "name": "stdout",
     "output_type": "stream",
     "text": [
      "[22, 12, 26, 85, 103, 29]\n"
     ]
    },
    {
     "name": "stderr",
     "output_type": "stream",
     "text": [
      "INFO:pypsa.pf:Performing non-linear load-flow on AC sub-network SubNetwork 0 for snapshots Index(['now'], dtype='object')\n",
      "INFO:pypsa.pf:Newton-Raphson solved in 4 iterations with error of 0.000000 in 0.055985 seconds\n"
     ]
    },
    {
     "name": "stdout",
     "output_type": "stream",
     "text": [
      "[78, 39, 55, 67, 117, 81]\n"
     ]
    },
    {
     "name": "stderr",
     "output_type": "stream",
     "text": [
      "INFO:pypsa.pf:Performing non-linear load-flow on AC sub-network SubNetwork 0 for snapshots Index(['now'], dtype='object')\n",
      "INFO:pypsa.pf:Newton-Raphson solved in 4 iterations with error of 0.000000 in 0.059998 seconds\n"
     ]
    },
    {
     "name": "stdout",
     "output_type": "stream",
     "text": [
      "[55, 93, 22, 52, 77, 18]\n"
     ]
    },
    {
     "name": "stderr",
     "output_type": "stream",
     "text": [
      "INFO:pypsa.pf:Performing non-linear load-flow on AC sub-network SubNetwork 0 for snapshots Index(['now'], dtype='object')\n",
      "INFO:pypsa.pf:Newton-Raphson solved in 4 iterations with error of 0.000000 in 0.054103 seconds\n"
     ]
    },
    {
     "name": "stdout",
     "output_type": "stream",
     "text": [
      "[65, 4, 107, 59, 29, 34]\n"
     ]
    },
    {
     "name": "stderr",
     "output_type": "stream",
     "text": [
      "INFO:pypsa.pf:Performing non-linear load-flow on AC sub-network SubNetwork 0 for snapshots Index(['now'], dtype='object')\n",
      "INFO:pypsa.pf:Newton-Raphson solved in 4 iterations with error of 0.000000 in 0.050000 seconds\n"
     ]
    },
    {
     "name": "stdout",
     "output_type": "stream",
     "text": [
      "[28, 95, 88, 66, 11, 42]\n"
     ]
    },
    {
     "name": "stderr",
     "output_type": "stream",
     "text": [
      "INFO:pypsa.pf:Performing non-linear load-flow on AC sub-network SubNetwork 0 for snapshots Index(['now'], dtype='object')\n",
      "INFO:pypsa.pf:Newton-Raphson solved in 4 iterations with error of 0.000000 in 0.060003 seconds\n"
     ]
    },
    {
     "name": "stdout",
     "output_type": "stream",
     "text": [
      "[22, 12, 26, 85, 103, 29]\n"
     ]
    },
    {
     "name": "stderr",
     "output_type": "stream",
     "text": [
      "INFO:pypsa.pf:Performing non-linear load-flow on AC sub-network SubNetwork 0 for snapshots Index(['now'], dtype='object')\n",
      "INFO:pypsa.pf:Newton-Raphson solved in 4 iterations with error of 0.000000 in 0.042312 seconds\n"
     ]
    },
    {
     "name": "stdout",
     "output_type": "stream",
     "text": [
      "[78, 39, 55, 67, 117, 81]\n"
     ]
    },
    {
     "name": "stderr",
     "output_type": "stream",
     "text": [
      "INFO:pypsa.pf:Performing non-linear load-flow on AC sub-network SubNetwork 0 for snapshots Index(['now'], dtype='object')\n",
      "INFO:pypsa.pf:Newton-Raphson solved in 4 iterations with error of 0.000000 in 0.067719 seconds\n"
     ]
    },
    {
     "name": "stdout",
     "output_type": "stream",
     "text": [
      "[55, 93, 22, 52, 77, 18]\n"
     ]
    },
    {
     "name": "stderr",
     "output_type": "stream",
     "text": [
      "INFO:pypsa.pf:Performing non-linear load-flow on AC sub-network SubNetwork 0 for snapshots Index(['now'], dtype='object')\n",
      "INFO:pypsa.pf:Newton-Raphson solved in 4 iterations with error of 0.000000 in 0.072030 seconds\n"
     ]
    },
    {
     "name": "stdout",
     "output_type": "stream",
     "text": [
      "[65, 4, 107, 59, 29, 34]\n"
     ]
    },
    {
     "name": "stderr",
     "output_type": "stream",
     "text": [
      "INFO:pypsa.pf:Performing non-linear load-flow on AC sub-network SubNetwork 0 for snapshots Index(['now'], dtype='object')\n",
      "INFO:pypsa.pf:Newton-Raphson solved in 4 iterations with error of 0.000000 in 0.072007 seconds\n"
     ]
    },
    {
     "name": "stdout",
     "output_type": "stream",
     "text": [
      "[28, 95, 88, 66, 11, 42]\n"
     ]
    },
    {
     "name": "stderr",
     "output_type": "stream",
     "text": [
      "INFO:pypsa.pf:Performing non-linear load-flow on AC sub-network SubNetwork 0 for snapshots Index(['now'], dtype='object')\n",
      "INFO:pypsa.pf:Newton-Raphson solved in 4 iterations with error of 0.000000 in 0.046749 seconds\n"
     ]
    },
    {
     "name": "stdout",
     "output_type": "stream",
     "text": [
      "Generation =  0\n",
      "[78, 39, 55, 67, 117, 81]\n"
     ]
    },
    {
     "name": "stderr",
     "output_type": "stream",
     "text": [
      "INFO:pypsa.pf:Performing non-linear load-flow on AC sub-network SubNetwork 0 for snapshots Index(['now'], dtype='object')\n",
      "INFO:pypsa.pf:Newton-Raphson solved in 4 iterations with error of 0.000000 in 0.050071 seconds\n"
     ]
    },
    {
     "name": "stdout",
     "output_type": "stream",
     "text": [
      "[77, 39, 54, 67, 116, 80]\n"
     ]
    },
    {
     "name": "stderr",
     "output_type": "stream",
     "text": [
      "INFO:pypsa.pf:Performing non-linear load-flow on AC sub-network SubNetwork 0 for snapshots Index(['now'], dtype='object')\n",
      "INFO:pypsa.pf:Newton-Raphson solved in 4 iterations with error of 0.000000 in 0.050001 seconds\n"
     ]
    },
    {
     "name": "stdout",
     "output_type": "stream",
     "text": [
      "[22, 12, 26, 85, 103, 29]\n"
     ]
    },
    {
     "name": "stderr",
     "output_type": "stream",
     "text": [
      "INFO:pypsa.pf:Performing non-linear load-flow on AC sub-network SubNetwork 0 for snapshots Index(['now'], dtype='object')\n",
      "INFO:pypsa.pf:Newton-Raphson solved in 4 iterations with error of 0.000000 in 0.059964 seconds\n"
     ]
    },
    {
     "name": "stdout",
     "output_type": "stream",
     "text": [
      "[28, 95, 88, 66, 11, 42]\n"
     ]
    },
    {
     "name": "stderr",
     "output_type": "stream",
     "text": [
      "INFO:pypsa.pf:Performing non-linear load-flow on AC sub-network SubNetwork 0 for snapshots Index(['now'], dtype='object')\n",
      "INFO:pypsa.pf:Newton-Raphson solved in 4 iterations with error of 0.000000 in 0.048046 seconds\n"
     ]
    },
    {
     "name": "stdout",
     "output_type": "stream",
     "text": [
      "[21, 11, 26, 84, 102, 28]\n"
     ]
    },
    {
     "name": "stderr",
     "output_type": "stream",
     "text": [
      "INFO:pypsa.pf:Performing non-linear load-flow on AC sub-network SubNetwork 0 for snapshots Index(['now'], dtype='object')\n",
      "INFO:pypsa.pf:Newton-Raphson solved in 4 iterations with error of 0.000000 in 0.052370 seconds\n"
     ]
    },
    {
     "name": "stdout",
     "output_type": "stream",
     "text": [
      "Generation =  1\n",
      "[78, 39, 55, 67, 117, 81]\n"
     ]
    },
    {
     "name": "stderr",
     "output_type": "stream",
     "text": [
      "INFO:pypsa.pf:Performing non-linear load-flow on AC sub-network SubNetwork 0 for snapshots Index(['now'], dtype='object')\n",
      "INFO:pypsa.pf:Newton-Raphson solved in 4 iterations with error of 0.000000 in 0.050000 seconds\n"
     ]
    },
    {
     "name": "stdout",
     "output_type": "stream",
     "text": [
      "[77, 39, 54, 67, 116, 80]\n"
     ]
    },
    {
     "name": "stderr",
     "output_type": "stream",
     "text": [
      "INFO:pypsa.pf:Performing non-linear load-flow on AC sub-network SubNetwork 0 for snapshots Index(['now'], dtype='object')\n",
      "INFO:pypsa.pf:Newton-Raphson solved in 4 iterations with error of 0.000000 in 0.050002 seconds\n"
     ]
    },
    {
     "name": "stdout",
     "output_type": "stream",
     "text": [
      "[77, 38, 55, 66, 117, 81]\n"
     ]
    },
    {
     "name": "stderr",
     "output_type": "stream",
     "text": [
      "INFO:pypsa.pf:Performing non-linear load-flow on AC sub-network SubNetwork 0 for snapshots Index(['now'], dtype='object')\n",
      "INFO:pypsa.pf:Newton-Raphson solved in 4 iterations with error of 0.000000 in 0.060001 seconds\n"
     ]
    },
    {
     "name": "stdout",
     "output_type": "stream",
     "text": [
      "[77, 39, 54, 67, 117, 80]\n"
     ]
    },
    {
     "name": "stderr",
     "output_type": "stream",
     "text": [
      "INFO:pypsa.pf:Performing non-linear load-flow on AC sub-network SubNetwork 0 for snapshots Index(['now'], dtype='object')\n",
      "INFO:pypsa.pf:Newton-Raphson solved in 4 iterations with error of 0.000000 in 0.058098 seconds\n"
     ]
    },
    {
     "name": "stdout",
     "output_type": "stream",
     "text": [
      "[22, 12, 26, 85, 103, 29]\n"
     ]
    },
    {
     "name": "stderr",
     "output_type": "stream",
     "text": [
      "INFO:pypsa.pf:Performing non-linear load-flow on AC sub-network SubNetwork 0 for snapshots Index(['now'], dtype='object')\n",
      "INFO:pypsa.pf:Newton-Raphson solved in 4 iterations with error of 0.000000 in 0.049996 seconds\n"
     ]
    },
    {
     "name": "stdout",
     "output_type": "stream",
     "text": [
      "Generation =  2\n",
      "[78, 39, 55, 67, 117, 81]\n"
     ]
    },
    {
     "name": "stderr",
     "output_type": "stream",
     "text": [
      "INFO:pypsa.pf:Performing non-linear load-flow on AC sub-network SubNetwork 0 for snapshots Index(['now'], dtype='object')\n",
      "INFO:pypsa.pf:Newton-Raphson solved in 4 iterations with error of 0.000000 in 0.049996 seconds\n"
     ]
    },
    {
     "name": "stdout",
     "output_type": "stream",
     "text": [
      "[77, 39, 54, 67, 116, 80]\n"
     ]
    },
    {
     "name": "stderr",
     "output_type": "stream",
     "text": [
      "INFO:pypsa.pf:Performing non-linear load-flow on AC sub-network SubNetwork 0 for snapshots Index(['now'], dtype='object')\n",
      "INFO:pypsa.pf:Newton-Raphson solved in 4 iterations with error of 0.000000 in 0.049955 seconds\n"
     ]
    },
    {
     "name": "stdout",
     "output_type": "stream",
     "text": [
      "[77, 38, 55, 66, 117, 81]\n"
     ]
    },
    {
     "name": "stderr",
     "output_type": "stream",
     "text": [
      "INFO:pypsa.pf:Performing non-linear load-flow on AC sub-network SubNetwork 0 for snapshots Index(['now'], dtype='object')\n",
      "INFO:pypsa.pf:Newton-Raphson solved in 4 iterations with error of 0.000000 in 0.055137 seconds\n"
     ]
    },
    {
     "name": "stdout",
     "output_type": "stream",
     "text": [
      "[77, 39, 54, 67, 117, 80]\n"
     ]
    },
    {
     "name": "stderr",
     "output_type": "stream",
     "text": [
      "INFO:pypsa.pf:Performing non-linear load-flow on AC sub-network SubNetwork 0 for snapshots Index(['now'], dtype='object')\n",
      "INFO:pypsa.pf:Newton-Raphson solved in 4 iterations with error of 0.000000 in 0.056087 seconds\n"
     ]
    },
    {
     "name": "stdout",
     "output_type": "stream",
     "text": [
      "[77, 38, 54, 66, 116, 80]\n"
     ]
    },
    {
     "name": "stderr",
     "output_type": "stream",
     "text": [
      "INFO:pypsa.pf:Performing non-linear load-flow on AC sub-network SubNetwork 0 for snapshots Index(['now'], dtype='object')\n",
      "INFO:pypsa.pf:Newton-Raphson solved in 4 iterations with error of 0.000000 in 0.056137 seconds\n"
     ]
    },
    {
     "name": "stdout",
     "output_type": "stream",
     "text": [
      "Generation =  3\n",
      "[78, 39, 55, 67, 117, 81]\n"
     ]
    },
    {
     "name": "stderr",
     "output_type": "stream",
     "text": [
      "INFO:pypsa.pf:Performing non-linear load-flow on AC sub-network SubNetwork 0 for snapshots Index(['now'], dtype='object')\n",
      "INFO:pypsa.pf:Newton-Raphson solved in 4 iterations with error of 0.000000 in 0.046097 seconds\n"
     ]
    },
    {
     "name": "stdout",
     "output_type": "stream",
     "text": [
      "[77, 39, 54, 67, 116, 80]\n"
     ]
    },
    {
     "name": "stderr",
     "output_type": "stream",
     "text": [
      "INFO:pypsa.pf:Performing non-linear load-flow on AC sub-network SubNetwork 0 for snapshots Index(['now'], dtype='object')\n",
      "INFO:pypsa.pf:Newton-Raphson solved in 4 iterations with error of 0.000000 in 0.049957 seconds\n"
     ]
    },
    {
     "name": "stdout",
     "output_type": "stream",
     "text": [
      "[77, 38, 55, 66, 117, 81]\n"
     ]
    },
    {
     "name": "stderr",
     "output_type": "stream",
     "text": [
      "INFO:pypsa.pf:Performing non-linear load-flow on AC sub-network SubNetwork 0 for snapshots Index(['now'], dtype='object')\n",
      "INFO:pypsa.pf:Newton-Raphson solved in 4 iterations with error of 0.000000 in 0.049998 seconds\n"
     ]
    },
    {
     "name": "stdout",
     "output_type": "stream",
     "text": [
      "[77, 39, 54, 67, 117, 80]\n"
     ]
    },
    {
     "name": "stderr",
     "output_type": "stream",
     "text": [
      "INFO:pypsa.pf:Performing non-linear load-flow on AC sub-network SubNetwork 0 for snapshots Index(['now'], dtype='object')\n",
      "INFO:pypsa.pf:Newton-Raphson solved in 4 iterations with error of 0.000000 in 0.050000 seconds\n"
     ]
    },
    {
     "name": "stdout",
     "output_type": "stream",
     "text": [
      "[77, 38, 54, 66, 116, 80]\n"
     ]
    },
    {
     "name": "stderr",
     "output_type": "stream",
     "text": [
      "INFO:pypsa.pf:Performing non-linear load-flow on AC sub-network SubNetwork 0 for snapshots Index(['now'], dtype='object')\n",
      "INFO:pypsa.pf:Newton-Raphson solved in 4 iterations with error of 0.000000 in 0.059999 seconds\n"
     ]
    }
   ],
   "source": [
    "\n",
    "import matplotlib.pyplot as plt\n",
    "import math\n",
    "import os\n",
    "\n",
    "def f1(x,zdata,xylis,df3):\n",
    "    s = 0\n",
    "    \n",
    "    \n",
    "     \n",
    "    for zon in range(1,181):\n",
    "       \n",
    "        s+=evucnew(zon,xylis)\n",
    "    \n",
    "    \n",
    "    return s\n",
    "\n",
    "def f2(x,zdata,xylis,df3):\n",
    "    \n",
    "   \n",
    "    nploss=0\n",
    "    df5 = df3.lines_t\n",
    "    for i in range(186):\n",
    "        nploss+=(df5.p0.iloc[0][i]+df5.p1.iloc[0][i])\n",
    "        \n",
    "    for i in range(1,7):\n",
    "        \n",
    "        network.remove(\"Load\",\"Load No {}\".format(i)) \n",
    "    \n",
    "    return abs(nploss*87.7)\n",
    "\n",
    "size = 5\n",
    "minv = [1,1,1,1,1,1]\n",
    "maxv = [118,118,118,118,118,118]\n",
    "lof  = [f1, f2]\n",
    "gen  = 3\n",
    "eta  = 3\n",
    "\n",
    "\n",
    "# Calling PAES Function\n",
    "paes_kursawe = pareto_archived_evolution_strategy(population_size = size, min_values = minv, max_values = maxv, list_of_functions = lof, generations = gen, eta = eta)"
   ]
  },
  {
   "cell_type": "code",
   "execution_count": 43,
   "metadata": {},
   "outputs": [
    {
     "data": {
      "image/png": "[encoded data removed]",
      "text/plain": [
       "<Figure size 720x360 with 1 Axes>"
      ]
     },
     "metadata": {
      "needs_background": "light"
     },
     "output_type": "display_data"
    },
    {
     "name": "stdout",
     "output_type": "stream",
     "text": [
      "The optimal value is : [20513.74300372729, 71749.86286379989]\n",
      "[77, 38, 54, 66, 116, 80]\n"
     ]
    }
   ],
   "source": [
    "plt.style.use('bmh')\n",
    "plt.figure(figsize = (10, 5))\n",
    "plt.xlabel('Function 1', fontsize = 12)\n",
    "plt.ylabel('Function 2', fontsize = 12)\n",
    "plt.scatter(paes_kursawe[:,-2], paes_kursawe[:,-1], c = 'r', s = 45, marker = 'o', label = 'OMOPSO')\n",
    "##plt.scatter(kursawe_1,          kursawe_2,             c = 'k', s = 2,  marker = '.', label = 'Solutions')\n",
    "plt.legend(loc = 'upper right')\n",
    "plt.show()\n",
    "\n",
    "\n",
    "func=[]\n",
    "func1=paes_kursawe[:,-2]\n",
    "func2=paes_kursawe[:,-1]\n",
    "for i in range(len(func1)):\n",
    "    func.append([func1[i],func2[i]])\n",
    "    \n",
    "#print(func)\n",
    "\n",
    "\n",
    "treeDepth = math.floor(math.log(len(func), 2))\n",
    " \n",
    "print(\"The optimal value is : \", end = \"\")\n",
    "minimaxval=minimax(0, 0, True, func, treeDepth)\n",
    "print(minimaxval)\n",
    "\n",
    "for i in paes_kursawe:\n",
    "    if(minimaxval[0] in i):\n",
    "        xlist=i\n",
    "        \n",
    "xlist=[int(i) for i in xlist]\n",
    "print(xlist[:6])"
   ]
  },
  {
   "cell_type": "code",
   "execution_count": null,
   "metadata": {},
   "outputs": [],
   "source": []
  },
  {
   "cell_type": "code",
   "execution_count": 46,
   "metadata": {},
   "outputs": [],
   "source": [
    "for i in range(1,7):\n",
    "    network.remove(\"Load\",\"Load No {}\".format(i)) "
   ]
  },
  {
   "cell_type": "code",
   "execution_count": 47,
   "metadata": {},
   "outputs": [
    {
     "name": "stdout",
     "output_type": "stream",
     "text": [
      "[17, 92, 55, 80, 30, 107]\n"
     ]
    },
    {
     "name": "stderr",
     "output_type": "stream",
     "text": [
      "INFO:pypsa.pf:Performing non-linear load-flow on AC sub-network SubNetwork 0 for snapshots Index(['now'], dtype='object')\n",
      "INFO:pypsa.pf:Newton-Raphson solved in 4 iterations with error of 0.000000 in 0.063998 seconds\n"
     ]
    },
    {
     "name": "stdout",
     "output_type": "stream",
     "text": [
      "[35, 81, 60, 95, 53, 9]\n"
     ]
    },
    {
     "name": "stderr",
     "output_type": "stream",
     "text": [
      "INFO:pypsa.pf:Performing non-linear load-flow on AC sub-network SubNetwork 0 for snapshots Index(['now'], dtype='object')\n",
      "INFO:pypsa.pf:Newton-Raphson solved in 4 iterations with error of 0.000000 in 0.049999 seconds\n"
     ]
    },
    {
     "name": "stdout",
     "output_type": "stream",
     "text": [
      "[7, 27, 78, 64, 52, 97]\n"
     ]
    },
    {
     "name": "stderr",
     "output_type": "stream",
     "text": [
      "INFO:pypsa.pf:Performing non-linear load-flow on AC sub-network SubNetwork 0 for snapshots Index(['now'], dtype='object')\n",
      "INFO:pypsa.pf:Newton-Raphson solved in 4 iterations with error of 0.000000 in 0.048133 seconds\n"
     ]
    },
    {
     "name": "stdout",
     "output_type": "stream",
     "text": [
      "[9, 75, 2, 38, 102, 70]\n"
     ]
    },
    {
     "name": "stderr",
     "output_type": "stream",
     "text": [
      "INFO:pypsa.pf:Performing non-linear load-flow on AC sub-network SubNetwork 0 for snapshots Index(['now'], dtype='object')\n",
      "INFO:pypsa.pf:Newton-Raphson solved in 4 iterations with error of 0.000000 in 0.045294 seconds\n"
     ]
    },
    {
     "name": "stdout",
     "output_type": "stream",
     "text": [
      "[22, 16, 114, 30, 55, 103]\n"
     ]
    },
    {
     "name": "stderr",
     "output_type": "stream",
     "text": [
      "INFO:pypsa.pf:Performing non-linear load-flow on AC sub-network SubNetwork 0 for snapshots Index(['now'], dtype='object')\n",
      "INFO:pypsa.pf:Newton-Raphson solved in 4 iterations with error of 0.000000 in 0.048103 seconds\n"
     ]
    },
    {
     "name": "stdout",
     "output_type": "stream",
     "text": [
      "[17, 92, 55, 80, 30, 107]\n"
     ]
    },
    {
     "name": "stderr",
     "output_type": "stream",
     "text": [
      "INFO:pypsa.pf:Performing non-linear load-flow on AC sub-network SubNetwork 0 for snapshots Index(['now'], dtype='object')\n",
      "INFO:pypsa.pf:Newton-Raphson solved in 4 iterations with error of 0.000000 in 0.072034 seconds\n"
     ]
    },
    {
     "name": "stdout",
     "output_type": "stream",
     "text": [
      "[35, 81, 60, 95, 53, 9]\n"
     ]
    },
    {
     "name": "stderr",
     "output_type": "stream",
     "text": [
      "INFO:pypsa.pf:Performing non-linear load-flow on AC sub-network SubNetwork 0 for snapshots Index(['now'], dtype='object')\n",
      "INFO:pypsa.pf:Newton-Raphson solved in 4 iterations with error of 0.000000 in 0.063967 seconds\n"
     ]
    },
    {
     "name": "stdout",
     "output_type": "stream",
     "text": [
      "[7, 27, 78, 64, 52, 97]\n"
     ]
    },
    {
     "name": "stderr",
     "output_type": "stream",
     "text": [
      "INFO:pypsa.pf:Performing non-linear load-flow on AC sub-network SubNetwork 0 for snapshots Index(['now'], dtype='object')\n",
      "INFO:pypsa.pf:Newton-Raphson solved in 4 iterations with error of 0.000000 in 0.060006 seconds\n"
     ]
    },
    {
     "name": "stdout",
     "output_type": "stream",
     "text": [
      "[9, 75, 2, 38, 102, 70]\n"
     ]
    },
    {
     "name": "stderr",
     "output_type": "stream",
     "text": [
      "INFO:pypsa.pf:Performing non-linear load-flow on AC sub-network SubNetwork 0 for snapshots Index(['now'], dtype='object')\n",
      "INFO:pypsa.pf:Newton-Raphson solved in 4 iterations with error of 0.000000 in 0.050042 seconds\n"
     ]
    },
    {
     "name": "stdout",
     "output_type": "stream",
     "text": [
      "[22, 16, 114, 30, 55, 103]\n"
     ]
    },
    {
     "name": "stderr",
     "output_type": "stream",
     "text": [
      "INFO:pypsa.pf:Performing non-linear load-flow on AC sub-network SubNetwork 0 for snapshots Index(['now'], dtype='object')\n",
      "INFO:pypsa.pf:Newton-Raphson solved in 4 iterations with error of 0.000000 in 0.061275 seconds\n"
     ]
    },
    {
     "name": "stdout",
     "output_type": "stream",
     "text": [
      "Generation =  0\n",
      "[17, 92, 55, 80, 30, 107]\n"
     ]
    },
    {
     "name": "stderr",
     "output_type": "stream",
     "text": [
      "INFO:pypsa.pf:Performing non-linear load-flow on AC sub-network SubNetwork 0 for snapshots Index(['now'], dtype='object')\n",
      "INFO:pypsa.pf:Newton-Raphson solved in 4 iterations with error of 0.000000 in 0.050003 seconds\n"
     ]
    },
    {
     "name": "stdout",
     "output_type": "stream",
     "text": [
      "[7, 27, 78, 64, 52, 97]\n"
     ]
    },
    {
     "name": "stderr",
     "output_type": "stream",
     "text": [
      "INFO:pypsa.pf:Performing non-linear load-flow on AC sub-network SubNetwork 0 for snapshots Index(['now'], dtype='object')\n",
      "INFO:pypsa.pf:Newton-Raphson solved in 4 iterations with error of 0.000000 in 0.050040 seconds\n"
     ]
    },
    {
     "name": "stdout",
     "output_type": "stream",
     "text": [
      "[9, 75, 2, 38, 102, 70]\n"
     ]
    },
    {
     "name": "stderr",
     "output_type": "stream",
     "text": [
      "INFO:pypsa.pf:Performing non-linear load-flow on AC sub-network SubNetwork 0 for snapshots Index(['now'], dtype='object')\n",
      "INFO:pypsa.pf:Newton-Raphson solved in 4 iterations with error of 0.000000 in 0.050002 seconds\n"
     ]
    },
    {
     "name": "stdout",
     "output_type": "stream",
     "text": [
      "[22, 16, 114, 30, 55, 103]\n"
     ]
    },
    {
     "name": "stderr",
     "output_type": "stream",
     "text": [
      "INFO:pypsa.pf:Performing non-linear load-flow on AC sub-network SubNetwork 0 for snapshots Index(['now'], dtype='object')\n",
      "INFO:pypsa.pf:Newton-Raphson solved in 4 iterations with error of 0.000000 in 0.040040 seconds\n"
     ]
    },
    {
     "name": "stdout",
     "output_type": "stream",
     "text": [
      "[17, 91, 55, 80, 30, 107]\n"
     ]
    },
    {
     "name": "stderr",
     "output_type": "stream",
     "text": [
      "INFO:pypsa.pf:Performing non-linear load-flow on AC sub-network SubNetwork 0 for snapshots Index(['now'], dtype='object')\n",
      "INFO:pypsa.pf:Newton-Raphson solved in 4 iterations with error of 0.000000 in 0.050003 seconds\n"
     ]
    },
    {
     "name": "stdout",
     "output_type": "stream",
     "text": [
      "Generation =  1\n",
      "[7, 27, 78, 64, 52, 97]\n"
     ]
    },
    {
     "name": "stderr",
     "output_type": "stream",
     "text": [
      "INFO:pypsa.pf:Performing non-linear load-flow on AC sub-network SubNetwork 0 for snapshots Index(['now'], dtype='object')\n",
      "INFO:pypsa.pf:Newton-Raphson solved in 4 iterations with error of 0.000000 in 0.050045 seconds\n"
     ]
    },
    {
     "name": "stdout",
     "output_type": "stream",
     "text": [
      "[9, 75, 2, 38, 102, 70]\n"
     ]
    },
    {
     "name": "stderr",
     "output_type": "stream",
     "text": [
      "INFO:pypsa.pf:Performing non-linear load-flow on AC sub-network SubNetwork 0 for snapshots Index(['now'], dtype='object')\n",
      "INFO:pypsa.pf:Newton-Raphson solved in 4 iterations with error of 0.000000 in 0.039959 seconds\n"
     ]
    },
    {
     "name": "stdout",
     "output_type": "stream",
     "text": [
      "[22, 16, 114, 30, 55, 103]\n"
     ]
    },
    {
     "name": "stderr",
     "output_type": "stream",
     "text": [
      "INFO:pypsa.pf:Performing non-linear load-flow on AC sub-network SubNetwork 0 for snapshots Index(['now'], dtype='object')\n",
      "INFO:pypsa.pf:Newton-Raphson solved in 4 iterations with error of 0.000000 in 0.080001 seconds\n"
     ]
    },
    {
     "name": "stdout",
     "output_type": "stream",
     "text": [
      "[6, 27, 78, 64, 52, 97]\n"
     ]
    },
    {
     "name": "stderr",
     "output_type": "stream",
     "text": [
      "INFO:pypsa.pf:Performing non-linear load-flow on AC sub-network SubNetwork 0 for snapshots Index(['now'], dtype='object')\n",
      "INFO:pypsa.pf:Newton-Raphson solved in 4 iterations with error of 0.000000 in 0.079997 seconds\n"
     ]
    },
    {
     "name": "stdout",
     "output_type": "stream",
     "text": [
      "[9, 75, 1, 38, 101, 69]\n"
     ]
    },
    {
     "name": "stderr",
     "output_type": "stream",
     "text": [
      "INFO:pypsa.pf:Performing non-linear load-flow on AC sub-network SubNetwork 0 for snapshots Index(['now'], dtype='object')\n",
      "INFO:pypsa.pf:Newton-Raphson solved in 4 iterations with error of 0.000000 in 0.050001 seconds\n"
     ]
    },
    {
     "name": "stdout",
     "output_type": "stream",
     "text": [
      "Generation =  2\n",
      "[9, 75, 2, 38, 102, 70]\n"
     ]
    },
    {
     "name": "stderr",
     "output_type": "stream",
     "text": [
      "INFO:pypsa.pf:Performing non-linear load-flow on AC sub-network SubNetwork 0 for snapshots Index(['now'], dtype='object')\n",
      "INFO:pypsa.pf:Newton-Raphson solved in 4 iterations with error of 0.000000 in 0.050040 seconds\n"
     ]
    },
    {
     "name": "stdout",
     "output_type": "stream",
     "text": [
      "[22, 16, 114, 30, 55, 103]\n"
     ]
    },
    {
     "name": "stderr",
     "output_type": "stream",
     "text": [
      "INFO:pypsa.pf:Performing non-linear load-flow on AC sub-network SubNetwork 0 for snapshots Index(['now'], dtype='object')\n",
      "INFO:pypsa.pf:Newton-Raphson solved in 4 iterations with error of 0.000000 in 0.054061 seconds\n"
     ]
    },
    {
     "name": "stdout",
     "output_type": "stream",
     "text": [
      "[9, 75, 1, 38, 101, 69]\n"
     ]
    },
    {
     "name": "stderr",
     "output_type": "stream",
     "text": [
      "INFO:pypsa.pf:Performing non-linear load-flow on AC sub-network SubNetwork 0 for snapshots Index(['now'], dtype='object')\n",
      "INFO:pypsa.pf:Newton-Raphson solved in 4 iterations with error of 0.000000 in 0.048107 seconds\n"
     ]
    },
    {
     "name": "stdout",
     "output_type": "stream",
     "text": [
      "[8, 75, 2, 37, 102, 69]\n"
     ]
    },
    {
     "name": "stderr",
     "output_type": "stream",
     "text": [
      "INFO:pypsa.pf:Performing non-linear load-flow on AC sub-network SubNetwork 0 for snapshots Index(['now'], dtype='object')\n",
      "INFO:pypsa.pf:Newton-Raphson solved in 4 iterations with error of 0.000000 in 0.050000 seconds\n"
     ]
    },
    {
     "name": "stdout",
     "output_type": "stream",
     "text": [
      "[21, 15, 114, 29, 54, 102]\n"
     ]
    },
    {
     "name": "stderr",
     "output_type": "stream",
     "text": [
      "INFO:pypsa.pf:Performing non-linear load-flow on AC sub-network SubNetwork 0 for snapshots Index(['now'], dtype='object')\n",
      "INFO:pypsa.pf:Newton-Raphson solved in 4 iterations with error of 0.000000 in 0.049997 seconds\n"
     ]
    },
    {
     "name": "stdout",
     "output_type": "stream",
     "text": [
      "Generation =  3\n",
      "[9, 75, 2, 38, 102, 70]\n"
     ]
    },
    {
     "name": "stderr",
     "output_type": "stream",
     "text": [
      "INFO:pypsa.pf:Performing non-linear load-flow on AC sub-network SubNetwork 0 for snapshots Index(['now'], dtype='object')\n",
      "INFO:pypsa.pf:Newton-Raphson solved in 4 iterations with error of 0.000000 in 0.050007 seconds\n"
     ]
    },
    {
     "name": "stdout",
     "output_type": "stream",
     "text": [
      "[22, 16, 114, 30, 55, 103]\n"
     ]
    },
    {
     "name": "stderr",
     "output_type": "stream",
     "text": [
      "INFO:pypsa.pf:Performing non-linear load-flow on AC sub-network SubNetwork 0 for snapshots Index(['now'], dtype='object')\n",
      "INFO:pypsa.pf:Newton-Raphson solved in 4 iterations with error of 0.000000 in 0.050000 seconds\n"
     ]
    },
    {
     "name": "stdout",
     "output_type": "stream",
     "text": [
      "[9, 75, 1, 38, 101, 69]\n"
     ]
    },
    {
     "name": "stderr",
     "output_type": "stream",
     "text": [
      "INFO:pypsa.pf:Performing non-linear load-flow on AC sub-network SubNetwork 0 for snapshots Index(['now'], dtype='object')\n",
      "INFO:pypsa.pf:Newton-Raphson solved in 4 iterations with error of 0.000000 in 0.049956 seconds\n"
     ]
    },
    {
     "name": "stdout",
     "output_type": "stream",
     "text": [
      "[8, 75, 2, 37, 102, 69]\n"
     ]
    },
    {
     "name": "stderr",
     "output_type": "stream",
     "text": [
      "INFO:pypsa.pf:Performing non-linear load-flow on AC sub-network SubNetwork 0 for snapshots Index(['now'], dtype='object')\n",
      "INFO:pypsa.pf:Newton-Raphson solved in 4 iterations with error of 0.000000 in 0.052129 seconds\n"
     ]
    },
    {
     "name": "stdout",
     "output_type": "stream",
     "text": [
      "[21, 15, 114, 29, 54, 102]\n"
     ]
    },
    {
     "name": "stderr",
     "output_type": "stream",
     "text": [
      "INFO:pypsa.pf:Performing non-linear load-flow on AC sub-network SubNetwork 0 for snapshots Index(['now'], dtype='object')\n",
      "INFO:pypsa.pf:Newton-Raphson solved in 4 iterations with error of 0.000000 in 0.050039 seconds\n"
     ]
    }
   ],
   "source": [
    "import matplotlib.pyplot as plt\n",
    "import math\n",
    "\n",
    "def f1(x,zdata,xylis,df3):\n",
    "    r=1\n",
    "    df1=df3.buses_t.v_mag_pu\n",
    "    mini=100000000000\n",
    "    for i in range(118):\n",
    "        if(df1.iloc[0][i]<mini):\n",
    "            mini=df1.iloc[0][i]\n",
    "    vdev=(1-mini)\n",
    "    \n",
    "    return vdev*100\n",
    "\n",
    "def f2(x,zdata,xylis,df3):\n",
    "    df5 = df3.lines_t\n",
    "    nploss=0\n",
    "    for i in range(186):\n",
    "        nploss+=(df5.p0.iloc[0][i]+df5.p1.iloc[0][i])\n",
    "        \n",
    "    for i in range(1,7):\n",
    "        network.remove(\"Load\",\"Load No {}\".format(i)) \n",
    "    return abs(nploss*250.57)\n",
    "\n",
    "size = 5\n",
    "minv = [1,1,1,1,1,1]\n",
    "maxv = [118,118,118,118,118,118]\n",
    "lof  = [f1, f2]\n",
    "gen  = 3\n",
    "eta  = 3\n",
    "\n",
    "\n",
    "# Calling PAES Function\n",
    "paes_kursawe1 = pareto_archived_evolution_strategy(population_size = size, min_values = minv, max_values = maxv, list_of_functions = lof, generations = gen, eta = eta)"
   ]
  },
  {
   "cell_type": "code",
   "execution_count": 48,
   "metadata": {},
   "outputs": [
    {
     "data": {
      "image/png": "[encoded data removed]",
      "text/plain": [
       "<Figure size 720x360 with 1 Axes>"
      ]
     },
     "metadata": {
      "needs_background": "light"
     },
     "output_type": "display_data"
    },
    {
     "name": "stdout",
     "output_type": "stream",
     "text": [
      "The optimal value is : [0.20416542881700472, 229100.0336133441]\n",
      "[8, 75, 2, 37, 102, 69]\n"
     ]
    }
   ],
   "source": [
    "plt.style.use('bmh')\n",
    "plt.figure(figsize = (10, 5))\n",
    "plt.xlabel('Function 1', fontsize = 12)\n",
    "plt.ylabel('Function 2', fontsize = 12)\n",
    "plt.scatter(paes_kursawe1[:,-2], paes_kursawe1[:,-1], c = 'r', s = 45, marker = 'o', label = 'OMOPSO')\n",
    "##plt.scatter(kursawe_1,          kursawe_2,             c = 'k', s = 2,  marker = '.', label = 'Solutions')\n",
    "plt.legend(loc = 'upper right')\n",
    "plt.show()\n",
    "\n",
    "\n",
    "func=[]\n",
    "func1=paes_kursawe1[:,-2]\n",
    "func2=paes_kursawe1[:,-1]\n",
    "for i in range(len(func1)):\n",
    "    func.append([func1[i],func2[i]])\n",
    "    \n",
    "#print(func)\n",
    "\n",
    "\n",
    "treeDepth = math.floor(math.log(len(func), 2))\n",
    " \n",
    "print(\"The optimal value is : \", end = \"\")\n",
    "minimaxval=minimax(0, 0, True, func, treeDepth)\n",
    "print(minimaxval)\n",
    "\n",
    "for i in paes_kursawe1:\n",
    "    if(minimaxval[0] in i):\n",
    "        xlist=i\n",
    "        \n",
    "xlist=[int(i) for i in xlist]\n",
    "print(xlist[:6])"
   ]
  },
  {
   "cell_type": "code",
   "execution_count": null,
   "metadata": {},
   "outputs": [],
   "source": [
    "def f2(x):\n",
    "    xylis=[]\n",
    "    print(x)\n",
    "    for busno in x:\n",
    "        xbus=busxy['x'][busno-1]\n",
    "        ybus=busxy['y'][busno-1]\n",
    "        xylis.append([xbus,ybus])\n",
    "    print(xylis)\n",
    "    zdata=pd.read_excel(\"xy.xlsx\",sheet_name=\"Sheet3\")\n",
    "    for j in range(1,181):\n",
    "\n",
    "        dist=100000000\n",
    "        h=0\n",
    "        \n",
    "        for i in xylis:\n",
    "            x1=zonexy['x'][j-1]\n",
    "            x2=i[0]\n",
    "            y1=zonexy['y'][j-1]\n",
    "            y2=i[1]\n",
    "\n",
    "            dist1=np.sqrt((x2-x1)**2 + (y2-y1)**2)\n",
    "            if(dist1<dist):\n",
    "                dist=dist1\n",
    "                h=(xylis.index(i))+1\n",
    "\n",
    "        df2 = {'st': h, 'zone':j}\n",
    "        zdata = zdata.append(df2, ignore_index = True)\n",
    "        k=1\n",
    "       \n",
    "    for i in x:\n",
    "        network.add(\"Load\",\"Load No {}\".format(k),bus = \"Bus No {}\".format(i),p_set=capFCS(k,zdata),q_set=200)\n",
    "        k+=1\n",
    "    network.pf()\n",
    "    df1=network.buses_t.v_mag_pu\n",
    "    mini=100000000000\n",
    "    for i in range(118):\n",
    "        if(df1.iloc[0][i]<mini):\n",
    "            mini=df1.iloc[0][i]\n",
    "    vdev=1-mini\n",
    "    for i in range(1,7):\n",
    "        network.remove(\"Load\",\"Load No {}\".format(i))\n",
    "    return vdev\n",
    "\n",
    "\n",
    "mvd=f2(final_placement)\n",
    "print(mvd,minimaxval)"
   ]
  },
  {
   "cell_type": "code",
   "execution_count": null,
   "metadata": {},
   "outputs": [],
   "source": [
    "for i in range(1,7):\n",
    "    network.remove(\"Load\",\"Load No {}\".format(i)) "
   ]
  },
  {
   "cell_type": "code",
   "execution_count": 51,
   "metadata": {},
   "outputs": [
    {
     "name": "stdout",
     "output_type": "stream",
     "text": [
      "[22, 36, 64, 100, 43, 37]\n"
     ]
    },
    {
     "name": "stderr",
     "output_type": "stream",
     "text": [
      "INFO:pypsa.pf:Performing non-linear load-flow on AC sub-network SubNetwork 0 for snapshots Index(['now'], dtype='object')\n",
      "INFO:pypsa.pf:Newton-Raphson solved in 4 iterations with error of 0.000000 in 0.056677 seconds\n"
     ]
    },
    {
     "name": "stdout",
     "output_type": "stream",
     "text": [
      "[21, 52, 15, 43, 71, 83]\n"
     ]
    },
    {
     "name": "stderr",
     "output_type": "stream",
     "text": [
      "INFO:pypsa.pf:Performing non-linear load-flow on AC sub-network SubNetwork 0 for snapshots Index(['now'], dtype='object')\n",
      "INFO:pypsa.pf:Newton-Raphson solved in 4 iterations with error of 0.000000 in 0.050002 seconds\n"
     ]
    },
    {
     "name": "stdout",
     "output_type": "stream",
     "text": [
      "[108, 113, 62, 17, 25, 42]\n"
     ]
    },
    {
     "name": "stderr",
     "output_type": "stream",
     "text": [
      "INFO:pypsa.pf:Performing non-linear load-flow on AC sub-network SubNetwork 0 for snapshots Index(['now'], dtype='object')\n",
      "INFO:pypsa.pf:Newton-Raphson solved in 4 iterations with error of 0.000000 in 0.050001 seconds\n"
     ]
    },
    {
     "name": "stdout",
     "output_type": "stream",
     "text": [
      "[99, 20, 116, 103, 3, 57]\n"
     ]
    },
    {
     "name": "stderr",
     "output_type": "stream",
     "text": [
      "INFO:pypsa.pf:Performing non-linear load-flow on AC sub-network SubNetwork 0 for snapshots Index(['now'], dtype='object')\n",
      "INFO:pypsa.pf:Newton-Raphson solved in 4 iterations with error of 0.000000 in 0.059961 seconds\n"
     ]
    },
    {
     "name": "stdout",
     "output_type": "stream",
     "text": [
      "[59, 21, 96, 61, 52, 94]\n"
     ]
    },
    {
     "name": "stderr",
     "output_type": "stream",
     "text": [
      "INFO:pypsa.pf:Performing non-linear load-flow on AC sub-network SubNetwork 0 for snapshots Index(['now'], dtype='object')\n",
      "INFO:pypsa.pf:Newton-Raphson solved in 4 iterations with error of 0.000000 in 0.047895 seconds\n"
     ]
    },
    {
     "name": "stdout",
     "output_type": "stream",
     "text": [
      "[22, 36, 64, 100, 43, 37]\n"
     ]
    },
    {
     "name": "stderr",
     "output_type": "stream",
     "text": [
      "INFO:pypsa.pf:Performing non-linear load-flow on AC sub-network SubNetwork 0 for snapshots Index(['now'], dtype='object')\n",
      "INFO:pypsa.pf:Newton-Raphson solved in 4 iterations with error of 0.000000 in 0.049999 seconds\n"
     ]
    },
    {
     "name": "stdout",
     "output_type": "stream",
     "text": [
      "[21, 52, 15, 43, 71, 83]\n"
     ]
    },
    {
     "name": "stderr",
     "output_type": "stream",
     "text": [
      "INFO:pypsa.pf:Performing non-linear load-flow on AC sub-network SubNetwork 0 for snapshots Index(['now'], dtype='object')\n",
      "INFO:pypsa.pf:Newton-Raphson solved in 4 iterations with error of 0.000000 in 0.056098 seconds\n"
     ]
    },
    {
     "name": "stdout",
     "output_type": "stream",
     "text": [
      "[108, 113, 62, 17, 25, 42]\n"
     ]
    },
    {
     "name": "stderr",
     "output_type": "stream",
     "text": [
      "INFO:pypsa.pf:Performing non-linear load-flow on AC sub-network SubNetwork 0 for snapshots Index(['now'], dtype='object')\n",
      "INFO:pypsa.pf:Newton-Raphson solved in 4 iterations with error of 0.000000 in 0.060000 seconds\n"
     ]
    },
    {
     "name": "stdout",
     "output_type": "stream",
     "text": [
      "[99, 20, 116, 103, 3, 57]\n"
     ]
    },
    {
     "name": "stderr",
     "output_type": "stream",
     "text": [
      "INFO:pypsa.pf:Performing non-linear load-flow on AC sub-network SubNetwork 0 for snapshots Index(['now'], dtype='object')\n",
      "INFO:pypsa.pf:Newton-Raphson solved in 4 iterations with error of 0.000000 in 0.049999 seconds\n"
     ]
    },
    {
     "name": "stdout",
     "output_type": "stream",
     "text": [
      "[59, 21, 96, 61, 52, 94]\n"
     ]
    },
    {
     "name": "stderr",
     "output_type": "stream",
     "text": [
      "INFO:pypsa.pf:Performing non-linear load-flow on AC sub-network SubNetwork 0 for snapshots Index(['now'], dtype='object')\n",
      "INFO:pypsa.pf:Newton-Raphson solved in 4 iterations with error of 0.000000 in 0.049998 seconds\n"
     ]
    },
    {
     "name": "stdout",
     "output_type": "stream",
     "text": [
      "Generation =  0\n",
      "[108, 113, 62, 17, 25, 42]\n"
     ]
    },
    {
     "name": "stderr",
     "output_type": "stream",
     "text": [
      "INFO:pypsa.pf:Performing non-linear load-flow on AC sub-network SubNetwork 0 for snapshots Index(['now'], dtype='object')\n",
      "INFO:pypsa.pf:Newton-Raphson solved in 4 iterations with error of 0.000000 in 0.058260 seconds\n"
     ]
    },
    {
     "name": "stdout",
     "output_type": "stream",
     "text": [
      "[99, 20, 116, 103, 3, 57]\n"
     ]
    },
    {
     "name": "stderr",
     "output_type": "stream",
     "text": [
      "INFO:pypsa.pf:Performing non-linear load-flow on AC sub-network SubNetwork 0 for snapshots Index(['now'], dtype='object')\n",
      "INFO:pypsa.pf:Newton-Raphson solved in 4 iterations with error of 0.000000 in 0.055777 seconds\n"
     ]
    },
    {
     "name": "stdout",
     "output_type": "stream",
     "text": [
      "[108, 112, 62, 16, 24, 42]\n"
     ]
    },
    {
     "name": "stderr",
     "output_type": "stream",
     "text": [
      "INFO:pypsa.pf:Performing non-linear load-flow on AC sub-network SubNetwork 0 for snapshots Index(['now'], dtype='object')\n",
      "INFO:pypsa.pf:Newton-Raphson solved in 4 iterations with error of 0.000000 in 0.051594 seconds\n"
     ]
    },
    {
     "name": "stdout",
     "output_type": "stream",
     "text": [
      "[99, 20, 115, 103, 2, 57]\n"
     ]
    },
    {
     "name": "stderr",
     "output_type": "stream",
     "text": [
      "INFO:pypsa.pf:Performing non-linear load-flow on AC sub-network SubNetwork 0 for snapshots Index(['now'], dtype='object')\n",
      "INFO:pypsa.pf:Newton-Raphson solved in 4 iterations with error of 0.000000 in 0.050001 seconds\n"
     ]
    },
    {
     "name": "stdout",
     "output_type": "stream",
     "text": [
      "[21, 52, 15, 43, 71, 83]\n"
     ]
    },
    {
     "name": "stderr",
     "output_type": "stream",
     "text": [
      "INFO:pypsa.pf:Performing non-linear load-flow on AC sub-network SubNetwork 0 for snapshots Index(['now'], dtype='object')\n",
      "INFO:pypsa.pf:Newton-Raphson solved in 4 iterations with error of 0.000000 in 0.050004 seconds\n"
     ]
    },
    {
     "name": "stdout",
     "output_type": "stream",
     "text": [
      "Generation =  1\n",
      "[108, 113, 62, 17, 25, 42]\n"
     ]
    },
    {
     "name": "stderr",
     "output_type": "stream",
     "text": [
      "INFO:pypsa.pf:Performing non-linear load-flow on AC sub-network SubNetwork 0 for snapshots Index(['now'], dtype='object')\n",
      "INFO:pypsa.pf:Newton-Raphson solved in 4 iterations with error of 0.000000 in 0.050005 seconds\n"
     ]
    },
    {
     "name": "stdout",
     "output_type": "stream",
     "text": [
      "[99, 20, 116, 103, 3, 57]\n"
     ]
    },
    {
     "name": "stderr",
     "output_type": "stream",
     "text": [
      "INFO:pypsa.pf:Performing non-linear load-flow on AC sub-network SubNetwork 0 for snapshots Index(['now'], dtype='object')\n",
      "INFO:pypsa.pf:Newton-Raphson solved in 4 iterations with error of 0.000000 in 0.051575 seconds\n"
     ]
    },
    {
     "name": "stdout",
     "output_type": "stream",
     "text": [
      "[108, 112, 62, 16, 24, 42]\n"
     ]
    },
    {
     "name": "stderr",
     "output_type": "stream",
     "text": [
      "INFO:pypsa.pf:Performing non-linear load-flow on AC sub-network SubNetwork 0 for snapshots Index(['now'], dtype='object')\n",
      "INFO:pypsa.pf:Newton-Raphson solved in 4 iterations with error of 0.000000 in 0.049967 seconds\n"
     ]
    },
    {
     "name": "stdout",
     "output_type": "stream",
     "text": [
      "[99, 20, 115, 103, 2, 57]\n"
     ]
    },
    {
     "name": "stderr",
     "output_type": "stream",
     "text": [
      "INFO:pypsa.pf:Performing non-linear load-flow on AC sub-network SubNetwork 0 for snapshots Index(['now'], dtype='object')\n",
      "INFO:pypsa.pf:Newton-Raphson solved in 4 iterations with error of 0.000000 in 0.049968 seconds\n"
     ]
    },
    {
     "name": "stdout",
     "output_type": "stream",
     "text": [
      "[108, 112, 61, 17, 24, 41]\n"
     ]
    },
    {
     "name": "stderr",
     "output_type": "stream",
     "text": [
      "INFO:pypsa.pf:Performing non-linear load-flow on AC sub-network SubNetwork 0 for snapshots Index(['now'], dtype='object')\n",
      "INFO:pypsa.pf:Newton-Raphson solved in 4 iterations with error of 0.000000 in 0.049963 seconds\n"
     ]
    },
    {
     "name": "stdout",
     "output_type": "stream",
     "text": [
      "Generation =  2\n",
      "[108, 113, 62, 17, 25, 42]\n"
     ]
    },
    {
     "name": "stderr",
     "output_type": "stream",
     "text": [
      "INFO:pypsa.pf:Performing non-linear load-flow on AC sub-network SubNetwork 0 for snapshots Index(['now'], dtype='object')\n",
      "INFO:pypsa.pf:Newton-Raphson solved in 4 iterations with error of 0.000000 in 0.050043 seconds\n"
     ]
    },
    {
     "name": "stdout",
     "output_type": "stream",
     "text": [
      "[99, 20, 116, 103, 3, 57]\n"
     ]
    },
    {
     "name": "stderr",
     "output_type": "stream",
     "text": [
      "INFO:pypsa.pf:Performing non-linear load-flow on AC sub-network SubNetwork 0 for snapshots Index(['now'], dtype='object')\n",
      "INFO:pypsa.pf:Newton-Raphson solved in 4 iterations with error of 0.000000 in 0.049969 seconds\n"
     ]
    },
    {
     "name": "stdout",
     "output_type": "stream",
     "text": [
      "[108, 112, 62, 16, 24, 42]\n"
     ]
    },
    {
     "name": "stderr",
     "output_type": "stream",
     "text": [
      "INFO:pypsa.pf:Performing non-linear load-flow on AC sub-network SubNetwork 0 for snapshots Index(['now'], dtype='object')\n",
      "INFO:pypsa.pf:Newton-Raphson solved in 4 iterations with error of 0.000000 in 0.060004 seconds\n"
     ]
    },
    {
     "name": "stdout",
     "output_type": "stream",
     "text": [
      "[99, 20, 115, 103, 2, 57]\n"
     ]
    },
    {
     "name": "stderr",
     "output_type": "stream",
     "text": [
      "INFO:pypsa.pf:Performing non-linear load-flow on AC sub-network SubNetwork 0 for snapshots Index(['now'], dtype='object')\n",
      "INFO:pypsa.pf:Newton-Raphson solved in 4 iterations with error of 0.000000 in 0.049961 seconds\n"
     ]
    },
    {
     "name": "stdout",
     "output_type": "stream",
     "text": [
      "[108, 112, 61, 17, 24, 41]\n"
     ]
    },
    {
     "name": "stderr",
     "output_type": "stream",
     "text": [
      "INFO:pypsa.pf:Performing non-linear load-flow on AC sub-network SubNetwork 0 for snapshots Index(['now'], dtype='object')\n",
      "INFO:pypsa.pf:Newton-Raphson solved in 4 iterations with error of 0.000000 in 0.058136 seconds\n"
     ]
    },
    {
     "name": "stdout",
     "output_type": "stream",
     "text": [
      "Generation =  3\n",
      "[108, 113, 62, 17, 25, 42]\n"
     ]
    },
    {
     "name": "stderr",
     "output_type": "stream",
     "text": [
      "INFO:pypsa.pf:Performing non-linear load-flow on AC sub-network SubNetwork 0 for snapshots Index(['now'], dtype='object')\n",
      "INFO:pypsa.pf:Newton-Raphson solved in 4 iterations with error of 0.000000 in 0.050006 seconds\n"
     ]
    },
    {
     "name": "stdout",
     "output_type": "stream",
     "text": [
      "[99, 20, 116, 103, 3, 57]\n"
     ]
    },
    {
     "name": "stderr",
     "output_type": "stream",
     "text": [
      "INFO:pypsa.pf:Performing non-linear load-flow on AC sub-network SubNetwork 0 for snapshots Index(['now'], dtype='object')\n",
      "INFO:pypsa.pf:Newton-Raphson solved in 4 iterations with error of 0.000000 in 0.069995 seconds\n"
     ]
    },
    {
     "name": "stdout",
     "output_type": "stream",
     "text": [
      "[108, 112, 62, 16, 24, 42]\n"
     ]
    },
    {
     "name": "stderr",
     "output_type": "stream",
     "text": [
      "INFO:pypsa.pf:Performing non-linear load-flow on AC sub-network SubNetwork 0 for snapshots Index(['now'], dtype='object')\n",
      "INFO:pypsa.pf:Newton-Raphson solved in 4 iterations with error of 0.000000 in 0.059999 seconds\n"
     ]
    },
    {
     "name": "stdout",
     "output_type": "stream",
     "text": [
      "[99, 20, 115, 103, 2, 57]\n"
     ]
    },
    {
     "name": "stderr",
     "output_type": "stream",
     "text": [
      "INFO:pypsa.pf:Performing non-linear load-flow on AC sub-network SubNetwork 0 for snapshots Index(['now'], dtype='object')\n",
      "INFO:pypsa.pf:Newton-Raphson solved in 4 iterations with error of 0.000000 in 0.050000 seconds\n"
     ]
    },
    {
     "name": "stdout",
     "output_type": "stream",
     "text": [
      "[108, 112, 61, 17, 24, 41]\n"
     ]
    },
    {
     "name": "stderr",
     "output_type": "stream",
     "text": [
      "INFO:pypsa.pf:Performing non-linear load-flow on AC sub-network SubNetwork 0 for snapshots Index(['now'], dtype='object')\n",
      "INFO:pypsa.pf:Newton-Raphson solved in 4 iterations with error of 0.000000 in 0.054657 seconds\n"
     ]
    },
    {
     "data": {
      "image/png": "[encoded data removed]",
      "text/plain": [
       "<Figure size 720x360 with 1 Axes>"
      ]
     },
     "metadata": {
      "needs_background": "light"
     },
     "output_type": "display_data"
    },
    {
     "name": "stdout",
     "output_type": "stream",
     "text": [
      "The optimal value is : [20513.74300372729, 71749.86286379989]\n",
      "[8, 75, 2, 37, 102, 69]\n"
     ]
    }
   ],
   "source": [
    "\n",
    "import matplotlib.pyplot as plt\n",
    "import math\n",
    "\n",
    "def f1(x,zdata,xylis,df3):\n",
    "    \n",
    "   \n",
    "    df1=df3.buses_t.v_mag_pu\n",
    "    mini=100000000000\n",
    "    for i in range(118):\n",
    "        if(df1.iloc[0][i]<mini):\n",
    "            mini=df1.iloc[0][i]\n",
    "    vdev=(1-mini)\n",
    "     \n",
    "    return vdev*100\n",
    "def f2(x,zdata,xylis,df3):\n",
    "    \n",
    "   \n",
    "    df5 = df3.lines_t\n",
    "    nploss=0\n",
    "    for i in range(186):\n",
    "        nploss+=(df5.p0.iloc[0][i]+df5.p1.iloc[0][i])\n",
    "        \n",
    "    for i in range(1,7):\n",
    "        network.remove(\"Load\",\"Load No {}\".format(i)) \n",
    "    return abs(nploss*250.57)\n",
    "\n",
    "size = 5\n",
    "minv = [1,1,1,1,1,1]\n",
    "maxv = [118,118,118,118,118,118]\n",
    "lof  = [f1, f2]\n",
    "gen  = 3\n",
    "eta  = 3\n",
    "\n",
    "\n",
    "# Calling PAES Function\n",
    "paes_kursawe1 = pareto_archived_evolution_strategy(population_size = size, min_values = minv, max_values = maxv, list_of_functions = lof, generations = gen, eta = eta)\n",
    "\n",
    "plt.style.use('bmh')\n",
    "plt.figure(figsize = (10, 5))\n",
    "plt.xlabel('Function 1', fontsize = 12)\n",
    "plt.ylabel('Function 2', fontsize = 12)\n",
    "plt.scatter(paes_kursawe[:,-2], paes_kursawe[:,-1], c = 'r', s = 45, marker = 'o', label = 'OMOPSO')\n",
    "##plt.scatter(kursawe_1,          kursawe_2,             c = 'k', s = 2,  marker = '.', label = 'Solutions')\n",
    "plt.legend(loc = 'upper right')\n",
    "plt.show()\n",
    "\n",
    "\n",
    "func=[]\n",
    "func1=paes_kursawe[:,-2]\n",
    "func2=paes_kursawe[:,-1]\n",
    "for i in range(len(func1)):\n",
    "    func.append([func1[i],func2[i]])\n",
    "\n",
    "\n",
    "treeDepth = math.floor(math.log(len(func), 2))\n",
    " \n",
    "print(\"The optimal value is : \", end = \"\")\n",
    "minimaxval=minimax(0, 0, True, func, treeDepth)\n",
    "print(minimaxval)\n",
    "\n",
    "for i in paes_kursawe1:\n",
    "    if(minimaxval[0] in i):\n",
    "        xlist=i\n",
    "        \n",
    "xlist=[int(i) for i in xlist]\n",
    "print(xlist[:6])\n"
   ]
  },
  {
   "cell_type": "code",
   "execution_count": 52,
   "metadata": {},
   "outputs": [
    {
     "ename": "NameError",
     "evalue": "name 'function2' is not defined",
     "output_type": "error",
     "traceback": [
      "\u001b[1;31m---------------------------------------------------------------------------\u001b[0m",
      "\u001b[1;31mNameError\u001b[0m                                 Traceback (most recent call last)",
      "\u001b[1;32m<ipython-input-52-268fb310066c>\u001b[0m in \u001b[0;36m<module>\u001b[1;34m\u001b[0m\n\u001b[0;32m      1\u001b[0m \u001b[0mplt\u001b[0m\u001b[1;33m.\u001b[0m\u001b[0mxlabel\u001b[0m\u001b[1;33m(\u001b[0m\u001b[1;34m'NPL'\u001b[0m\u001b[1;33m,\u001b[0m \u001b[0mfontsize\u001b[0m\u001b[1;33m=\u001b[0m\u001b[1;36m15\u001b[0m\u001b[1;33m)\u001b[0m\u001b[1;33m\u001b[0m\u001b[1;33m\u001b[0m\u001b[0m\n\u001b[0;32m      2\u001b[0m \u001b[0mplt\u001b[0m\u001b[1;33m.\u001b[0m\u001b[0mylabel\u001b[0m\u001b[1;33m(\u001b[0m\u001b[1;34m'MVD'\u001b[0m\u001b[1;33m,\u001b[0m \u001b[0mfontsize\u001b[0m\u001b[1;33m=\u001b[0m\u001b[1;36m15\u001b[0m\u001b[1;33m)\u001b[0m\u001b[1;33m\u001b[0m\u001b[1;33m\u001b[0m\u001b[0m\n\u001b[1;32m----> 3\u001b[1;33m \u001b[0mplt\u001b[0m\u001b[1;33m.\u001b[0m\u001b[0mscatter\u001b[0m\u001b[1;33m(\u001b[0m\u001b[0mfunction2\u001b[0m\u001b[1;33m,\u001b[0m \u001b[0mfunction1\u001b[0m\u001b[1;33m)\u001b[0m\u001b[1;33m\u001b[0m\u001b[1;33m\u001b[0m\u001b[0m\n\u001b[0m\u001b[0;32m      4\u001b[0m \u001b[0mplt\u001b[0m\u001b[1;33m.\u001b[0m\u001b[0mshow\u001b[0m\u001b[1;33m(\u001b[0m\u001b[1;33m)\u001b[0m\u001b[1;33m\u001b[0m\u001b[1;33m\u001b[0m\u001b[0m\n",
      "\u001b[1;31mNameError\u001b[0m: name 'function2' is not defined"
     ]
    },
    {
     "data": {
      "image/png": "[encoded data removed]",
      "text/plain": [
       "<Figure size 432x288 with 1 Axes>"
      ]
     },
     "metadata": {
      "needs_background": "light"
     },
     "output_type": "display_data"
    }
   ],
   "source": [
    "plt.xlabel('NPL', fontsize=15)\n",
    "plt.ylabel('MVD', fontsize=15)\n",
    "plt.scatter(function2, function1)\n",
    "plt.show()\n"
   ]
  },
  {
   "cell_type": "code",
   "execution_count": 55,
   "metadata": {},
   "outputs": [
    {
     "name": "stdout",
     "output_type": "stream",
     "text": [
      "[90, 28, 70, 57, 58, 11]\n"
     ]
    },
    {
     "name": "stderr",
     "output_type": "stream",
     "text": [
      "INFO:pypsa.pf:Performing non-linear load-flow on AC sub-network SubNetwork 0 for snapshots Index(['now'], dtype='object')\n",
      "INFO:pypsa.pf:Newton-Raphson solved in 4 iterations with error of 0.000000 in 0.052460 seconds\n"
     ]
    },
    {
     "name": "stdout",
     "output_type": "stream",
     "text": [
      "[13, 118, 5, 78, 60, 26]\n"
     ]
    },
    {
     "name": "stderr",
     "output_type": "stream",
     "text": [
      "INFO:pypsa.pf:Performing non-linear load-flow on AC sub-network SubNetwork 0 for snapshots Index(['now'], dtype='object')\n",
      "INFO:pypsa.pf:Newton-Raphson solved in 4 iterations with error of 0.000000 in 0.059997 seconds\n"
     ]
    },
    {
     "name": "stdout",
     "output_type": "stream",
     "text": [
      "[106, 33, 38, 52, 89, 71]\n"
     ]
    },
    {
     "name": "stderr",
     "output_type": "stream",
     "text": [
      "INFO:pypsa.pf:Performing non-linear load-flow on AC sub-network SubNetwork 0 for snapshots Index(['now'], dtype='object')\n",
      "INFO:pypsa.pf:Newton-Raphson solved in 4 iterations with error of 0.000000 in 0.050001 seconds\n"
     ]
    },
    {
     "name": "stdout",
     "output_type": "stream",
     "text": [
      "[96, 41, 67, 85, 16, 71]\n"
     ]
    },
    {
     "name": "stderr",
     "output_type": "stream",
     "text": [
      "INFO:pypsa.pf:Performing non-linear load-flow on AC sub-network SubNetwork 0 for snapshots Index(['now'], dtype='object')\n",
      "INFO:pypsa.pf:Newton-Raphson solved in 4 iterations with error of 0.000000 in 0.056049 seconds\n"
     ]
    },
    {
     "name": "stdout",
     "output_type": "stream",
     "text": [
      "[116, 85, 16, 81, 27, 69]\n"
     ]
    },
    {
     "name": "stderr",
     "output_type": "stream",
     "text": [
      "INFO:pypsa.pf:Performing non-linear load-flow on AC sub-network SubNetwork 0 for snapshots Index(['now'], dtype='object')\n",
      "INFO:pypsa.pf:Newton-Raphson solved in 4 iterations with error of 0.000000 in 0.049962 seconds\n"
     ]
    },
    {
     "name": "stdout",
     "output_type": "stream",
     "text": [
      "[90, 28, 70, 57, 58, 11]\n"
     ]
    },
    {
     "name": "stderr",
     "output_type": "stream",
     "text": [
      "INFO:pypsa.pf:Performing non-linear load-flow on AC sub-network SubNetwork 0 for snapshots Index(['now'], dtype='object')\n",
      "INFO:pypsa.pf:Newton-Raphson solved in 4 iterations with error of 0.000000 in 0.050003 seconds\n"
     ]
    },
    {
     "name": "stdout",
     "output_type": "stream",
     "text": [
      "[13, 118, 5, 78, 60, 26]\n"
     ]
    },
    {
     "name": "stderr",
     "output_type": "stream",
     "text": [
      "INFO:pypsa.pf:Performing non-linear load-flow on AC sub-network SubNetwork 0 for snapshots Index(['now'], dtype='object')\n",
      "INFO:pypsa.pf:Newton-Raphson solved in 4 iterations with error of 0.000000 in 0.050035 seconds\n"
     ]
    },
    {
     "name": "stdout",
     "output_type": "stream",
     "text": [
      "[106, 33, 38, 52, 89, 71]\n"
     ]
    },
    {
     "name": "stderr",
     "output_type": "stream",
     "text": [
      "INFO:pypsa.pf:Performing non-linear load-flow on AC sub-network SubNetwork 0 for snapshots Index(['now'], dtype='object')\n",
      "INFO:pypsa.pf:Newton-Raphson solved in 4 iterations with error of 0.000000 in 0.046095 seconds\n"
     ]
    },
    {
     "name": "stdout",
     "output_type": "stream",
     "text": [
      "[96, 41, 67, 85, 16, 71]\n"
     ]
    },
    {
     "name": "stderr",
     "output_type": "stream",
     "text": [
      "INFO:pypsa.pf:Performing non-linear load-flow on AC sub-network SubNetwork 0 for snapshots Index(['now'], dtype='object')\n",
      "INFO:pypsa.pf:Newton-Raphson solved in 4 iterations with error of 0.000000 in 0.060003 seconds\n"
     ]
    },
    {
     "name": "stdout",
     "output_type": "stream",
     "text": [
      "[116, 85, 16, 81, 27, 69]\n"
     ]
    },
    {
     "name": "stderr",
     "output_type": "stream",
     "text": [
      "INFO:pypsa.pf:Performing non-linear load-flow on AC sub-network SubNetwork 0 for snapshots Index(['now'], dtype='object')\n",
      "INFO:pypsa.pf:Newton-Raphson solved in 4 iterations with error of 0.000000 in 0.050002 seconds\n"
     ]
    },
    {
     "name": "stdout",
     "output_type": "stream",
     "text": [
      "Generation =  0\n",
      "[13, 118, 5, 78, 60, 26]\n"
     ]
    },
    {
     "name": "stderr",
     "output_type": "stream",
     "text": [
      "INFO:pypsa.pf:Performing non-linear load-flow on AC sub-network SubNetwork 0 for snapshots Index(['now'], dtype='object')\n",
      "INFO:pypsa.pf:Newton-Raphson solved in 4 iterations with error of 0.000000 in 0.050003 seconds\n"
     ]
    },
    {
     "name": "stdout",
     "output_type": "stream",
     "text": [
      "[13, 117, 4, 78, 59, 26]\n"
     ]
    },
    {
     "name": "stderr",
     "output_type": "stream",
     "text": [
      "INFO:pypsa.pf:Performing non-linear load-flow on AC sub-network SubNetwork 0 for snapshots Index(['now'], dtype='object')\n",
      "INFO:pypsa.pf:Newton-Raphson solved in 3 iterations with error of 0.000000 in 0.040000 seconds\n"
     ]
    },
    {
     "name": "stdout",
     "output_type": "stream",
     "text": [
      "[90, 28, 70, 57, 58, 11]\n"
     ]
    },
    {
     "name": "stderr",
     "output_type": "stream",
     "text": [
      "INFO:pypsa.pf:Performing non-linear load-flow on AC sub-network SubNetwork 0 for snapshots Index(['now'], dtype='object')\n",
      "INFO:pypsa.pf:Newton-Raphson solved in 4 iterations with error of 0.000000 in 0.050072 seconds\n"
     ]
    },
    {
     "name": "stdout",
     "output_type": "stream",
     "text": [
      "[96, 41, 67, 85, 16, 71]\n"
     ]
    },
    {
     "name": "stderr",
     "output_type": "stream",
     "text": [
      "INFO:pypsa.pf:Performing non-linear load-flow on AC sub-network SubNetwork 0 for snapshots Index(['now'], dtype='object')\n",
      "INFO:pypsa.pf:Newton-Raphson solved in 4 iterations with error of 0.000000 in 0.050000 seconds\n"
     ]
    },
    {
     "name": "stdout",
     "output_type": "stream",
     "text": [
      "[90, 27, 70, 56, 57, 10]\n"
     ]
    },
    {
     "name": "stderr",
     "output_type": "stream",
     "text": [
      "INFO:pypsa.pf:Performing non-linear load-flow on AC sub-network SubNetwork 0 for snapshots Index(['now'], dtype='object')\n",
      "INFO:pypsa.pf:Newton-Raphson solved in 4 iterations with error of 0.000000 in 0.049966 seconds\n"
     ]
    },
    {
     "name": "stdout",
     "output_type": "stream",
     "text": [
      "Generation =  1\n",
      "[13, 118, 5, 78, 60, 26]\n"
     ]
    },
    {
     "name": "stderr",
     "output_type": "stream",
     "text": [
      "INFO:pypsa.pf:Performing non-linear load-flow on AC sub-network SubNetwork 0 for snapshots Index(['now'], dtype='object')\n",
      "INFO:pypsa.pf:Newton-Raphson solved in 4 iterations with error of 0.000000 in 0.063110 seconds\n"
     ]
    },
    {
     "name": "stdout",
     "output_type": "stream",
     "text": [
      "[13, 117, 4, 78, 59, 26]\n"
     ]
    },
    {
     "name": "stderr",
     "output_type": "stream",
     "text": [
      "INFO:pypsa.pf:Performing non-linear load-flow on AC sub-network SubNetwork 0 for snapshots Index(['now'], dtype='object')\n",
      "INFO:pypsa.pf:Newton-Raphson solved in 3 iterations with error of 0.000000 in 0.039997 seconds\n"
     ]
    },
    {
     "name": "stdout",
     "output_type": "stream",
     "text": [
      "[12, 117, 4, 77, 60, 26]\n"
     ]
    },
    {
     "name": "stderr",
     "output_type": "stream",
     "text": [
      "INFO:pypsa.pf:Performing non-linear load-flow on AC sub-network SubNetwork 0 for snapshots Index(['now'], dtype='object')\n",
      "INFO:pypsa.pf:Newton-Raphson solved in 3 iterations with error of 0.000000 in 0.039963 seconds\n"
     ]
    },
    {
     "name": "stdout",
     "output_type": "stream",
     "text": [
      "[13, 117, 4, 78, 59, 26]\n"
     ]
    },
    {
     "name": "stderr",
     "output_type": "stream",
     "text": [
      "INFO:pypsa.pf:Performing non-linear load-flow on AC sub-network SubNetwork 0 for snapshots Index(['now'], dtype='object')\n",
      "INFO:pypsa.pf:Newton-Raphson solved in 3 iterations with error of 0.000000 in 0.039967 seconds\n"
     ]
    },
    {
     "name": "stdout",
     "output_type": "stream",
     "text": [
      "[90, 28, 70, 57, 58, 11]\n"
     ]
    },
    {
     "name": "stderr",
     "output_type": "stream",
     "text": [
      "INFO:pypsa.pf:Performing non-linear load-flow on AC sub-network SubNetwork 0 for snapshots Index(['now'], dtype='object')\n",
      "INFO:pypsa.pf:Newton-Raphson solved in 4 iterations with error of 0.000000 in 0.049964 seconds\n"
     ]
    },
    {
     "name": "stdout",
     "output_type": "stream",
     "text": [
      "Generation =  2\n",
      "[13, 118, 5, 78, 60, 26]\n"
     ]
    },
    {
     "name": "stderr",
     "output_type": "stream",
     "text": [
      "INFO:pypsa.pf:Performing non-linear load-flow on AC sub-network SubNetwork 0 for snapshots Index(['now'], dtype='object')\n",
      "INFO:pypsa.pf:Newton-Raphson solved in 4 iterations with error of 0.000000 in 0.050001 seconds\n"
     ]
    },
    {
     "name": "stdout",
     "output_type": "stream",
     "text": [
      "[13, 117, 4, 78, 59, 26]\n"
     ]
    },
    {
     "name": "stderr",
     "output_type": "stream",
     "text": [
      "INFO:pypsa.pf:Performing non-linear load-flow on AC sub-network SubNetwork 0 for snapshots Index(['now'], dtype='object')\n",
      "INFO:pypsa.pf:Newton-Raphson solved in 3 iterations with error of 0.000000 in 0.039963 seconds\n"
     ]
    },
    {
     "name": "stdout",
     "output_type": "stream",
     "text": [
      "[12, 117, 4, 77, 60, 26]\n"
     ]
    },
    {
     "name": "stderr",
     "output_type": "stream",
     "text": [
      "INFO:pypsa.pf:Performing non-linear load-flow on AC sub-network SubNetwork 0 for snapshots Index(['now'], dtype='object')\n",
      "INFO:pypsa.pf:Newton-Raphson solved in 3 iterations with error of 0.000000 in 0.040003 seconds\n"
     ]
    },
    {
     "name": "stdout",
     "output_type": "stream",
     "text": [
      "[13, 117, 4, 78, 59, 26]\n"
     ]
    },
    {
     "name": "stderr",
     "output_type": "stream",
     "text": [
      "INFO:pypsa.pf:Performing non-linear load-flow on AC sub-network SubNetwork 0 for snapshots Index(['now'], dtype='object')\n",
      "INFO:pypsa.pf:Newton-Raphson solved in 3 iterations with error of 0.000000 in 0.039962 seconds\n"
     ]
    },
    {
     "name": "stdout",
     "output_type": "stream",
     "text": [
      "[12, 0, 5, 78, 59, 25]\n"
     ]
    },
    {
     "name": "stderr",
     "output_type": "stream",
     "text": [
      "INFO:pypsa.pf:Performing non-linear load-flow on AC sub-network SubNetwork 0 for snapshots Index(['now'], dtype='object')\n",
      "INFO:pypsa.pf:Newton-Raphson solved in 4 iterations with error of 0.000000 in 0.048073 seconds\n"
     ]
    },
    {
     "name": "stdout",
     "output_type": "stream",
     "text": [
      "Generation =  3\n",
      "[13, 118, 5, 78, 60, 26]\n"
     ]
    },
    {
     "name": "stderr",
     "output_type": "stream",
     "text": [
      "INFO:pypsa.pf:Performing non-linear load-flow on AC sub-network SubNetwork 0 for snapshots Index(['now'], dtype='object')\n",
      "INFO:pypsa.pf:Newton-Raphson solved in 4 iterations with error of 0.000000 in 0.050000 seconds\n"
     ]
    },
    {
     "name": "stdout",
     "output_type": "stream",
     "text": [
      "[13, 117, 4, 78, 59, 26]\n"
     ]
    },
    {
     "name": "stderr",
     "output_type": "stream",
     "text": [
      "INFO:pypsa.pf:Performing non-linear load-flow on AC sub-network SubNetwork 0 for snapshots Index(['now'], dtype='object')\n",
      "INFO:pypsa.pf:Newton-Raphson solved in 3 iterations with error of 0.000000 in 0.034044 seconds\n"
     ]
    },
    {
     "name": "stdout",
     "output_type": "stream",
     "text": [
      "[12, 117, 4, 77, 60, 26]\n"
     ]
    },
    {
     "name": "stderr",
     "output_type": "stream",
     "text": [
      "INFO:pypsa.pf:Performing non-linear load-flow on AC sub-network SubNetwork 0 for snapshots Index(['now'], dtype='object')\n",
      "INFO:pypsa.pf:Newton-Raphson solved in 3 iterations with error of 0.000000 in 0.034144 seconds\n"
     ]
    },
    {
     "name": "stdout",
     "output_type": "stream",
     "text": [
      "[13, 117, 4, 78, 59, 26]\n"
     ]
    },
    {
     "name": "stderr",
     "output_type": "stream",
     "text": [
      "INFO:pypsa.pf:Performing non-linear load-flow on AC sub-network SubNetwork 0 for snapshots Index(['now'], dtype='object')\n",
      "INFO:pypsa.pf:Newton-Raphson solved in 3 iterations with error of 0.000000 in 0.047999 seconds\n"
     ]
    },
    {
     "name": "stdout",
     "output_type": "stream",
     "text": [
      "[12, 0, 5, 78, 59, 25]\n"
     ]
    },
    {
     "name": "stderr",
     "output_type": "stream",
     "text": [
      "INFO:pypsa.pf:Performing non-linear load-flow on AC sub-network SubNetwork 0 for snapshots Index(['now'], dtype='object')\n",
      "INFO:pypsa.pf:Newton-Raphson solved in 4 iterations with error of 0.000000 in 0.059962 seconds\n"
     ]
    },
    {
     "name": "stdout",
     "output_type": "stream",
     "text": [
      "The optimal value is : [26.141860707410498, 0.6576549681684418, 122728.40596329891]\n",
      "[13, 117, 4, 78, 59, 26]\n"
     ]
    },
    {
     "data": {
      "image/png": "[encoded data removed]",
      "text/plain": [
       "<Figure size 432x288 with 1 Axes>"
      ]
     },
     "metadata": {
      "needs_background": "light"
     },
     "output_type": "display_data"
    }
   ],
   "source": [
    "def f1(x,zdata,xylis,df3):\n",
    "    \n",
    "   \n",
    "    df1=df3.buses_t.v_mag_pu\n",
    "    mini=100000000000\n",
    "    for i in range(118):\n",
    "        if(df1.iloc[0][i]<mini):\n",
    "            mini=df1.iloc[0][i]\n",
    "    vdev=(1-mini)\n",
    "     \n",
    "    return vdev*100\n",
    "def f2(x,zdata,xylis,df3):\n",
    "    \n",
    "   \n",
    "    df5 = df3.lines_t\n",
    "    nploss=0\n",
    "    for i in range(186):\n",
    "        nploss+=(df5.p0.iloc[0][i]+df5.p1.iloc[0][i])\n",
    "        \n",
    "    for i in range(1,7):\n",
    "        network.remove(\"Load\",\"Load No {}\".format(i)) \n",
    "    return abs(nploss*250.57)\n",
    "\n",
    "def f3(x,zdata,xylis,df3):\n",
    "    s = 0\n",
    "    \n",
    "    \n",
    "     \n",
    "    for zon in range(1,181):\n",
    "       \n",
    "        s+=evucnew(zon,xylis)\n",
    "    \n",
    "    \n",
    "    return s\n",
    "\n",
    "size = 5\n",
    "minv = [1,1,1,1,1,1]\n",
    "maxv = [118,118,118,118,118,118]\n",
    "lof  = [f1, f2]\n",
    "gen  = 3\n",
    "eta  = 3\n",
    "\n",
    "\n",
    "# Calling PAES Function\n",
    "paes_kursawe1 = pareto_archived_evolution_strategy(population_size = size, min_values = minv, max_values = maxv, list_of_functions = lof, generations = gen, eta = eta)\n",
    "\n",
    "\n",
    "\n",
    "\n",
    "\n",
    "func=[]\n",
    "func1=paes_kursawe1[:,-3]\n",
    "func2=paes_kursawe1[:,-2]\n",
    "func3=paes_kursawe1[:,-1]\n",
    "for i in range(len(func1)):\n",
    "    func.append([func1[i],func2[i],func3[i]])\n",
    "\n",
    "ax = plt.axes(projection='3d')\n",
    "function1 = [i[0] for i in func]\n",
    "function2 = [i[1] for i in func]\n",
    "function3 = [i[2] for i in func]\n",
    "ax.scatter3D(function1, function2, function3, c=function3)\n",
    "\n",
    "\n",
    "treeDepth = math.floor(math.log(len(func), 2))\n",
    " \n",
    "print(\"The optimal value is : \", end = \"\")\n",
    "minimaxval=minimax(0, 0, True, func, treeDepth)\n",
    "print(minimaxval)\n",
    "\n",
    "for i in paes_kursawe1:\n",
    "    if(minimaxval[0] in i):\n",
    "        xlist=i\n",
    "        \n",
    "xlist=[int(i) for i in xlist]\n",
    "print(xlist[:6])\n"
   ]
  },
  {
   "cell_type": "code",
   "execution_count": 56,
   "metadata": {},
   "outputs": [
    {
     "data": {
      "text/html": [
       "<details>\n",
       "<summary>Click to view session information</summary>\n",
       "<pre>\n",
       "-----\n",
       "matplotlib          3.5.0\n",
       "numpy               1.21.4\n",
       "pandas              1.3.4\n",
       "pypsa               0.18.1\n",
       "session_info        1.0.0\n",
       "termcolor           1.1.0\n",
       "-----\n",
       "</pre>\n",
       "<details>\n",
       "<summary>Click to view modules imported as dependencies</summary>\n",
       "<pre>\n",
       "PIL                 8.3.2\n",
       "backcall            0.1.0\n",
       "bottleneck          1.2.1\n",
       "cffi                1.12.2\n",
       "cftime              1.5.1.1\n",
       "click               8.0.1\n",
       "cloudpickle         0.8.0\n",
       "colorama            0.4.1\n",
       "cycler              0.10.0\n",
       "cython_runtime      NA\n",
       "cytoolz             0.9.0.1\n",
       "dask                1.1.4\n",
       "dateutil            2.8.0\n",
       "decorator           4.4.0\n",
       "defusedxml          0.5.0\n",
       "deprecation         2.1.0\n",
       "distributed         1.26.0\n",
       "importlib_metadata  NA\n",
       "ipykernel           5.1.0\n",
       "ipython_genutils    0.2.0\n",
       "ipywidgets          7.4.2\n",
       "jdcal               1.4\n",
       "jedi                0.13.3\n",
       "kiwisolver          1.0.1\n",
       "lxml                NA\n",
       "mpl_toolkits        NA\n",
       "msgpack             0.6.1\n",
       "netCDF4             1.5.8\n",
       "networkx            2.6.3\n",
       "nt                  NA\n",
       "numexpr             2.6.9\n",
       "openpyxl            3.0.0\n",
       "packaging           21.3\n",
       "parso               0.3.4\n",
       "pickleshare         0.7.5\n",
       "pkg_resources       NA\n",
       "plotly              4.14.3\n",
       "ply                 3.11\n",
       "prompt_toolkit      2.0.9\n",
       "psutil              5.6.1\n",
       "pygments            2.3.1\n",
       "pyomo               6.1.2\n",
       "pyparsing           2.3.1\n",
       "pythoncom           NA\n",
       "pytz                2018.9\n",
       "pywintypes          NA\n",
       "scipy               1.2.1\n",
       "six                 1.12.0\n",
       "sortedcontainers    2.1.0\n",
       "sphinxcontrib       NA\n",
       "storemagic          NA\n",
       "tblib               1.3.2\n",
       "toolz               0.9.0\n",
       "tornado             6.0.2\n",
       "traitlets           4.3.2\n",
       "typing_extensions   NA\n",
       "wcwidth             NA\n",
       "win32api            NA\n",
       "win32com            NA\n",
       "win32file           NA\n",
       "win32pipe           NA\n",
       "xarray              0.20.1\n",
       "xlrd                1.2.0\n",
       "yaml                5.1\n",
       "zipp                NA\n",
       "zmq                 18.0.0\n",
       "zope                NA\n",
       "</pre>\n",
       "</details> <!-- seems like this ends pre, so might as well be explicit -->\n",
       "<pre>\n",
       "-----\n",
       "IPython             7.4.0\n",
       "jupyter_client      5.2.4\n",
       "jupyter_core        4.4.0\n",
       "jupyterlab          0.35.4\n",
       "notebook            5.7.8\n",
       "-----\n",
       "Python 3.7.3 (default, Mar 27 2019, 17:13:21) [MSC v.1915 64 bit (AMD64)]\n",
       "Windows-10-10.0.19041-SP0\n",
       "-----\n",
       "Session information updated at 2022-05-08 10:54\n",
       "</pre>\n",
       "</details>"
      ],
      "text/plain": [
       "<IPython.core.display.HTML object>"
      ]
     },
     "execution_count": 56,
     "metadata": {},
     "output_type": "execute_result"
    }
   ],
   "source": [
    "import session_info\n",
    "session_info.show()\n"
   ]
  },
  {
   "cell_type": "code",
   "execution_count": null,
   "metadata": {},
   "outputs": [],
   "source": []
  },
  {
   "cell_type": "code",
   "execution_count": null,
   "metadata": {},
   "outputs": [],
   "source": [
    "def sdcnew(x):\n",
    "    xylis=[]\n",
    "    \n",
    "    for busno in x:\n",
    "        xbus=busxy['x'][busno-1]\n",
    "        ybus=busxy['y'][busno-1]\n",
    "        xylis.append([xbus,ybus])\n",
    "    \n",
    "    zdata=pd.read_excel(\"xy.xlsx\",sheet_name=\"Sheet3\")\n",
    "    for j in range(1,181):\n",
    "\n",
    "        dist=100000000\n",
    "        h=0\n",
    "        \n",
    "        for i in xylis:\n",
    "            x1=zonexy['x'][j-1]\n",
    "            x2=i[0]\n",
    "            y1=zonexy['y'][j-1]\n",
    "            y2=i[1]\n",
    "\n",
    "            dist1=np.sqrt((x2-x1)**2 + (y2-y1)**2)\n",
    "            if(dist1<dist):\n",
    "                dist=dist1\n",
    "                h=(xylis.index(i))+1\n",
    "\n",
    "        df2 = {'st': h, 'zone':j}\n",
    "        zdata = zdata.append(df2, ignore_index = True)\n",
    "        \n",
    "        \n",
    "    sdcval=0\n",
    "    for x in range(1,ns+1):\n",
    "        \n",
    "        value=sdc(x)\n",
    "        sdcval+=value\n",
    "        \n",
    "    print(sdcval)"
   ]
  },
  {
   "cell_type": "code",
   "execution_count": null,
   "metadata": {},
   "outputs": [],
   "source": [
    "sdcnew([11,56,61,65,78,112])"
   ]
  },
  {
   "cell_type": "code",
   "execution_count": null,
   "metadata": {},
   "outputs": [],
   "source": [
    "sdcnew([7,12,15,24,70,71])"
   ]
  },
  {
   "cell_type": "code",
   "execution_count": null,
   "metadata": {},
   "outputs": [],
   "source": []
  }
 ],
 "metadata": {
  "extensions": {
   "jupyter_dashboards": {
    "activeView": "grid_default",
    "version": 1,
    "views": {
     "grid_default": {
      "cellMargin": 10,
      "defaultCellHeight": 20,
      "maxColumns": 12,
      "name": "grid",
      "type": "grid"
     },
     "report_default": {
      "name": "report",
      "type": "report"
     }
    }
   }
  },
  "kernelspec": {
   "display_name": "Python 3",
   "language": "python",
   "name": "python3"
  },
  "language_info": {
   "codemirror_mode": {
    "name": "ipython",
    "version": 3
   },
   "file_extension": ".py",
   "mimetype": "text/x-python",
   "name": "python",
   "nbconvert_exporter": "python",
   "pygments_lexer": "ipython3",
   "version": "3.7.3"
  }
 },
 "nbformat": 4,
 "nbformat_minor": 2
}
