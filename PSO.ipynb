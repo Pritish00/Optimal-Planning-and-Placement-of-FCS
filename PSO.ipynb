{
 "cells": [
  {
   "cell_type": "markdown",
   "metadata": {
    "extensions": {
     "jupyter_dashboards": {
      "version": 1,
      "views": {
       "grid_default": {},
       "report_default": {}
      }
     }
    }
   },
   "source": [
    "# Optimal number of FCs"
   ]
  },
  {
   "cell_type": "markdown",
   "metadata": {
    "extensions": {
     "jupyter_dashboards": {
      "version": 1,
      "views": {
       "grid_default": {},
       "report_default": {}
      }
     }
    }
   },
   "source": [
    "Importing Required Libraries"
   ]
  },
  {
   "cell_type": "code",
   "execution_count": null,
   "metadata": {},
   "outputs": [],
   "source": [
    "pip install --upgrade matplotlib"
   ]
  },
  {
   "cell_type": "code",
   "execution_count": null,
   "metadata": {},
   "outputs": [],
   "source": [
    "import matplotlib.pyplot as plt"
   ]
  },
  {
   "cell_type": "code",
   "execution_count": 1,
   "metadata": {
    "extensions": {
     "jupyter_dashboards": {
      "version": 1,
      "views": {
       "grid_default": {},
       "report_default": {}
      }
     }
    }
   },
   "outputs": [
    {
     "name": "stderr",
     "output_type": "stream",
     "text": [
      "D:\\Anaconda\\lib\\site-packages\\pandas\\compat\\_optional.py:138: UserWarning: Pandas requires version '2.7.0' or newer of 'numexpr' (version '2.6.9' currently installed).\n",
      "  warnings.warn(msg, UserWarning)\n",
      "D:\\Anaconda\\lib\\site-packages\\dask\\config.py:168: YAMLLoadWarning: calling yaml.load() without Loader=... is deprecated, as the default Loader is unsafe. Please read https://msg.pyyaml.org/load for full details.\n",
      "  data = yaml.load(f.read()) or {}\n",
      "D:\\Anaconda\\lib\\site-packages\\distributed\\config.py:20: YAMLLoadWarning: calling yaml.load() without Loader=... is deprecated, as the default Loader is unsafe. Please read https://msg.pyyaml.org/load for full details.\n",
      "  defaults = yaml.load(f)\n"
     ]
    }
   ],
   "source": [
    "import pandas as pd\n",
    "import numpy as np\n",
    "import pypsa\n",
    "import random\n",
    "import matplotlib.pyplot as plt\n",
    "import copy"
   ]
  },
  {
   "cell_type": "code",
   "execution_count": 2,
   "metadata": {
    "extensions": {
     "jupyter_dashboards": {
      "version": 1,
      "views": {
       "grid_default": {},
       "report_default": {}
      }
     }
    }
   },
   "outputs": [
    {
     "name": "stdout",
     "output_type": "stream",
     "text": [
      "      sr  zone   x   y\n",
      "0      1     0   0  11\n",
      "1      2     3   0  10\n",
      "2      3     7   0   9\n",
      "3      4     6   0   8\n",
      "4      5     4   0   7\n",
      "..   ...   ...  ..  ..\n",
      "175  176     6  14   4\n",
      "176  177     8  14   3\n",
      "177  178     3  14   2\n",
      "178  179     0  14   1\n",
      "179  180     4  14   0\n",
      "\n",
      "[180 rows x 4 columns]\n"
     ]
    }
   ],
   "source": [
    "zonexy=pd.read_excel(\"xy.xlsx\",sheet_name=\"Sheet2\")  ##Study Area Data\n",
    "print(zonexy)"
   ]
  },
  {
   "cell_type": "code",
   "execution_count": 3,
   "metadata": {
    "extensions": {
     "jupyter_dashboards": {
      "version": 1,
      "views": {
       "grid_default": {},
       "report_default": {}
      }
     }
    }
   },
   "outputs": [],
   "source": [
    "zdata=pd.read_excel(\"xy.xlsx\",sheet_name=\"Sheet3\")\n"
   ]
  },
  {
   "cell_type": "code",
   "execution_count": 4,
   "metadata": {
    "extensions": {
     "jupyter_dashboards": {
      "version": 1,
      "views": {
       "grid_default": {},
       "report_default": {}
      }
     }
    }
   },
   "outputs": [
    {
     "name": "stdout",
     "output_type": "stream",
     "text": [
      "      sr  zone   x  y\n",
      "0      1     7   0  9\n",
      "1      2     7   0  5\n",
      "2      3     8   0  3\n",
      "3      4    11   1  9\n",
      "4      5    13   1  6\n",
      "..   ...   ...  .. ..\n",
      "113  114    12  13  4\n",
      "114  115    15  13  3\n",
      "115  116    13  13  2\n",
      "116  117     7  14  7\n",
      "117  118     8  14  3\n",
      "\n",
      "[118 rows x 4 columns]\n"
     ]
    }
   ],
   "source": [
    "busxy=pd.read_excel(\"bus1.xlsx\")     ##Bus Data\n",
    "print(busxy)"
   ]
  },
  {
   "cell_type": "code",
   "execution_count": 5,
   "metadata": {
    "extensions": {
     "jupyter_dashboards": {
      "version": 1,
      "views": {
       "grid_default": {},
       "report_default": {}
      }
     }
    }
   },
   "outputs": [],
   "source": [
    "def xyfc(ns):                        ##Funtion to place station Equdistantly\n",
    "    \n",
    "    x=118//(ns+1)\n",
    "    xy=[]\n",
    "    nos=x\n",
    "    n=0\n",
    "    while(n<ns):\n",
    "    \n",
    "        xcor=busxy['x'][nos-1]\n",
    "        ycor=busxy['y'][nos-1]\n",
    "        xy.append([xcor,ycor])\n",
    "        nos+=x\n",
    "        n+=1\n",
    "    return(xy)"
   ]
  },
  {
   "cell_type": "code",
   "execution_count": 6,
   "metadata": {
    "extensions": {
     "jupyter_dashboards": {
      "version": 1,
      "views": {
       "grid_default": {},
       "report_default": {}
      }
     }
    }
   },
   "outputs": [],
   "source": [
    "def s(j):                            ##Function for S(j)\n",
    "    z=1\n",
    "    sum1=0\n",
    "    while(z<=180):\n",
    "        var=0\n",
    "        if(zdata['st'][z-1]==j):\n",
    "            var=1\n",
    "        sum1+=(0.1*zonexy['zone'][z-1]*var)\n",
    "        z+=1\n",
    "    return sum1"
   ]
  },
  {
   "cell_type": "code",
   "execution_count": 7,
   "metadata": {
    "extensions": {
     "jupyter_dashboards": {
      "version": 1,
      "views": {
       "grid_default": {},
       "report_default": {}
      }
     }
    }
   },
   "outputs": [],
   "source": [
    "def sdc(cha):                         ##Function to calculate SDC\n",
    "    \n",
    "    val=70000+(25*240*s(cha))+(208.33*(s(cha)-1)*96)\n",
    "    return val"
   ]
  },
  {
   "cell_type": "code",
   "execution_count": 8,
   "metadata": {
    "extensions": {
     "jupyter_dashboards": {
      "version": 1,
      "views": {
       "grid_default": {},
       "report_default": {}
      }
     }
    }
   },
   "outputs": [],
   "source": [
    "def evuc(z):                           ##Function to calculate EVUC\n",
    "    vals=0\n",
    "    j=zdata[\"st\"][z-1]\n",
    "    x1=zonexy['x'][z-1]\n",
    "    x2=lis[j-1][0]\n",
    "    y1=zonexy['y'][z-1]\n",
    "    y2=lis[j-1][1]\n",
    "    dist1=np.sqrt((x2-x1)**2 + (y2-y1)**2)\n",
    "    \n",
    "    vals+=(dist1)*0.142*4*0.98*zonexy['zone'][z-1]*87.7\n",
    "    \n",
    "    return vals\n",
    "    \n",
    "    "
   ]
  },
  {
   "cell_type": "markdown",
   "metadata": {
    "extensions": {
     "jupyter_dashboards": {
      "version": 1,
      "views": {
       "grid_default": {},
       "report_default": {}
      }
     }
    }
   },
   "source": [
    "Process to find the Optimal Number of FCs"
   ]
  },
  {
   "cell_type": "code",
   "execution_count": 9,
   "metadata": {
    "extensions": {
     "jupyter_dashboards": {
      "version": 1,
      "views": {
       "grid_default": {},
       "report_default": {}
      }
     }
    }
   },
   "outputs": [
    {
     "name": "stdout",
     "output_type": "stream",
     "text": [
      "[4758107.043948352, 4716736.866156581, 4743671.780449519, 4783093.592155193, 4853034.630667915, 4930601.911632003, 5010335.218234033, 5056115.271347978, 5035300.7746197125, 5060542.890124918, 5101908.575189765]\n",
      "[5, 6, 7, 8, 9, 10, 11, 12, 13, 14, 15]\n"
     ]
    }
   ],
   "source": [
    "sdcarr=[]\n",
    "xaxis=[]\n",
    "for ns in range(5,16):\n",
    "    zdata=pd.read_excel(\"xy.xlsx\",sheet_name=\"Sheet3\")\n",
    "    xaxis.append(ns)\n",
    "\n",
    "    for j in range(1,181):\n",
    "\n",
    "        dist=100000000\n",
    "        h=0\n",
    "        lis=xyfc(ns)\n",
    "        for i in lis:\n",
    "            x1=zonexy['x'][j-1]\n",
    "            x2=i[0]\n",
    "            y1=zonexy['y'][j-1]\n",
    "            y2=i[1]\n",
    "\n",
    "            dist1=np.sqrt((x2-x1)**2 + (y2-y1)**2)\n",
    "            if(dist1<dist):\n",
    "                dist=dist1\n",
    "                h=(lis.index(i))+1\n",
    "\n",
    "        df2 = {'st': h, 'zone':j}\n",
    "        zdata = zdata.append(df2, ignore_index = True)\n",
    "       \n",
    "    sdcval=0\n",
    "    for x in range(1,ns+1):\n",
    "        \n",
    "        value=sdc(x)\n",
    "        sdcval+=value\n",
    "    evval=0\n",
    "    for zon in range(1,181):\n",
    "       \n",
    "        evval+=evuc(zon)\n",
    "        \n",
    "    sdcval+=evval\n",
    "    \n",
    "    sdcarr.append(sdcval)\n",
    "    \n",
    "print(sdcarr)\n",
    "print(xaxis)\n",
    "#print(zdata)\n",
    "        \n",
    "    \n",
    "    \n",
    "    \n",
    "    "
   ]
  },
  {
   "cell_type": "code",
   "execution_count": 10,
   "metadata": {
    "extensions": {
     "jupyter_dashboards": {
      "version": 1,
      "views": {
       "grid_default": {},
       "report_default": {}
      }
     }
    }
   },
   "outputs": [
    {
     "data": {
      "image/png": "[encoded data removed]",
      "text/plain": [
       "<Figure size 432x288 with 1 Axes>"
      ]
     },
     "metadata": {
      "needs_background": "light"
     },
     "output_type": "display_data"
    }
   ],
   "source": [
    "plt.scatter(xaxis,sdcarr)    ##Plotting of Objective Function\n",
    "plt.title(\"Optimal no. of Fast Charging Stations\")\n",
    "plt.xlabel(\"No. of Charging Station\")\n",
    "plt.ylabel(\"f(x)\")\n",
    "plt.show()"
   ]
  },
  {
   "cell_type": "code",
   "execution_count": 11,
   "metadata": {
    "extensions": {
     "jupyter_dashboards": {
      "version": 1,
      "views": {
       "grid_default": {},
       "report_default": {}
      }
     }
    }
   },
   "outputs": [
    {
     "data": {
      "text/plain": [
       "6"
      ]
     },
     "execution_count": 11,
     "metadata": {},
     "output_type": "execute_result"
    }
   ],
   "source": [
    "optimal_fcs=xaxis[sdcarr.index(min(sdcarr))]         ##Min number of FCs required.\n",
    "optimal_fcs\n"
   ]
  },
  {
   "cell_type": "code",
   "execution_count": 12,
   "metadata": {
    "extensions": {
     "jupyter_dashboards": {
      "version": 1,
      "views": {
       "grid_default": {},
       "report_default": {}
      }
     }
    }
   },
   "outputs": [
    {
     "data": {
      "text/html": [
       "<div>\n",
       "<style scoped>\n",
       "    .dataframe tbody tr th:only-of-type {\n",
       "        vertical-align: middle;\n",
       "    }\n",
       "\n",
       "    .dataframe tbody tr th {\n",
       "        vertical-align: top;\n",
       "    }\n",
       "\n",
       "    .dataframe thead th {\n",
       "        text-align: right;\n",
       "    }\n",
       "</style>\n",
       "<table border=\"1\" class=\"dataframe\">\n",
       "  <thead>\n",
       "    <tr style=\"text-align: right;\">\n",
       "      <th></th>\n",
       "      <th>zone</th>\n",
       "      <th>st</th>\n",
       "    </tr>\n",
       "  </thead>\n",
       "  <tbody>\n",
       "    <tr>\n",
       "      <th>0</th>\n",
       "      <td>1</td>\n",
       "      <td>3</td>\n",
       "    </tr>\n",
       "    <tr>\n",
       "      <th>1</th>\n",
       "      <td>2</td>\n",
       "      <td>3</td>\n",
       "    </tr>\n",
       "    <tr>\n",
       "      <th>2</th>\n",
       "      <td>3</td>\n",
       "      <td>2</td>\n",
       "    </tr>\n",
       "    <tr>\n",
       "      <th>3</th>\n",
       "      <td>4</td>\n",
       "      <td>2</td>\n",
       "    </tr>\n",
       "    <tr>\n",
       "      <th>4</th>\n",
       "      <td>5</td>\n",
       "      <td>2</td>\n",
       "    </tr>\n",
       "    <tr>\n",
       "      <th>...</th>\n",
       "      <td>...</td>\n",
       "      <td>...</td>\n",
       "    </tr>\n",
       "    <tr>\n",
       "      <th>175</th>\n",
       "      <td>176</td>\n",
       "      <td>6</td>\n",
       "    </tr>\n",
       "    <tr>\n",
       "      <th>176</th>\n",
       "      <td>177</td>\n",
       "      <td>6</td>\n",
       "    </tr>\n",
       "    <tr>\n",
       "      <th>177</th>\n",
       "      <td>178</td>\n",
       "      <td>6</td>\n",
       "    </tr>\n",
       "    <tr>\n",
       "      <th>178</th>\n",
       "      <td>179</td>\n",
       "      <td>6</td>\n",
       "    </tr>\n",
       "    <tr>\n",
       "      <th>179</th>\n",
       "      <td>180</td>\n",
       "      <td>5</td>\n",
       "    </tr>\n",
       "  </tbody>\n",
       "</table>\n",
       "<p>180 rows × 2 columns</p>\n",
       "</div>"
      ],
      "text/plain": [
       "    zone st\n",
       "0      1  3\n",
       "1      2  3\n",
       "2      3  2\n",
       "3      4  2\n",
       "4      5  2\n",
       "..   ... ..\n",
       "175  176  6\n",
       "176  177  6\n",
       "177  178  6\n",
       "178  179  6\n",
       "179  180  5\n",
       "\n",
       "[180 rows x 2 columns]"
      ]
     },
     "execution_count": 12,
     "metadata": {},
     "output_type": "execute_result"
    }
   ],
   "source": [
    "zdata=pd.read_excel(\"xy.xlsx\",sheet_name=\"Sheet3\")\n",
    "xaxis.append(ns)\n",
    "\n",
    "for j in range(1,181):\n",
    "\n",
    "    dist=100000000\n",
    "    h=0\n",
    "    lis=xyfc(optimal_fcs)\n",
    "    for i in lis:\n",
    "        x1=zonexy['x'][j-1]\n",
    "        x2=i[0]\n",
    "        y1=zonexy['y'][j-1]\n",
    "        y2=i[1]\n",
    "\n",
    "        dist1=np.sqrt((x2-x1)**2 + (y2-y1)**2)\n",
    "        if(dist1<dist):\n",
    "            dist=dist1\n",
    "            h=(lis.index(i))+1\n",
    "\n",
    "    df2 = {'st': h, 'zone':j}\n",
    "    zdata = zdata.append(df2, ignore_index = True)\n",
    "        \n",
    "zdata"
   ]
  },
  {
   "cell_type": "code",
   "execution_count": 13,
   "metadata": {
    "extensions": {
     "jupyter_dashboards": {
      "version": 1,
      "views": {
       "grid_default": {},
       "report_default": {}
      }
     }
    }
   },
   "outputs": [
    {
     "data": {
      "text/plain": [
       "[[0, 9],\n",
       " [0, 5],\n",
       " [0, 3],\n",
       " [1, 9],\n",
       " [1, 6],\n",
       " [1, 5],\n",
       " [1, 4],\n",
       " [1, 3],\n",
       " [1, 2],\n",
       " [2, 9],\n",
       " [2, 8],\n",
       " [2, 7],\n",
       " [2, 6],\n",
       " [2, 4],\n",
       " [2, 3],\n",
       " [2, 2],\n",
       " [2, 1],\n",
       " [3, 10],\n",
       " [3, 9],\n",
       " [3, 8],\n",
       " [3, 7],\n",
       " [3, 6],\n",
       " [3, 5],\n",
       " [3, 4],\n",
       " [3, 3],\n",
       " [3, 2],\n",
       " [3, 1],\n",
       " [4, 9],\n",
       " [4, 8],\n",
       " [4, 7],\n",
       " [4, 6],\n",
       " [4, 5],\n",
       " [4, 4],\n",
       " [4, 3],\n",
       " [4, 2],\n",
       " [4, 1],\n",
       " [5, 11],\n",
       " [5, 10],\n",
       " [5, 9],\n",
       " [5, 8],\n",
       " [5, 7],\n",
       " [5, 6],\n",
       " [5, 5],\n",
       " [5, 4],\n",
       " [5, 3],\n",
       " [5, 2],\n",
       " [6, 10],\n",
       " [6, 9],\n",
       " [6, 8],\n",
       " [6, 7],\n",
       " [6, 6],\n",
       " [6, 5],\n",
       " [6, 3],\n",
       " [6, 2],\n",
       " [7, 10],\n",
       " [7, 9],\n",
       " [7, 8],\n",
       " [7, 7],\n",
       " [7, 6],\n",
       " [7, 5],\n",
       " [7, 4],\n",
       " [7, 2],\n",
       " [7, 0],\n",
       " [8, 10],\n",
       " [8, 9],\n",
       " [8, 8],\n",
       " [8, 6],\n",
       " [8, 5],\n",
       " [8, 4],\n",
       " [8, 3],\n",
       " [8, 2],\n",
       " [8, 1],\n",
       " [9, 10],\n",
       " [9, 9],\n",
       " [9, 8],\n",
       " [9, 7],\n",
       " [9, 6],\n",
       " [9, 5],\n",
       " [9, 4],\n",
       " [9, 3],\n",
       " [9, 2],\n",
       " [10, 11],\n",
       " [10, 10],\n",
       " [10, 9],\n",
       " [10, 8],\n",
       " [10, 7],\n",
       " [10, 6],\n",
       " [10, 5],\n",
       " [10, 4],\n",
       " [10, 3],\n",
       " [10, 2],\n",
       " [11, 10],\n",
       " [11, 8],\n",
       " [11, 7],\n",
       " [11, 6],\n",
       " [11, 5],\n",
       " [11, 4],\n",
       " [11, 3],\n",
       " [11, 2],\n",
       " [12, 11],\n",
       " [12, 9],\n",
       " [12, 8],\n",
       " [12, 7],\n",
       " [12, 6],\n",
       " [12, 5],\n",
       " [12, 4],\n",
       " [12, 3],\n",
       " [12, 2],\n",
       " [13, 10],\n",
       " [13, 8],\n",
       " [13, 7],\n",
       " [13, 6],\n",
       " [13, 5],\n",
       " [13, 4],\n",
       " [13, 3],\n",
       " [13, 2],\n",
       " [14, 7],\n",
       " [14, 3]]"
      ]
     },
     "execution_count": 13,
     "metadata": {},
     "output_type": "execute_result"
    }
   ],
   "source": [
    "xy_buses=[]\n",
    "x_bus=list(busxy['x'])\n",
    "y_bus=list(busxy['y'])\n",
    "\n",
    "for i in range(len(x_bus)):\n",
    "    x=[x_bus[i],y_bus[i]]\n",
    "    xy_buses.append(x)\n",
    "xy_buses"
   ]
  },
  {
   "cell_type": "code",
   "execution_count": 14,
   "metadata": {
    "extensions": {
     "jupyter_dashboards": {
      "version": 1,
      "views": {
       "grid_default": {},
       "report_default": {}
      }
     }
    }
   },
   "outputs": [
    {
     "name": "stdout",
     "output_type": "stream",
     "text": [
      "[[[4, 8], [2, 1], [2, 7], [4, 5], [12, 9], [5, 10]], [[2, 3], [7, 2], [9, 2], [4, 4], [3, 8], [11, 2]], [[13, 3], [4, 3], [3, 8], [10, 9], [2, 3], [8, 2]], [[10, 7], [10, 11], [10, 3], [4, 1], [10, 6], [3, 4]], [[4, 8], [13, 6], [2, 2], [11, 2], [1, 2], [7, 7]], [[3, 1], [3, 10], [9, 8], [0, 5], [13, 3], [10, 9]], [[9, 4], [4, 9], [4, 1], [5, 6], [14, 7], [5, 8]], [[10, 6], [0, 9], [8, 5], [8, 1], [2, 1], [7, 7]], [[9, 2], [7, 7], [13, 4], [7, 9], [13, 3], [11, 2]], [[8, 5], [2, 3], [4, 1], [5, 9], [12, 11], [2, 2]]]\n"
     ]
    }
   ],
   "source": [
    "ran_pop=[]\n",
    "for i in range(100):\n",
    "    rand=random.sample(xy_buses, optimal_fcs)\n",
    "    ran_pop.append(rand)\n",
    "print(ran_pop[:10])"
   ]
  },
  {
   "cell_type": "code",
   "execution_count": 15,
   "metadata": {
    "extensions": {
     "jupyter_dashboards": {
      "version": 1,
      "views": {
       "grid_default": {},
       "report_default": {}
      }
     }
    }
   },
   "outputs": [
    {
     "data": {
      "text/plain": [
       "100"
      ]
     },
     "execution_count": 15,
     "metadata": {},
     "output_type": "execute_result"
    }
   ],
   "source": [
    "len(ran_pop)"
   ]
  },
  {
   "cell_type": "code",
   "execution_count": 16,
   "metadata": {
    "extensions": {
     "jupyter_dashboards": {
      "version": 1,
      "views": {
       "grid_default": {},
       "report_default": {}
      }
     }
    }
   },
   "outputs": [
    {
     "name": "stdout",
     "output_type": "stream",
     "text": [
      "attribute   v_nom type    x    y carrier  unit  v_mag_pu_set  v_mag_pu_min  \\\n",
      "Bus No 1    138.0       0.0  0.0      AC  None           1.0           0.0   \n",
      "Bus No 2    138.0       0.0  0.0      AC  None           1.0           0.0   \n",
      "Bus No 3    138.0       0.0  0.0      AC  None           1.0           0.0   \n",
      "Bus No 4    138.0       0.0  0.0      AC  None           1.0           0.0   \n",
      "Bus No 5    138.0       0.0  0.0      AC  None           1.0           0.0   \n",
      "...           ...  ...  ...  ...     ...   ...           ...           ...   \n",
      "Bus No 114  138.0       0.0  0.0      AC  None           1.0           0.0   \n",
      "Bus No 115  138.0       0.0  0.0      AC  None           1.0           0.0   \n",
      "Bus No 116  138.0       0.0  0.0      AC  None           1.0           0.0   \n",
      "Bus No 117  138.0       0.0  0.0      AC  None           1.0           0.0   \n",
      "Bus No 118  138.0       0.0  0.0      AC  None           1.0           0.0   \n",
      "\n",
      "attribute   v_mag_pu_max control sub_network  \n",
      "Bus No 1             inf      PQ              \n",
      "Bus No 2             inf      PQ              \n",
      "Bus No 3             inf      PQ              \n",
      "Bus No 4             inf      PQ              \n",
      "Bus No 5             inf      PQ              \n",
      "...                  ...     ...         ...  \n",
      "Bus No 114           inf      PQ              \n",
      "Bus No 115           inf      PQ              \n",
      "Bus No 116           inf      PQ              \n",
      "Bus No 117           inf      PQ              \n",
      "Bus No 118           inf      PQ              \n",
      "\n",
      "[118 rows x 11 columns]\n"
     ]
    }
   ],
   "source": [
    "network=pypsa.Network()\n",
    "\n",
    "nbus=118\n",
    "for i in range(1,nbus+1):\n",
    "    network.add(\"Bus\",\"Bus No {}\".format(i),v_nom=138)\n",
    "\n",
    "\n",
    "    \n",
    "print(network.buses)"
   ]
  },
  {
   "cell_type": "code",
   "execution_count": 17,
   "metadata": {
    "extensions": {
     "jupyter_dashboards": {
      "version": 1,
      "views": {
       "grid_default": {},
       "report_default": {}
      }
     }
    }
   },
   "outputs": [
    {
     "data": {
      "text/html": [
       "<div>\n",
       "<style scoped>\n",
       "    .dataframe tbody tr th:only-of-type {\n",
       "        vertical-align: middle;\n",
       "    }\n",
       "\n",
       "    .dataframe tbody tr th {\n",
       "        vertical-align: top;\n",
       "    }\n",
       "\n",
       "    .dataframe thead th {\n",
       "        text-align: right;\n",
       "    }\n",
       "</style>\n",
       "<table border=\"1\" class=\"dataframe\">\n",
       "  <thead>\n",
       "    <tr style=\"text-align: right;\">\n",
       "      <th></th>\n",
       "      <th>fbus</th>\n",
       "      <th>tbus</th>\n",
       "      <th>r</th>\n",
       "      <th>x</th>\n",
       "    </tr>\n",
       "  </thead>\n",
       "  <tbody>\n",
       "    <tr>\n",
       "      <th>0</th>\n",
       "      <td>1</td>\n",
       "      <td>2</td>\n",
       "      <td>0.03030</td>\n",
       "      <td>0.09990</td>\n",
       "    </tr>\n",
       "    <tr>\n",
       "      <th>1</th>\n",
       "      <td>1</td>\n",
       "      <td>3</td>\n",
       "      <td>0.01290</td>\n",
       "      <td>0.04240</td>\n",
       "    </tr>\n",
       "    <tr>\n",
       "      <th>2</th>\n",
       "      <td>4</td>\n",
       "      <td>5</td>\n",
       "      <td>0.00176</td>\n",
       "      <td>0.00798</td>\n",
       "    </tr>\n",
       "    <tr>\n",
       "      <th>3</th>\n",
       "      <td>3</td>\n",
       "      <td>5</td>\n",
       "      <td>0.02410</td>\n",
       "      <td>0.10800</td>\n",
       "    </tr>\n",
       "    <tr>\n",
       "      <th>4</th>\n",
       "      <td>5</td>\n",
       "      <td>6</td>\n",
       "      <td>0.01190</td>\n",
       "      <td>0.05400</td>\n",
       "    </tr>\n",
       "    <tr>\n",
       "      <th>...</th>\n",
       "      <td>...</td>\n",
       "      <td>...</td>\n",
       "      <td>...</td>\n",
       "      <td>...</td>\n",
       "    </tr>\n",
       "    <tr>\n",
       "      <th>181</th>\n",
       "      <td>114</td>\n",
       "      <td>115</td>\n",
       "      <td>0.00230</td>\n",
       "      <td>0.01040</td>\n",
       "    </tr>\n",
       "    <tr>\n",
       "      <th>182</th>\n",
       "      <td>68</td>\n",
       "      <td>116</td>\n",
       "      <td>0.00034</td>\n",
       "      <td>0.00405</td>\n",
       "    </tr>\n",
       "    <tr>\n",
       "      <th>183</th>\n",
       "      <td>12</td>\n",
       "      <td>117</td>\n",
       "      <td>0.03290</td>\n",
       "      <td>0.14000</td>\n",
       "    </tr>\n",
       "    <tr>\n",
       "      <th>184</th>\n",
       "      <td>75</td>\n",
       "      <td>118</td>\n",
       "      <td>0.01450</td>\n",
       "      <td>0.04810</td>\n",
       "    </tr>\n",
       "    <tr>\n",
       "      <th>185</th>\n",
       "      <td>76</td>\n",
       "      <td>118</td>\n",
       "      <td>0.01640</td>\n",
       "      <td>0.05440</td>\n",
       "    </tr>\n",
       "  </tbody>\n",
       "</table>\n",
       "<p>186 rows × 4 columns</p>\n",
       "</div>"
      ],
      "text/plain": [
       "     fbus  tbus        r        x\n",
       "0       1     2  0.03030  0.09990\n",
       "1       1     3  0.01290  0.04240\n",
       "2       4     5  0.00176  0.00798\n",
       "3       3     5  0.02410  0.10800\n",
       "4       5     6  0.01190  0.05400\n",
       "..    ...   ...      ...      ...\n",
       "181   114   115  0.00230  0.01040\n",
       "182    68   116  0.00034  0.00405\n",
       "183    12   117  0.03290  0.14000\n",
       "184    75   118  0.01450  0.04810\n",
       "185    76   118  0.01640  0.05440\n",
       "\n",
       "[186 rows x 4 columns]"
      ]
     },
     "execution_count": 17,
     "metadata": {},
     "output_type": "execute_result"
    }
   ],
   "source": [
    "line_data=pd.read_excel(\"line_data.xlsx\")\n",
    "line_data"
   ]
  },
  {
   "cell_type": "code",
   "execution_count": 18,
   "metadata": {
    "extensions": {
     "jupyter_dashboards": {
      "version": 1,
      "views": {
       "grid_default": {},
       "report_default": {}
      }
     }
    }
   },
   "outputs": [
    {
     "data": {
      "text/html": [
       "<div>\n",
       "<style scoped>\n",
       "    .dataframe tbody tr th:only-of-type {\n",
       "        vertical-align: middle;\n",
       "    }\n",
       "\n",
       "    .dataframe tbody tr th {\n",
       "        vertical-align: top;\n",
       "    }\n",
       "\n",
       "    .dataframe thead th {\n",
       "        text-align: right;\n",
       "    }\n",
       "</style>\n",
       "<table border=\"1\" class=\"dataframe\">\n",
       "  <thead>\n",
       "    <tr style=\"text-align: right;\">\n",
       "      <th>attribute</th>\n",
       "      <th>bus0</th>\n",
       "      <th>bus1</th>\n",
       "      <th>type</th>\n",
       "      <th>x</th>\n",
       "      <th>r</th>\n",
       "      <th>g</th>\n",
       "      <th>b</th>\n",
       "      <th>s_nom</th>\n",
       "      <th>s_nom_extendable</th>\n",
       "      <th>s_nom_min</th>\n",
       "      <th>...</th>\n",
       "      <th>v_ang_min</th>\n",
       "      <th>v_ang_max</th>\n",
       "      <th>sub_network</th>\n",
       "      <th>x_pu</th>\n",
       "      <th>r_pu</th>\n",
       "      <th>g_pu</th>\n",
       "      <th>b_pu</th>\n",
       "      <th>x_pu_eff</th>\n",
       "      <th>r_pu_eff</th>\n",
       "      <th>s_nom_opt</th>\n",
       "    </tr>\n",
       "  </thead>\n",
       "  <tbody>\n",
       "    <tr>\n",
       "      <th>Line No 0</th>\n",
       "      <td>Bus No 1</td>\n",
       "      <td>Bus No 2</td>\n",
       "      <td></td>\n",
       "      <td>0.09990</td>\n",
       "      <td>0.03030</td>\n",
       "      <td>0.0</td>\n",
       "      <td>0.0</td>\n",
       "      <td>0.0</td>\n",
       "      <td>False</td>\n",
       "      <td>0.0</td>\n",
       "      <td>...</td>\n",
       "      <td>-inf</td>\n",
       "      <td>inf</td>\n",
       "      <td></td>\n",
       "      <td>0.0</td>\n",
       "      <td>0.0</td>\n",
       "      <td>0.0</td>\n",
       "      <td>0.0</td>\n",
       "      <td>0.0</td>\n",
       "      <td>0.0</td>\n",
       "      <td>0.0</td>\n",
       "    </tr>\n",
       "    <tr>\n",
       "      <th>Line No 1</th>\n",
       "      <td>Bus No 1</td>\n",
       "      <td>Bus No 3</td>\n",
       "      <td></td>\n",
       "      <td>0.04240</td>\n",
       "      <td>0.01290</td>\n",
       "      <td>0.0</td>\n",
       "      <td>0.0</td>\n",
       "      <td>0.0</td>\n",
       "      <td>False</td>\n",
       "      <td>0.0</td>\n",
       "      <td>...</td>\n",
       "      <td>-inf</td>\n",
       "      <td>inf</td>\n",
       "      <td></td>\n",
       "      <td>0.0</td>\n",
       "      <td>0.0</td>\n",
       "      <td>0.0</td>\n",
       "      <td>0.0</td>\n",
       "      <td>0.0</td>\n",
       "      <td>0.0</td>\n",
       "      <td>0.0</td>\n",
       "    </tr>\n",
       "    <tr>\n",
       "      <th>Line No 2</th>\n",
       "      <td>Bus No 4</td>\n",
       "      <td>Bus No 5</td>\n",
       "      <td></td>\n",
       "      <td>0.00798</td>\n",
       "      <td>0.00176</td>\n",
       "      <td>0.0</td>\n",
       "      <td>0.0</td>\n",
       "      <td>0.0</td>\n",
       "      <td>False</td>\n",
       "      <td>0.0</td>\n",
       "      <td>...</td>\n",
       "      <td>-inf</td>\n",
       "      <td>inf</td>\n",
       "      <td></td>\n",
       "      <td>0.0</td>\n",
       "      <td>0.0</td>\n",
       "      <td>0.0</td>\n",
       "      <td>0.0</td>\n",
       "      <td>0.0</td>\n",
       "      <td>0.0</td>\n",
       "      <td>0.0</td>\n",
       "    </tr>\n",
       "    <tr>\n",
       "      <th>Line No 3</th>\n",
       "      <td>Bus No 3</td>\n",
       "      <td>Bus No 5</td>\n",
       "      <td></td>\n",
       "      <td>0.10800</td>\n",
       "      <td>0.02410</td>\n",
       "      <td>0.0</td>\n",
       "      <td>0.0</td>\n",
       "      <td>0.0</td>\n",
       "      <td>False</td>\n",
       "      <td>0.0</td>\n",
       "      <td>...</td>\n",
       "      <td>-inf</td>\n",
       "      <td>inf</td>\n",
       "      <td></td>\n",
       "      <td>0.0</td>\n",
       "      <td>0.0</td>\n",
       "      <td>0.0</td>\n",
       "      <td>0.0</td>\n",
       "      <td>0.0</td>\n",
       "      <td>0.0</td>\n",
       "      <td>0.0</td>\n",
       "    </tr>\n",
       "    <tr>\n",
       "      <th>Line No 4</th>\n",
       "      <td>Bus No 5</td>\n",
       "      <td>Bus No 6</td>\n",
       "      <td></td>\n",
       "      <td>0.05400</td>\n",
       "      <td>0.01190</td>\n",
       "      <td>0.0</td>\n",
       "      <td>0.0</td>\n",
       "      <td>0.0</td>\n",
       "      <td>False</td>\n",
       "      <td>0.0</td>\n",
       "      <td>...</td>\n",
       "      <td>-inf</td>\n",
       "      <td>inf</td>\n",
       "      <td></td>\n",
       "      <td>0.0</td>\n",
       "      <td>0.0</td>\n",
       "      <td>0.0</td>\n",
       "      <td>0.0</td>\n",
       "      <td>0.0</td>\n",
       "      <td>0.0</td>\n",
       "      <td>0.0</td>\n",
       "    </tr>\n",
       "    <tr>\n",
       "      <th>...</th>\n",
       "      <td>...</td>\n",
       "      <td>...</td>\n",
       "      <td>...</td>\n",
       "      <td>...</td>\n",
       "      <td>...</td>\n",
       "      <td>...</td>\n",
       "      <td>...</td>\n",
       "      <td>...</td>\n",
       "      <td>...</td>\n",
       "      <td>...</td>\n",
       "      <td>...</td>\n",
       "      <td>...</td>\n",
       "      <td>...</td>\n",
       "      <td>...</td>\n",
       "      <td>...</td>\n",
       "      <td>...</td>\n",
       "      <td>...</td>\n",
       "      <td>...</td>\n",
       "      <td>...</td>\n",
       "      <td>...</td>\n",
       "      <td>...</td>\n",
       "    </tr>\n",
       "    <tr>\n",
       "      <th>Line No 181</th>\n",
       "      <td>Bus No 114</td>\n",
       "      <td>Bus No 115</td>\n",
       "      <td></td>\n",
       "      <td>0.01040</td>\n",
       "      <td>0.00230</td>\n",
       "      <td>0.0</td>\n",
       "      <td>0.0</td>\n",
       "      <td>0.0</td>\n",
       "      <td>False</td>\n",
       "      <td>0.0</td>\n",
       "      <td>...</td>\n",
       "      <td>-inf</td>\n",
       "      <td>inf</td>\n",
       "      <td></td>\n",
       "      <td>0.0</td>\n",
       "      <td>0.0</td>\n",
       "      <td>0.0</td>\n",
       "      <td>0.0</td>\n",
       "      <td>0.0</td>\n",
       "      <td>0.0</td>\n",
       "      <td>0.0</td>\n",
       "    </tr>\n",
       "    <tr>\n",
       "      <th>Line No 182</th>\n",
       "      <td>Bus No 68</td>\n",
       "      <td>Bus No 116</td>\n",
       "      <td></td>\n",
       "      <td>0.00405</td>\n",
       "      <td>0.00034</td>\n",
       "      <td>0.0</td>\n",
       "      <td>0.0</td>\n",
       "      <td>0.0</td>\n",
       "      <td>False</td>\n",
       "      <td>0.0</td>\n",
       "      <td>...</td>\n",
       "      <td>-inf</td>\n",
       "      <td>inf</td>\n",
       "      <td></td>\n",
       "      <td>0.0</td>\n",
       "      <td>0.0</td>\n",
       "      <td>0.0</td>\n",
       "      <td>0.0</td>\n",
       "      <td>0.0</td>\n",
       "      <td>0.0</td>\n",
       "      <td>0.0</td>\n",
       "    </tr>\n",
       "    <tr>\n",
       "      <th>Line No 183</th>\n",
       "      <td>Bus No 12</td>\n",
       "      <td>Bus No 117</td>\n",
       "      <td></td>\n",
       "      <td>0.14000</td>\n",
       "      <td>0.03290</td>\n",
       "      <td>0.0</td>\n",
       "      <td>0.0</td>\n",
       "      <td>0.0</td>\n",
       "      <td>False</td>\n",
       "      <td>0.0</td>\n",
       "      <td>...</td>\n",
       "      <td>-inf</td>\n",
       "      <td>inf</td>\n",
       "      <td></td>\n",
       "      <td>0.0</td>\n",
       "      <td>0.0</td>\n",
       "      <td>0.0</td>\n",
       "      <td>0.0</td>\n",
       "      <td>0.0</td>\n",
       "      <td>0.0</td>\n",
       "      <td>0.0</td>\n",
       "    </tr>\n",
       "    <tr>\n",
       "      <th>Line No 184</th>\n",
       "      <td>Bus No 75</td>\n",
       "      <td>Bus No 118</td>\n",
       "      <td></td>\n",
       "      <td>0.04810</td>\n",
       "      <td>0.01450</td>\n",
       "      <td>0.0</td>\n",
       "      <td>0.0</td>\n",
       "      <td>0.0</td>\n",
       "      <td>False</td>\n",
       "      <td>0.0</td>\n",
       "      <td>...</td>\n",
       "      <td>-inf</td>\n",
       "      <td>inf</td>\n",
       "      <td></td>\n",
       "      <td>0.0</td>\n",
       "      <td>0.0</td>\n",
       "      <td>0.0</td>\n",
       "      <td>0.0</td>\n",
       "      <td>0.0</td>\n",
       "      <td>0.0</td>\n",
       "      <td>0.0</td>\n",
       "    </tr>\n",
       "    <tr>\n",
       "      <th>Line No 185</th>\n",
       "      <td>Bus No 76</td>\n",
       "      <td>Bus No 118</td>\n",
       "      <td></td>\n",
       "      <td>0.05440</td>\n",
       "      <td>0.01640</td>\n",
       "      <td>0.0</td>\n",
       "      <td>0.0</td>\n",
       "      <td>0.0</td>\n",
       "      <td>False</td>\n",
       "      <td>0.0</td>\n",
       "      <td>...</td>\n",
       "      <td>-inf</td>\n",
       "      <td>inf</td>\n",
       "      <td></td>\n",
       "      <td>0.0</td>\n",
       "      <td>0.0</td>\n",
       "      <td>0.0</td>\n",
       "      <td>0.0</td>\n",
       "      <td>0.0</td>\n",
       "      <td>0.0</td>\n",
       "      <td>0.0</td>\n",
       "    </tr>\n",
       "  </tbody>\n",
       "</table>\n",
       "<p>186 rows × 29 columns</p>\n",
       "</div>"
      ],
      "text/plain": [
       "attribute          bus0        bus1 type        x        r    g    b  s_nom  \\\n",
       "Line No 0      Bus No 1    Bus No 2       0.09990  0.03030  0.0  0.0    0.0   \n",
       "Line No 1      Bus No 1    Bus No 3       0.04240  0.01290  0.0  0.0    0.0   \n",
       "Line No 2      Bus No 4    Bus No 5       0.00798  0.00176  0.0  0.0    0.0   \n",
       "Line No 3      Bus No 3    Bus No 5       0.10800  0.02410  0.0  0.0    0.0   \n",
       "Line No 4      Bus No 5    Bus No 6       0.05400  0.01190  0.0  0.0    0.0   \n",
       "...                 ...         ...  ...      ...      ...  ...  ...    ...   \n",
       "Line No 181  Bus No 114  Bus No 115       0.01040  0.00230  0.0  0.0    0.0   \n",
       "Line No 182   Bus No 68  Bus No 116       0.00405  0.00034  0.0  0.0    0.0   \n",
       "Line No 183   Bus No 12  Bus No 117       0.14000  0.03290  0.0  0.0    0.0   \n",
       "Line No 184   Bus No 75  Bus No 118       0.04810  0.01450  0.0  0.0    0.0   \n",
       "Line No 185   Bus No 76  Bus No 118       0.05440  0.01640  0.0  0.0    0.0   \n",
       "\n",
       "attribute    s_nom_extendable  s_nom_min  ...  v_ang_min  v_ang_max  \\\n",
       "Line No 0               False        0.0  ...       -inf        inf   \n",
       "Line No 1               False        0.0  ...       -inf        inf   \n",
       "Line No 2               False        0.0  ...       -inf        inf   \n",
       "Line No 3               False        0.0  ...       -inf        inf   \n",
       "Line No 4               False        0.0  ...       -inf        inf   \n",
       "...                       ...        ...  ...        ...        ...   \n",
       "Line No 181             False        0.0  ...       -inf        inf   \n",
       "Line No 182             False        0.0  ...       -inf        inf   \n",
       "Line No 183             False        0.0  ...       -inf        inf   \n",
       "Line No 184             False        0.0  ...       -inf        inf   \n",
       "Line No 185             False        0.0  ...       -inf        inf   \n",
       "\n",
       "attribute    sub_network  x_pu  r_pu  g_pu b_pu  x_pu_eff  r_pu_eff  s_nom_opt  \n",
       "Line No 0                  0.0   0.0   0.0  0.0       0.0       0.0        0.0  \n",
       "Line No 1                  0.0   0.0   0.0  0.0       0.0       0.0        0.0  \n",
       "Line No 2                  0.0   0.0   0.0  0.0       0.0       0.0        0.0  \n",
       "Line No 3                  0.0   0.0   0.0  0.0       0.0       0.0        0.0  \n",
       "Line No 4                  0.0   0.0   0.0  0.0       0.0       0.0        0.0  \n",
       "...                  ...   ...   ...   ...  ...       ...       ...        ...  \n",
       "Line No 181                0.0   0.0   0.0  0.0       0.0       0.0        0.0  \n",
       "Line No 182                0.0   0.0   0.0  0.0       0.0       0.0        0.0  \n",
       "Line No 183                0.0   0.0   0.0  0.0       0.0       0.0        0.0  \n",
       "Line No 184                0.0   0.0   0.0  0.0       0.0       0.0        0.0  \n",
       "Line No 185                0.0   0.0   0.0  0.0       0.0       0.0        0.0  \n",
       "\n",
       "[186 rows x 29 columns]"
      ]
     },
     "execution_count": 18,
     "metadata": {},
     "output_type": "execute_result"
    }
   ],
   "source": [
    "for i in range(186):\n",
    "    network.add(\"Line\",\"Line No {}\".format(i),bus0=\"Bus No {}\".format(line_data['fbus'][i])\n",
    "    ,bus1=\"Bus No {}\".format(line_data['tbus'][i]),r=line_data['r'][i],x=line_data['x'][i])\n",
    "    \n",
    "network.lines"
   ]
  },
  {
   "cell_type": "code",
   "execution_count": 19,
   "metadata": {
    "extensions": {
     "jupyter_dashboards": {
      "version": 1,
      "views": {
       "grid_default": {},
       "report_default": {}
      }
     }
    }
   },
   "outputs": [],
   "source": [
    "network.add(\"Generator\",\"Slack Gen\",bus=\"Bus No 1\",p_set=0,control=\"Slack\")"
   ]
  },
  {
   "cell_type": "code",
   "execution_count": 20,
   "metadata": {
    "extensions": {
     "jupyter_dashboards": {
      "version": 1,
      "views": {
       "grid_default": {},
       "report_default": {}
      }
     }
    }
   },
   "outputs": [
    {
     "data": {
      "text/html": [
       "<div>\n",
       "<style scoped>\n",
       "    .dataframe tbody tr th:only-of-type {\n",
       "        vertical-align: middle;\n",
       "    }\n",
       "\n",
       "    .dataframe tbody tr th {\n",
       "        vertical-align: top;\n",
       "    }\n",
       "\n",
       "    .dataframe thead th {\n",
       "        text-align: right;\n",
       "    }\n",
       "</style>\n",
       "<table border=\"1\" class=\"dataframe\">\n",
       "  <thead>\n",
       "    <tr style=\"text-align: right;\">\n",
       "      <th></th>\n",
       "      <th>bus no</th>\n",
       "      <th>p_set</th>\n",
       "    </tr>\n",
       "  </thead>\n",
       "  <tbody>\n",
       "    <tr>\n",
       "      <th>0</th>\n",
       "      <td>1</td>\n",
       "      <td>100.0</td>\n",
       "    </tr>\n",
       "    <tr>\n",
       "      <th>1</th>\n",
       "      <td>4</td>\n",
       "      <td>100.0</td>\n",
       "    </tr>\n",
       "    <tr>\n",
       "      <th>2</th>\n",
       "      <td>6</td>\n",
       "      <td>100.0</td>\n",
       "    </tr>\n",
       "    <tr>\n",
       "      <th>3</th>\n",
       "      <td>8</td>\n",
       "      <td>100.0</td>\n",
       "    </tr>\n",
       "    <tr>\n",
       "      <th>4</th>\n",
       "      <td>10</td>\n",
       "      <td>550.0</td>\n",
       "    </tr>\n",
       "    <tr>\n",
       "      <th>5</th>\n",
       "      <td>12</td>\n",
       "      <td>185.0</td>\n",
       "    </tr>\n",
       "    <tr>\n",
       "      <th>6</th>\n",
       "      <td>15</td>\n",
       "      <td>100.0</td>\n",
       "    </tr>\n",
       "    <tr>\n",
       "      <th>7</th>\n",
       "      <td>18</td>\n",
       "      <td>100.0</td>\n",
       "    </tr>\n",
       "    <tr>\n",
       "      <th>8</th>\n",
       "      <td>19</td>\n",
       "      <td>100.0</td>\n",
       "    </tr>\n",
       "    <tr>\n",
       "      <th>9</th>\n",
       "      <td>24</td>\n",
       "      <td>100.0</td>\n",
       "    </tr>\n",
       "    <tr>\n",
       "      <th>10</th>\n",
       "      <td>25</td>\n",
       "      <td>320.0</td>\n",
       "    </tr>\n",
       "    <tr>\n",
       "      <th>11</th>\n",
       "      <td>26</td>\n",
       "      <td>414.0</td>\n",
       "    </tr>\n",
       "    <tr>\n",
       "      <th>12</th>\n",
       "      <td>27</td>\n",
       "      <td>100.0</td>\n",
       "    </tr>\n",
       "    <tr>\n",
       "      <th>13</th>\n",
       "      <td>31</td>\n",
       "      <td>107.0</td>\n",
       "    </tr>\n",
       "    <tr>\n",
       "      <th>14</th>\n",
       "      <td>32</td>\n",
       "      <td>100.0</td>\n",
       "    </tr>\n",
       "    <tr>\n",
       "      <th>15</th>\n",
       "      <td>34</td>\n",
       "      <td>100.0</td>\n",
       "    </tr>\n",
       "    <tr>\n",
       "      <th>16</th>\n",
       "      <td>36</td>\n",
       "      <td>100.0</td>\n",
       "    </tr>\n",
       "    <tr>\n",
       "      <th>17</th>\n",
       "      <td>40</td>\n",
       "      <td>100.0</td>\n",
       "    </tr>\n",
       "    <tr>\n",
       "      <th>18</th>\n",
       "      <td>42</td>\n",
       "      <td>100.0</td>\n",
       "    </tr>\n",
       "    <tr>\n",
       "      <th>19</th>\n",
       "      <td>46</td>\n",
       "      <td>119.0</td>\n",
       "    </tr>\n",
       "    <tr>\n",
       "      <th>20</th>\n",
       "      <td>49</td>\n",
       "      <td>304.0</td>\n",
       "    </tr>\n",
       "    <tr>\n",
       "      <th>21</th>\n",
       "      <td>54</td>\n",
       "      <td>148.0</td>\n",
       "    </tr>\n",
       "    <tr>\n",
       "      <th>22</th>\n",
       "      <td>55</td>\n",
       "      <td>100.0</td>\n",
       "    </tr>\n",
       "    <tr>\n",
       "      <th>23</th>\n",
       "      <td>56</td>\n",
       "      <td>100.0</td>\n",
       "    </tr>\n",
       "    <tr>\n",
       "      <th>24</th>\n",
       "      <td>59</td>\n",
       "      <td>255.0</td>\n",
       "    </tr>\n",
       "    <tr>\n",
       "      <th>25</th>\n",
       "      <td>61</td>\n",
       "      <td>260.0</td>\n",
       "    </tr>\n",
       "    <tr>\n",
       "      <th>26</th>\n",
       "      <td>62</td>\n",
       "      <td>100.0</td>\n",
       "    </tr>\n",
       "    <tr>\n",
       "      <th>27</th>\n",
       "      <td>65</td>\n",
       "      <td>491.0</td>\n",
       "    </tr>\n",
       "    <tr>\n",
       "      <th>28</th>\n",
       "      <td>66</td>\n",
       "      <td>492.0</td>\n",
       "    </tr>\n",
       "    <tr>\n",
       "      <th>29</th>\n",
       "      <td>69</td>\n",
       "      <td>805.2</td>\n",
       "    </tr>\n",
       "    <tr>\n",
       "      <th>30</th>\n",
       "      <td>70</td>\n",
       "      <td>100.0</td>\n",
       "    </tr>\n",
       "    <tr>\n",
       "      <th>31</th>\n",
       "      <td>72</td>\n",
       "      <td>100.0</td>\n",
       "    </tr>\n",
       "    <tr>\n",
       "      <th>32</th>\n",
       "      <td>73</td>\n",
       "      <td>100.0</td>\n",
       "    </tr>\n",
       "    <tr>\n",
       "      <th>33</th>\n",
       "      <td>74</td>\n",
       "      <td>100.0</td>\n",
       "    </tr>\n",
       "    <tr>\n",
       "      <th>34</th>\n",
       "      <td>76</td>\n",
       "      <td>100.0</td>\n",
       "    </tr>\n",
       "    <tr>\n",
       "      <th>35</th>\n",
       "      <td>77</td>\n",
       "      <td>100.0</td>\n",
       "    </tr>\n",
       "    <tr>\n",
       "      <th>36</th>\n",
       "      <td>80</td>\n",
       "      <td>577.0</td>\n",
       "    </tr>\n",
       "    <tr>\n",
       "      <th>37</th>\n",
       "      <td>85</td>\n",
       "      <td>100.0</td>\n",
       "    </tr>\n",
       "    <tr>\n",
       "      <th>38</th>\n",
       "      <td>87</td>\n",
       "      <td>104.0</td>\n",
       "    </tr>\n",
       "    <tr>\n",
       "      <th>39</th>\n",
       "      <td>89</td>\n",
       "      <td>707.0</td>\n",
       "    </tr>\n",
       "    <tr>\n",
       "      <th>40</th>\n",
       "      <td>90</td>\n",
       "      <td>100.0</td>\n",
       "    </tr>\n",
       "    <tr>\n",
       "      <th>41</th>\n",
       "      <td>91</td>\n",
       "      <td>100.0</td>\n",
       "    </tr>\n",
       "    <tr>\n",
       "      <th>42</th>\n",
       "      <td>92</td>\n",
       "      <td>100.0</td>\n",
       "    </tr>\n",
       "    <tr>\n",
       "      <th>43</th>\n",
       "      <td>99</td>\n",
       "      <td>100.0</td>\n",
       "    </tr>\n",
       "    <tr>\n",
       "      <th>44</th>\n",
       "      <td>100</td>\n",
       "      <td>352.0</td>\n",
       "    </tr>\n",
       "    <tr>\n",
       "      <th>45</th>\n",
       "      <td>103</td>\n",
       "      <td>140.0</td>\n",
       "    </tr>\n",
       "    <tr>\n",
       "      <th>46</th>\n",
       "      <td>104</td>\n",
       "      <td>100.0</td>\n",
       "    </tr>\n",
       "    <tr>\n",
       "      <th>47</th>\n",
       "      <td>105</td>\n",
       "      <td>100.0</td>\n",
       "    </tr>\n",
       "    <tr>\n",
       "      <th>48</th>\n",
       "      <td>107</td>\n",
       "      <td>100.0</td>\n",
       "    </tr>\n",
       "    <tr>\n",
       "      <th>49</th>\n",
       "      <td>110</td>\n",
       "      <td>100.0</td>\n",
       "    </tr>\n",
       "    <tr>\n",
       "      <th>50</th>\n",
       "      <td>111</td>\n",
       "      <td>136.0</td>\n",
       "    </tr>\n",
       "    <tr>\n",
       "      <th>51</th>\n",
       "      <td>112</td>\n",
       "      <td>100.0</td>\n",
       "    </tr>\n",
       "    <tr>\n",
       "      <th>52</th>\n",
       "      <td>113</td>\n",
       "      <td>100.0</td>\n",
       "    </tr>\n",
       "    <tr>\n",
       "      <th>53</th>\n",
       "      <td>116</td>\n",
       "      <td>100.0</td>\n",
       "    </tr>\n",
       "  </tbody>\n",
       "</table>\n",
       "</div>"
      ],
      "text/plain": [
       "    bus no  p_set\n",
       "0        1  100.0\n",
       "1        4  100.0\n",
       "2        6  100.0\n",
       "3        8  100.0\n",
       "4       10  550.0\n",
       "5       12  185.0\n",
       "6       15  100.0\n",
       "7       18  100.0\n",
       "8       19  100.0\n",
       "9       24  100.0\n",
       "10      25  320.0\n",
       "11      26  414.0\n",
       "12      27  100.0\n",
       "13      31  107.0\n",
       "14      32  100.0\n",
       "15      34  100.0\n",
       "16      36  100.0\n",
       "17      40  100.0\n",
       "18      42  100.0\n",
       "19      46  119.0\n",
       "20      49  304.0\n",
       "21      54  148.0\n",
       "22      55  100.0\n",
       "23      56  100.0\n",
       "24      59  255.0\n",
       "25      61  260.0\n",
       "26      62  100.0\n",
       "27      65  491.0\n",
       "28      66  492.0\n",
       "29      69  805.2\n",
       "30      70  100.0\n",
       "31      72  100.0\n",
       "32      73  100.0\n",
       "33      74  100.0\n",
       "34      76  100.0\n",
       "35      77  100.0\n",
       "36      80  577.0\n",
       "37      85  100.0\n",
       "38      87  104.0\n",
       "39      89  707.0\n",
       "40      90  100.0\n",
       "41      91  100.0\n",
       "42      92  100.0\n",
       "43      99  100.0\n",
       "44     100  352.0\n",
       "45     103  140.0\n",
       "46     104  100.0\n",
       "47     105  100.0\n",
       "48     107  100.0\n",
       "49     110  100.0\n",
       "50     111  136.0\n",
       "51     112  100.0\n",
       "52     113  100.0\n",
       "53     116  100.0"
      ]
     },
     "execution_count": 20,
     "metadata": {},
     "output_type": "execute_result"
    }
   ],
   "source": [
    "gen_data=pd.read_excel(\"generator data.xlsx\")\n",
    "gen_data"
   ]
  },
  {
   "cell_type": "code",
   "execution_count": 21,
   "metadata": {
    "extensions": {
     "jupyter_dashboards": {
      "version": 1,
      "views": {
       "grid_default": {},
       "report_default": {}
      }
     }
    }
   },
   "outputs": [
    {
     "data": {
      "text/html": [
       "<div>\n",
       "<style scoped>\n",
       "    .dataframe tbody tr th:only-of-type {\n",
       "        vertical-align: middle;\n",
       "    }\n",
       "\n",
       "    .dataframe tbody tr th {\n",
       "        vertical-align: top;\n",
       "    }\n",
       "\n",
       "    .dataframe thead th {\n",
       "        text-align: right;\n",
       "    }\n",
       "</style>\n",
       "<table border=\"1\" class=\"dataframe\">\n",
       "  <thead>\n",
       "    <tr style=\"text-align: right;\">\n",
       "      <th>attribute</th>\n",
       "      <th>bus</th>\n",
       "      <th>control</th>\n",
       "      <th>type</th>\n",
       "      <th>p_nom</th>\n",
       "      <th>p_nom_extendable</th>\n",
       "      <th>p_nom_min</th>\n",
       "      <th>p_nom_max</th>\n",
       "      <th>p_min_pu</th>\n",
       "      <th>p_max_pu</th>\n",
       "      <th>p_set</th>\n",
       "      <th>...</th>\n",
       "      <th>shut_down_cost</th>\n",
       "      <th>min_up_time</th>\n",
       "      <th>min_down_time</th>\n",
       "      <th>up_time_before</th>\n",
       "      <th>down_time_before</th>\n",
       "      <th>ramp_limit_up</th>\n",
       "      <th>ramp_limit_down</th>\n",
       "      <th>ramp_limit_start_up</th>\n",
       "      <th>ramp_limit_shut_down</th>\n",
       "      <th>p_nom_opt</th>\n",
       "    </tr>\n",
       "  </thead>\n",
       "  <tbody>\n",
       "    <tr>\n",
       "      <th>Slack Gen</th>\n",
       "      <td>Bus No 1</td>\n",
       "      <td>Slack</td>\n",
       "      <td></td>\n",
       "      <td>0.0</td>\n",
       "      <td>False</td>\n",
       "      <td>0.0</td>\n",
       "      <td>inf</td>\n",
       "      <td>0.0</td>\n",
       "      <td>1.0</td>\n",
       "      <td>0.0</td>\n",
       "      <td>...</td>\n",
       "      <td>0.0</td>\n",
       "      <td>0</td>\n",
       "      <td>0</td>\n",
       "      <td>1</td>\n",
       "      <td>0</td>\n",
       "      <td>NaN</td>\n",
       "      <td>NaN</td>\n",
       "      <td>1.0</td>\n",
       "      <td>1.0</td>\n",
       "      <td>0.0</td>\n",
       "    </tr>\n",
       "    <tr>\n",
       "      <th>Gen No 2</th>\n",
       "      <td>Bus No 4</td>\n",
       "      <td>PV</td>\n",
       "      <td></td>\n",
       "      <td>0.0</td>\n",
       "      <td>False</td>\n",
       "      <td>0.0</td>\n",
       "      <td>inf</td>\n",
       "      <td>0.0</td>\n",
       "      <td>1.0</td>\n",
       "      <td>100.0</td>\n",
       "      <td>...</td>\n",
       "      <td>0.0</td>\n",
       "      <td>0</td>\n",
       "      <td>0</td>\n",
       "      <td>1</td>\n",
       "      <td>0</td>\n",
       "      <td>NaN</td>\n",
       "      <td>NaN</td>\n",
       "      <td>1.0</td>\n",
       "      <td>1.0</td>\n",
       "      <td>0.0</td>\n",
       "    </tr>\n",
       "    <tr>\n",
       "      <th>Gen No 3</th>\n",
       "      <td>Bus No 6</td>\n",
       "      <td>PV</td>\n",
       "      <td></td>\n",
       "      <td>0.0</td>\n",
       "      <td>False</td>\n",
       "      <td>0.0</td>\n",
       "      <td>inf</td>\n",
       "      <td>0.0</td>\n",
       "      <td>1.0</td>\n",
       "      <td>100.0</td>\n",
       "      <td>...</td>\n",
       "      <td>0.0</td>\n",
       "      <td>0</td>\n",
       "      <td>0</td>\n",
       "      <td>1</td>\n",
       "      <td>0</td>\n",
       "      <td>NaN</td>\n",
       "      <td>NaN</td>\n",
       "      <td>1.0</td>\n",
       "      <td>1.0</td>\n",
       "      <td>0.0</td>\n",
       "    </tr>\n",
       "    <tr>\n",
       "      <th>Gen No 4</th>\n",
       "      <td>Bus No 8</td>\n",
       "      <td>PV</td>\n",
       "      <td></td>\n",
       "      <td>0.0</td>\n",
       "      <td>False</td>\n",
       "      <td>0.0</td>\n",
       "      <td>inf</td>\n",
       "      <td>0.0</td>\n",
       "      <td>1.0</td>\n",
       "      <td>100.0</td>\n",
       "      <td>...</td>\n",
       "      <td>0.0</td>\n",
       "      <td>0</td>\n",
       "      <td>0</td>\n",
       "      <td>1</td>\n",
       "      <td>0</td>\n",
       "      <td>NaN</td>\n",
       "      <td>NaN</td>\n",
       "      <td>1.0</td>\n",
       "      <td>1.0</td>\n",
       "      <td>0.0</td>\n",
       "    </tr>\n",
       "    <tr>\n",
       "      <th>Gen No 5</th>\n",
       "      <td>Bus No 10</td>\n",
       "      <td>PV</td>\n",
       "      <td></td>\n",
       "      <td>0.0</td>\n",
       "      <td>False</td>\n",
       "      <td>0.0</td>\n",
       "      <td>inf</td>\n",
       "      <td>0.0</td>\n",
       "      <td>1.0</td>\n",
       "      <td>550.0</td>\n",
       "      <td>...</td>\n",
       "      <td>0.0</td>\n",
       "      <td>0</td>\n",
       "      <td>0</td>\n",
       "      <td>1</td>\n",
       "      <td>0</td>\n",
       "      <td>NaN</td>\n",
       "      <td>NaN</td>\n",
       "      <td>1.0</td>\n",
       "      <td>1.0</td>\n",
       "      <td>0.0</td>\n",
       "    </tr>\n",
       "    <tr>\n",
       "      <th>Gen No 6</th>\n",
       "      <td>Bus No 12</td>\n",
       "      <td>PV</td>\n",
       "      <td></td>\n",
       "      <td>0.0</td>\n",
       "      <td>False</td>\n",
       "      <td>0.0</td>\n",
       "      <td>inf</td>\n",
       "      <td>0.0</td>\n",
       "      <td>1.0</td>\n",
       "      <td>185.0</td>\n",
       "      <td>...</td>\n",
       "      <td>0.0</td>\n",
       "      <td>0</td>\n",
       "      <td>0</td>\n",
       "      <td>1</td>\n",
       "      <td>0</td>\n",
       "      <td>NaN</td>\n",
       "      <td>NaN</td>\n",
       "      <td>1.0</td>\n",
       "      <td>1.0</td>\n",
       "      <td>0.0</td>\n",
       "    </tr>\n",
       "    <tr>\n",
       "      <th>Gen No 7</th>\n",
       "      <td>Bus No 15</td>\n",
       "      <td>PV</td>\n",
       "      <td></td>\n",
       "      <td>0.0</td>\n",
       "      <td>False</td>\n",
       "      <td>0.0</td>\n",
       "      <td>inf</td>\n",
       "      <td>0.0</td>\n",
       "      <td>1.0</td>\n",
       "      <td>100.0</td>\n",
       "      <td>...</td>\n",
       "      <td>0.0</td>\n",
       "      <td>0</td>\n",
       "      <td>0</td>\n",
       "      <td>1</td>\n",
       "      <td>0</td>\n",
       "      <td>NaN</td>\n",
       "      <td>NaN</td>\n",
       "      <td>1.0</td>\n",
       "      <td>1.0</td>\n",
       "      <td>0.0</td>\n",
       "    </tr>\n",
       "    <tr>\n",
       "      <th>Gen No 8</th>\n",
       "      <td>Bus No 18</td>\n",
       "      <td>PV</td>\n",
       "      <td></td>\n",
       "      <td>0.0</td>\n",
       "      <td>False</td>\n",
       "      <td>0.0</td>\n",
       "      <td>inf</td>\n",
       "      <td>0.0</td>\n",
       "      <td>1.0</td>\n",
       "      <td>100.0</td>\n",
       "      <td>...</td>\n",
       "      <td>0.0</td>\n",
       "      <td>0</td>\n",
       "      <td>0</td>\n",
       "      <td>1</td>\n",
       "      <td>0</td>\n",
       "      <td>NaN</td>\n",
       "      <td>NaN</td>\n",
       "      <td>1.0</td>\n",
       "      <td>1.0</td>\n",
       "      <td>0.0</td>\n",
       "    </tr>\n",
       "    <tr>\n",
       "      <th>Gen No 9</th>\n",
       "      <td>Bus No 19</td>\n",
       "      <td>PV</td>\n",
       "      <td></td>\n",
       "      <td>0.0</td>\n",
       "      <td>False</td>\n",
       "      <td>0.0</td>\n",
       "      <td>inf</td>\n",
       "      <td>0.0</td>\n",
       "      <td>1.0</td>\n",
       "      <td>100.0</td>\n",
       "      <td>...</td>\n",
       "      <td>0.0</td>\n",
       "      <td>0</td>\n",
       "      <td>0</td>\n",
       "      <td>1</td>\n",
       "      <td>0</td>\n",
       "      <td>NaN</td>\n",
       "      <td>NaN</td>\n",
       "      <td>1.0</td>\n",
       "      <td>1.0</td>\n",
       "      <td>0.0</td>\n",
       "    </tr>\n",
       "    <tr>\n",
       "      <th>Gen No 10</th>\n",
       "      <td>Bus No 24</td>\n",
       "      <td>PV</td>\n",
       "      <td></td>\n",
       "      <td>0.0</td>\n",
       "      <td>False</td>\n",
       "      <td>0.0</td>\n",
       "      <td>inf</td>\n",
       "      <td>0.0</td>\n",
       "      <td>1.0</td>\n",
       "      <td>100.0</td>\n",
       "      <td>...</td>\n",
       "      <td>0.0</td>\n",
       "      <td>0</td>\n",
       "      <td>0</td>\n",
       "      <td>1</td>\n",
       "      <td>0</td>\n",
       "      <td>NaN</td>\n",
       "      <td>NaN</td>\n",
       "      <td>1.0</td>\n",
       "      <td>1.0</td>\n",
       "      <td>0.0</td>\n",
       "    </tr>\n",
       "    <tr>\n",
       "      <th>Gen No 11</th>\n",
       "      <td>Bus No 25</td>\n",
       "      <td>PV</td>\n",
       "      <td></td>\n",
       "      <td>0.0</td>\n",
       "      <td>False</td>\n",
       "      <td>0.0</td>\n",
       "      <td>inf</td>\n",
       "      <td>0.0</td>\n",
       "      <td>1.0</td>\n",
       "      <td>320.0</td>\n",
       "      <td>...</td>\n",
       "      <td>0.0</td>\n",
       "      <td>0</td>\n",
       "      <td>0</td>\n",
       "      <td>1</td>\n",
       "      <td>0</td>\n",
       "      <td>NaN</td>\n",
       "      <td>NaN</td>\n",
       "      <td>1.0</td>\n",
       "      <td>1.0</td>\n",
       "      <td>0.0</td>\n",
       "    </tr>\n",
       "    <tr>\n",
       "      <th>Gen No 12</th>\n",
       "      <td>Bus No 26</td>\n",
       "      <td>PV</td>\n",
       "      <td></td>\n",
       "      <td>0.0</td>\n",
       "      <td>False</td>\n",
       "      <td>0.0</td>\n",
       "      <td>inf</td>\n",
       "      <td>0.0</td>\n",
       "      <td>1.0</td>\n",
       "      <td>414.0</td>\n",
       "      <td>...</td>\n",
       "      <td>0.0</td>\n",
       "      <td>0</td>\n",
       "      <td>0</td>\n",
       "      <td>1</td>\n",
       "      <td>0</td>\n",
       "      <td>NaN</td>\n",
       "      <td>NaN</td>\n",
       "      <td>1.0</td>\n",
       "      <td>1.0</td>\n",
       "      <td>0.0</td>\n",
       "    </tr>\n",
       "    <tr>\n",
       "      <th>Gen No 13</th>\n",
       "      <td>Bus No 27</td>\n",
       "      <td>PV</td>\n",
       "      <td></td>\n",
       "      <td>0.0</td>\n",
       "      <td>False</td>\n",
       "      <td>0.0</td>\n",
       "      <td>inf</td>\n",
       "      <td>0.0</td>\n",
       "      <td>1.0</td>\n",
       "      <td>100.0</td>\n",
       "      <td>...</td>\n",
       "      <td>0.0</td>\n",
       "      <td>0</td>\n",
       "      <td>0</td>\n",
       "      <td>1</td>\n",
       "      <td>0</td>\n",
       "      <td>NaN</td>\n",
       "      <td>NaN</td>\n",
       "      <td>1.0</td>\n",
       "      <td>1.0</td>\n",
       "      <td>0.0</td>\n",
       "    </tr>\n",
       "    <tr>\n",
       "      <th>Gen No 14</th>\n",
       "      <td>Bus No 31</td>\n",
       "      <td>PV</td>\n",
       "      <td></td>\n",
       "      <td>0.0</td>\n",
       "      <td>False</td>\n",
       "      <td>0.0</td>\n",
       "      <td>inf</td>\n",
       "      <td>0.0</td>\n",
       "      <td>1.0</td>\n",
       "      <td>107.0</td>\n",
       "      <td>...</td>\n",
       "      <td>0.0</td>\n",
       "      <td>0</td>\n",
       "      <td>0</td>\n",
       "      <td>1</td>\n",
       "      <td>0</td>\n",
       "      <td>NaN</td>\n",
       "      <td>NaN</td>\n",
       "      <td>1.0</td>\n",
       "      <td>1.0</td>\n",
       "      <td>0.0</td>\n",
       "    </tr>\n",
       "    <tr>\n",
       "      <th>Gen No 15</th>\n",
       "      <td>Bus No 32</td>\n",
       "      <td>PV</td>\n",
       "      <td></td>\n",
       "      <td>0.0</td>\n",
       "      <td>False</td>\n",
       "      <td>0.0</td>\n",
       "      <td>inf</td>\n",
       "      <td>0.0</td>\n",
       "      <td>1.0</td>\n",
       "      <td>100.0</td>\n",
       "      <td>...</td>\n",
       "      <td>0.0</td>\n",
       "      <td>0</td>\n",
       "      <td>0</td>\n",
       "      <td>1</td>\n",
       "      <td>0</td>\n",
       "      <td>NaN</td>\n",
       "      <td>NaN</td>\n",
       "      <td>1.0</td>\n",
       "      <td>1.0</td>\n",
       "      <td>0.0</td>\n",
       "    </tr>\n",
       "    <tr>\n",
       "      <th>Gen No 16</th>\n",
       "      <td>Bus No 34</td>\n",
       "      <td>PV</td>\n",
       "      <td></td>\n",
       "      <td>0.0</td>\n",
       "      <td>False</td>\n",
       "      <td>0.0</td>\n",
       "      <td>inf</td>\n",
       "      <td>0.0</td>\n",
       "      <td>1.0</td>\n",
       "      <td>100.0</td>\n",
       "      <td>...</td>\n",
       "      <td>0.0</td>\n",
       "      <td>0</td>\n",
       "      <td>0</td>\n",
       "      <td>1</td>\n",
       "      <td>0</td>\n",
       "      <td>NaN</td>\n",
       "      <td>NaN</td>\n",
       "      <td>1.0</td>\n",
       "      <td>1.0</td>\n",
       "      <td>0.0</td>\n",
       "    </tr>\n",
       "    <tr>\n",
       "      <th>Gen No 17</th>\n",
       "      <td>Bus No 36</td>\n",
       "      <td>PV</td>\n",
       "      <td></td>\n",
       "      <td>0.0</td>\n",
       "      <td>False</td>\n",
       "      <td>0.0</td>\n",
       "      <td>inf</td>\n",
       "      <td>0.0</td>\n",
       "      <td>1.0</td>\n",
       "      <td>100.0</td>\n",
       "      <td>...</td>\n",
       "      <td>0.0</td>\n",
       "      <td>0</td>\n",
       "      <td>0</td>\n",
       "      <td>1</td>\n",
       "      <td>0</td>\n",
       "      <td>NaN</td>\n",
       "      <td>NaN</td>\n",
       "      <td>1.0</td>\n",
       "      <td>1.0</td>\n",
       "      <td>0.0</td>\n",
       "    </tr>\n",
       "    <tr>\n",
       "      <th>Gen No 18</th>\n",
       "      <td>Bus No 40</td>\n",
       "      <td>PV</td>\n",
       "      <td></td>\n",
       "      <td>0.0</td>\n",
       "      <td>False</td>\n",
       "      <td>0.0</td>\n",
       "      <td>inf</td>\n",
       "      <td>0.0</td>\n",
       "      <td>1.0</td>\n",
       "      <td>100.0</td>\n",
       "      <td>...</td>\n",
       "      <td>0.0</td>\n",
       "      <td>0</td>\n",
       "      <td>0</td>\n",
       "      <td>1</td>\n",
       "      <td>0</td>\n",
       "      <td>NaN</td>\n",
       "      <td>NaN</td>\n",
       "      <td>1.0</td>\n",
       "      <td>1.0</td>\n",
       "      <td>0.0</td>\n",
       "    </tr>\n",
       "    <tr>\n",
       "      <th>Gen No 19</th>\n",
       "      <td>Bus No 42</td>\n",
       "      <td>PV</td>\n",
       "      <td></td>\n",
       "      <td>0.0</td>\n",
       "      <td>False</td>\n",
       "      <td>0.0</td>\n",
       "      <td>inf</td>\n",
       "      <td>0.0</td>\n",
       "      <td>1.0</td>\n",
       "      <td>100.0</td>\n",
       "      <td>...</td>\n",
       "      <td>0.0</td>\n",
       "      <td>0</td>\n",
       "      <td>0</td>\n",
       "      <td>1</td>\n",
       "      <td>0</td>\n",
       "      <td>NaN</td>\n",
       "      <td>NaN</td>\n",
       "      <td>1.0</td>\n",
       "      <td>1.0</td>\n",
       "      <td>0.0</td>\n",
       "    </tr>\n",
       "    <tr>\n",
       "      <th>Gen No 20</th>\n",
       "      <td>Bus No 46</td>\n",
       "      <td>PV</td>\n",
       "      <td></td>\n",
       "      <td>0.0</td>\n",
       "      <td>False</td>\n",
       "      <td>0.0</td>\n",
       "      <td>inf</td>\n",
       "      <td>0.0</td>\n",
       "      <td>1.0</td>\n",
       "      <td>119.0</td>\n",
       "      <td>...</td>\n",
       "      <td>0.0</td>\n",
       "      <td>0</td>\n",
       "      <td>0</td>\n",
       "      <td>1</td>\n",
       "      <td>0</td>\n",
       "      <td>NaN</td>\n",
       "      <td>NaN</td>\n",
       "      <td>1.0</td>\n",
       "      <td>1.0</td>\n",
       "      <td>0.0</td>\n",
       "    </tr>\n",
       "    <tr>\n",
       "      <th>Gen No 21</th>\n",
       "      <td>Bus No 49</td>\n",
       "      <td>PV</td>\n",
       "      <td></td>\n",
       "      <td>0.0</td>\n",
       "      <td>False</td>\n",
       "      <td>0.0</td>\n",
       "      <td>inf</td>\n",
       "      <td>0.0</td>\n",
       "      <td>1.0</td>\n",
       "      <td>304.0</td>\n",
       "      <td>...</td>\n",
       "      <td>0.0</td>\n",
       "      <td>0</td>\n",
       "      <td>0</td>\n",
       "      <td>1</td>\n",
       "      <td>0</td>\n",
       "      <td>NaN</td>\n",
       "      <td>NaN</td>\n",
       "      <td>1.0</td>\n",
       "      <td>1.0</td>\n",
       "      <td>0.0</td>\n",
       "    </tr>\n",
       "    <tr>\n",
       "      <th>Gen No 22</th>\n",
       "      <td>Bus No 54</td>\n",
       "      <td>PV</td>\n",
       "      <td></td>\n",
       "      <td>0.0</td>\n",
       "      <td>False</td>\n",
       "      <td>0.0</td>\n",
       "      <td>inf</td>\n",
       "      <td>0.0</td>\n",
       "      <td>1.0</td>\n",
       "      <td>148.0</td>\n",
       "      <td>...</td>\n",
       "      <td>0.0</td>\n",
       "      <td>0</td>\n",
       "      <td>0</td>\n",
       "      <td>1</td>\n",
       "      <td>0</td>\n",
       "      <td>NaN</td>\n",
       "      <td>NaN</td>\n",
       "      <td>1.0</td>\n",
       "      <td>1.0</td>\n",
       "      <td>0.0</td>\n",
       "    </tr>\n",
       "    <tr>\n",
       "      <th>Gen No 23</th>\n",
       "      <td>Bus No 55</td>\n",
       "      <td>PV</td>\n",
       "      <td></td>\n",
       "      <td>0.0</td>\n",
       "      <td>False</td>\n",
       "      <td>0.0</td>\n",
       "      <td>inf</td>\n",
       "      <td>0.0</td>\n",
       "      <td>1.0</td>\n",
       "      <td>100.0</td>\n",
       "      <td>...</td>\n",
       "      <td>0.0</td>\n",
       "      <td>0</td>\n",
       "      <td>0</td>\n",
       "      <td>1</td>\n",
       "      <td>0</td>\n",
       "      <td>NaN</td>\n",
       "      <td>NaN</td>\n",
       "      <td>1.0</td>\n",
       "      <td>1.0</td>\n",
       "      <td>0.0</td>\n",
       "    </tr>\n",
       "    <tr>\n",
       "      <th>Gen No 24</th>\n",
       "      <td>Bus No 56</td>\n",
       "      <td>PV</td>\n",
       "      <td></td>\n",
       "      <td>0.0</td>\n",
       "      <td>False</td>\n",
       "      <td>0.0</td>\n",
       "      <td>inf</td>\n",
       "      <td>0.0</td>\n",
       "      <td>1.0</td>\n",
       "      <td>100.0</td>\n",
       "      <td>...</td>\n",
       "      <td>0.0</td>\n",
       "      <td>0</td>\n",
       "      <td>0</td>\n",
       "      <td>1</td>\n",
       "      <td>0</td>\n",
       "      <td>NaN</td>\n",
       "      <td>NaN</td>\n",
       "      <td>1.0</td>\n",
       "      <td>1.0</td>\n",
       "      <td>0.0</td>\n",
       "    </tr>\n",
       "    <tr>\n",
       "      <th>Gen No 25</th>\n",
       "      <td>Bus No 59</td>\n",
       "      <td>PV</td>\n",
       "      <td></td>\n",
       "      <td>0.0</td>\n",
       "      <td>False</td>\n",
       "      <td>0.0</td>\n",
       "      <td>inf</td>\n",
       "      <td>0.0</td>\n",
       "      <td>1.0</td>\n",
       "      <td>255.0</td>\n",
       "      <td>...</td>\n",
       "      <td>0.0</td>\n",
       "      <td>0</td>\n",
       "      <td>0</td>\n",
       "      <td>1</td>\n",
       "      <td>0</td>\n",
       "      <td>NaN</td>\n",
       "      <td>NaN</td>\n",
       "      <td>1.0</td>\n",
       "      <td>1.0</td>\n",
       "      <td>0.0</td>\n",
       "    </tr>\n",
       "    <tr>\n",
       "      <th>Gen No 26</th>\n",
       "      <td>Bus No 61</td>\n",
       "      <td>PV</td>\n",
       "      <td></td>\n",
       "      <td>0.0</td>\n",
       "      <td>False</td>\n",
       "      <td>0.0</td>\n",
       "      <td>inf</td>\n",
       "      <td>0.0</td>\n",
       "      <td>1.0</td>\n",
       "      <td>260.0</td>\n",
       "      <td>...</td>\n",
       "      <td>0.0</td>\n",
       "      <td>0</td>\n",
       "      <td>0</td>\n",
       "      <td>1</td>\n",
       "      <td>0</td>\n",
       "      <td>NaN</td>\n",
       "      <td>NaN</td>\n",
       "      <td>1.0</td>\n",
       "      <td>1.0</td>\n",
       "      <td>0.0</td>\n",
       "    </tr>\n",
       "    <tr>\n",
       "      <th>Gen No 27</th>\n",
       "      <td>Bus No 62</td>\n",
       "      <td>PV</td>\n",
       "      <td></td>\n",
       "      <td>0.0</td>\n",
       "      <td>False</td>\n",
       "      <td>0.0</td>\n",
       "      <td>inf</td>\n",
       "      <td>0.0</td>\n",
       "      <td>1.0</td>\n",
       "      <td>100.0</td>\n",
       "      <td>...</td>\n",
       "      <td>0.0</td>\n",
       "      <td>0</td>\n",
       "      <td>0</td>\n",
       "      <td>1</td>\n",
       "      <td>0</td>\n",
       "      <td>NaN</td>\n",
       "      <td>NaN</td>\n",
       "      <td>1.0</td>\n",
       "      <td>1.0</td>\n",
       "      <td>0.0</td>\n",
       "    </tr>\n",
       "    <tr>\n",
       "      <th>Gen No 28</th>\n",
       "      <td>Bus No 65</td>\n",
       "      <td>PV</td>\n",
       "      <td></td>\n",
       "      <td>0.0</td>\n",
       "      <td>False</td>\n",
       "      <td>0.0</td>\n",
       "      <td>inf</td>\n",
       "      <td>0.0</td>\n",
       "      <td>1.0</td>\n",
       "      <td>491.0</td>\n",
       "      <td>...</td>\n",
       "      <td>0.0</td>\n",
       "      <td>0</td>\n",
       "      <td>0</td>\n",
       "      <td>1</td>\n",
       "      <td>0</td>\n",
       "      <td>NaN</td>\n",
       "      <td>NaN</td>\n",
       "      <td>1.0</td>\n",
       "      <td>1.0</td>\n",
       "      <td>0.0</td>\n",
       "    </tr>\n",
       "    <tr>\n",
       "      <th>Gen No 29</th>\n",
       "      <td>Bus No 66</td>\n",
       "      <td>PV</td>\n",
       "      <td></td>\n",
       "      <td>0.0</td>\n",
       "      <td>False</td>\n",
       "      <td>0.0</td>\n",
       "      <td>inf</td>\n",
       "      <td>0.0</td>\n",
       "      <td>1.0</td>\n",
       "      <td>492.0</td>\n",
       "      <td>...</td>\n",
       "      <td>0.0</td>\n",
       "      <td>0</td>\n",
       "      <td>0</td>\n",
       "      <td>1</td>\n",
       "      <td>0</td>\n",
       "      <td>NaN</td>\n",
       "      <td>NaN</td>\n",
       "      <td>1.0</td>\n",
       "      <td>1.0</td>\n",
       "      <td>0.0</td>\n",
       "    </tr>\n",
       "    <tr>\n",
       "      <th>Gen No 30</th>\n",
       "      <td>Bus No 69</td>\n",
       "      <td>PV</td>\n",
       "      <td></td>\n",
       "      <td>0.0</td>\n",
       "      <td>False</td>\n",
       "      <td>0.0</td>\n",
       "      <td>inf</td>\n",
       "      <td>0.0</td>\n",
       "      <td>1.0</td>\n",
       "      <td>805.2</td>\n",
       "      <td>...</td>\n",
       "      <td>0.0</td>\n",
       "      <td>0</td>\n",
       "      <td>0</td>\n",
       "      <td>1</td>\n",
       "      <td>0</td>\n",
       "      <td>NaN</td>\n",
       "      <td>NaN</td>\n",
       "      <td>1.0</td>\n",
       "      <td>1.0</td>\n",
       "      <td>0.0</td>\n",
       "    </tr>\n",
       "    <tr>\n",
       "      <th>Gen No 31</th>\n",
       "      <td>Bus No 70</td>\n",
       "      <td>PV</td>\n",
       "      <td></td>\n",
       "      <td>0.0</td>\n",
       "      <td>False</td>\n",
       "      <td>0.0</td>\n",
       "      <td>inf</td>\n",
       "      <td>0.0</td>\n",
       "      <td>1.0</td>\n",
       "      <td>100.0</td>\n",
       "      <td>...</td>\n",
       "      <td>0.0</td>\n",
       "      <td>0</td>\n",
       "      <td>0</td>\n",
       "      <td>1</td>\n",
       "      <td>0</td>\n",
       "      <td>NaN</td>\n",
       "      <td>NaN</td>\n",
       "      <td>1.0</td>\n",
       "      <td>1.0</td>\n",
       "      <td>0.0</td>\n",
       "    </tr>\n",
       "    <tr>\n",
       "      <th>Gen No 32</th>\n",
       "      <td>Bus No 72</td>\n",
       "      <td>PV</td>\n",
       "      <td></td>\n",
       "      <td>0.0</td>\n",
       "      <td>False</td>\n",
       "      <td>0.0</td>\n",
       "      <td>inf</td>\n",
       "      <td>0.0</td>\n",
       "      <td>1.0</td>\n",
       "      <td>100.0</td>\n",
       "      <td>...</td>\n",
       "      <td>0.0</td>\n",
       "      <td>0</td>\n",
       "      <td>0</td>\n",
       "      <td>1</td>\n",
       "      <td>0</td>\n",
       "      <td>NaN</td>\n",
       "      <td>NaN</td>\n",
       "      <td>1.0</td>\n",
       "      <td>1.0</td>\n",
       "      <td>0.0</td>\n",
       "    </tr>\n",
       "    <tr>\n",
       "      <th>Gen No 33</th>\n",
       "      <td>Bus No 73</td>\n",
       "      <td>PV</td>\n",
       "      <td></td>\n",
       "      <td>0.0</td>\n",
       "      <td>False</td>\n",
       "      <td>0.0</td>\n",
       "      <td>inf</td>\n",
       "      <td>0.0</td>\n",
       "      <td>1.0</td>\n",
       "      <td>100.0</td>\n",
       "      <td>...</td>\n",
       "      <td>0.0</td>\n",
       "      <td>0</td>\n",
       "      <td>0</td>\n",
       "      <td>1</td>\n",
       "      <td>0</td>\n",
       "      <td>NaN</td>\n",
       "      <td>NaN</td>\n",
       "      <td>1.0</td>\n",
       "      <td>1.0</td>\n",
       "      <td>0.0</td>\n",
       "    </tr>\n",
       "    <tr>\n",
       "      <th>Gen No 34</th>\n",
       "      <td>Bus No 74</td>\n",
       "      <td>PV</td>\n",
       "      <td></td>\n",
       "      <td>0.0</td>\n",
       "      <td>False</td>\n",
       "      <td>0.0</td>\n",
       "      <td>inf</td>\n",
       "      <td>0.0</td>\n",
       "      <td>1.0</td>\n",
       "      <td>100.0</td>\n",
       "      <td>...</td>\n",
       "      <td>0.0</td>\n",
       "      <td>0</td>\n",
       "      <td>0</td>\n",
       "      <td>1</td>\n",
       "      <td>0</td>\n",
       "      <td>NaN</td>\n",
       "      <td>NaN</td>\n",
       "      <td>1.0</td>\n",
       "      <td>1.0</td>\n",
       "      <td>0.0</td>\n",
       "    </tr>\n",
       "    <tr>\n",
       "      <th>Gen No 35</th>\n",
       "      <td>Bus No 76</td>\n",
       "      <td>PV</td>\n",
       "      <td></td>\n",
       "      <td>0.0</td>\n",
       "      <td>False</td>\n",
       "      <td>0.0</td>\n",
       "      <td>inf</td>\n",
       "      <td>0.0</td>\n",
       "      <td>1.0</td>\n",
       "      <td>100.0</td>\n",
       "      <td>...</td>\n",
       "      <td>0.0</td>\n",
       "      <td>0</td>\n",
       "      <td>0</td>\n",
       "      <td>1</td>\n",
       "      <td>0</td>\n",
       "      <td>NaN</td>\n",
       "      <td>NaN</td>\n",
       "      <td>1.0</td>\n",
       "      <td>1.0</td>\n",
       "      <td>0.0</td>\n",
       "    </tr>\n",
       "    <tr>\n",
       "      <th>Gen No 36</th>\n",
       "      <td>Bus No 77</td>\n",
       "      <td>PV</td>\n",
       "      <td></td>\n",
       "      <td>0.0</td>\n",
       "      <td>False</td>\n",
       "      <td>0.0</td>\n",
       "      <td>inf</td>\n",
       "      <td>0.0</td>\n",
       "      <td>1.0</td>\n",
       "      <td>100.0</td>\n",
       "      <td>...</td>\n",
       "      <td>0.0</td>\n",
       "      <td>0</td>\n",
       "      <td>0</td>\n",
       "      <td>1</td>\n",
       "      <td>0</td>\n",
       "      <td>NaN</td>\n",
       "      <td>NaN</td>\n",
       "      <td>1.0</td>\n",
       "      <td>1.0</td>\n",
       "      <td>0.0</td>\n",
       "    </tr>\n",
       "    <tr>\n",
       "      <th>Gen No 37</th>\n",
       "      <td>Bus No 80</td>\n",
       "      <td>PV</td>\n",
       "      <td></td>\n",
       "      <td>0.0</td>\n",
       "      <td>False</td>\n",
       "      <td>0.0</td>\n",
       "      <td>inf</td>\n",
       "      <td>0.0</td>\n",
       "      <td>1.0</td>\n",
       "      <td>577.0</td>\n",
       "      <td>...</td>\n",
       "      <td>0.0</td>\n",
       "      <td>0</td>\n",
       "      <td>0</td>\n",
       "      <td>1</td>\n",
       "      <td>0</td>\n",
       "      <td>NaN</td>\n",
       "      <td>NaN</td>\n",
       "      <td>1.0</td>\n",
       "      <td>1.0</td>\n",
       "      <td>0.0</td>\n",
       "    </tr>\n",
       "    <tr>\n",
       "      <th>Gen No 38</th>\n",
       "      <td>Bus No 85</td>\n",
       "      <td>PV</td>\n",
       "      <td></td>\n",
       "      <td>0.0</td>\n",
       "      <td>False</td>\n",
       "      <td>0.0</td>\n",
       "      <td>inf</td>\n",
       "      <td>0.0</td>\n",
       "      <td>1.0</td>\n",
       "      <td>100.0</td>\n",
       "      <td>...</td>\n",
       "      <td>0.0</td>\n",
       "      <td>0</td>\n",
       "      <td>0</td>\n",
       "      <td>1</td>\n",
       "      <td>0</td>\n",
       "      <td>NaN</td>\n",
       "      <td>NaN</td>\n",
       "      <td>1.0</td>\n",
       "      <td>1.0</td>\n",
       "      <td>0.0</td>\n",
       "    </tr>\n",
       "    <tr>\n",
       "      <th>Gen No 39</th>\n",
       "      <td>Bus No 87</td>\n",
       "      <td>PV</td>\n",
       "      <td></td>\n",
       "      <td>0.0</td>\n",
       "      <td>False</td>\n",
       "      <td>0.0</td>\n",
       "      <td>inf</td>\n",
       "      <td>0.0</td>\n",
       "      <td>1.0</td>\n",
       "      <td>104.0</td>\n",
       "      <td>...</td>\n",
       "      <td>0.0</td>\n",
       "      <td>0</td>\n",
       "      <td>0</td>\n",
       "      <td>1</td>\n",
       "      <td>0</td>\n",
       "      <td>NaN</td>\n",
       "      <td>NaN</td>\n",
       "      <td>1.0</td>\n",
       "      <td>1.0</td>\n",
       "      <td>0.0</td>\n",
       "    </tr>\n",
       "    <tr>\n",
       "      <th>Gen No 40</th>\n",
       "      <td>Bus No 89</td>\n",
       "      <td>PV</td>\n",
       "      <td></td>\n",
       "      <td>0.0</td>\n",
       "      <td>False</td>\n",
       "      <td>0.0</td>\n",
       "      <td>inf</td>\n",
       "      <td>0.0</td>\n",
       "      <td>1.0</td>\n",
       "      <td>707.0</td>\n",
       "      <td>...</td>\n",
       "      <td>0.0</td>\n",
       "      <td>0</td>\n",
       "      <td>0</td>\n",
       "      <td>1</td>\n",
       "      <td>0</td>\n",
       "      <td>NaN</td>\n",
       "      <td>NaN</td>\n",
       "      <td>1.0</td>\n",
       "      <td>1.0</td>\n",
       "      <td>0.0</td>\n",
       "    </tr>\n",
       "    <tr>\n",
       "      <th>Gen No 41</th>\n",
       "      <td>Bus No 90</td>\n",
       "      <td>PV</td>\n",
       "      <td></td>\n",
       "      <td>0.0</td>\n",
       "      <td>False</td>\n",
       "      <td>0.0</td>\n",
       "      <td>inf</td>\n",
       "      <td>0.0</td>\n",
       "      <td>1.0</td>\n",
       "      <td>100.0</td>\n",
       "      <td>...</td>\n",
       "      <td>0.0</td>\n",
       "      <td>0</td>\n",
       "      <td>0</td>\n",
       "      <td>1</td>\n",
       "      <td>0</td>\n",
       "      <td>NaN</td>\n",
       "      <td>NaN</td>\n",
       "      <td>1.0</td>\n",
       "      <td>1.0</td>\n",
       "      <td>0.0</td>\n",
       "    </tr>\n",
       "    <tr>\n",
       "      <th>Gen No 42</th>\n",
       "      <td>Bus No 91</td>\n",
       "      <td>PV</td>\n",
       "      <td></td>\n",
       "      <td>0.0</td>\n",
       "      <td>False</td>\n",
       "      <td>0.0</td>\n",
       "      <td>inf</td>\n",
       "      <td>0.0</td>\n",
       "      <td>1.0</td>\n",
       "      <td>100.0</td>\n",
       "      <td>...</td>\n",
       "      <td>0.0</td>\n",
       "      <td>0</td>\n",
       "      <td>0</td>\n",
       "      <td>1</td>\n",
       "      <td>0</td>\n",
       "      <td>NaN</td>\n",
       "      <td>NaN</td>\n",
       "      <td>1.0</td>\n",
       "      <td>1.0</td>\n",
       "      <td>0.0</td>\n",
       "    </tr>\n",
       "    <tr>\n",
       "      <th>Gen No 43</th>\n",
       "      <td>Bus No 92</td>\n",
       "      <td>PV</td>\n",
       "      <td></td>\n",
       "      <td>0.0</td>\n",
       "      <td>False</td>\n",
       "      <td>0.0</td>\n",
       "      <td>inf</td>\n",
       "      <td>0.0</td>\n",
       "      <td>1.0</td>\n",
       "      <td>100.0</td>\n",
       "      <td>...</td>\n",
       "      <td>0.0</td>\n",
       "      <td>0</td>\n",
       "      <td>0</td>\n",
       "      <td>1</td>\n",
       "      <td>0</td>\n",
       "      <td>NaN</td>\n",
       "      <td>NaN</td>\n",
       "      <td>1.0</td>\n",
       "      <td>1.0</td>\n",
       "      <td>0.0</td>\n",
       "    </tr>\n",
       "    <tr>\n",
       "      <th>Gen No 44</th>\n",
       "      <td>Bus No 99</td>\n",
       "      <td>PV</td>\n",
       "      <td></td>\n",
       "      <td>0.0</td>\n",
       "      <td>False</td>\n",
       "      <td>0.0</td>\n",
       "      <td>inf</td>\n",
       "      <td>0.0</td>\n",
       "      <td>1.0</td>\n",
       "      <td>100.0</td>\n",
       "      <td>...</td>\n",
       "      <td>0.0</td>\n",
       "      <td>0</td>\n",
       "      <td>0</td>\n",
       "      <td>1</td>\n",
       "      <td>0</td>\n",
       "      <td>NaN</td>\n",
       "      <td>NaN</td>\n",
       "      <td>1.0</td>\n",
       "      <td>1.0</td>\n",
       "      <td>0.0</td>\n",
       "    </tr>\n",
       "    <tr>\n",
       "      <th>Gen No 45</th>\n",
       "      <td>Bus No 100</td>\n",
       "      <td>PV</td>\n",
       "      <td></td>\n",
       "      <td>0.0</td>\n",
       "      <td>False</td>\n",
       "      <td>0.0</td>\n",
       "      <td>inf</td>\n",
       "      <td>0.0</td>\n",
       "      <td>1.0</td>\n",
       "      <td>352.0</td>\n",
       "      <td>...</td>\n",
       "      <td>0.0</td>\n",
       "      <td>0</td>\n",
       "      <td>0</td>\n",
       "      <td>1</td>\n",
       "      <td>0</td>\n",
       "      <td>NaN</td>\n",
       "      <td>NaN</td>\n",
       "      <td>1.0</td>\n",
       "      <td>1.0</td>\n",
       "      <td>0.0</td>\n",
       "    </tr>\n",
       "    <tr>\n",
       "      <th>Gen No 46</th>\n",
       "      <td>Bus No 103</td>\n",
       "      <td>PV</td>\n",
       "      <td></td>\n",
       "      <td>0.0</td>\n",
       "      <td>False</td>\n",
       "      <td>0.0</td>\n",
       "      <td>inf</td>\n",
       "      <td>0.0</td>\n",
       "      <td>1.0</td>\n",
       "      <td>140.0</td>\n",
       "      <td>...</td>\n",
       "      <td>0.0</td>\n",
       "      <td>0</td>\n",
       "      <td>0</td>\n",
       "      <td>1</td>\n",
       "      <td>0</td>\n",
       "      <td>NaN</td>\n",
       "      <td>NaN</td>\n",
       "      <td>1.0</td>\n",
       "      <td>1.0</td>\n",
       "      <td>0.0</td>\n",
       "    </tr>\n",
       "    <tr>\n",
       "      <th>Gen No 47</th>\n",
       "      <td>Bus No 104</td>\n",
       "      <td>PV</td>\n",
       "      <td></td>\n",
       "      <td>0.0</td>\n",
       "      <td>False</td>\n",
       "      <td>0.0</td>\n",
       "      <td>inf</td>\n",
       "      <td>0.0</td>\n",
       "      <td>1.0</td>\n",
       "      <td>100.0</td>\n",
       "      <td>...</td>\n",
       "      <td>0.0</td>\n",
       "      <td>0</td>\n",
       "      <td>0</td>\n",
       "      <td>1</td>\n",
       "      <td>0</td>\n",
       "      <td>NaN</td>\n",
       "      <td>NaN</td>\n",
       "      <td>1.0</td>\n",
       "      <td>1.0</td>\n",
       "      <td>0.0</td>\n",
       "    </tr>\n",
       "    <tr>\n",
       "      <th>Gen No 48</th>\n",
       "      <td>Bus No 105</td>\n",
       "      <td>PV</td>\n",
       "      <td></td>\n",
       "      <td>0.0</td>\n",
       "      <td>False</td>\n",
       "      <td>0.0</td>\n",
       "      <td>inf</td>\n",
       "      <td>0.0</td>\n",
       "      <td>1.0</td>\n",
       "      <td>100.0</td>\n",
       "      <td>...</td>\n",
       "      <td>0.0</td>\n",
       "      <td>0</td>\n",
       "      <td>0</td>\n",
       "      <td>1</td>\n",
       "      <td>0</td>\n",
       "      <td>NaN</td>\n",
       "      <td>NaN</td>\n",
       "      <td>1.0</td>\n",
       "      <td>1.0</td>\n",
       "      <td>0.0</td>\n",
       "    </tr>\n",
       "    <tr>\n",
       "      <th>Gen No 49</th>\n",
       "      <td>Bus No 107</td>\n",
       "      <td>PV</td>\n",
       "      <td></td>\n",
       "      <td>0.0</td>\n",
       "      <td>False</td>\n",
       "      <td>0.0</td>\n",
       "      <td>inf</td>\n",
       "      <td>0.0</td>\n",
       "      <td>1.0</td>\n",
       "      <td>100.0</td>\n",
       "      <td>...</td>\n",
       "      <td>0.0</td>\n",
       "      <td>0</td>\n",
       "      <td>0</td>\n",
       "      <td>1</td>\n",
       "      <td>0</td>\n",
       "      <td>NaN</td>\n",
       "      <td>NaN</td>\n",
       "      <td>1.0</td>\n",
       "      <td>1.0</td>\n",
       "      <td>0.0</td>\n",
       "    </tr>\n",
       "    <tr>\n",
       "      <th>Gen No 50</th>\n",
       "      <td>Bus No 110</td>\n",
       "      <td>PV</td>\n",
       "      <td></td>\n",
       "      <td>0.0</td>\n",
       "      <td>False</td>\n",
       "      <td>0.0</td>\n",
       "      <td>inf</td>\n",
       "      <td>0.0</td>\n",
       "      <td>1.0</td>\n",
       "      <td>100.0</td>\n",
       "      <td>...</td>\n",
       "      <td>0.0</td>\n",
       "      <td>0</td>\n",
       "      <td>0</td>\n",
       "      <td>1</td>\n",
       "      <td>0</td>\n",
       "      <td>NaN</td>\n",
       "      <td>NaN</td>\n",
       "      <td>1.0</td>\n",
       "      <td>1.0</td>\n",
       "      <td>0.0</td>\n",
       "    </tr>\n",
       "    <tr>\n",
       "      <th>Gen No 51</th>\n",
       "      <td>Bus No 111</td>\n",
       "      <td>PV</td>\n",
       "      <td></td>\n",
       "      <td>0.0</td>\n",
       "      <td>False</td>\n",
       "      <td>0.0</td>\n",
       "      <td>inf</td>\n",
       "      <td>0.0</td>\n",
       "      <td>1.0</td>\n",
       "      <td>136.0</td>\n",
       "      <td>...</td>\n",
       "      <td>0.0</td>\n",
       "      <td>0</td>\n",
       "      <td>0</td>\n",
       "      <td>1</td>\n",
       "      <td>0</td>\n",
       "      <td>NaN</td>\n",
       "      <td>NaN</td>\n",
       "      <td>1.0</td>\n",
       "      <td>1.0</td>\n",
       "      <td>0.0</td>\n",
       "    </tr>\n",
       "    <tr>\n",
       "      <th>Gen No 52</th>\n",
       "      <td>Bus No 112</td>\n",
       "      <td>PV</td>\n",
       "      <td></td>\n",
       "      <td>0.0</td>\n",
       "      <td>False</td>\n",
       "      <td>0.0</td>\n",
       "      <td>inf</td>\n",
       "      <td>0.0</td>\n",
       "      <td>1.0</td>\n",
       "      <td>100.0</td>\n",
       "      <td>...</td>\n",
       "      <td>0.0</td>\n",
       "      <td>0</td>\n",
       "      <td>0</td>\n",
       "      <td>1</td>\n",
       "      <td>0</td>\n",
       "      <td>NaN</td>\n",
       "      <td>NaN</td>\n",
       "      <td>1.0</td>\n",
       "      <td>1.0</td>\n",
       "      <td>0.0</td>\n",
       "    </tr>\n",
       "    <tr>\n",
       "      <th>Gen No 53</th>\n",
       "      <td>Bus No 113</td>\n",
       "      <td>PV</td>\n",
       "      <td></td>\n",
       "      <td>0.0</td>\n",
       "      <td>False</td>\n",
       "      <td>0.0</td>\n",
       "      <td>inf</td>\n",
       "      <td>0.0</td>\n",
       "      <td>1.0</td>\n",
       "      <td>100.0</td>\n",
       "      <td>...</td>\n",
       "      <td>0.0</td>\n",
       "      <td>0</td>\n",
       "      <td>0</td>\n",
       "      <td>1</td>\n",
       "      <td>0</td>\n",
       "      <td>NaN</td>\n",
       "      <td>NaN</td>\n",
       "      <td>1.0</td>\n",
       "      <td>1.0</td>\n",
       "      <td>0.0</td>\n",
       "    </tr>\n",
       "    <tr>\n",
       "      <th>Gen No 54</th>\n",
       "      <td>Bus No 116</td>\n",
       "      <td>PV</td>\n",
       "      <td></td>\n",
       "      <td>0.0</td>\n",
       "      <td>False</td>\n",
       "      <td>0.0</td>\n",
       "      <td>inf</td>\n",
       "      <td>0.0</td>\n",
       "      <td>1.0</td>\n",
       "      <td>100.0</td>\n",
       "      <td>...</td>\n",
       "      <td>0.0</td>\n",
       "      <td>0</td>\n",
       "      <td>0</td>\n",
       "      <td>1</td>\n",
       "      <td>0</td>\n",
       "      <td>NaN</td>\n",
       "      <td>NaN</td>\n",
       "      <td>1.0</td>\n",
       "      <td>1.0</td>\n",
       "      <td>0.0</td>\n",
       "    </tr>\n",
       "  </tbody>\n",
       "</table>\n",
       "<p>54 rows × 30 columns</p>\n",
       "</div>"
      ],
      "text/plain": [
       "attribute         bus control type  p_nom  p_nom_extendable  p_nom_min  \\\n",
       "Slack Gen    Bus No 1   Slack         0.0             False        0.0   \n",
       "Gen No 2     Bus No 4      PV         0.0             False        0.0   \n",
       "Gen No 3     Bus No 6      PV         0.0             False        0.0   \n",
       "Gen No 4     Bus No 8      PV         0.0             False        0.0   \n",
       "Gen No 5    Bus No 10      PV         0.0             False        0.0   \n",
       "Gen No 6    Bus No 12      PV         0.0             False        0.0   \n",
       "Gen No 7    Bus No 15      PV         0.0             False        0.0   \n",
       "Gen No 8    Bus No 18      PV         0.0             False        0.0   \n",
       "Gen No 9    Bus No 19      PV         0.0             False        0.0   \n",
       "Gen No 10   Bus No 24      PV         0.0             False        0.0   \n",
       "Gen No 11   Bus No 25      PV         0.0             False        0.0   \n",
       "Gen No 12   Bus No 26      PV         0.0             False        0.0   \n",
       "Gen No 13   Bus No 27      PV         0.0             False        0.0   \n",
       "Gen No 14   Bus No 31      PV         0.0             False        0.0   \n",
       "Gen No 15   Bus No 32      PV         0.0             False        0.0   \n",
       "Gen No 16   Bus No 34      PV         0.0             False        0.0   \n",
       "Gen No 17   Bus No 36      PV         0.0             False        0.0   \n",
       "Gen No 18   Bus No 40      PV         0.0             False        0.0   \n",
       "Gen No 19   Bus No 42      PV         0.0             False        0.0   \n",
       "Gen No 20   Bus No 46      PV         0.0             False        0.0   \n",
       "Gen No 21   Bus No 49      PV         0.0             False        0.0   \n",
       "Gen No 22   Bus No 54      PV         0.0             False        0.0   \n",
       "Gen No 23   Bus No 55      PV         0.0             False        0.0   \n",
       "Gen No 24   Bus No 56      PV         0.0             False        0.0   \n",
       "Gen No 25   Bus No 59      PV         0.0             False        0.0   \n",
       "Gen No 26   Bus No 61      PV         0.0             False        0.0   \n",
       "Gen No 27   Bus No 62      PV         0.0             False        0.0   \n",
       "Gen No 28   Bus No 65      PV         0.0             False        0.0   \n",
       "Gen No 29   Bus No 66      PV         0.0             False        0.0   \n",
       "Gen No 30   Bus No 69      PV         0.0             False        0.0   \n",
       "Gen No 31   Bus No 70      PV         0.0             False        0.0   \n",
       "Gen No 32   Bus No 72      PV         0.0             False        0.0   \n",
       "Gen No 33   Bus No 73      PV         0.0             False        0.0   \n",
       "Gen No 34   Bus No 74      PV         0.0             False        0.0   \n",
       "Gen No 35   Bus No 76      PV         0.0             False        0.0   \n",
       "Gen No 36   Bus No 77      PV         0.0             False        0.0   \n",
       "Gen No 37   Bus No 80      PV         0.0             False        0.0   \n",
       "Gen No 38   Bus No 85      PV         0.0             False        0.0   \n",
       "Gen No 39   Bus No 87      PV         0.0             False        0.0   \n",
       "Gen No 40   Bus No 89      PV         0.0             False        0.0   \n",
       "Gen No 41   Bus No 90      PV         0.0             False        0.0   \n",
       "Gen No 42   Bus No 91      PV         0.0             False        0.0   \n",
       "Gen No 43   Bus No 92      PV         0.0             False        0.0   \n",
       "Gen No 44   Bus No 99      PV         0.0             False        0.0   \n",
       "Gen No 45  Bus No 100      PV         0.0             False        0.0   \n",
       "Gen No 46  Bus No 103      PV         0.0             False        0.0   \n",
       "Gen No 47  Bus No 104      PV         0.0             False        0.0   \n",
       "Gen No 48  Bus No 105      PV         0.0             False        0.0   \n",
       "Gen No 49  Bus No 107      PV         0.0             False        0.0   \n",
       "Gen No 50  Bus No 110      PV         0.0             False        0.0   \n",
       "Gen No 51  Bus No 111      PV         0.0             False        0.0   \n",
       "Gen No 52  Bus No 112      PV         0.0             False        0.0   \n",
       "Gen No 53  Bus No 113      PV         0.0             False        0.0   \n",
       "Gen No 54  Bus No 116      PV         0.0             False        0.0   \n",
       "\n",
       "attribute  p_nom_max  p_min_pu  p_max_pu  p_set  ...  shut_down_cost  \\\n",
       "Slack Gen        inf       0.0       1.0    0.0  ...             0.0   \n",
       "Gen No 2         inf       0.0       1.0  100.0  ...             0.0   \n",
       "Gen No 3         inf       0.0       1.0  100.0  ...             0.0   \n",
       "Gen No 4         inf       0.0       1.0  100.0  ...             0.0   \n",
       "Gen No 5         inf       0.0       1.0  550.0  ...             0.0   \n",
       "Gen No 6         inf       0.0       1.0  185.0  ...             0.0   \n",
       "Gen No 7         inf       0.0       1.0  100.0  ...             0.0   \n",
       "Gen No 8         inf       0.0       1.0  100.0  ...             0.0   \n",
       "Gen No 9         inf       0.0       1.0  100.0  ...             0.0   \n",
       "Gen No 10        inf       0.0       1.0  100.0  ...             0.0   \n",
       "Gen No 11        inf       0.0       1.0  320.0  ...             0.0   \n",
       "Gen No 12        inf       0.0       1.0  414.0  ...             0.0   \n",
       "Gen No 13        inf       0.0       1.0  100.0  ...             0.0   \n",
       "Gen No 14        inf       0.0       1.0  107.0  ...             0.0   \n",
       "Gen No 15        inf       0.0       1.0  100.0  ...             0.0   \n",
       "Gen No 16        inf       0.0       1.0  100.0  ...             0.0   \n",
       "Gen No 17        inf       0.0       1.0  100.0  ...             0.0   \n",
       "Gen No 18        inf       0.0       1.0  100.0  ...             0.0   \n",
       "Gen No 19        inf       0.0       1.0  100.0  ...             0.0   \n",
       "Gen No 20        inf       0.0       1.0  119.0  ...             0.0   \n",
       "Gen No 21        inf       0.0       1.0  304.0  ...             0.0   \n",
       "Gen No 22        inf       0.0       1.0  148.0  ...             0.0   \n",
       "Gen No 23        inf       0.0       1.0  100.0  ...             0.0   \n",
       "Gen No 24        inf       0.0       1.0  100.0  ...             0.0   \n",
       "Gen No 25        inf       0.0       1.0  255.0  ...             0.0   \n",
       "Gen No 26        inf       0.0       1.0  260.0  ...             0.0   \n",
       "Gen No 27        inf       0.0       1.0  100.0  ...             0.0   \n",
       "Gen No 28        inf       0.0       1.0  491.0  ...             0.0   \n",
       "Gen No 29        inf       0.0       1.0  492.0  ...             0.0   \n",
       "Gen No 30        inf       0.0       1.0  805.2  ...             0.0   \n",
       "Gen No 31        inf       0.0       1.0  100.0  ...             0.0   \n",
       "Gen No 32        inf       0.0       1.0  100.0  ...             0.0   \n",
       "Gen No 33        inf       0.0       1.0  100.0  ...             0.0   \n",
       "Gen No 34        inf       0.0       1.0  100.0  ...             0.0   \n",
       "Gen No 35        inf       0.0       1.0  100.0  ...             0.0   \n",
       "Gen No 36        inf       0.0       1.0  100.0  ...             0.0   \n",
       "Gen No 37        inf       0.0       1.0  577.0  ...             0.0   \n",
       "Gen No 38        inf       0.0       1.0  100.0  ...             0.0   \n",
       "Gen No 39        inf       0.0       1.0  104.0  ...             0.0   \n",
       "Gen No 40        inf       0.0       1.0  707.0  ...             0.0   \n",
       "Gen No 41        inf       0.0       1.0  100.0  ...             0.0   \n",
       "Gen No 42        inf       0.0       1.0  100.0  ...             0.0   \n",
       "Gen No 43        inf       0.0       1.0  100.0  ...             0.0   \n",
       "Gen No 44        inf       0.0       1.0  100.0  ...             0.0   \n",
       "Gen No 45        inf       0.0       1.0  352.0  ...             0.0   \n",
       "Gen No 46        inf       0.0       1.0  140.0  ...             0.0   \n",
       "Gen No 47        inf       0.0       1.0  100.0  ...             0.0   \n",
       "Gen No 48        inf       0.0       1.0  100.0  ...             0.0   \n",
       "Gen No 49        inf       0.0       1.0  100.0  ...             0.0   \n",
       "Gen No 50        inf       0.0       1.0  100.0  ...             0.0   \n",
       "Gen No 51        inf       0.0       1.0  136.0  ...             0.0   \n",
       "Gen No 52        inf       0.0       1.0  100.0  ...             0.0   \n",
       "Gen No 53        inf       0.0       1.0  100.0  ...             0.0   \n",
       "Gen No 54        inf       0.0       1.0  100.0  ...             0.0   \n",
       "\n",
       "attribute  min_up_time min_down_time  up_time_before  down_time_before  \\\n",
       "Slack Gen            0             0               1                 0   \n",
       "Gen No 2             0             0               1                 0   \n",
       "Gen No 3             0             0               1                 0   \n",
       "Gen No 4             0             0               1                 0   \n",
       "Gen No 5             0             0               1                 0   \n",
       "Gen No 6             0             0               1                 0   \n",
       "Gen No 7             0             0               1                 0   \n",
       "Gen No 8             0             0               1                 0   \n",
       "Gen No 9             0             0               1                 0   \n",
       "Gen No 10            0             0               1                 0   \n",
       "Gen No 11            0             0               1                 0   \n",
       "Gen No 12            0             0               1                 0   \n",
       "Gen No 13            0             0               1                 0   \n",
       "Gen No 14            0             0               1                 0   \n",
       "Gen No 15            0             0               1                 0   \n",
       "Gen No 16            0             0               1                 0   \n",
       "Gen No 17            0             0               1                 0   \n",
       "Gen No 18            0             0               1                 0   \n",
       "Gen No 19            0             0               1                 0   \n",
       "Gen No 20            0             0               1                 0   \n",
       "Gen No 21            0             0               1                 0   \n",
       "Gen No 22            0             0               1                 0   \n",
       "Gen No 23            0             0               1                 0   \n",
       "Gen No 24            0             0               1                 0   \n",
       "Gen No 25            0             0               1                 0   \n",
       "Gen No 26            0             0               1                 0   \n",
       "Gen No 27            0             0               1                 0   \n",
       "Gen No 28            0             0               1                 0   \n",
       "Gen No 29            0             0               1                 0   \n",
       "Gen No 30            0             0               1                 0   \n",
       "Gen No 31            0             0               1                 0   \n",
       "Gen No 32            0             0               1                 0   \n",
       "Gen No 33            0             0               1                 0   \n",
       "Gen No 34            0             0               1                 0   \n",
       "Gen No 35            0             0               1                 0   \n",
       "Gen No 36            0             0               1                 0   \n",
       "Gen No 37            0             0               1                 0   \n",
       "Gen No 38            0             0               1                 0   \n",
       "Gen No 39            0             0               1                 0   \n",
       "Gen No 40            0             0               1                 0   \n",
       "Gen No 41            0             0               1                 0   \n",
       "Gen No 42            0             0               1                 0   \n",
       "Gen No 43            0             0               1                 0   \n",
       "Gen No 44            0             0               1                 0   \n",
       "Gen No 45            0             0               1                 0   \n",
       "Gen No 46            0             0               1                 0   \n",
       "Gen No 47            0             0               1                 0   \n",
       "Gen No 48            0             0               1                 0   \n",
       "Gen No 49            0             0               1                 0   \n",
       "Gen No 50            0             0               1                 0   \n",
       "Gen No 51            0             0               1                 0   \n",
       "Gen No 52            0             0               1                 0   \n",
       "Gen No 53            0             0               1                 0   \n",
       "Gen No 54            0             0               1                 0   \n",
       "\n",
       "attribute  ramp_limit_up  ramp_limit_down  ramp_limit_start_up  \\\n",
       "Slack Gen            NaN              NaN                  1.0   \n",
       "Gen No 2             NaN              NaN                  1.0   \n",
       "Gen No 3             NaN              NaN                  1.0   \n",
       "Gen No 4             NaN              NaN                  1.0   \n",
       "Gen No 5             NaN              NaN                  1.0   \n",
       "Gen No 6             NaN              NaN                  1.0   \n",
       "Gen No 7             NaN              NaN                  1.0   \n",
       "Gen No 8             NaN              NaN                  1.0   \n",
       "Gen No 9             NaN              NaN                  1.0   \n",
       "Gen No 10            NaN              NaN                  1.0   \n",
       "Gen No 11            NaN              NaN                  1.0   \n",
       "Gen No 12            NaN              NaN                  1.0   \n",
       "Gen No 13            NaN              NaN                  1.0   \n",
       "Gen No 14            NaN              NaN                  1.0   \n",
       "Gen No 15            NaN              NaN                  1.0   \n",
       "Gen No 16            NaN              NaN                  1.0   \n",
       "Gen No 17            NaN              NaN                  1.0   \n",
       "Gen No 18            NaN              NaN                  1.0   \n",
       "Gen No 19            NaN              NaN                  1.0   \n",
       "Gen No 20            NaN              NaN                  1.0   \n",
       "Gen No 21            NaN              NaN                  1.0   \n",
       "Gen No 22            NaN              NaN                  1.0   \n",
       "Gen No 23            NaN              NaN                  1.0   \n",
       "Gen No 24            NaN              NaN                  1.0   \n",
       "Gen No 25            NaN              NaN                  1.0   \n",
       "Gen No 26            NaN              NaN                  1.0   \n",
       "Gen No 27            NaN              NaN                  1.0   \n",
       "Gen No 28            NaN              NaN                  1.0   \n",
       "Gen No 29            NaN              NaN                  1.0   \n",
       "Gen No 30            NaN              NaN                  1.0   \n",
       "Gen No 31            NaN              NaN                  1.0   \n",
       "Gen No 32            NaN              NaN                  1.0   \n",
       "Gen No 33            NaN              NaN                  1.0   \n",
       "Gen No 34            NaN              NaN                  1.0   \n",
       "Gen No 35            NaN              NaN                  1.0   \n",
       "Gen No 36            NaN              NaN                  1.0   \n",
       "Gen No 37            NaN              NaN                  1.0   \n",
       "Gen No 38            NaN              NaN                  1.0   \n",
       "Gen No 39            NaN              NaN                  1.0   \n",
       "Gen No 40            NaN              NaN                  1.0   \n",
       "Gen No 41            NaN              NaN                  1.0   \n",
       "Gen No 42            NaN              NaN                  1.0   \n",
       "Gen No 43            NaN              NaN                  1.0   \n",
       "Gen No 44            NaN              NaN                  1.0   \n",
       "Gen No 45            NaN              NaN                  1.0   \n",
       "Gen No 46            NaN              NaN                  1.0   \n",
       "Gen No 47            NaN              NaN                  1.0   \n",
       "Gen No 48            NaN              NaN                  1.0   \n",
       "Gen No 49            NaN              NaN                  1.0   \n",
       "Gen No 50            NaN              NaN                  1.0   \n",
       "Gen No 51            NaN              NaN                  1.0   \n",
       "Gen No 52            NaN              NaN                  1.0   \n",
       "Gen No 53            NaN              NaN                  1.0   \n",
       "Gen No 54            NaN              NaN                  1.0   \n",
       "\n",
       "attribute  ramp_limit_shut_down  p_nom_opt  \n",
       "Slack Gen                   1.0        0.0  \n",
       "Gen No 2                    1.0        0.0  \n",
       "Gen No 3                    1.0        0.0  \n",
       "Gen No 4                    1.0        0.0  \n",
       "Gen No 5                    1.0        0.0  \n",
       "Gen No 6                    1.0        0.0  \n",
       "Gen No 7                    1.0        0.0  \n",
       "Gen No 8                    1.0        0.0  \n",
       "Gen No 9                    1.0        0.0  \n",
       "Gen No 10                   1.0        0.0  \n",
       "Gen No 11                   1.0        0.0  \n",
       "Gen No 12                   1.0        0.0  \n",
       "Gen No 13                   1.0        0.0  \n",
       "Gen No 14                   1.0        0.0  \n",
       "Gen No 15                   1.0        0.0  \n",
       "Gen No 16                   1.0        0.0  \n",
       "Gen No 17                   1.0        0.0  \n",
       "Gen No 18                   1.0        0.0  \n",
       "Gen No 19                   1.0        0.0  \n",
       "Gen No 20                   1.0        0.0  \n",
       "Gen No 21                   1.0        0.0  \n",
       "Gen No 22                   1.0        0.0  \n",
       "Gen No 23                   1.0        0.0  \n",
       "Gen No 24                   1.0        0.0  \n",
       "Gen No 25                   1.0        0.0  \n",
       "Gen No 26                   1.0        0.0  \n",
       "Gen No 27                   1.0        0.0  \n",
       "Gen No 28                   1.0        0.0  \n",
       "Gen No 29                   1.0        0.0  \n",
       "Gen No 30                   1.0        0.0  \n",
       "Gen No 31                   1.0        0.0  \n",
       "Gen No 32                   1.0        0.0  \n",
       "Gen No 33                   1.0        0.0  \n",
       "Gen No 34                   1.0        0.0  \n",
       "Gen No 35                   1.0        0.0  \n",
       "Gen No 36                   1.0        0.0  \n",
       "Gen No 37                   1.0        0.0  \n",
       "Gen No 38                   1.0        0.0  \n",
       "Gen No 39                   1.0        0.0  \n",
       "Gen No 40                   1.0        0.0  \n",
       "Gen No 41                   1.0        0.0  \n",
       "Gen No 42                   1.0        0.0  \n",
       "Gen No 43                   1.0        0.0  \n",
       "Gen No 44                   1.0        0.0  \n",
       "Gen No 45                   1.0        0.0  \n",
       "Gen No 46                   1.0        0.0  \n",
       "Gen No 47                   1.0        0.0  \n",
       "Gen No 48                   1.0        0.0  \n",
       "Gen No 49                   1.0        0.0  \n",
       "Gen No 50                   1.0        0.0  \n",
       "Gen No 51                   1.0        0.0  \n",
       "Gen No 52                   1.0        0.0  \n",
       "Gen No 53                   1.0        0.0  \n",
       "Gen No 54                   1.0        0.0  \n",
       "\n",
       "[54 rows x 30 columns]"
      ]
     },
     "execution_count": 21,
     "metadata": {},
     "output_type": "execute_result"
    }
   ],
   "source": [
    "for i in range(1,54):\n",
    "    network.add(\"Generator\",\"Gen No {}\".format(i+1),bus=\"Bus No {}\".format(gen_data['bus no'][i]),p_set=gen_data['p_set'][i],control=\"PV\")\n",
    "    \n",
    "network.generators"
   ]
  },
  {
   "cell_type": "code",
   "execution_count": 22,
   "metadata": {
    "extensions": {
     "jupyter_dashboards": {
      "version": 1,
      "views": {
       "grid_default": {},
       "report_default": {}
      }
     }
    }
   },
   "outputs": [
    {
     "data": {
      "text/html": [
       "<div>\n",
       "<style scoped>\n",
       "    .dataframe tbody tr th:only-of-type {\n",
       "        vertical-align: middle;\n",
       "    }\n",
       "\n",
       "    .dataframe tbody tr th {\n",
       "        vertical-align: top;\n",
       "    }\n",
       "\n",
       "    .dataframe thead th {\n",
       "        text-align: right;\n",
       "    }\n",
       "</style>\n",
       "<table border=\"1\" class=\"dataframe\">\n",
       "  <thead>\n",
       "    <tr style=\"text-align: right;\">\n",
       "      <th>attribute</th>\n",
       "      <th>bus</th>\n",
       "      <th>carrier</th>\n",
       "      <th>type</th>\n",
       "      <th>p_set</th>\n",
       "      <th>q_set</th>\n",
       "      <th>sign</th>\n",
       "    </tr>\n",
       "  </thead>\n",
       "  <tbody>\n",
       "    <tr>\n",
       "      <th>Load No 15</th>\n",
       "      <td>Bus No 1</td>\n",
       "      <td></td>\n",
       "      <td></td>\n",
       "      <td>541.4</td>\n",
       "      <td>86.6</td>\n",
       "      <td>-1.0</td>\n",
       "    </tr>\n",
       "    <tr>\n",
       "      <th>Load No 16</th>\n",
       "      <td>Bus No 3</td>\n",
       "      <td></td>\n",
       "      <td></td>\n",
       "      <td>414.0</td>\n",
       "      <td>106.2</td>\n",
       "      <td>-1.0</td>\n",
       "    </tr>\n",
       "    <tr>\n",
       "      <th>Load No 17</th>\n",
       "      <td>Bus No 2</td>\n",
       "      <td></td>\n",
       "      <td></td>\n",
       "      <td>212.3</td>\n",
       "      <td>95.5</td>\n",
       "      <td>-1.0</td>\n",
       "    </tr>\n",
       "    <tr>\n",
       "      <th>Load No 18</th>\n",
       "      <td>Bus No 117</td>\n",
       "      <td></td>\n",
       "      <td></td>\n",
       "      <td>212.3</td>\n",
       "      <td>84.9</td>\n",
       "      <td>-1.0</td>\n",
       "    </tr>\n",
       "    <tr>\n",
       "      <th>Load No 19</th>\n",
       "      <td>Bus No 12</td>\n",
       "      <td></td>\n",
       "      <td></td>\n",
       "      <td>498.9</td>\n",
       "      <td>106.2</td>\n",
       "      <td>-1.0</td>\n",
       "    </tr>\n",
       "    <tr>\n",
       "      <th>Load No 20</th>\n",
       "      <td>Bus No 11</td>\n",
       "      <td></td>\n",
       "      <td></td>\n",
       "      <td>743.1</td>\n",
       "      <td>244.2</td>\n",
       "      <td>-1.0</td>\n",
       "    </tr>\n",
       "    <tr>\n",
       "      <th>Load No 21</th>\n",
       "      <td>Bus No 16</td>\n",
       "      <td></td>\n",
       "      <td></td>\n",
       "      <td>265.4</td>\n",
       "      <td>106.2</td>\n",
       "      <td>-1.0</td>\n",
       "    </tr>\n",
       "    <tr>\n",
       "      <th>Load No 22</th>\n",
       "      <td>Bus No 18</td>\n",
       "      <td></td>\n",
       "      <td></td>\n",
       "      <td>636.9</td>\n",
       "      <td>360.9</td>\n",
       "      <td>-1.0</td>\n",
       "    </tr>\n",
       "    <tr>\n",
       "      <th>Load No 23</th>\n",
       "      <td>Bus No 20</td>\n",
       "      <td></td>\n",
       "      <td></td>\n",
       "      <td>191.1</td>\n",
       "      <td>31.8</td>\n",
       "      <td>-1.0</td>\n",
       "    </tr>\n",
       "    <tr>\n",
       "      <th>Load No 24</th>\n",
       "      <td>Bus No 21</td>\n",
       "      <td></td>\n",
       "      <td></td>\n",
       "      <td>148.6</td>\n",
       "      <td>84.9</td>\n",
       "      <td>-1.0</td>\n",
       "    </tr>\n",
       "    <tr>\n",
       "      <th>Load No 25</th>\n",
       "      <td>Bus No 22</td>\n",
       "      <td></td>\n",
       "      <td></td>\n",
       "      <td>106.2</td>\n",
       "      <td>53.1</td>\n",
       "      <td>-1.0</td>\n",
       "    </tr>\n",
       "    <tr>\n",
       "      <th>Load No 26</th>\n",
       "      <td>Bus No 23</td>\n",
       "      <td></td>\n",
       "      <td></td>\n",
       "      <td>74.3</td>\n",
       "      <td>31.8</td>\n",
       "      <td>-1.0</td>\n",
       "    </tr>\n",
       "    <tr>\n",
       "      <th>Load No 27</th>\n",
       "      <td>Bus No 70</td>\n",
       "      <td></td>\n",
       "      <td></td>\n",
       "      <td>660.0</td>\n",
       "      <td>200.0</td>\n",
       "      <td>-1.0</td>\n",
       "    </tr>\n",
       "    <tr>\n",
       "      <th>Load No 28</th>\n",
       "      <td>Bus No 74</td>\n",
       "      <td></td>\n",
       "      <td></td>\n",
       "      <td>680.0</td>\n",
       "      <td>270.0</td>\n",
       "      <td>-1.0</td>\n",
       "    </tr>\n",
       "    <tr>\n",
       "      <th>Load No 29</th>\n",
       "      <td>Bus No 75</td>\n",
       "      <td></td>\n",
       "      <td></td>\n",
       "      <td>470.0</td>\n",
       "      <td>110.0</td>\n",
       "      <td>-1.0</td>\n",
       "    </tr>\n",
       "    <tr>\n",
       "      <th>Load No 30</th>\n",
       "      <td>Bus No 118</td>\n",
       "      <td></td>\n",
       "      <td></td>\n",
       "      <td>330.0</td>\n",
       "      <td>150.0</td>\n",
       "      <td>-1.0</td>\n",
       "    </tr>\n",
       "    <tr>\n",
       "      <th>Load No 31</th>\n",
       "      <td>Bus No 76</td>\n",
       "      <td></td>\n",
       "      <td></td>\n",
       "      <td>680.0</td>\n",
       "      <td>360.0</td>\n",
       "      <td>-1.0</td>\n",
       "    </tr>\n",
       "    <tr>\n",
       "      <th>Load No 32</th>\n",
       "      <td>Bus No 78</td>\n",
       "      <td></td>\n",
       "      <td></td>\n",
       "      <td>710.0</td>\n",
       "      <td>260.0</td>\n",
       "      <td>-1.0</td>\n",
       "    </tr>\n",
       "    <tr>\n",
       "      <th>Load No 33</th>\n",
       "      <td>Bus No 79</td>\n",
       "      <td></td>\n",
       "      <td></td>\n",
       "      <td>390.0</td>\n",
       "      <td>320.0</td>\n",
       "      <td>-1.0</td>\n",
       "    </tr>\n",
       "  </tbody>\n",
       "</table>\n",
       "</div>"
      ],
      "text/plain": [
       "attribute          bus carrier type  p_set  q_set  sign\n",
       "Load No 15    Bus No 1               541.4   86.6  -1.0\n",
       "Load No 16    Bus No 3               414.0  106.2  -1.0\n",
       "Load No 17    Bus No 2               212.3   95.5  -1.0\n",
       "Load No 18  Bus No 117               212.3   84.9  -1.0\n",
       "Load No 19   Bus No 12               498.9  106.2  -1.0\n",
       "Load No 20   Bus No 11               743.1  244.2  -1.0\n",
       "Load No 21   Bus No 16               265.4  106.2  -1.0\n",
       "Load No 22   Bus No 18               636.9  360.9  -1.0\n",
       "Load No 23   Bus No 20               191.1   31.8  -1.0\n",
       "Load No 24   Bus No 21               148.6   84.9  -1.0\n",
       "Load No 25   Bus No 22               106.2   53.1  -1.0\n",
       "Load No 26   Bus No 23                74.3   31.8  -1.0\n",
       "Load No 27   Bus No 70               660.0  200.0  -1.0\n",
       "Load No 28   Bus No 74               680.0  270.0  -1.0\n",
       "Load No 29   Bus No 75               470.0  110.0  -1.0\n",
       "Load No 30  Bus No 118               330.0  150.0  -1.0\n",
       "Load No 31   Bus No 76               680.0  360.0  -1.0\n",
       "Load No 32   Bus No 78               710.0  260.0  -1.0\n",
       "Load No 33   Bus No 79               390.0  320.0  -1.0"
      ]
     },
     "execution_count": 22,
     "metadata": {},
     "output_type": "execute_result"
    }
   ],
   "source": [
    "load_data=pd.read_excel(\"load data.xlsx\")\n",
    "o=15\n",
    "for i in range(19):\n",
    "    network.add(\"Load\",\"Load No {}\".format(o),bus=\"Bus No {}\".format(load_data['Bus'][i]),p_set=load_data['P'][i],q_set=load_data['Q'][i])\n",
    "    o+=1\n",
    "network.loads"
   ]
  },
  {
   "cell_type": "code",
   "execution_count": 23,
   "metadata": {
    "extensions": {
     "jupyter_dashboards": {
      "version": 1,
      "views": {
       "grid_default": {},
       "report_default": {}
      }
     }
    }
   },
   "outputs": [],
   "source": [
    "def capFCS(j,zdata):\n",
    "    z=1\n",
    "    sum1=0\n",
    "    while(z<=180):\n",
    "        var=0\n",
    "        if(zdata['st'][z-1]==j):\n",
    "            var=1\n",
    "        sum1+=(0.1*zonexy['zone'][z-1]*var)\n",
    "        z+=1\n",
    "    return sum1*96\n",
    "    \n",
    "    "
   ]
  },
  {
   "cell_type": "code",
   "execution_count": 24,
   "metadata": {
    "extensions": {
     "jupyter_dashboards": {
      "version": 1,
      "views": {
       "grid_default": {},
       "report_default": {}
      }
     }
    }
   },
   "outputs": [],
   "source": [
    "def f2(x):\n",
    "    xylis=[]\n",
    "    print(x)\n",
    "    for busno in x:\n",
    "        xbus=busxy['x'][busno-1]\n",
    "        ybus=busxy['y'][busno-1]\n",
    "        xylis.append([xbus,ybus])\n",
    "    print(xylis)\n",
    "    zdata=pd.read_excel(\"xy.xlsx\",sheet_name=\"Sheet3\")\n",
    "    for j in range(1,181):\n",
    "\n",
    "        dist=100000000\n",
    "        h=0\n",
    "        \n",
    "        for i in xylis:\n",
    "            x1=zonexy['x'][j-1]\n",
    "            x2=i[0]\n",
    "            y1=zonexy['y'][j-1]\n",
    "            y2=i[1]\n",
    "\n",
    "            dist1=np.sqrt((x2-x1)**2 + (y2-y1)**2)\n",
    "            if(dist1<dist):\n",
    "                dist=dist1\n",
    "                h=(xylis.index(i))+1\n",
    "\n",
    "        df2 = {'st': h, 'zone':j}\n",
    "        zdata = zdata.append(df2, ignore_index = True)\n",
    "        k=1\n",
    "       \n",
    "    for i in x:\n",
    "        network.add(\"Load\",\"Load No {}\".format(k),bus = \"Bus No {}\".format(i),p_set=capFCS(k,zdata),q_set=200)\n",
    "        k+=1\n",
    "    network.pf()\n",
    "    df1=network.buses_t.v_mag_pu\n",
    "    mini=100000000000\n",
    "    for i in range(118):\n",
    "        if(df1.iloc[0][i]<mini):\n",
    "            mini=df1.iloc[0][i]\n",
    "    vdev=1-mini\n",
    "    for i in range(1,7):\n",
    "        network.remove(\"Load\",\"Load No {}\".format(i))\n",
    "    return vdev*100"
   ]
  },
  {
   "cell_type": "code",
   "execution_count": 25,
   "metadata": {
    "extensions": {
     "jupyter_dashboards": {
      "version": 1,
      "views": {
       "grid_default": {},
       "report_default": {}
      }
     }
    }
   },
   "outputs": [],
   "source": [
    "def f3(x):\n",
    "    xylis=[]\n",
    "    \n",
    "    for busno in x:\n",
    "        xbus=busxy['x'][busno-1]\n",
    "        ybus=busxy['y'][busno-1]\n",
    "        xylis.append([xbus,ybus])\n",
    "    \n",
    "    zdata=pd.read_excel(\"xy.xlsx\",sheet_name=\"Sheet3\")\n",
    "    for j in range(1,181):\n",
    "\n",
    "        dist=100000000\n",
    "        h=0\n",
    "        \n",
    "        for i in xylis:\n",
    "            x1=zonexy['x'][j-1]\n",
    "            x2=i[0]\n",
    "            y1=zonexy['y'][j-1]\n",
    "            y2=i[1]\n",
    "\n",
    "            dist1=np.sqrt((x2-x1)**2 + (y2-y1)**2)\n",
    "            if(dist1<dist):\n",
    "                dist=dist1\n",
    "                h=(xylis.index(i))+1\n",
    "\n",
    "        df2 = {'st': h, 'zone':j}\n",
    "        zdata = zdata.append(df2, ignore_index = True)\n",
    "        k=1\n",
    "       \n",
    "    for i in x:\n",
    "        network.add(\"Load\",\"Load No {}\".format(k),bus = \"Bus No {}\".format(i),p_set=capFCS(k,zdata),q_set=200)\n",
    "        k+=1\n",
    "    network.pf()\n",
    "    df3 = network.lines_t\n",
    "    nploss=0\n",
    "    for i in range(186):\n",
    "        nploss+=(df3.p0.iloc[0][i]+df3.p1.iloc[0][i])\n",
    "    \n",
    "    for i in range(1,7):\n",
    "        network.remove(\"Load\",\"Load No {}\".format(i)) \n",
    "        \n",
    "    return abs(nploss*250.57)\n",
    "        "
   ]
  },
  {
   "cell_type": "code",
   "execution_count": 26,
   "metadata": {
    "extensions": {
     "jupyter_dashboards": {
      "version": 1,
      "views": {
       "grid_default": {},
       "report_default": {}
      }
     }
    }
   },
   "outputs": [],
   "source": [
    "def evucnew(z,xylis):                           ##Function to calculate EVUC\n",
    "    vals=0\n",
    "    j=zdata[\"st\"][z-1]\n",
    "    x1=zonexy['x'][z-1]\n",
    "    x2=xylis[j-1][0]\n",
    "    y1=zonexy['y'][z-1]\n",
    "    y2=xylis[j-1][1]\n",
    "    dist1=np.sqrt((x2-x1)**2 + (y2-y1)**2)\n",
    "    \n",
    "    vals+=(dist1)*0.142*4*0.98*zonexy['zone'][z-1]*87.7\n",
    "    \n",
    "    return vals/20"
   ]
  },
  {
   "cell_type": "code",
   "execution_count": 27,
   "metadata": {},
   "outputs": [
    {
     "name": "stderr",
     "output_type": "stream",
     "text": [
      "INFO:pypsa.pf:Performing non-linear load-flow on AC sub-network SubNetwork 0 for snapshots Index(['now'], dtype='object')\n",
      "INFO:pypsa.pf:Newton-Raphson solved in 4 iterations with error of 0.000000 in 0.082981 seconds\n"
     ]
    },
    {
     "name": "stdout",
     "output_type": "stream",
     "text": [
      "[16, 32, 48, 64, 80, 96]\n",
      "[[2, 2], [4, 5], [6, 9], [8, 10], [9, 3], [11, 5]]\n"
     ]
    },
    {
     "name": "stderr",
     "output_type": "stream",
     "text": [
      "INFO:pypsa.pf:Performing non-linear load-flow on AC sub-network SubNetwork 0 for snapshots Index(['now'], dtype='object')\n",
      "INFO:pypsa.pf:Newton-Raphson solved in 4 iterations with error of 0.000000 in 0.087998 seconds\n"
     ]
    },
    {
     "name": "stdout",
     "output_type": "stream",
     "text": [
      "Evuc,mvd,npl\n",
      "8679.358507829016 0.290594446987269 208613.05615679195\n"
     ]
    }
   ],
   "source": [
    "\n",
    "\n",
    "x=[16,32,48,64,80,96]\n",
    "ini_evuc = 0\n",
    "xylis=[]\n",
    "\n",
    "for busno in x:\n",
    "    xbus=busxy['x'][busno-1]\n",
    "    ybus=busxy['y'][busno-1]\n",
    "    xylis.append([xbus,ybus])\n",
    "\n",
    "zdata=pd.read_excel(\"xy.xlsx\",sheet_name=\"Sheet3\")\n",
    "for j in range(1,181):\n",
    "\n",
    "    dist=100000000\n",
    "    h=0\n",
    "\n",
    "    for i in xylis:\n",
    "        x1=zonexy['x'][j-1]\n",
    "        x2=i[0]\n",
    "        y1=zonexy['y'][j-1]\n",
    "        y2=i[1]\n",
    "\n",
    "        dist1=np.sqrt((x2-x1)**2 + (y2-y1)**2)\n",
    "        if(dist1<dist):\n",
    "            dist=dist1\n",
    "            h=(xylis.index(i))+1\n",
    "\n",
    "    df2 = {'st': h, 'zone':j}\n",
    "    zdata = zdata.append(df2, ignore_index = True)\n",
    "\n",
    "    \n",
    "for zon in range(1,181):\n",
    "    ini_evuc+=evucnew(zon,xylis)\n",
    "    \n",
    "ini_npl=f3(x)\n",
    "ini_mvd=f2(x)\n",
    "print(\"Evuc,mvd,npl\")\n",
    "print(ini_evuc,ini_mvd,ini_npl)\n",
    "    \n",
    "  "
   ]
  },
  {
   "cell_type": "code",
   "execution_count": 28,
   "metadata": {},
   "outputs": [],
   "source": [
    "def solver(position,swarm_size,list_of_functions):\n",
    "    \n",
    "    for i in range(0, swarm_size):\n",
    "        xylis=[]\n",
    "\n",
    "\n",
    "        x=list(position[i,0:position.shape[1]-len(list_of_functions)])\n",
    "        x=[int(u) for u in x ]\n",
    "        print(x)\n",
    "        for busno in x:\n",
    "            xbus=busxy['x'][busno-1]\n",
    "            ybus=busxy['y'][busno-1]\n",
    "            xylis.append([xbus,ybus])\n",
    "\n",
    "        zdata=pd.read_excel(\"xy.xlsx\",sheet_name=\"Sheet3\")\n",
    "        for j in range(1,181):\n",
    "\n",
    "            dist=100000000\n",
    "            h=0\n",
    "\n",
    "            for si in xylis:\n",
    "                x1=zonexy['x'][j-1]\n",
    "                x2=si[0]\n",
    "                y1=zonexy['y'][j-1]\n",
    "                y2=si[1]\n",
    "\n",
    "                dist1=np.sqrt((x2-x1)**2 + (y2-y1)**2)\n",
    "                if(dist1<dist):\n",
    "                    dist=dist1\n",
    "                    h=(xylis.index(si))+1\n",
    "\n",
    "            df2 = {'st': h, 'zone':j}\n",
    "            zdata = zdata.append(df2, ignore_index = True)\n",
    "\n",
    "        r=1\n",
    "        for s in x:\n",
    "            network.add(\"Load\",\"Load No {}\".format(r),bus = \"Bus No {}\".format(s),p_set=capFCS(r,zdata),q_set=200)\n",
    "            r+=1\n",
    "        network.pf()\n",
    "        df3 = network\n",
    "\n",
    "        for k in range (1, len(list_of_functions) + 1):\n",
    "\n",
    "            position[i,-k] = list_of_functions[-k](list(position[i,0:position.shape[1]-len(list_of_functions)]),zdata,xylis,df3)\n",
    "    return position \n"
   ]
  },
  {
   "cell_type": "code",
   "execution_count": 29,
   "metadata": {
    "extensions": {
     "jupyter_dashboards": {
      "version": 1,
      "views": {
       "grid_default": {},
       "report_default": {}
      }
     }
    }
   },
   "outputs": [],
   "source": [
    "def initial_position(swarm_size = 5, min_values = [1,1,1,1,1,1], max_values = [118,118,118,118,118,118], list_of_functions = []):\n",
    "    position = np.zeros((swarm_size, len(min_values) + len(list_of_functions)))\n",
    "    for i in range(0, swarm_size):\n",
    "        varran=[x for x in range(1,119)]\n",
    "        \n",
    "        ifeat = random.sample(varran,6)\n",
    "        for j in range(0,len(min_values)):\n",
    "            position[i,j]=ifeat[j]\n",
    "            \n",
    "                \n",
    "        xylis=[]\n",
    "            \n",
    "            \n",
    "        x=list(position[i,0:position.shape[1]-len(list_of_functions)])\n",
    "        x=[int(i) for i in x ]\n",
    "        print(x)\n",
    "        for busno in x:\n",
    "            xbus=busxy['x'][busno-1]\n",
    "            ybus=busxy['y'][busno-1]\n",
    "            xylis.append([xbus,ybus])\n",
    "\n",
    "        zdata=pd.read_excel(\"xy.xlsx\",sheet_name=\"Sheet3\")\n",
    "        for dj in range(1,181):\n",
    "\n",
    "            dist=100000000\n",
    "            h=0\n",
    "\n",
    "            for si in xylis:\n",
    "                x1=zonexy['x'][dj-1]\n",
    "                x2=si[0]\n",
    "                y1=zonexy['y'][dj-1]\n",
    "                y2=si[1]\n",
    "\n",
    "                dist1=np.sqrt((x2-x1)**2 + (y2-y1)**2)\n",
    "                if(dist1<dist):\n",
    "                    dist=dist1\n",
    "                    h=(xylis.index(si))+1\n",
    "\n",
    "            df2 = {'st': h, 'zone':dj}\n",
    "            zdata = zdata.append(df2, ignore_index = True)\n",
    "\n",
    "        r=1\n",
    "        for s in x:\n",
    "            network.add(\"Load\",\"Load No {}\".format(r),bus = \"Bus No {}\".format(s),p_set=capFCS(r,zdata),q_set=200)\n",
    "            r+=1\n",
    "        network.pf()\n",
    "        df3 = network\n",
    "                \n",
    "        for k in range (1, len(list_of_functions) + 1):\n",
    "            \n",
    "            posxval = list_of_functions[-k](list(position[i,0:position.shape[1]-len(list_of_functions)]),zdata,xylis,df3)\n",
    "            #print(posxval)\n",
    "            position[i,-k]=posxval\n",
    "    return position \n",
    "\n",
    "# Function: Updtade Position\n",
    "def update_position(position, velocity, min_values = [-5,-5], max_values = [5,5], list_of_functions = []):\n",
    "    for i in range(0, position.shape[0]):\n",
    "        for j in range(0, len(min_values)):\n",
    "            posval = (position[i,j] + velocity[i,j])\n",
    "            if(posval==0):\n",
    "                posval=1\n",
    "            if(posval!=118):\n",
    "                posval=posval%118\n",
    "            position[i,j]=posval\n",
    "       \n",
    "        position.astype(int)\n",
    "        \n",
    "        for k in range (1, len(list_of_functions) + 1):\n",
    "            xylis=[]\n",
    "            x=list(position[i,0:position.shape[1]-len(list_of_functions)])\n",
    "            \n",
    "            x=[int(u) for u in x ]\n",
    "            if(0 in x):\n",
    "                ind=x.index(0)\n",
    "                x[ind]=1\n",
    "            print(x)\n",
    "            for busno in x:\n",
    "                xbus=busxy['x'][busno-1]\n",
    "                ybus=busxy['y'][busno-1]\n",
    "                xylis.append([xbus,ybus])\n",
    "\n",
    "            zdata=pd.read_excel(\"xy.xlsx\",sheet_name=\"Sheet3\")\n",
    "            for dj in range(1,181):\n",
    "\n",
    "                dist=100000000\n",
    "                h=0\n",
    "\n",
    "                for st in xylis:\n",
    "                    x1=zonexy['x'][j-1]\n",
    "                    x2=st[0]\n",
    "                    y1=zonexy['y'][j-1]\n",
    "                    y2=st[1]\n",
    "\n",
    "                    dist1=np.sqrt((x2-x1)**2 + (y2-y1)**2)\n",
    "                    if(dist1<dist):\n",
    "                        dist=dist1\n",
    "                        h=(xylis.index(st))+1\n",
    "\n",
    "                df2 = {'st': h, 'zone':dj}\n",
    "                zdata = zdata.append(df2, ignore_index = True)\n",
    "                \n",
    "            r=1\n",
    "            for s in x:\n",
    "                network.add(\"Load\",\"Load No {}\".format(r),bus = \"Bus No {}\".format(s),p_set=capFCS(r,zdata),q_set=200)\n",
    "                r+=1\n",
    "            network.pf()\n",
    "            df3 = network\n",
    "            \n",
    "            position[i,-k] = list_of_functions[-k](list(position[i,0:position.shape[1]-len(list_of_functions)]),zdata,xylis,df3)\n",
    "            print(position[i,-k])\n",
    "            if(k==2):\n",
    "                for mi in range(1,7):\n",
    "                    network.remove(\"Load\",\"Load No {}\".format(mi))\n",
    "    return position\n",
    "\n",
    "# Function: Initialize Velocity\n",
    "def initial_velocity(position, min_values = [-5,-5], max_values = [5,5]):\n",
    "    velocity = np.zeros((position.shape[0], len(min_values)))\n",
    "    for i in range(0, velocity.shape[0]):\n",
    "        varrane=[x for x in range(1,119)]\n",
    "        \n",
    "        ifeate = random.sample(varrane,6)\n",
    "        for j in range(0,len(min_values)):\n",
    "            velocity[i,j]=ifeate[j]\n",
    "    return velocity\n",
    "\n",
    "# Function: Velocity\n",
    "def velocity_vector(position, velocity_, archive, M, min_values = [-5,-5], max_values = [5,5]):\n",
    "    r1  = int.from_bytes(os.urandom(8), byteorder = \"big\") / ((1 << 64) - 1)\n",
    "    r2  = int.from_bytes(os.urandom(8), byteorder = \"big\") / ((1 << 64) - 1)\n",
    "    w   = np.random.uniform(low = 0.1, high = 0.5, size = 1)[0]\n",
    "    c1  = np.random.uniform(low = 1.5, high = 2.0, size = 1)[0]\n",
    "    c2  = np.random.uniform(low = 1.5, high = 2.5, size = 1)[0]\n",
    "    velocity = np.zeros((position.shape[0], velocity_.shape[1]))\n",
    "    crowding = crowding_distance_function(archive, M)\n",
    "    if (archive.shape[0] > 2):\n",
    "        ind_1, ind_2 = random.sample(range(0, len(archive) - 1), 2)\n",
    "        if (crowding[ind_1,0] < crowding[ind_2,0]):\n",
    "            ind_1, ind_2 = ind_2, ind_1\n",
    "    else:\n",
    "        ind_1 = 0\n",
    "        ind_2 = 0\n",
    "    for i in range(0, velocity.shape[0]):\n",
    "        for j in range(0, velocity.shape[1]):\n",
    "            velocity[i,j] = w*velocity_[i,j] + c1*r1*(archive[ind_1, j] - position[i,j]) + c2*r2*(archive[ind_2, j] - position[i,j])\n",
    "    return velocity\n",
    "\n",
    "############################################################################\n",
    "\n",
    "# Function: Dominance\n",
    "def dominance_function(solution_1, solution_2, number_of_functions = 2):\n",
    "    count     = 0\n",
    "    dominance = True\n",
    "    for k in range (1, number_of_functions + 1):\n",
    "        if (solution_1[-k] <= solution_2[-k]):\n",
    "            count = count + 1\n",
    "    if (count == number_of_functions):\n",
    "        dominance = True\n",
    "    else:\n",
    "        dominance = False       \n",
    "    return dominance\n",
    "\n",
    "# Function: Fast Non-Dominated Sorting\n",
    "def fast_non_dominated_sorting(position, number_of_functions = 2):\n",
    "    S     = [[] for i in range(0, position.shape[0])]\n",
    "    front = [[]]\n",
    "    n     = [0 for i in range(0, position.shape[0])]\n",
    "    rank  = [0 for i in range(0, position.shape[0])]\n",
    "    for p in range(0, position.shape[0]):\n",
    "        S[p] = []\n",
    "        n[p] = 0\n",
    "        for q in range(0, position.shape[0]):\n",
    "            if (dominance_function(solution_1 = position[p,:], solution_2 = position[q,:], number_of_functions = number_of_functions)):\n",
    "                if (q not in S[p]):\n",
    "                    S[p].append(q)\n",
    "            elif (dominance_function(solution_1 = position[q,:], solution_2 = position[p,:], number_of_functions = number_of_functions)):\n",
    "                n[p] = n[p] + 1\n",
    "        if (n[p] == 0):\n",
    "            rank[p] = 0\n",
    "            if (p not in front[0]):\n",
    "                front[0].append(p)\n",
    "    i = 0\n",
    "    while (front[i] != []):\n",
    "        Q = []\n",
    "        for p in front[i]:\n",
    "            for q in S[p]:\n",
    "                n[q] = n[q] - 1\n",
    "                if(n[q] == 0):\n",
    "                    rank[q] = i+1\n",
    "                    if q not in Q:\n",
    "                        Q.append(q)\n",
    "        i = i+1\n",
    "        front.append(Q)\n",
    "    del front[len(front)-1]\n",
    "    rank = np.zeros((position.shape[0], 1))\n",
    "    for i in range(0, len(front)):\n",
    "        for j in range(0, len(front[i])):\n",
    "            rank[front[i][j], 0] = i + 1\n",
    "    return rank\n",
    "\n",
    "# Function: Crowding Distance (Adapted from PYMOO)\n",
    "def crowding_distance_function(pop, M):\n",
    "    infinity = 1e+11\n",
    "    position = copy.deepcopy(pop[:,-M:])\n",
    "    position =  position.reshape((pop.shape[0], M))\n",
    "    if (position.shape[0] <= 2):\n",
    "        return np.full( position.shape[0], infinity)\n",
    "    else:\n",
    "        arg_1    = np.argsort( position, axis = 0, kind = 'mergesort')\n",
    "        position = position[arg_1, np.arange(M)]\n",
    "        dist     = np.concatenate([ position, np.full((1, M), np.inf)]) - np.concatenate([np.full((1, M), -np.inf), position])\n",
    "        idx      = np.where(dist == 0)\n",
    "        a        = np.copy(dist)\n",
    "        b        = np.copy(dist)\n",
    "        for i, j in zip(*idx):\n",
    "            a[i, j] = a[i - 1, j]\n",
    "        for i, j in reversed(list(zip(*idx))):\n",
    "            b[i, j] = b[i + 1, j]\n",
    "        norm            = np.max( position, axis = 0) - np.min(position, axis = 0)\n",
    "        norm[norm == 0] = np.nan\n",
    "        a, b            = a[:-1]/norm, b[1:]/norm\n",
    "        a[np.isnan(a)]  = 0.0\n",
    "        b[np.isnan(b)]  = 0.0\n",
    "        arg_2           = np.argsort(arg_1, axis = 0)\n",
    "        crowding        = np.sum(a[arg_2, np.arange(M)] + b[arg_2, np.arange(M)], axis = 1) / M\n",
    "    crowding[np.isinf(crowding)] = infinity\n",
    "    crowding                     = crowding.reshape((-1,1))\n",
    "    return crowding\n",
    "\n",
    "############################################################################\n",
    "\n",
    "# Function: Selection\n",
    "def selection(position, archive, M):\n",
    "    archive = np.vstack([position, archive])\n",
    "    rank    = fast_non_dominated_sorting(archive, M)\n",
    "    arg     = np.argsort(rank , axis = 0).tolist()\n",
    "    arg     = [i[0] for i in arg]\n",
    "    archive = archive[arg, :]\n",
    "    rank    = rank[arg, :]\n",
    "    idx     = np.where(rank == 1)[0]\n",
    "    if (len(idx) > 1):\n",
    "        archive = archive[idx, :]\n",
    "    archive = archive[:2*position.shape[0], :]\n",
    "    return archive\n",
    "\n",
    "############################################################################\n",
    "\n",
    "# Function: Mutation\n",
    "def mutation(position, mutation_rate = 0.1, eta = 1, min_values = [-5,-5], max_values = [5,5], list_of_functions=[]):\n",
    "    d_mutation = 0            \n",
    "    for i in range (0, position.shape[0]):\n",
    "        xylis=[]\n",
    "        x=list(position[i,0:position.shape[1]-len(list_of_functions)])\n",
    "\n",
    "        x=[int(u) for u in x ]\n",
    "        print(x)\n",
    "        if(0 in x):\n",
    "                ind=x.index(0)\n",
    "                x[ind]=1\n",
    "        for busno in x:\n",
    "            xbus=busxy['x'][busno-1]\n",
    "            ybus=busxy['y'][busno-1]\n",
    "            xylis.append([xbus,ybus])\n",
    "\n",
    "        zdata=pd.read_excel(\"xy.xlsx\",sheet_name=\"Sheet3\")\n",
    "        for j in range(1,181):\n",
    "\n",
    "            dist=100000000\n",
    "            h=0\n",
    "\n",
    "            for st in xylis:\n",
    "                x1=zonexy['x'][j-1]\n",
    "                x2=st[0]\n",
    "                y1=zonexy['y'][j-1]\n",
    "                y2=st[1]\n",
    "\n",
    "                dist1=np.sqrt((x2-x1)**2 + (y2-y1)**2)\n",
    "                if(dist1<dist):\n",
    "                    dist=dist1\n",
    "                    h=(xylis.index(st))+1\n",
    "\n",
    "            df2 = {'st': h, 'zone':j}\n",
    "            zdata = zdata.append(df2, ignore_index = True)\n",
    "\n",
    "        r=1\n",
    "        for s in x:\n",
    "            network.add(\"Load\",\"Load No {}\".format(r),bus = \"Bus No {}\".format(s),p_set=capFCS(r,zdata),q_set=200)\n",
    "            r+=1\n",
    "        network.pf()\n",
    "        df3 = network\n",
    "        for j in range(0, position.shape[1] - len(list_of_functions)):\n",
    "            probability = int.from_bytes(os.urandom(8), byteorder = \"big\") / ((1 << 64) - 1)\n",
    "            if (probability < mutation_rate):\n",
    "                rand   = int.from_bytes(os.urandom(8), byteorder = \"big\") / ((1 << 64) - 1)\n",
    "                rand_d = int.from_bytes(os.urandom(8), byteorder = \"big\") / ((1 << 64) - 1)                                     \n",
    "                if (rand <= 0.5):\n",
    "                    d_mutation = 2*(rand_d)\n",
    "                    d_mutation = d_mutation**(1/(eta + 1)) - 1\n",
    "                elif (rand > 0.5):  \n",
    "                    d_mutation = 2*(1 - rand_d)\n",
    "                    d_mutation = 1 - d_mutation**(1/(eta + 1))                \n",
    "                posval = (position[i,j] + d_mutation)\n",
    "                if(posval==0):\n",
    "                    posval=1\n",
    "                if(posval!=118):\n",
    "                    posval=posval%118\n",
    "                position[i,j]=posval                        \n",
    "        for k in range (1, len(list_of_functions) + 1):\n",
    "            position[i,-k] = list_of_functions[-k](position[i,0:position.shape[1]-len(list_of_functions)],zdata,xylis,df3)\n",
    "    return position\n",
    "\n",
    "############################################################################\n",
    "\n",
    "# OMPSO Function\n",
    "def optimized_multiobjective_particle_swarm_optimization(swarm_size = 5, min_values = [-5,-5], max_values = [5,5], iterations = 50, list_of_functions = [], mutation_rate = 0.1, eta = 3):    \n",
    "    count    = 0\n",
    "    M        = len(list_of_functions)\n",
    "    position = initial_position( swarm_size, min_values, max_values, list_of_functions)\n",
    "    archive  = copy.deepcopy(position)\n",
    "    \n",
    "    velocity = initial_velocity(position, min_values, max_values)\n",
    "    while (count <= iterations):\n",
    "        #print(position)\n",
    "        \n",
    "        print(colored('Generation = ', 'red', attrs=['bold']), count)\n",
    "        position = update_position(position, velocity, min_values, max_values, list_of_functions) \n",
    "        position = mutation(position, mutation_rate, eta, min_values, max_values, list_of_functions)\n",
    "        archive  = selection(position, archive, M)\n",
    "        \n",
    "        velocity = velocity_vector(position, velocity, archive, M, min_values, max_values)         \n",
    "        count    = count + 1       \n",
    "    return archive"
   ]
  },
  {
   "cell_type": "code",
   "execution_count": 30,
   "metadata": {},
   "outputs": [],
   "source": [
    "import math\n",
    " \n",
    "def minimax (curDepth, nodeIndex,\n",
    "             maxTurn, scores,\n",
    "             targetDepth):\n",
    " \n",
    "    # base case : targetDepth reached\n",
    "    if (curDepth == targetDepth):\n",
    "        return scores[nodeIndex]\n",
    "     \n",
    "    if (maxTurn):\n",
    "        return max(minimax(curDepth + 1, nodeIndex * 2,\n",
    "                    False, scores, targetDepth),\n",
    "                   minimax(curDepth + 1, nodeIndex * 2 + 1,\n",
    "                    False, scores, targetDepth))\n",
    "     \n",
    "    else:\n",
    "        return min(minimax(curDepth + 1, nodeIndex * 2,\n",
    "                     True, scores, targetDepth),\n",
    "                   minimax(curDepth + 1, nodeIndex * 2 + 1,\n",
    "                     True, scores, targetDepth))\n",
    "     \n",
    "# Driver code\n"
   ]
  },
  {
   "cell_type": "code",
   "execution_count": 31,
   "metadata": {},
   "outputs": [],
   "source": [
    "def f3(x):\n",
    "    xylis=[]\n",
    "    \n",
    "    for busno in x:\n",
    "        xbus=busxy['x'][busno-1]\n",
    "        ybus=busxy['y'][busno-1]\n",
    "        xylis.append([xbus,ybus])\n",
    "    \n",
    "    zdata=pd.read_excel(\"xy.xlsx\",sheet_name=\"Sheet3\")\n",
    "    for j in range(1,181):\n",
    "\n",
    "        dist=100000000\n",
    "        h=0\n",
    "        \n",
    "        for i in xylis:\n",
    "            x1=zonexy['x'][j-1]\n",
    "            x2=i[0]\n",
    "            y1=zonexy['y'][j-1]\n",
    "            y2=i[1]\n",
    "\n",
    "            dist1=np.sqrt((x2-x1)**2 + (y2-y1)**2)\n",
    "            if(dist1<dist):\n",
    "                dist=dist1\n",
    "                h=(xylis.index(i))+1\n",
    "\n",
    "        df2 = {'st': h, 'zone':j}\n",
    "        zdata = zdata.append(df2, ignore_index = True)\n",
    "        k=1\n",
    "       \n",
    "    for i in x:\n",
    "        network.add(\"Load\",\"Load No {}\".format(k),bus = \"Bus No {}\".format(i),p_set=capFCS(k,zdata),q_set=200)\n",
    "        k+=1\n",
    "    network.pf()\n",
    "    df3 = network.lines_t\n",
    "    nploss=0\n",
    "    for i in range(186):\n",
    "        nploss+=(df3.p0.iloc[0][i]+df3.p1.iloc[0][i])\n",
    "        \n",
    "        \n",
    "    return abs(nploss)\n",
    "        "
   ]
  },
  {
   "cell_type": "markdown",
   "metadata": {},
   "source": [
    "##  CASE 1"
   ]
  },
  {
   "cell_type": "code",
   "execution_count": 32,
   "metadata": {},
   "outputs": [
    {
     "data": {
      "text/html": [
       "<div>\n",
       "<style scoped>\n",
       "    .dataframe tbody tr th:only-of-type {\n",
       "        vertical-align: middle;\n",
       "    }\n",
       "\n",
       "    .dataframe tbody tr th {\n",
       "        vertical-align: top;\n",
       "    }\n",
       "\n",
       "    .dataframe thead th {\n",
       "        text-align: right;\n",
       "    }\n",
       "</style>\n",
       "<table border=\"1\" class=\"dataframe\">\n",
       "  <thead>\n",
       "    <tr style=\"text-align: right;\">\n",
       "      <th>attribute</th>\n",
       "      <th>bus</th>\n",
       "      <th>carrier</th>\n",
       "      <th>type</th>\n",
       "      <th>p_set</th>\n",
       "      <th>q_set</th>\n",
       "      <th>sign</th>\n",
       "    </tr>\n",
       "  </thead>\n",
       "  <tbody>\n",
       "    <tr>\n",
       "      <th>Load No 15</th>\n",
       "      <td>Bus No 1</td>\n",
       "      <td></td>\n",
       "      <td></td>\n",
       "      <td>541.4</td>\n",
       "      <td>86.6</td>\n",
       "      <td>-1.0</td>\n",
       "    </tr>\n",
       "    <tr>\n",
       "      <th>Load No 16</th>\n",
       "      <td>Bus No 3</td>\n",
       "      <td></td>\n",
       "      <td></td>\n",
       "      <td>414.0</td>\n",
       "      <td>106.2</td>\n",
       "      <td>-1.0</td>\n",
       "    </tr>\n",
       "    <tr>\n",
       "      <th>Load No 17</th>\n",
       "      <td>Bus No 2</td>\n",
       "      <td></td>\n",
       "      <td></td>\n",
       "      <td>212.3</td>\n",
       "      <td>95.5</td>\n",
       "      <td>-1.0</td>\n",
       "    </tr>\n",
       "    <tr>\n",
       "      <th>Load No 18</th>\n",
       "      <td>Bus No 117</td>\n",
       "      <td></td>\n",
       "      <td></td>\n",
       "      <td>212.3</td>\n",
       "      <td>84.9</td>\n",
       "      <td>-1.0</td>\n",
       "    </tr>\n",
       "    <tr>\n",
       "      <th>Load No 19</th>\n",
       "      <td>Bus No 12</td>\n",
       "      <td></td>\n",
       "      <td></td>\n",
       "      <td>498.9</td>\n",
       "      <td>106.2</td>\n",
       "      <td>-1.0</td>\n",
       "    </tr>\n",
       "    <tr>\n",
       "      <th>Load No 20</th>\n",
       "      <td>Bus No 11</td>\n",
       "      <td></td>\n",
       "      <td></td>\n",
       "      <td>743.1</td>\n",
       "      <td>244.2</td>\n",
       "      <td>-1.0</td>\n",
       "    </tr>\n",
       "    <tr>\n",
       "      <th>Load No 21</th>\n",
       "      <td>Bus No 16</td>\n",
       "      <td></td>\n",
       "      <td></td>\n",
       "      <td>265.4</td>\n",
       "      <td>106.2</td>\n",
       "      <td>-1.0</td>\n",
       "    </tr>\n",
       "    <tr>\n",
       "      <th>Load No 22</th>\n",
       "      <td>Bus No 18</td>\n",
       "      <td></td>\n",
       "      <td></td>\n",
       "      <td>636.9</td>\n",
       "      <td>360.9</td>\n",
       "      <td>-1.0</td>\n",
       "    </tr>\n",
       "    <tr>\n",
       "      <th>Load No 23</th>\n",
       "      <td>Bus No 20</td>\n",
       "      <td></td>\n",
       "      <td></td>\n",
       "      <td>191.1</td>\n",
       "      <td>31.8</td>\n",
       "      <td>-1.0</td>\n",
       "    </tr>\n",
       "    <tr>\n",
       "      <th>Load No 24</th>\n",
       "      <td>Bus No 21</td>\n",
       "      <td></td>\n",
       "      <td></td>\n",
       "      <td>148.6</td>\n",
       "      <td>84.9</td>\n",
       "      <td>-1.0</td>\n",
       "    </tr>\n",
       "    <tr>\n",
       "      <th>Load No 25</th>\n",
       "      <td>Bus No 22</td>\n",
       "      <td></td>\n",
       "      <td></td>\n",
       "      <td>106.2</td>\n",
       "      <td>53.1</td>\n",
       "      <td>-1.0</td>\n",
       "    </tr>\n",
       "    <tr>\n",
       "      <th>Load No 26</th>\n",
       "      <td>Bus No 23</td>\n",
       "      <td></td>\n",
       "      <td></td>\n",
       "      <td>74.3</td>\n",
       "      <td>31.8</td>\n",
       "      <td>-1.0</td>\n",
       "    </tr>\n",
       "    <tr>\n",
       "      <th>Load No 27</th>\n",
       "      <td>Bus No 70</td>\n",
       "      <td></td>\n",
       "      <td></td>\n",
       "      <td>660.0</td>\n",
       "      <td>200.0</td>\n",
       "      <td>-1.0</td>\n",
       "    </tr>\n",
       "    <tr>\n",
       "      <th>Load No 28</th>\n",
       "      <td>Bus No 74</td>\n",
       "      <td></td>\n",
       "      <td></td>\n",
       "      <td>680.0</td>\n",
       "      <td>270.0</td>\n",
       "      <td>-1.0</td>\n",
       "    </tr>\n",
       "    <tr>\n",
       "      <th>Load No 29</th>\n",
       "      <td>Bus No 75</td>\n",
       "      <td></td>\n",
       "      <td></td>\n",
       "      <td>470.0</td>\n",
       "      <td>110.0</td>\n",
       "      <td>-1.0</td>\n",
       "    </tr>\n",
       "    <tr>\n",
       "      <th>Load No 30</th>\n",
       "      <td>Bus No 118</td>\n",
       "      <td></td>\n",
       "      <td></td>\n",
       "      <td>330.0</td>\n",
       "      <td>150.0</td>\n",
       "      <td>-1.0</td>\n",
       "    </tr>\n",
       "    <tr>\n",
       "      <th>Load No 31</th>\n",
       "      <td>Bus No 76</td>\n",
       "      <td></td>\n",
       "      <td></td>\n",
       "      <td>680.0</td>\n",
       "      <td>360.0</td>\n",
       "      <td>-1.0</td>\n",
       "    </tr>\n",
       "    <tr>\n",
       "      <th>Load No 32</th>\n",
       "      <td>Bus No 78</td>\n",
       "      <td></td>\n",
       "      <td></td>\n",
       "      <td>710.0</td>\n",
       "      <td>260.0</td>\n",
       "      <td>-1.0</td>\n",
       "    </tr>\n",
       "    <tr>\n",
       "      <th>Load No 33</th>\n",
       "      <td>Bus No 79</td>\n",
       "      <td></td>\n",
       "      <td></td>\n",
       "      <td>390.0</td>\n",
       "      <td>320.0</td>\n",
       "      <td>-1.0</td>\n",
       "    </tr>\n",
       "  </tbody>\n",
       "</table>\n",
       "</div>"
      ],
      "text/plain": [
       "attribute          bus carrier type  p_set  q_set  sign\n",
       "Load No 15    Bus No 1               541.4   86.6  -1.0\n",
       "Load No 16    Bus No 3               414.0  106.2  -1.0\n",
       "Load No 17    Bus No 2               212.3   95.5  -1.0\n",
       "Load No 18  Bus No 117               212.3   84.9  -1.0\n",
       "Load No 19   Bus No 12               498.9  106.2  -1.0\n",
       "Load No 20   Bus No 11               743.1  244.2  -1.0\n",
       "Load No 21   Bus No 16               265.4  106.2  -1.0\n",
       "Load No 22   Bus No 18               636.9  360.9  -1.0\n",
       "Load No 23   Bus No 20               191.1   31.8  -1.0\n",
       "Load No 24   Bus No 21               148.6   84.9  -1.0\n",
       "Load No 25   Bus No 22               106.2   53.1  -1.0\n",
       "Load No 26   Bus No 23                74.3   31.8  -1.0\n",
       "Load No 27   Bus No 70               660.0  200.0  -1.0\n",
       "Load No 28   Bus No 74               680.0  270.0  -1.0\n",
       "Load No 29   Bus No 75               470.0  110.0  -1.0\n",
       "Load No 30  Bus No 118               330.0  150.0  -1.0\n",
       "Load No 31   Bus No 76               680.0  360.0  -1.0\n",
       "Load No 32   Bus No 78               710.0  260.0  -1.0\n",
       "Load No 33   Bus No 79               390.0  320.0  -1.0"
      ]
     },
     "execution_count": 32,
     "metadata": {},
     "output_type": "execute_result"
    }
   ],
   "source": [
    "network.loads"
   ]
  },
  {
   "cell_type": "code",
   "execution_count": 33,
   "metadata": {},
   "outputs": [
    {
     "ename": "KeyError",
     "evalue": "\"['Load No 1'] not found in axis\"",
     "output_type": "error",
     "traceback": [
      "\u001b[1;31m---------------------------------------------------------------------------\u001b[0m",
      "\u001b[1;31mKeyError\u001b[0m                                  Traceback (most recent call last)",
      "\u001b[1;32m<ipython-input-33-51a9336a9592>\u001b[0m in \u001b[0;36m<module>\u001b[1;34m\u001b[0m\n\u001b[1;32m----> 1\u001b[1;33m \u001b[0mnetwork\u001b[0m\u001b[1;33m.\u001b[0m\u001b[0mremove\u001b[0m\u001b[1;33m(\u001b[0m\u001b[1;34m\"Load\"\u001b[0m\u001b[1;33m,\u001b[0m\u001b[1;34m\"Load No {}\"\u001b[0m\u001b[1;33m.\u001b[0m\u001b[0mformat\u001b[0m\u001b[1;33m(\u001b[0m\u001b[1;36m1\u001b[0m\u001b[1;33m)\u001b[0m\u001b[1;33m)\u001b[0m\u001b[1;33m\u001b[0m\u001b[1;33m\u001b[0m\u001b[0m\n\u001b[0m\u001b[0;32m      2\u001b[0m \u001b[0mnetwork\u001b[0m\u001b[1;33m.\u001b[0m\u001b[0mloads\u001b[0m\u001b[1;33m\u001b[0m\u001b[1;33m\u001b[0m\u001b[0m\n",
      "\u001b[1;32mD:\\Anaconda\\lib\\site-packages\\pypsa\\components.py\u001b[0m in \u001b[0;36mremove\u001b[1;34m(self, class_name, name)\u001b[0m\n\u001b[0;32m    751\u001b[0m         \u001b[0mcls_df\u001b[0m \u001b[1;33m=\u001b[0m \u001b[0mself\u001b[0m\u001b[1;33m.\u001b[0m\u001b[0mdf\u001b[0m\u001b[1;33m(\u001b[0m\u001b[0mclass_name\u001b[0m\u001b[1;33m)\u001b[0m\u001b[1;33m\u001b[0m\u001b[1;33m\u001b[0m\u001b[0m\n\u001b[0;32m    752\u001b[0m \u001b[1;33m\u001b[0m\u001b[0m\n\u001b[1;32m--> 753\u001b[1;33m         \u001b[0mcls_df\u001b[0m\u001b[1;33m.\u001b[0m\u001b[0mdrop\u001b[0m\u001b[1;33m(\u001b[0m\u001b[0mname\u001b[0m\u001b[1;33m,\u001b[0m \u001b[0minplace\u001b[0m\u001b[1;33m=\u001b[0m\u001b[1;32mTrue\u001b[0m\u001b[1;33m)\u001b[0m\u001b[1;33m\u001b[0m\u001b[1;33m\u001b[0m\u001b[0m\n\u001b[0m\u001b[0;32m    754\u001b[0m \u001b[1;33m\u001b[0m\u001b[0m\n\u001b[0;32m    755\u001b[0m         \u001b[0mpnl\u001b[0m \u001b[1;33m=\u001b[0m \u001b[0mself\u001b[0m\u001b[1;33m.\u001b[0m\u001b[0mpnl\u001b[0m\u001b[1;33m(\u001b[0m\u001b[0mclass_name\u001b[0m\u001b[1;33m)\u001b[0m\u001b[1;33m\u001b[0m\u001b[1;33m\u001b[0m\u001b[0m\n",
      "\u001b[1;32mD:\\Anaconda\\lib\\site-packages\\pandas\\util\\_decorators.py\u001b[0m in \u001b[0;36mwrapper\u001b[1;34m(*args, **kwargs)\u001b[0m\n\u001b[0;32m    309\u001b[0m                     \u001b[0mstacklevel\u001b[0m\u001b[1;33m=\u001b[0m\u001b[0mstacklevel\u001b[0m\u001b[1;33m,\u001b[0m\u001b[1;33m\u001b[0m\u001b[1;33m\u001b[0m\u001b[0m\n\u001b[0;32m    310\u001b[0m                 )\n\u001b[1;32m--> 311\u001b[1;33m             \u001b[1;32mreturn\u001b[0m \u001b[0mfunc\u001b[0m\u001b[1;33m(\u001b[0m\u001b[1;33m*\u001b[0m\u001b[0margs\u001b[0m\u001b[1;33m,\u001b[0m \u001b[1;33m**\u001b[0m\u001b[0mkwargs\u001b[0m\u001b[1;33m)\u001b[0m\u001b[1;33m\u001b[0m\u001b[1;33m\u001b[0m\u001b[0m\n\u001b[0m\u001b[0;32m    312\u001b[0m \u001b[1;33m\u001b[0m\u001b[0m\n\u001b[0;32m    313\u001b[0m         \u001b[1;32mreturn\u001b[0m \u001b[0mwrapper\u001b[0m\u001b[1;33m\u001b[0m\u001b[1;33m\u001b[0m\u001b[0m\n",
      "\u001b[1;32mD:\\Anaconda\\lib\\site-packages\\pandas\\core\\frame.py\u001b[0m in \u001b[0;36mdrop\u001b[1;34m(self, labels, axis, index, columns, level, inplace, errors)\u001b[0m\n\u001b[0;32m   4911\u001b[0m             \u001b[0mlevel\u001b[0m\u001b[1;33m=\u001b[0m\u001b[0mlevel\u001b[0m\u001b[1;33m,\u001b[0m\u001b[1;33m\u001b[0m\u001b[1;33m\u001b[0m\u001b[0m\n\u001b[0;32m   4912\u001b[0m             \u001b[0minplace\u001b[0m\u001b[1;33m=\u001b[0m\u001b[0minplace\u001b[0m\u001b[1;33m,\u001b[0m\u001b[1;33m\u001b[0m\u001b[1;33m\u001b[0m\u001b[0m\n\u001b[1;32m-> 4913\u001b[1;33m             \u001b[0merrors\u001b[0m\u001b[1;33m=\u001b[0m\u001b[0merrors\u001b[0m\u001b[1;33m,\u001b[0m\u001b[1;33m\u001b[0m\u001b[1;33m\u001b[0m\u001b[0m\n\u001b[0m\u001b[0;32m   4914\u001b[0m         )\n\u001b[0;32m   4915\u001b[0m \u001b[1;33m\u001b[0m\u001b[0m\n",
      "\u001b[1;32mD:\\Anaconda\\lib\\site-packages\\pandas\\core\\generic.py\u001b[0m in \u001b[0;36mdrop\u001b[1;34m(self, labels, axis, index, columns, level, inplace, errors)\u001b[0m\n\u001b[0;32m   4148\u001b[0m         \u001b[1;32mfor\u001b[0m \u001b[0maxis\u001b[0m\u001b[1;33m,\u001b[0m \u001b[0mlabels\u001b[0m \u001b[1;32min\u001b[0m \u001b[0maxes\u001b[0m\u001b[1;33m.\u001b[0m\u001b[0mitems\u001b[0m\u001b[1;33m(\u001b[0m\u001b[1;33m)\u001b[0m\u001b[1;33m:\u001b[0m\u001b[1;33m\u001b[0m\u001b[1;33m\u001b[0m\u001b[0m\n\u001b[0;32m   4149\u001b[0m             \u001b[1;32mif\u001b[0m \u001b[0mlabels\u001b[0m \u001b[1;32mis\u001b[0m \u001b[1;32mnot\u001b[0m \u001b[1;32mNone\u001b[0m\u001b[1;33m:\u001b[0m\u001b[1;33m\u001b[0m\u001b[1;33m\u001b[0m\u001b[0m\n\u001b[1;32m-> 4150\u001b[1;33m                 \u001b[0mobj\u001b[0m \u001b[1;33m=\u001b[0m \u001b[0mobj\u001b[0m\u001b[1;33m.\u001b[0m\u001b[0m_drop_axis\u001b[0m\u001b[1;33m(\u001b[0m\u001b[0mlabels\u001b[0m\u001b[1;33m,\u001b[0m \u001b[0maxis\u001b[0m\u001b[1;33m,\u001b[0m \u001b[0mlevel\u001b[0m\u001b[1;33m=\u001b[0m\u001b[0mlevel\u001b[0m\u001b[1;33m,\u001b[0m \u001b[0merrors\u001b[0m\u001b[1;33m=\u001b[0m\u001b[0merrors\u001b[0m\u001b[1;33m)\u001b[0m\u001b[1;33m\u001b[0m\u001b[1;33m\u001b[0m\u001b[0m\n\u001b[0m\u001b[0;32m   4151\u001b[0m \u001b[1;33m\u001b[0m\u001b[0m\n\u001b[0;32m   4152\u001b[0m         \u001b[1;32mif\u001b[0m \u001b[0minplace\u001b[0m\u001b[1;33m:\u001b[0m\u001b[1;33m\u001b[0m\u001b[1;33m\u001b[0m\u001b[0m\n",
      "\u001b[1;32mD:\\Anaconda\\lib\\site-packages\\pandas\\core\\generic.py\u001b[0m in \u001b[0;36m_drop_axis\u001b[1;34m(self, labels, axis, level, errors)\u001b[0m\n\u001b[0;32m   4183\u001b[0m                 \u001b[0mnew_axis\u001b[0m \u001b[1;33m=\u001b[0m \u001b[0maxis\u001b[0m\u001b[1;33m.\u001b[0m\u001b[0mdrop\u001b[0m\u001b[1;33m(\u001b[0m\u001b[0mlabels\u001b[0m\u001b[1;33m,\u001b[0m \u001b[0mlevel\u001b[0m\u001b[1;33m=\u001b[0m\u001b[0mlevel\u001b[0m\u001b[1;33m,\u001b[0m \u001b[0merrors\u001b[0m\u001b[1;33m=\u001b[0m\u001b[0merrors\u001b[0m\u001b[1;33m)\u001b[0m\u001b[1;33m\u001b[0m\u001b[1;33m\u001b[0m\u001b[0m\n\u001b[0;32m   4184\u001b[0m             \u001b[1;32melse\u001b[0m\u001b[1;33m:\u001b[0m\u001b[1;33m\u001b[0m\u001b[1;33m\u001b[0m\u001b[0m\n\u001b[1;32m-> 4185\u001b[1;33m                 \u001b[0mnew_axis\u001b[0m \u001b[1;33m=\u001b[0m \u001b[0maxis\u001b[0m\u001b[1;33m.\u001b[0m\u001b[0mdrop\u001b[0m\u001b[1;33m(\u001b[0m\u001b[0mlabels\u001b[0m\u001b[1;33m,\u001b[0m \u001b[0merrors\u001b[0m\u001b[1;33m=\u001b[0m\u001b[0merrors\u001b[0m\u001b[1;33m)\u001b[0m\u001b[1;33m\u001b[0m\u001b[1;33m\u001b[0m\u001b[0m\n\u001b[0m\u001b[0;32m   4186\u001b[0m             \u001b[0mresult\u001b[0m \u001b[1;33m=\u001b[0m \u001b[0mself\u001b[0m\u001b[1;33m.\u001b[0m\u001b[0mreindex\u001b[0m\u001b[1;33m(\u001b[0m\u001b[1;33m**\u001b[0m\u001b[1;33m{\u001b[0m\u001b[0maxis_name\u001b[0m\u001b[1;33m:\u001b[0m \u001b[0mnew_axis\u001b[0m\u001b[1;33m}\u001b[0m\u001b[1;33m)\u001b[0m\u001b[1;33m\u001b[0m\u001b[1;33m\u001b[0m\u001b[0m\n\u001b[0;32m   4187\u001b[0m \u001b[1;33m\u001b[0m\u001b[0m\n",
      "\u001b[1;32mD:\\Anaconda\\lib\\site-packages\\pandas\\core\\indexes\\base.py\u001b[0m in \u001b[0;36mdrop\u001b[1;34m(self, labels, errors)\u001b[0m\n\u001b[0;32m   6015\u001b[0m         \u001b[1;32mif\u001b[0m \u001b[0mmask\u001b[0m\u001b[1;33m.\u001b[0m\u001b[0many\u001b[0m\u001b[1;33m(\u001b[0m\u001b[1;33m)\u001b[0m\u001b[1;33m:\u001b[0m\u001b[1;33m\u001b[0m\u001b[1;33m\u001b[0m\u001b[0m\n\u001b[0;32m   6016\u001b[0m             \u001b[1;32mif\u001b[0m \u001b[0merrors\u001b[0m \u001b[1;33m!=\u001b[0m \u001b[1;34m\"ignore\"\u001b[0m\u001b[1;33m:\u001b[0m\u001b[1;33m\u001b[0m\u001b[1;33m\u001b[0m\u001b[0m\n\u001b[1;32m-> 6017\u001b[1;33m                 \u001b[1;32mraise\u001b[0m \u001b[0mKeyError\u001b[0m\u001b[1;33m(\u001b[0m\u001b[1;34mf\"{labels[mask]} not found in axis\"\u001b[0m\u001b[1;33m)\u001b[0m\u001b[1;33m\u001b[0m\u001b[1;33m\u001b[0m\u001b[0m\n\u001b[0m\u001b[0;32m   6018\u001b[0m             \u001b[0mindexer\u001b[0m \u001b[1;33m=\u001b[0m \u001b[0mindexer\u001b[0m\u001b[1;33m[\u001b[0m\u001b[1;33m~\u001b[0m\u001b[0mmask\u001b[0m\u001b[1;33m]\u001b[0m\u001b[1;33m\u001b[0m\u001b[1;33m\u001b[0m\u001b[0m\n\u001b[0;32m   6019\u001b[0m         \u001b[1;32mreturn\u001b[0m \u001b[0mself\u001b[0m\u001b[1;33m.\u001b[0m\u001b[0mdelete\u001b[0m\u001b[1;33m(\u001b[0m\u001b[0mindexer\u001b[0m\u001b[1;33m)\u001b[0m\u001b[1;33m\u001b[0m\u001b[1;33m\u001b[0m\u001b[0m\n",
      "\u001b[1;31mKeyError\u001b[0m: \"['Load No 1'] not found in axis\""
     ]
    }
   ],
   "source": [
    "network.remove(\"Load\",\"Load No {}\".format(1)) \n",
    "network.loads"
   ]
  },
  {
   "cell_type": "code",
   "execution_count": 33,
   "metadata": {},
   "outputs": [],
   "source": [
    "from termcolor import colored"
   ]
  },
  {
   "cell_type": "code",
   "execution_count": 34,
   "metadata": {
    "scrolled": true
   },
   "outputs": [
    {
     "name": "stdout",
     "output_type": "stream",
     "text": [
      "[65, 109, 19, 87, 96, 15]\n"
     ]
    },
    {
     "name": "stderr",
     "output_type": "stream",
     "text": [
      "INFO:pypsa.pf:Performing non-linear load-flow on AC sub-network SubNetwork 0 for snapshots Index(['now'], dtype='object')\n",
      "INFO:pypsa.pf:Newton-Raphson solved in 4 iterations with error of 0.000000 in 0.055999 seconds\n"
     ]
    },
    {
     "name": "stdout",
     "output_type": "stream",
     "text": [
      "[68, 54, 69, 65, 113, 49]\n"
     ]
    },
    {
     "name": "stderr",
     "output_type": "stream",
     "text": [
      "INFO:pypsa.pf:Performing non-linear load-flow on AC sub-network SubNetwork 0 for snapshots Index(['now'], dtype='object')\n",
      "INFO:pypsa.pf:Newton-Raphson solved in 4 iterations with error of 0.000000 in 0.050036 seconds\n"
     ]
    },
    {
     "name": "stdout",
     "output_type": "stream",
     "text": [
      "[113, 105, 108, 1, 13, 98]\n"
     ]
    },
    {
     "name": "stderr",
     "output_type": "stream",
     "text": [
      "INFO:pypsa.pf:Performing non-linear load-flow on AC sub-network SubNetwork 0 for snapshots Index(['now'], dtype='object')\n",
      "INFO:pypsa.pf:Newton-Raphson solved in 3 iterations with error of 0.000000 in 0.040000 seconds\n"
     ]
    },
    {
     "name": "stdout",
     "output_type": "stream",
     "text": [
      "[20, 55, 83, 58, 114, 89]\n"
     ]
    },
    {
     "name": "stderr",
     "output_type": "stream",
     "text": [
      "INFO:pypsa.pf:Performing non-linear load-flow on AC sub-network SubNetwork 0 for snapshots Index(['now'], dtype='object')\n",
      "INFO:pypsa.pf:Newton-Raphson solved in 4 iterations with error of 0.000000 in 0.050041 seconds\n"
     ]
    },
    {
     "name": "stdout",
     "output_type": "stream",
     "text": [
      "[109, 55, 112, 50, 73, 116]\n"
     ]
    },
    {
     "name": "stderr",
     "output_type": "stream",
     "text": [
      "INFO:pypsa.pf:Performing non-linear load-flow on AC sub-network SubNetwork 0 for snapshots Index(['now'], dtype='object')\n",
      "INFO:pypsa.pf:Newton-Raphson solved in 4 iterations with error of 0.000000 in 0.050006 seconds\n"
     ]
    },
    {
     "name": "stdout",
     "output_type": "stream",
     "text": [
      "\u001b[1m\u001b[31mGeneration = \u001b[0m 0\n",
      "[45, 1, 84, 96, 22, 12]\n"
     ]
    },
    {
     "name": "stderr",
     "output_type": "stream",
     "text": [
      "INFO:pypsa.pf:Performing non-linear load-flow on AC sub-network SubNetwork 0 for snapshots Index(['now'], dtype='object')\n",
      "INFO:pypsa.pf:Newton-Raphson solved in 3 iterations with error of 0.000000 in 0.030006 seconds\n"
     ]
    },
    {
     "name": "stdout",
     "output_type": "stream",
     "text": [
      "11956.479651755562\n",
      "[45, 1, 84, 96, 22, 12]\n"
     ]
    },
    {
     "name": "stderr",
     "output_type": "stream",
     "text": [
      "INFO:pypsa.pf:Performing non-linear load-flow on AC sub-network SubNetwork 0 for snapshots Index(['now'], dtype='object')\n",
      "INFO:pypsa.pf:Newton-Raphson solved in 3 iterations with error of 0.000000 in 0.040000 seconds\n"
     ]
    },
    {
     "name": "stdout",
     "output_type": "stream",
     "text": [
      "24922.48679360349\n",
      "[6, 16, 96, 59, 28, 84]\n"
     ]
    },
    {
     "name": "stderr",
     "output_type": "stream",
     "text": [
      "INFO:pypsa.pf:Performing non-linear load-flow on AC sub-network SubNetwork 0 for snapshots Index(['now'], dtype='object')\n",
      "INFO:pypsa.pf:Newton-Raphson solved in 3 iterations with error of 0.000000 in 0.030004 seconds\n"
     ]
    },
    {
     "name": "stdout",
     "output_type": "stream",
     "text": [
      "36024.48153239625\n",
      "[6, 16, 96, 59, 28, 84]\n"
     ]
    },
    {
     "name": "stderr",
     "output_type": "stream",
     "text": [
      "INFO:pypsa.pf:Performing non-linear load-flow on AC sub-network SubNetwork 0 for snapshots Index(['now'], dtype='object')\n",
      "INFO:pypsa.pf:Newton-Raphson solved in 3 iterations with error of 0.000000 in 0.032105 seconds\n"
     ]
    },
    {
     "name": "stdout",
     "output_type": "stream",
     "text": [
      "21606.925391438992\n",
      "[112, 23, 118, 84, 64, 39]\n"
     ]
    },
    {
     "name": "stderr",
     "output_type": "stream",
     "text": [
      "INFO:pypsa.pf:Performing non-linear load-flow on AC sub-network SubNetwork 0 for snapshots Index(['now'], dtype='object')\n",
      "INFO:pypsa.pf:Newton-Raphson solved in 4 iterations with error of 0.000000 in 0.038141 seconds\n"
     ]
    },
    {
     "name": "stdout",
     "output_type": "stream",
     "text": [
      "99271.85168545364\n",
      "[112, 23, 118, 84, 64, 39]\n"
     ]
    },
    {
     "name": "stderr",
     "output_type": "stream",
     "text": [
      "INFO:pypsa.pf:Performing non-linear load-flow on AC sub-network SubNetwork 0 for snapshots Index(['now'], dtype='object')\n",
      "INFO:pypsa.pf:Newton-Raphson solved in 4 iterations with error of 0.000000 in 0.049999 seconds\n"
     ]
    },
    {
     "name": "stdout",
     "output_type": "stream",
     "text": [
      "26951.37111151154\n",
      "[118, 41, 81, 49, 67, 84]\n"
     ]
    },
    {
     "name": "stderr",
     "output_type": "stream",
     "text": [
      "INFO:pypsa.pf:Performing non-linear load-flow on AC sub-network SubNetwork 0 for snapshots Index(['now'], dtype='object')\n",
      "INFO:pypsa.pf:Newton-Raphson solved in 4 iterations with error of 0.000000 in 0.039996 seconds\n"
     ]
    },
    {
     "name": "stdout",
     "output_type": "stream",
     "text": [
      "128772.28731850082\n",
      "[118, 41, 81, 49, 67, 84]\n"
     ]
    },
    {
     "name": "stderr",
     "output_type": "stream",
     "text": [
      "INFO:pypsa.pf:Performing non-linear load-flow on AC sub-network SubNetwork 0 for snapshots Index(['now'], dtype='object')\n",
      "INFO:pypsa.pf:Newton-Raphson solved in 4 iterations with error of 0.000000 in 0.040008 seconds\n"
     ]
    },
    {
     "name": "stdout",
     "output_type": "stream",
     "text": [
      "20957.019181128067\n",
      "[91, 2, 81, 85, 105, 59]\n"
     ]
    },
    {
     "name": "stderr",
     "output_type": "stream",
     "text": [
      "INFO:pypsa.pf:Performing non-linear load-flow on AC sub-network SubNetwork 0 for snapshots Index(['now'], dtype='object')\n",
      "INFO:pypsa.pf:Newton-Raphson solved in 3 iterations with error of 0.000000 in 0.039999 seconds\n"
     ]
    },
    {
     "name": "stdout",
     "output_type": "stream",
     "text": [
      "28105.67354471812\n",
      "[91, 2, 81, 85, 105, 59]\n"
     ]
    },
    {
     "name": "stderr",
     "output_type": "stream",
     "text": [
      "INFO:pypsa.pf:Performing non-linear load-flow on AC sub-network SubNetwork 0 for snapshots Index(['now'], dtype='object')\n",
      "INFO:pypsa.pf:Newton-Raphson solved in 3 iterations with error of 0.000000 in 0.030044 seconds\n"
     ]
    },
    {
     "name": "stdout",
     "output_type": "stream",
     "text": [
      "20653.658286507565\n",
      "[45, 1, 84, 96, 22, 12]\n"
     ]
    },
    {
     "name": "stderr",
     "output_type": "stream",
     "text": [
      "INFO:pypsa.pf:Performing non-linear load-flow on AC sub-network SubNetwork 0 for snapshots Index(['now'], dtype='object')\n",
      "INFO:pypsa.pf:Newton-Raphson solved in 4 iterations with error of 0.000000 in 0.046109 seconds\n"
     ]
    },
    {
     "name": "stdout",
     "output_type": "stream",
     "text": [
      "[6, 16, 96, 59, 28, 84]\n"
     ]
    },
    {
     "name": "stderr",
     "output_type": "stream",
     "text": [
      "INFO:pypsa.pf:Performing non-linear load-flow on AC sub-network SubNetwork 0 for snapshots Index(['now'], dtype='object')\n",
      "INFO:pypsa.pf:Newton-Raphson solved in 4 iterations with error of 0.000000 in 0.059999 seconds\n"
     ]
    },
    {
     "name": "stdout",
     "output_type": "stream",
     "text": [
      "[112, 23, 118, 84, 64, 39]\n"
     ]
    },
    {
     "name": "stderr",
     "output_type": "stream",
     "text": [
      "INFO:pypsa.pf:Performing non-linear load-flow on AC sub-network SubNetwork 0 for snapshots Index(['now'], dtype='object')\n",
      "INFO:pypsa.pf:Newton-Raphson solved in 4 iterations with error of 0.000000 in 0.050040 seconds\n"
     ]
    },
    {
     "name": "stdout",
     "output_type": "stream",
     "text": [
      "[118, 41, 81, 49, 67, 84]\n"
     ]
    },
    {
     "name": "stderr",
     "output_type": "stream",
     "text": [
      "INFO:pypsa.pf:Performing non-linear load-flow on AC sub-network SubNetwork 0 for snapshots Index(['now'], dtype='object')\n",
      "INFO:pypsa.pf:Newton-Raphson solved in 4 iterations with error of 0.000000 in 0.050099 seconds\n"
     ]
    },
    {
     "name": "stdout",
     "output_type": "stream",
     "text": [
      "[91, 2, 81, 85, 105, 59]\n"
     ]
    },
    {
     "name": "stderr",
     "output_type": "stream",
     "text": [
      "INFO:pypsa.pf:Performing non-linear load-flow on AC sub-network SubNetwork 0 for snapshots Index(['now'], dtype='object')\n",
      "INFO:pypsa.pf:Newton-Raphson solved in 4 iterations with error of 0.000000 in 0.050039 seconds\n"
     ]
    },
    {
     "name": "stdout",
     "output_type": "stream",
     "text": [
      "\u001b[1m\u001b[31mGeneration = \u001b[0m 1\n",
      "[21, 47, 115, 53, 90, 2]\n"
     ]
    },
    {
     "name": "stderr",
     "output_type": "stream",
     "text": [
      "INFO:pypsa.pf:Performing non-linear load-flow on AC sub-network SubNetwork 0 for snapshots Index(['now'], dtype='object')\n",
      "INFO:pypsa.pf:Newton-Raphson solved in 3 iterations with error of 0.000000 in 0.040003 seconds\n"
     ]
    },
    {
     "name": "stdout",
     "output_type": "stream",
     "text": [
      "28119.169044518334\n",
      "[21, 47, 115, 53, 90, 2]\n"
     ]
    },
    {
     "name": "stderr",
     "output_type": "stream",
     "text": [
      "INFO:pypsa.pf:Performing non-linear load-flow on AC sub-network SubNetwork 0 for snapshots Index(['now'], dtype='object')\n",
      "INFO:pypsa.pf:Newton-Raphson solved in 3 iterations with error of 0.000000 in 0.040002 seconds\n"
     ]
    },
    {
     "name": "stdout",
     "output_type": "stream",
     "text": [
      "27437.223226137197\n",
      "[9, 71, 100, 94, 86, 85]\n"
     ]
    },
    {
     "name": "stderr",
     "output_type": "stream",
     "text": [
      "INFO:pypsa.pf:Performing non-linear load-flow on AC sub-network SubNetwork 0 for snapshots Index(['now'], dtype='object')\n",
      "INFO:pypsa.pf:Newton-Raphson solved in 4 iterations with error of 0.000000 in 0.050037 seconds\n"
     ]
    },
    {
     "name": "stdout",
     "output_type": "stream",
     "text": [
      "203096.60213605725\n",
      "[9, 71, 100, 94, 86, 85]\n"
     ]
    },
    {
     "name": "stderr",
     "output_type": "stream",
     "text": [
      "INFO:pypsa.pf:Performing non-linear load-flow on AC sub-network SubNetwork 0 for snapshots Index(['now'], dtype='object')\n",
      "INFO:pypsa.pf:Newton-Raphson solved in 4 iterations with error of 0.000000 in 0.050040 seconds\n"
     ]
    },
    {
     "name": "stdout",
     "output_type": "stream",
     "text": [
      "18296.649271944036\n",
      "[23, 55, 92, 81, 89, 97]\n"
     ]
    },
    {
     "name": "stderr",
     "output_type": "stream",
     "text": [
      "INFO:pypsa.pf:Performing non-linear load-flow on AC sub-network SubNetwork 0 for snapshots Index(['now'], dtype='object')\n",
      "INFO:pypsa.pf:Newton-Raphson solved in 4 iterations with error of 0.000000 in 0.049965 seconds\n"
     ]
    },
    {
     "name": "stdout",
     "output_type": "stream",
     "text": [
      "99264.08037764733\n",
      "[23, 55, 92, 81, 89, 97]\n"
     ]
    },
    {
     "name": "stderr",
     "output_type": "stream",
     "text": [
      "INFO:pypsa.pf:Performing non-linear load-flow on AC sub-network SubNetwork 0 for snapshots Index(['now'], dtype='object')\n",
      "INFO:pypsa.pf:Newton-Raphson solved in 4 iterations with error of 0.000000 in 0.039966 seconds\n"
     ]
    },
    {
     "name": "stdout",
     "output_type": "stream",
     "text": [
      "17799.3379343206\n",
      "[15, 78, 16, 93, 96, 114]\n"
     ]
    },
    {
     "name": "stderr",
     "output_type": "stream",
     "text": [
      "INFO:pypsa.pf:Performing non-linear load-flow on AC sub-network SubNetwork 0 for snapshots Index(['now'], dtype='object')\n",
      "INFO:pypsa.pf:Newton-Raphson solved in 4 iterations with error of 0.000000 in 0.050003 seconds\n"
     ]
    },
    {
     "name": "stdout",
     "output_type": "stream",
     "text": [
      "62101.64707006268\n",
      "[15, 78, 16, 93, 96, 114]\n"
     ]
    },
    {
     "name": "stderr",
     "output_type": "stream",
     "text": [
      "INFO:pypsa.pf:Performing non-linear load-flow on AC sub-network SubNetwork 0 for snapshots Index(['now'], dtype='object')\n",
      "INFO:pypsa.pf:Newton-Raphson solved in 4 iterations with error of 0.000000 in 0.050000 seconds\n"
     ]
    },
    {
     "name": "stdout",
     "output_type": "stream",
     "text": [
      "16173.295765902221\n",
      "[18, 67, 5, 63, 79, 97]\n"
     ]
    },
    {
     "name": "stderr",
     "output_type": "stream",
     "text": [
      "INFO:pypsa.pf:Performing non-linear load-flow on AC sub-network SubNetwork 0 for snapshots Index(['now'], dtype='object')\n",
      "INFO:pypsa.pf:Newton-Raphson solved in 3 iterations with error of 0.000000 in 0.040001 seconds\n"
     ]
    },
    {
     "name": "stdout",
     "output_type": "stream",
     "text": [
      "32121.56983876606\n",
      "[18, 67, 5, 63, 79, 97]\n"
     ]
    },
    {
     "name": "stderr",
     "output_type": "stream",
     "text": [
      "INFO:pypsa.pf:Performing non-linear load-flow on AC sub-network SubNetwork 0 for snapshots Index(['now'], dtype='object')\n",
      "INFO:pypsa.pf:Newton-Raphson solved in 3 iterations with error of 0.000000 in 0.038136 seconds\n"
     ]
    },
    {
     "name": "stdout",
     "output_type": "stream",
     "text": [
      "18991.0900813657\n",
      "[21, 47, 115, 53, 90, 2]\n"
     ]
    },
    {
     "name": "stderr",
     "output_type": "stream",
     "text": [
      "INFO:pypsa.pf:Performing non-linear load-flow on AC sub-network SubNetwork 0 for snapshots Index(['now'], dtype='object')\n",
      "INFO:pypsa.pf:Newton-Raphson solved in 4 iterations with error of 0.000000 in 0.050003 seconds\n"
     ]
    },
    {
     "name": "stdout",
     "output_type": "stream",
     "text": [
      "[9, 71, 100, 94, 86, 85]\n"
     ]
    },
    {
     "name": "stderr",
     "output_type": "stream",
     "text": [
      "INFO:pypsa.pf:Performing non-linear load-flow on AC sub-network SubNetwork 0 for snapshots Index(['now'], dtype='object')\n",
      "INFO:pypsa.pf:Newton-Raphson solved in 4 iterations with error of 0.000000 in 0.050104 seconds\n"
     ]
    },
    {
     "name": "stdout",
     "output_type": "stream",
     "text": [
      "[23, 55, 92, 81, 89, 97]\n"
     ]
    },
    {
     "name": "stderr",
     "output_type": "stream",
     "text": [
      "INFO:pypsa.pf:Performing non-linear load-flow on AC sub-network SubNetwork 0 for snapshots Index(['now'], dtype='object')\n",
      "INFO:pypsa.pf:Newton-Raphson solved in 4 iterations with error of 0.000000 in 0.050000 seconds\n"
     ]
    },
    {
     "name": "stdout",
     "output_type": "stream",
     "text": [
      "[15, 78, 16, 93, 96, 114]\n"
     ]
    },
    {
     "name": "stderr",
     "output_type": "stream",
     "text": [
      "INFO:pypsa.pf:Performing non-linear load-flow on AC sub-network SubNetwork 0 for snapshots Index(['now'], dtype='object')\n",
      "INFO:pypsa.pf:Newton-Raphson solved in 4 iterations with error of 0.000000 in 0.048108 seconds\n"
     ]
    },
    {
     "name": "stdout",
     "output_type": "stream",
     "text": [
      "[18, 67, 5, 63, 79, 97]\n"
     ]
    },
    {
     "name": "stderr",
     "output_type": "stream",
     "text": [
      "INFO:pypsa.pf:Performing non-linear load-flow on AC sub-network SubNetwork 0 for snapshots Index(['now'], dtype='object')\n",
      "INFO:pypsa.pf:Newton-Raphson solved in 4 iterations with error of 0.000000 in 0.049993 seconds\n"
     ]
    },
    {
     "name": "stdout",
     "output_type": "stream",
     "text": [
      "\u001b[1m\u001b[31mGeneration = \u001b[0m 2\n",
      "[73, 29, 77, 69, 105, 67]\n"
     ]
    },
    {
     "name": "stderr",
     "output_type": "stream",
     "text": [
      "INFO:pypsa.pf:Performing non-linear load-flow on AC sub-network SubNetwork 0 for snapshots Index(['now'], dtype='object')\n",
      "INFO:pypsa.pf:Newton-Raphson solved in 4 iterations with error of 0.000000 in 0.050010 seconds\n"
     ]
    },
    {
     "name": "stdout",
     "output_type": "stream",
     "text": [
      "113082.08630123035\n",
      "[73, 29, 77, 69, 105, 67]\n"
     ]
    },
    {
     "name": "stderr",
     "output_type": "stream",
     "text": [
      "INFO:pypsa.pf:Performing non-linear load-flow on AC sub-network SubNetwork 0 for snapshots Index(['now'], dtype='object')\n",
      "INFO:pypsa.pf:Newton-Raphson solved in 4 iterations with error of 0.000000 in 0.050039 seconds\n"
     ]
    },
    {
     "name": "stdout",
     "output_type": "stream",
     "text": [
      "20296.049591722232\n",
      "[74, 35, 71, 87, 103, 72]\n"
     ]
    },
    {
     "name": "stderr",
     "output_type": "stream",
     "text": [
      "INFO:pypsa.pf:Performing non-linear load-flow on AC sub-network SubNetwork 0 for snapshots Index(['now'], dtype='object')\n",
      "INFO:pypsa.pf:Newton-Raphson solved in 4 iterations with error of 0.000000 in 0.050011 seconds\n"
     ]
    },
    {
     "name": "stdout",
     "output_type": "stream",
     "text": [
      "98504.23875743849\n",
      "[74, 35, 71, 87, 103, 72]\n"
     ]
    },
    {
     "name": "stderr",
     "output_type": "stream",
     "text": [
      "INFO:pypsa.pf:Performing non-linear load-flow on AC sub-network SubNetwork 0 for snapshots Index(['now'], dtype='object')\n",
      "INFO:pypsa.pf:Newton-Raphson solved in 4 iterations with error of 0.000000 in 0.050002 seconds\n"
     ]
    },
    {
     "name": "stdout",
     "output_type": "stream",
     "text": [
      "23849.62967679448\n",
      "[66, 29, 65, 79, 100, 81]\n"
     ]
    },
    {
     "name": "stderr",
     "output_type": "stream",
     "text": [
      "INFO:pypsa.pf:Performing non-linear load-flow on AC sub-network SubNetwork 0 for snapshots Index(['now'], dtype='object')\n",
      "INFO:pypsa.pf:Newton-Raphson solved in 4 iterations with error of 0.000000 in 0.050032 seconds\n"
     ]
    },
    {
     "name": "stdout",
     "output_type": "stream",
     "text": [
      "113086.73155925119\n",
      "[66, 29, 65, 79, 100, 81]\n"
     ]
    },
    {
     "name": "stderr",
     "output_type": "stream",
     "text": [
      "INFO:pypsa.pf:Performing non-linear load-flow on AC sub-network SubNetwork 0 for snapshots Index(['now'], dtype='object')\n",
      "INFO:pypsa.pf:Newton-Raphson solved in 4 iterations with error of 0.000000 in 0.042360 seconds\n"
     ]
    },
    {
     "name": "stdout",
     "output_type": "stream",
     "text": [
      "22751.087844843798\n",
      "[62, 35, 59, 88, 102, 81]\n"
     ]
    },
    {
     "name": "stderr",
     "output_type": "stream",
     "text": [
      "INFO:pypsa.pf:Performing non-linear load-flow on AC sub-network SubNetwork 0 for snapshots Index(['now'], dtype='object')\n",
      "INFO:pypsa.pf:Newton-Raphson solved in 4 iterations with error of 0.000000 in 0.050061 seconds\n"
     ]
    },
    {
     "name": "stdout",
     "output_type": "stream",
     "text": [
      "98513.31738208831\n",
      "[62, 35, 59, 88, 102, 81]\n"
     ]
    },
    {
     "name": "stderr",
     "output_type": "stream",
     "text": [
      "INFO:pypsa.pf:Performing non-linear load-flow on AC sub-network SubNetwork 0 for snapshots Index(['now'], dtype='object')\n",
      "INFO:pypsa.pf:Newton-Raphson solved in 4 iterations with error of 0.000000 in 0.050040 seconds\n"
     ]
    },
    {
     "name": "stdout",
     "output_type": "stream",
     "text": [
      "19285.40345512736\n",
      "[67, 36, 55, 73, 92, 78]\n"
     ]
    },
    {
     "name": "stderr",
     "output_type": "stream",
     "text": [
      "INFO:pypsa.pf:Performing non-linear load-flow on AC sub-network SubNetwork 0 for snapshots Index(['now'], dtype='object')\n",
      "INFO:pypsa.pf:Newton-Raphson solved in 4 iterations with error of 0.000000 in 0.050002 seconds\n"
     ]
    },
    {
     "name": "stdout",
     "output_type": "stream",
     "text": [
      "98639.34475371969\n",
      "[67, 36, 55, 73, 92, 78]\n"
     ]
    },
    {
     "name": "stderr",
     "output_type": "stream",
     "text": [
      "INFO:pypsa.pf:Performing non-linear load-flow on AC sub-network SubNetwork 0 for snapshots Index(['now'], dtype='object')\n",
      "INFO:pypsa.pf:Newton-Raphson solved in 4 iterations with error of 0.000000 in 0.058793 seconds\n"
     ]
    },
    {
     "name": "stdout",
     "output_type": "stream",
     "text": [
      "19581.543020674326\n",
      "[73, 29, 77, 69, 105, 67]\n"
     ]
    },
    {
     "name": "stderr",
     "output_type": "stream",
     "text": [
      "INFO:pypsa.pf:Performing non-linear load-flow on AC sub-network SubNetwork 0 for snapshots Index(['now'], dtype='object')\n",
      "INFO:pypsa.pf:Newton-Raphson solved in 4 iterations with error of 0.000000 in 0.060312 seconds\n"
     ]
    },
    {
     "name": "stdout",
     "output_type": "stream",
     "text": [
      "[74, 35, 71, 87, 103, 72]\n"
     ]
    },
    {
     "name": "stderr",
     "output_type": "stream",
     "text": [
      "INFO:pypsa.pf:Performing non-linear load-flow on AC sub-network SubNetwork 0 for snapshots Index(['now'], dtype='object')\n",
      "INFO:pypsa.pf:Newton-Raphson solved in 4 iterations with error of 0.000000 in 0.061878 seconds\n"
     ]
    },
    {
     "name": "stdout",
     "output_type": "stream",
     "text": [
      "[66, 29, 65, 79, 100, 81]\n"
     ]
    },
    {
     "name": "stderr",
     "output_type": "stream",
     "text": [
      "INFO:pypsa.pf:Performing non-linear load-flow on AC sub-network SubNetwork 0 for snapshots Index(['now'], dtype='object')\n",
      "INFO:pypsa.pf:Newton-Raphson solved in 4 iterations with error of 0.000000 in 0.072038 seconds\n"
     ]
    },
    {
     "name": "stdout",
     "output_type": "stream",
     "text": [
      "[62, 35, 59, 88, 102, 81]\n"
     ]
    },
    {
     "name": "stderr",
     "output_type": "stream",
     "text": [
      "INFO:pypsa.pf:Performing non-linear load-flow on AC sub-network SubNetwork 0 for snapshots Index(['now'], dtype='object')\n",
      "INFO:pypsa.pf:Newton-Raphson solved in 4 iterations with error of 0.000000 in 0.056000 seconds\n"
     ]
    },
    {
     "name": "stdout",
     "output_type": "stream",
     "text": [
      "[67, 36, 55, 73, 92, 78]\n"
     ]
    },
    {
     "name": "stderr",
     "output_type": "stream",
     "text": [
      "INFO:pypsa.pf:Performing non-linear load-flow on AC sub-network SubNetwork 0 for snapshots Index(['now'], dtype='object')\n",
      "INFO:pypsa.pf:Newton-Raphson solved in 4 iterations with error of 0.000000 in 0.060066 seconds\n"
     ]
    },
    {
     "name": "stdout",
     "output_type": "stream",
     "text": [
      "\u001b[1m\u001b[31mGeneration = \u001b[0m 3\n",
      "[28, 37, 82, 90, 69, 112]\n"
     ]
    },
    {
     "name": "stderr",
     "output_type": "stream",
     "text": [
      "INFO:pypsa.pf:Performing non-linear load-flow on AC sub-network SubNetwork 0 for snapshots Index(['now'], dtype='object')\n",
      "INFO:pypsa.pf:Newton-Raphson solved in 4 iterations with error of 0.000000 in 0.067349 seconds\n"
     ]
    },
    {
     "name": "stdout",
     "output_type": "stream",
     "text": [
      "116122.23445585603\n",
      "[28, 37, 82, 90, 69, 112]\n"
     ]
    },
    {
     "name": "stderr",
     "output_type": "stream",
     "text": [
      "INFO:pypsa.pf:Performing non-linear load-flow on AC sub-network SubNetwork 0 for snapshots Index(['now'], dtype='object')\n",
      "INFO:pypsa.pf:Newton-Raphson solved in 4 iterations with error of 0.000000 in 0.050040 seconds\n"
     ]
    },
    {
     "name": "stdout",
     "output_type": "stream",
     "text": [
      "18797.421333975497\n",
      "[29, 20, 98, 46, 74, 85]\n"
     ]
    },
    {
     "name": "stderr",
     "output_type": "stream",
     "text": [
      "INFO:pypsa.pf:Performing non-linear load-flow on AC sub-network SubNetwork 0 for snapshots Index(['now'], dtype='object')\n",
      "INFO:pypsa.pf:Newton-Raphson solved in 4 iterations with error of 0.000000 in 0.048015 seconds\n"
     ]
    },
    {
     "name": "stdout",
     "output_type": "stream",
     "text": [
      "103447.12271085117\n",
      "[29, 20, 98, 46, 74, 85]\n"
     ]
    },
    {
     "name": "stderr",
     "output_type": "stream",
     "text": [
      "INFO:pypsa.pf:Performing non-linear load-flow on AC sub-network SubNetwork 0 for snapshots Index(['now'], dtype='object')\n",
      "INFO:pypsa.pf:Newton-Raphson solved in 4 iterations with error of 0.000000 in 0.051461 seconds\n"
     ]
    },
    {
     "name": "stdout",
     "output_type": "stream",
     "text": [
      "22389.363717983426\n",
      "[43, 36, 110, 63, 79, 63]\n"
     ]
    },
    {
     "name": "stderr",
     "output_type": "stream",
     "text": [
      "INFO:pypsa.pf:Performing non-linear load-flow on AC sub-network SubNetwork 0 for snapshots Index(['now'], dtype='object')\n",
      "INFO:pypsa.pf:Newton-Raphson solved in 4 iterations with error of 0.000000 in 0.048344 seconds\n"
     ]
    },
    {
     "name": "stdout",
     "output_type": "stream",
     "text": [
      "134248.1801676969\n",
      "[43, 36, 110, 63, 79, 63]\n"
     ]
    },
    {
     "name": "stderr",
     "output_type": "stream",
     "text": [
      "INFO:pypsa.pf:Performing non-linear load-flow on AC sub-network SubNetwork 0 for snapshots Index(['now'], dtype='object')\n",
      "INFO:pypsa.pf:Newton-Raphson solved in 4 iterations with error of 0.000000 in 0.060004 seconds\n"
     ]
    },
    {
     "name": "stdout",
     "output_type": "stream",
     "text": [
      "23170.86075691843\n",
      "[51, 20, 22, 43, 74, 60]\n"
     ]
    },
    {
     "name": "stderr",
     "output_type": "stream",
     "text": [
      "INFO:pypsa.pf:Performing non-linear load-flow on AC sub-network SubNetwork 0 for snapshots Index(['now'], dtype='object')\n",
      "INFO:pypsa.pf:Newton-Raphson solved in 4 iterations with error of 0.000000 in 0.060046 seconds\n"
     ]
    },
    {
     "name": "stdout",
     "output_type": "stream",
     "text": [
      "103512.80747035694\n",
      "[51, 20, 22, 43, 74, 60]\n"
     ]
    },
    {
     "name": "stderr",
     "output_type": "stream",
     "text": [
      "INFO:pypsa.pf:Performing non-linear load-flow on AC sub-network SubNetwork 0 for snapshots Index(['now'], dtype='object')\n",
      "INFO:pypsa.pf:Newton-Raphson solved in 4 iterations with error of 0.000000 in 0.049962 seconds\n"
     ]
    },
    {
     "name": "stdout",
     "output_type": "stream",
     "text": [
      "19893.536277369687\n",
      "[42, 20, 31, 78, 98, 69]\n"
     ]
    },
    {
     "name": "stderr",
     "output_type": "stream",
     "text": [
      "INFO:pypsa.pf:Performing non-linear load-flow on AC sub-network SubNetwork 0 for snapshots Index(['now'], dtype='object')\n",
      "INFO:pypsa.pf:Newton-Raphson solved in 4 iterations with error of 0.000000 in 0.057182 seconds\n"
     ]
    },
    {
     "name": "stdout",
     "output_type": "stream",
     "text": [
      "103450.06495302984\n",
      "[42, 20, 31, 78, 98, 69]\n"
     ]
    },
    {
     "name": "stderr",
     "output_type": "stream",
     "text": [
      "INFO:pypsa.pf:Performing non-linear load-flow on AC sub-network SubNetwork 0 for snapshots Index(['now'], dtype='object')\n",
      "INFO:pypsa.pf:Newton-Raphson solved in 4 iterations with error of 0.000000 in 0.047360 seconds\n"
     ]
    },
    {
     "name": "stdout",
     "output_type": "stream",
     "text": [
      "15168.239558512681\n",
      "[28, 37, 82, 90, 69, 112]\n"
     ]
    },
    {
     "name": "stderr",
     "output_type": "stream",
     "text": [
      "INFO:pypsa.pf:Performing non-linear load-flow on AC sub-network SubNetwork 0 for snapshots Index(['now'], dtype='object')\n",
      "INFO:pypsa.pf:Newton-Raphson solved in 4 iterations with error of 0.000000 in 0.049963 seconds\n"
     ]
    },
    {
     "name": "stdout",
     "output_type": "stream",
     "text": [
      "[29, 20, 98, 46, 74, 85]\n"
     ]
    },
    {
     "name": "stderr",
     "output_type": "stream",
     "text": [
      "INFO:pypsa.pf:Performing non-linear load-flow on AC sub-network SubNetwork 0 for snapshots Index(['now'], dtype='object')\n",
      "INFO:pypsa.pf:Newton-Raphson solved in 4 iterations with error of 0.000000 in 0.049964 seconds\n"
     ]
    },
    {
     "name": "stdout",
     "output_type": "stream",
     "text": [
      "[43, 36, 110, 63, 79, 63]\n"
     ]
    },
    {
     "name": "stderr",
     "output_type": "stream",
     "text": [
      "INFO:pypsa.pf:Performing non-linear load-flow on AC sub-network SubNetwork 0 for snapshots Index(['now'], dtype='object')\n",
      "INFO:pypsa.pf:Newton-Raphson solved in 4 iterations with error of 0.000000 in 0.070005 seconds\n"
     ]
    },
    {
     "name": "stdout",
     "output_type": "stream",
     "text": [
      "[51, 20, 22, 43, 74, 60]\n"
     ]
    },
    {
     "name": "stderr",
     "output_type": "stream",
     "text": [
      "INFO:pypsa.pf:Performing non-linear load-flow on AC sub-network SubNetwork 0 for snapshots Index(['now'], dtype='object')\n",
      "INFO:pypsa.pf:Newton-Raphson solved in 4 iterations with error of 0.000000 in 0.050036 seconds\n"
     ]
    },
    {
     "name": "stdout",
     "output_type": "stream",
     "text": [
      "[42, 20, 31, 78, 98, 69]\n"
     ]
    },
    {
     "name": "stderr",
     "output_type": "stream",
     "text": [
      "INFO:pypsa.pf:Performing non-linear load-flow on AC sub-network SubNetwork 0 for snapshots Index(['now'], dtype='object')\n",
      "INFO:pypsa.pf:Newton-Raphson solved in 4 iterations with error of 0.000000 in 0.048096 seconds\n"
     ]
    }
   ],
   "source": [
    "\n",
    "import matplotlib.pyplot as plt\n",
    "import math\n",
    "import os\n",
    "\n",
    "def f1(x,zdata,xylis,df3):\n",
    "    s = 0\n",
    "    \n",
    "    \n",
    "     \n",
    "    for zon in range(1,181):\n",
    "       \n",
    "        s+=evucnew(zon,xylis)\n",
    "    \n",
    "    \n",
    "    return s\n",
    "\n",
    "def f2(x,zdata,xylis,df3):\n",
    "    \n",
    "   \n",
    "    nploss=0\n",
    "    df5 = df3.lines_t\n",
    "    for i in range(186):\n",
    "        nploss+=(df5.p0.iloc[0][i]+df5.p1.iloc[0][i])\n",
    "        \n",
    "    for i in range(1,7):\n",
    "        \n",
    "        network.remove(\"Load\",\"Load No {}\".format(i)) \n",
    "    \n",
    "    return abs(nploss*87.7)\n",
    "\n",
    "size = 5\n",
    "m_r  = 0.15\n",
    "minv = [1,1,1,1,1,1]\n",
    "maxv = [118,118,118,118,118,118]\n",
    "lof  = [f1,f2]\n",
    "gen  = 3\n",
    "mu   = 2\n",
    "eta  = 3\n",
    "\n",
    "\n",
    "# Calling OMOPSO Function\n",
    "omopso_kursawe = optimized_multiobjective_particle_swarm_optimization(swarm_size = size, min_values = minv, max_values = maxv, iterations = gen, list_of_functions = lof, mutation_rate = m_r, eta = eta)"
   ]
  },
  {
   "cell_type": "code",
   "execution_count": 35,
   "metadata": {},
   "outputs": [
    {
     "name": "stdout",
     "output_type": "stream",
     "text": [
      "[[4.21866567e+01 2.06390006e+01 3.13409559e+01 7.89134019e+01\n",
      "  9.80512615e+01 6.96945850e+01 1.51682396e+04 8.77185435e+04]\n",
      " [1.56502886e+01 7.85719234e+01 1.63067979e+01 9.39931471e+01\n",
      "  9.69969212e+01 1.14171752e+02 1.61732958e+04 7.01753683e+04]\n",
      " [1.85515927e+01 6.74002477e+01 5.73156020e+00 6.37789715e+01\n",
      "  8.03290093e+01 9.67908911e+01 1.89910901e+04 5.49804603e+04]\n",
      " [9.10000000e+01 2.00000000e+00 8.10000000e+01 8.50000000e+01\n",
      "  1.05045049e+02 5.90000000e+01 2.06536583e+04 5.38092545e+04]\n",
      " [1.13000000e+02 1.05000000e+02 1.08000000e+02 1.00000000e+00\n",
      "  1.30000000e+01 9.80000000e+01 3.17364985e+04 3.57153082e+04]]\n"
     ]
    }
   ],
   "source": [
    "print(omopso_kursawe)\n"
   ]
  },
  {
   "cell_type": "code",
   "execution_count": 36,
   "metadata": {},
   "outputs": [
    {
     "data": {
      "image/png": "[encoded data removed]",
      "text/plain": [
       "<Figure size 720x360 with 1 Axes>"
      ]
     },
     "metadata": {
      "needs_background": "light"
     },
     "output_type": "display_data"
    }
   ],
   "source": [
    "plt.style.use('bmh')\n",
    "plt.figure(figsize = (10, 5))\n",
    "plt.xlabel('Function 1', fontsize = 12)\n",
    "plt.ylabel('Function 2', fontsize = 12)\n",
    "plt.scatter(omopso_kursawe[:,-2], omopso_kursawe[:,-1], c = 'r', s = 45, marker = 'o', label = 'OMOPSO')\n",
    "##plt.scatter(kursawe_1,          kursawe_2,             c = 'k', s = 2,  marker = '.', label = 'Solutions')\n",
    "plt.legend(loc = 'upper right')\n",
    "plt.show()"
   ]
  },
  {
   "cell_type": "code",
   "execution_count": 37,
   "metadata": {},
   "outputs": [
    {
     "name": "stdout",
     "output_type": "stream",
     "text": [
      "[[15168.239558512681, 87718.54353458031], [16173.295765902221, 70175.368321808], [18991.0900813657, 54980.46025148303], [20653.658286507565, 53809.254501270916], [31736.498545216535, 35715.30822314774]]\n",
      "The optimal value is : [18991.0900813657, 54980.46025148303]\n",
      "[18, 67, 5, 63, 80, 96]\n"
     ]
    }
   ],
   "source": [
    "func=[]\n",
    "func1=omopso_kursawe[:,-2]\n",
    "func2=omopso_kursawe[:,-1]\n",
    "for i in range(len(func1)):\n",
    "    func.append([func1[i],func2[i]])\n",
    "    \n",
    "print(func)\n",
    "\n",
    "\n",
    "treeDepth = math.floor(math.log(len(func), 2))\n",
    " \n",
    "print(\"The optimal value is : \", end = \"\")\n",
    "minimaxval=minimax(0, 0, True, func, treeDepth)\n",
    "print(minimaxval)\n",
    "\n",
    "for i in omopso_kursawe:\n",
    "    if(minimaxval[0] in i):\n",
    "        xlist=i\n",
    "        \n",
    "xlist=[int(i) for i in xlist]\n",
    "print(xlist[:6])"
   ]
  },
  {
   "cell_type": "code",
   "execution_count": 233,
   "metadata": {},
   "outputs": [],
   "source": [
    "for i in range(1,7):\n",
    "    network.remove(\"Load\",\"Load No {}\".format(i)) "
   ]
  },
  {
   "cell_type": "code",
   "execution_count": 38,
   "metadata": {},
   "outputs": [
    {
     "name": "stdout",
     "output_type": "stream",
     "text": [
      "[15, 53, 96, 67, 59, 16]\n"
     ]
    },
    {
     "name": "stderr",
     "output_type": "stream",
     "text": [
      "INFO:pypsa.pf:Performing non-linear load-flow on AC sub-network SubNetwork 0 for snapshots Index(['now'], dtype='object')\n",
      "INFO:pypsa.pf:Newton-Raphson solved in 4 iterations with error of 0.000000 in 0.050042 seconds\n"
     ]
    },
    {
     "name": "stdout",
     "output_type": "stream",
     "text": [
      "[4, 28, 26, 52, 89, 105]\n"
     ]
    },
    {
     "name": "stderr",
     "output_type": "stream",
     "text": [
      "INFO:pypsa.pf:Performing non-linear load-flow on AC sub-network SubNetwork 0 for snapshots Index(['now'], dtype='object')\n",
      "INFO:pypsa.pf:Newton-Raphson solved in 4 iterations with error of 0.000000 in 0.040535 seconds\n"
     ]
    },
    {
     "name": "stdout",
     "output_type": "stream",
     "text": [
      "[6, 107, 51, 58, 67, 74]\n"
     ]
    },
    {
     "name": "stderr",
     "output_type": "stream",
     "text": [
      "INFO:pypsa.pf:Performing non-linear load-flow on AC sub-network SubNetwork 0 for snapshots Index(['now'], dtype='object')\n",
      "INFO:pypsa.pf:Newton-Raphson solved in 4 iterations with error of 0.000000 in 0.056004 seconds\n"
     ]
    },
    {
     "name": "stdout",
     "output_type": "stream",
     "text": [
      "[28, 109, 10, 105, 91, 86]\n"
     ]
    },
    {
     "name": "stderr",
     "output_type": "stream",
     "text": [
      "INFO:pypsa.pf:Performing non-linear load-flow on AC sub-network SubNetwork 0 for snapshots Index(['now'], dtype='object')\n",
      "INFO:pypsa.pf:Newton-Raphson solved in 4 iterations with error of 0.000000 in 0.050001 seconds\n"
     ]
    },
    {
     "name": "stdout",
     "output_type": "stream",
     "text": [
      "[108, 9, 57, 61, 42, 6]\n"
     ]
    },
    {
     "name": "stderr",
     "output_type": "stream",
     "text": [
      "INFO:pypsa.pf:Performing non-linear load-flow on AC sub-network SubNetwork 0 for snapshots Index(['now'], dtype='object')\n",
      "INFO:pypsa.pf:Newton-Raphson solved in 4 iterations with error of 0.000000 in 0.049999 seconds\n"
     ]
    },
    {
     "name": "stdout",
     "output_type": "stream",
     "text": [
      "\u001b[1m\u001b[31mGeneration = \u001b[0m 0\n",
      "[36, 27, 109, 25, 86, 93]\n"
     ]
    },
    {
     "name": "stderr",
     "output_type": "stream",
     "text": [
      "INFO:pypsa.pf:Performing non-linear load-flow on AC sub-network SubNetwork 0 for snapshots Index(['now'], dtype='object')\n",
      "INFO:pypsa.pf:Newton-Raphson solved in 4 iterations with error of 0.000000 in 0.046135 seconds\n"
     ]
    },
    {
     "name": "stdout",
     "output_type": "stream",
     "text": [
      "281428.9552860302\n",
      "[36, 27, 109, 25, 86, 93]\n"
     ]
    },
    {
     "name": "stderr",
     "output_type": "stream",
     "text": [
      "INFO:pypsa.pf:Performing non-linear load-flow on AC sub-network SubNetwork 0 for snapshots Index(['now'], dtype='object')\n",
      "INFO:pypsa.pf:Newton-Raphson solved in 4 iterations with error of 0.000000 in 0.049997 seconds\n"
     ]
    },
    {
     "name": "stdout",
     "output_type": "stream",
     "text": [
      "0.09928850010647583\n",
      "[43, 100, 100, 62, 2, 57]\n"
     ]
    },
    {
     "name": "stderr",
     "output_type": "stream",
     "text": [
      "INFO:pypsa.pf:Performing non-linear load-flow on AC sub-network SubNetwork 0 for snapshots Index(['now'], dtype='object')\n",
      "INFO:pypsa.pf:Newton-Raphson solved in 3 iterations with error of 0.000000 in 0.040003 seconds\n"
     ]
    },
    {
     "name": "stdout",
     "output_type": "stream",
     "text": [
      "80327.52270968679\n",
      "[43, 100, 100, 62, 2, 57]\n"
     ]
    },
    {
     "name": "stderr",
     "output_type": "stream",
     "text": [
      "INFO:pypsa.pf:Performing non-linear load-flow on AC sub-network SubNetwork 0 for snapshots Index(['now'], dtype='object')\n",
      "INFO:pypsa.pf:Newton-Raphson solved in 3 iterations with error of 0.000000 in 0.040000 seconds\n"
     ]
    },
    {
     "name": "stdout",
     "output_type": "stream",
     "text": [
      "1.0953092567010936\n",
      "[3, 23, 18, 87, 81, 96]\n"
     ]
    },
    {
     "name": "stderr",
     "output_type": "stream",
     "text": [
      "INFO:pypsa.pf:Performing non-linear load-flow on AC sub-network SubNetwork 0 for snapshots Index(['now'], dtype='object')\n",
      "INFO:pypsa.pf:Newton-Raphson solved in 4 iterations with error of 0.000000 in 0.058057 seconds\n"
     ]
    },
    {
     "name": "stdout",
     "output_type": "stream",
     "text": [
      "284110.83953599265\n",
      "[3, 23, 18, 87, 81, 96]\n"
     ]
    },
    {
     "name": "stderr",
     "output_type": "stream",
     "text": [
      "INFO:pypsa.pf:Performing non-linear load-flow on AC sub-network SubNetwork 0 for snapshots Index(['now'], dtype='object')\n",
      "INFO:pypsa.pf:Newton-Raphson solved in 4 iterations with error of 0.000000 in 0.050001 seconds\n"
     ]
    },
    {
     "name": "stdout",
     "output_type": "stream",
     "text": [
      "0.5427601295012741\n",
      "[44, 11, 72, 111, 41, 111]\n"
     ]
    },
    {
     "name": "stderr",
     "output_type": "stream",
     "text": [
      "INFO:pypsa.pf:Performing non-linear load-flow on AC sub-network SubNetwork 0 for snapshots Index(['now'], dtype='object')\n",
      "INFO:pypsa.pf:Newton-Raphson solved in 3 iterations with error of 0.000000 in 0.038064 seconds\n"
     ]
    },
    {
     "name": "stdout",
     "output_type": "stream",
     "text": [
      "82432.57452437883\n",
      "[44, 11, 72, 111, 41, 111]\n"
     ]
    },
    {
     "name": "stderr",
     "output_type": "stream",
     "text": [
      "INFO:pypsa.pf:Performing non-linear load-flow on AC sub-network SubNetwork 0 for snapshots Index(['now'], dtype='object')\n",
      "INFO:pypsa.pf:Newton-Raphson solved in 3 iterations with error of 0.000000 in 0.040002 seconds\n"
     ]
    },
    {
     "name": "stdout",
     "output_type": "stream",
     "text": [
      "0.38751551470628254\n",
      "[97, 80, 15, 115, 74, 1]\n"
     ]
    },
    {
     "name": "stderr",
     "output_type": "stream",
     "text": [
      "INFO:pypsa.pf:Performing non-linear load-flow on AC sub-network SubNetwork 0 for snapshots Index(['now'], dtype='object')\n",
      "INFO:pypsa.pf:Newton-Raphson solved in 3 iterations with error of 0.000000 in 0.043409 seconds\n"
     ]
    },
    {
     "name": "stdout",
     "output_type": "stream",
     "text": [
      "34139.20224297471\n",
      "[97, 80, 15, 115, 74, 1]\n"
     ]
    },
    {
     "name": "stderr",
     "output_type": "stream",
     "text": [
      "INFO:pypsa.pf:Performing non-linear load-flow on AC sub-network SubNetwork 0 for snapshots Index(['now'], dtype='object')\n",
      "INFO:pypsa.pf:Newton-Raphson solved in 3 iterations with error of 0.000000 in 0.040000 seconds\n"
     ]
    },
    {
     "name": "stdout",
     "output_type": "stream",
     "text": [
      "0.24487544553050133\n",
      "[36, 27, 109, 25, 86, 93]\n"
     ]
    },
    {
     "name": "stderr",
     "output_type": "stream",
     "text": [
      "INFO:pypsa.pf:Performing non-linear load-flow on AC sub-network SubNetwork 0 for snapshots Index(['now'], dtype='object')\n",
      "INFO:pypsa.pf:Newton-Raphson solved in 4 iterations with error of 0.000000 in 0.048108 seconds\n"
     ]
    },
    {
     "name": "stdout",
     "output_type": "stream",
     "text": [
      "[43, 100, 100, 62, 2, 57]\n"
     ]
    },
    {
     "name": "stderr",
     "output_type": "stream",
     "text": [
      "INFO:pypsa.pf:Performing non-linear load-flow on AC sub-network SubNetwork 0 for snapshots Index(['now'], dtype='object')\n",
      "INFO:pypsa.pf:Newton-Raphson solved in 4 iterations with error of 0.000000 in 0.060007 seconds\n"
     ]
    },
    {
     "name": "stdout",
     "output_type": "stream",
     "text": [
      "[3, 23, 18, 87, 81, 96]\n"
     ]
    },
    {
     "name": "stderr",
     "output_type": "stream",
     "text": [
      "INFO:pypsa.pf:Performing non-linear load-flow on AC sub-network SubNetwork 0 for snapshots Index(['now'], dtype='object')\n",
      "INFO:pypsa.pf:Newton-Raphson solved in 4 iterations with error of 0.000000 in 0.048103 seconds\n"
     ]
    },
    {
     "name": "stdout",
     "output_type": "stream",
     "text": [
      "[44, 11, 72, 111, 41, 111]\n"
     ]
    },
    {
     "name": "stderr",
     "output_type": "stream",
     "text": [
      "INFO:pypsa.pf:Performing non-linear load-flow on AC sub-network SubNetwork 0 for snapshots Index(['now'], dtype='object')\n",
      "INFO:pypsa.pf:Newton-Raphson solved in 4 iterations with error of 0.000000 in 0.048123 seconds\n"
     ]
    },
    {
     "name": "stdout",
     "output_type": "stream",
     "text": [
      "[97, 80, 15, 115, 74, 1]\n"
     ]
    },
    {
     "name": "stderr",
     "output_type": "stream",
     "text": [
      "INFO:pypsa.pf:Performing non-linear load-flow on AC sub-network SubNetwork 0 for snapshots Index(['now'], dtype='object')\n",
      "INFO:pypsa.pf:Newton-Raphson solved in 4 iterations with error of 0.000000 in 0.051599 seconds\n"
     ]
    },
    {
     "name": "stdout",
     "output_type": "stream",
     "text": [
      "\u001b[1m\u001b[31mGeneration = \u001b[0m 1\n",
      "[37, 27, 51, 92, 68, 52]\n"
     ]
    },
    {
     "name": "stderr",
     "output_type": "stream",
     "text": [
      "INFO:pypsa.pf:Performing non-linear load-flow on AC sub-network SubNetwork 0 for snapshots Index(['now'], dtype='object')\n",
      "INFO:pypsa.pf:Newton-Raphson solved in 4 iterations with error of 0.000000 in 0.058124 seconds\n"
     ]
    },
    {
     "name": "stdout",
     "output_type": "stream",
     "text": [
      "383042.3789634284\n",
      "[37, 27, 51, 92, 68, 52]\n"
     ]
    },
    {
     "name": "stderr",
     "output_type": "stream",
     "text": [
      "INFO:pypsa.pf:Performing non-linear load-flow on AC sub-network SubNetwork 0 for snapshots Index(['now'], dtype='object')\n",
      "INFO:pypsa.pf:Newton-Raphson solved in 4 iterations with error of 0.000000 in 0.050003 seconds\n"
     ]
    },
    {
     "name": "stdout",
     "output_type": "stream",
     "text": [
      "2.0172391460428596\n",
      "[34, 76, 71, 46, 26, 82]\n"
     ]
    },
    {
     "name": "stderr",
     "output_type": "stream",
     "text": [
      "INFO:pypsa.pf:Performing non-linear load-flow on AC sub-network SubNetwork 0 for snapshots Index(['now'], dtype='object')\n",
      "INFO:pypsa.pf:Newton-Raphson solved in 4 iterations with error of 0.000000 in 0.049966 seconds\n"
     ]
    },
    {
     "name": "stdout",
     "output_type": "stream",
     "text": [
      "263695.2735656127\n",
      "[34, 76, 71, 46, 26, 82]\n"
     ]
    },
    {
     "name": "stderr",
     "output_type": "stream",
     "text": [
      "INFO:pypsa.pf:Performing non-linear load-flow on AC sub-network SubNetwork 0 for snapshots Index(['now'], dtype='object')\n",
      "INFO:pypsa.pf:Newton-Raphson solved in 4 iterations with error of 0.000000 in 0.048017 seconds\n"
     ]
    },
    {
     "name": "stdout",
     "output_type": "stream",
     "text": [
      "0.11465026594300598\n",
      "[85, 19, 29, 27, 70, 39]\n"
     ]
    },
    {
     "name": "stderr",
     "output_type": "stream",
     "text": [
      "INFO:pypsa.pf:Performing non-linear load-flow on AC sub-network SubNetwork 0 for snapshots Index(['now'], dtype='object')\n",
      "INFO:pypsa.pf:Newton-Raphson solved in 4 iterations with error of 0.000000 in 0.052126 seconds\n"
     ]
    },
    {
     "name": "stdout",
     "output_type": "stream",
     "text": [
      "210599.88889918357\n",
      "[85, 19, 29, 27, 70, 39]\n"
     ]
    },
    {
     "name": "stderr",
     "output_type": "stream",
     "text": [
      "INFO:pypsa.pf:Performing non-linear load-flow on AC sub-network SubNetwork 0 for snapshots Index(['now'], dtype='object')\n",
      "INFO:pypsa.pf:Newton-Raphson solved in 4 iterations with error of 0.000000 in 0.050002 seconds\n"
     ]
    },
    {
     "name": "stdout",
     "output_type": "stream",
     "text": [
      "0.27961786952707124\n",
      "[29, 27, 94, 2, 116, 25]\n"
     ]
    },
    {
     "name": "stderr",
     "output_type": "stream",
     "text": [
      "INFO:pypsa.pf:Performing non-linear load-flow on AC sub-network SubNetwork 0 for snapshots Index(['now'], dtype='object')\n",
      "INFO:pypsa.pf:Newton-Raphson solved in 3 iterations with error of 0.000000 in 0.040034 seconds\n"
     ]
    },
    {
     "name": "stdout",
     "output_type": "stream",
     "text": [
      "80308.54333038011\n",
      "[29, 27, 94, 2, 116, 25]\n"
     ]
    },
    {
     "name": "stderr",
     "output_type": "stream",
     "text": [
      "INFO:pypsa.pf:Performing non-linear load-flow on AC sub-network SubNetwork 0 for snapshots Index(['now'], dtype='object')\n",
      "INFO:pypsa.pf:Newton-Raphson solved in 3 iterations with error of 0.000000 in 0.040006 seconds\n"
     ]
    },
    {
     "name": "stdout",
     "output_type": "stream",
     "text": [
      "1.0953090806909982\n",
      "[1, 93, 29, 7, 80, 23]\n"
     ]
    },
    {
     "name": "stderr",
     "output_type": "stream",
     "text": [
      "INFO:pypsa.pf:Performing non-linear load-flow on AC sub-network SubNetwork 0 for snapshots Index(['now'], dtype='object')\n",
      "INFO:pypsa.pf:Newton-Raphson solved in 3 iterations with error of 0.000000 in 0.040004 seconds\n"
     ]
    },
    {
     "name": "stdout",
     "output_type": "stream",
     "text": [
      "34151.035242772545\n",
      "[1, 93, 29, 7, 80, 23]\n"
     ]
    },
    {
     "name": "stderr",
     "output_type": "stream",
     "text": [
      "INFO:pypsa.pf:Performing non-linear load-flow on AC sub-network SubNetwork 0 for snapshots Index(['now'], dtype='object')\n",
      "INFO:pypsa.pf:Newton-Raphson solved in 3 iterations with error of 0.000000 in 0.039966 seconds\n"
     ]
    },
    {
     "name": "stdout",
     "output_type": "stream",
     "text": [
      "0.24487937646546776\n",
      "[37, 27, 51, 92, 68, 52]\n"
     ]
    },
    {
     "name": "stderr",
     "output_type": "stream",
     "text": [
      "INFO:pypsa.pf:Performing non-linear load-flow on AC sub-network SubNetwork 0 for snapshots Index(['now'], dtype='object')\n",
      "INFO:pypsa.pf:Newton-Raphson solved in 4 iterations with error of 0.000000 in 0.050003 seconds\n"
     ]
    },
    {
     "name": "stdout",
     "output_type": "stream",
     "text": [
      "[34, 76, 71, 46, 26, 82]\n"
     ]
    },
    {
     "name": "stderr",
     "output_type": "stream",
     "text": [
      "INFO:pypsa.pf:Performing non-linear load-flow on AC sub-network SubNetwork 0 for snapshots Index(['now'], dtype='object')\n",
      "INFO:pypsa.pf:Newton-Raphson solved in 4 iterations with error of 0.000000 in 0.050002 seconds\n"
     ]
    },
    {
     "name": "stdout",
     "output_type": "stream",
     "text": [
      "[85, 19, 29, 27, 70, 39]\n"
     ]
    },
    {
     "name": "stderr",
     "output_type": "stream",
     "text": [
      "INFO:pypsa.pf:Performing non-linear load-flow on AC sub-network SubNetwork 0 for snapshots Index(['now'], dtype='object')\n",
      "INFO:pypsa.pf:Newton-Raphson solved in 4 iterations with error of 0.000000 in 0.048069 seconds\n"
     ]
    },
    {
     "name": "stdout",
     "output_type": "stream",
     "text": [
      "[29, 27, 94, 2, 116, 25]\n"
     ]
    },
    {
     "name": "stderr",
     "output_type": "stream",
     "text": [
      "INFO:pypsa.pf:Performing non-linear load-flow on AC sub-network SubNetwork 0 for snapshots Index(['now'], dtype='object')\n",
      "INFO:pypsa.pf:Newton-Raphson solved in 4 iterations with error of 0.000000 in 0.049962 seconds\n"
     ]
    },
    {
     "name": "stdout",
     "output_type": "stream",
     "text": [
      "[0, 93, 29, 7, 80, 23]\n"
     ]
    },
    {
     "name": "stderr",
     "output_type": "stream",
     "text": [
      "INFO:pypsa.pf:Performing non-linear load-flow on AC sub-network SubNetwork 0 for snapshots Index(['now'], dtype='object')\n",
      "INFO:pypsa.pf:Newton-Raphson solved in 4 iterations with error of 0.000000 in 0.070000 seconds\n"
     ]
    },
    {
     "name": "stdout",
     "output_type": "stream",
     "text": [
      "\u001b[1m\u001b[31mGeneration = \u001b[0m 2\n",
      "[54, 89, 57, 44, 22, 58]\n"
     ]
    },
    {
     "name": "stderr",
     "output_type": "stream",
     "text": [
      "INFO:pypsa.pf:Performing non-linear load-flow on AC sub-network SubNetwork 0 for snapshots Index(['now'], dtype='object')\n",
      "INFO:pypsa.pf:Newton-Raphson solved in 4 iterations with error of 0.000000 in 0.049998 seconds\n"
     ]
    },
    {
     "name": "stdout",
     "output_type": "stream",
     "text": [
      "359150.4434527556\n",
      "[54, 89, 57, 44, 22, 58]\n"
     ]
    },
    {
     "name": "stderr",
     "output_type": "stream",
     "text": [
      "INFO:pypsa.pf:Performing non-linear load-flow on AC sub-network SubNetwork 0 for snapshots Index(['now'], dtype='object')\n",
      "INFO:pypsa.pf:Newton-Raphson solved in 4 iterations with error of 0.000000 in 0.050002 seconds\n"
     ]
    },
    {
     "name": "stdout",
     "output_type": "stream",
     "text": [
      "2.574164254942779\n",
      "[53, 69, 43, 70, 40, 46]\n"
     ]
    },
    {
     "name": "stderr",
     "output_type": "stream",
     "text": [
      "INFO:pypsa.pf:Performing non-linear load-flow on AC sub-network SubNetwork 0 for snapshots Index(['now'], dtype='object')\n",
      "INFO:pypsa.pf:Newton-Raphson solved in 4 iterations with error of 0.000000 in 0.050001 seconds\n"
     ]
    },
    {
     "name": "stdout",
     "output_type": "stream",
     "text": [
      "336594.48493642185\n",
      "[53, 69, 43, 70, 40, 46]\n"
     ]
    },
    {
     "name": "stderr",
     "output_type": "stream",
     "text": [
      "INFO:pypsa.pf:Performing non-linear load-flow on AC sub-network SubNetwork 0 for snapshots Index(['now'], dtype='object')\n",
      "INFO:pypsa.pf:Newton-Raphson solved in 4 iterations with error of 0.000000 in 0.050006 seconds\n"
     ]
    },
    {
     "name": "stdout",
     "output_type": "stream",
     "text": [
      "0.12628638054569263\n",
      "[24, 98, 61, 75, 22, 69]\n"
     ]
    },
    {
     "name": "stderr",
     "output_type": "stream",
     "text": [
      "INFO:pypsa.pf:Performing non-linear load-flow on AC sub-network SubNetwork 0 for snapshots Index(['now'], dtype='object')\n",
      "INFO:pypsa.pf:Newton-Raphson solved in 4 iterations with error of 0.000000 in 0.049959 seconds\n"
     ]
    },
    {
     "name": "stdout",
     "output_type": "stream",
     "text": [
      "359121.3705111764\n",
      "[24, 98, 61, 75, 22, 69]\n"
     ]
    },
    {
     "name": "stderr",
     "output_type": "stream",
     "text": [
      "INFO:pypsa.pf:Performing non-linear load-flow on AC sub-network SubNetwork 0 for snapshots Index(['now'], dtype='object')\n",
      "INFO:pypsa.pf:Newton-Raphson solved in 4 iterations with error of 0.000000 in 0.049962 seconds\n"
     ]
    },
    {
     "name": "stdout",
     "output_type": "stream",
     "text": [
      "2.5741726562439116\n",
      "[57, 97, 35, 88, 116, 74]\n"
     ]
    },
    {
     "name": "stderr",
     "output_type": "stream",
     "text": [
      "INFO:pypsa.pf:Performing non-linear load-flow on AC sub-network SubNetwork 0 for snapshots Index(['now'], dtype='object')\n",
      "INFO:pypsa.pf:Newton-Raphson solved in 4 iterations with error of 0.000000 in 0.050006 seconds\n"
     ]
    },
    {
     "name": "stdout",
     "output_type": "stream",
     "text": [
      "281476.9297202326\n",
      "[57, 97, 35, 88, 116, 74]\n"
     ]
    },
    {
     "name": "stderr",
     "output_type": "stream",
     "text": [
      "INFO:pypsa.pf:Performing non-linear load-flow on AC sub-network SubNetwork 0 for snapshots Index(['now'], dtype='object')\n",
      "INFO:pypsa.pf:Newton-Raphson solved in 4 iterations with error of 0.000000 in 0.050003 seconds\n"
     ]
    },
    {
     "name": "stdout",
     "output_type": "stream",
     "text": [
      "0.17072107267190884\n",
      "[60, 62, 62, 81, 16, 67]\n"
     ]
    },
    {
     "name": "stderr",
     "output_type": "stream",
     "text": [
      "INFO:pypsa.pf:Performing non-linear load-flow on AC sub-network SubNetwork 0 for snapshots Index(['now'], dtype='object')\n",
      "INFO:pypsa.pf:Newton-Raphson solved in 4 iterations with error of 0.000000 in 0.050006 seconds\n"
     ]
    },
    {
     "name": "stdout",
     "output_type": "stream",
     "text": [
      "106069.86527291113\n",
      "[60, 62, 62, 81, 16, 67]\n"
     ]
    },
    {
     "name": "stderr",
     "output_type": "stream",
     "text": [
      "INFO:pypsa.pf:Performing non-linear load-flow on AC sub-network SubNetwork 0 for snapshots Index(['now'], dtype='object')\n",
      "INFO:pypsa.pf:Newton-Raphson solved in 4 iterations with error of 0.000000 in 0.040039 seconds\n"
     ]
    },
    {
     "name": "stdout",
     "output_type": "stream",
     "text": [
      "1.454363753411947\n",
      "[54, 89, 57, 44, 22, 58]\n"
     ]
    },
    {
     "name": "stderr",
     "output_type": "stream",
     "text": [
      "INFO:pypsa.pf:Performing non-linear load-flow on AC sub-network SubNetwork 0 for snapshots Index(['now'], dtype='object')\n",
      "INFO:pypsa.pf:Newton-Raphson solved in 4 iterations with error of 0.000000 in 0.044627 seconds\n"
     ]
    },
    {
     "name": "stdout",
     "output_type": "stream",
     "text": [
      "[53, 69, 43, 70, 40, 46]\n"
     ]
    },
    {
     "name": "stderr",
     "output_type": "stream",
     "text": [
      "INFO:pypsa.pf:Performing non-linear load-flow on AC sub-network SubNetwork 0 for snapshots Index(['now'], dtype='object')\n",
      "INFO:pypsa.pf:Newton-Raphson solved in 4 iterations with error of 0.000000 in 0.050041 seconds\n"
     ]
    },
    {
     "name": "stdout",
     "output_type": "stream",
     "text": [
      "[24, 98, 61, 75, 22, 69]\n"
     ]
    },
    {
     "name": "stderr",
     "output_type": "stream",
     "text": [
      "INFO:pypsa.pf:Performing non-linear load-flow on AC sub-network SubNetwork 0 for snapshots Index(['now'], dtype='object')\n",
      "INFO:pypsa.pf:Newton-Raphson solved in 4 iterations with error of 0.000000 in 0.060003 seconds\n"
     ]
    },
    {
     "name": "stdout",
     "output_type": "stream",
     "text": [
      "[57, 97, 35, 88, 116, 74]\n"
     ]
    },
    {
     "name": "stderr",
     "output_type": "stream",
     "text": [
      "INFO:pypsa.pf:Performing non-linear load-flow on AC sub-network SubNetwork 0 for snapshots Index(['now'], dtype='object')\n",
      "INFO:pypsa.pf:Newton-Raphson solved in 4 iterations with error of 0.000000 in 0.059964 seconds\n"
     ]
    },
    {
     "name": "stdout",
     "output_type": "stream",
     "text": [
      "[60, 62, 62, 81, 16, 67]\n"
     ]
    },
    {
     "name": "stderr",
     "output_type": "stream",
     "text": [
      "INFO:pypsa.pf:Performing non-linear load-flow on AC sub-network SubNetwork 0 for snapshots Index(['now'], dtype='object')\n",
      "INFO:pypsa.pf:Newton-Raphson solved in 4 iterations with error of 0.000000 in 0.071970 seconds\n"
     ]
    },
    {
     "name": "stdout",
     "output_type": "stream",
     "text": [
      "\u001b[1m\u001b[31mGeneration = \u001b[0m 3\n",
      "[75, 115, 38, 58, 18, 44]\n"
     ]
    },
    {
     "name": "stderr",
     "output_type": "stream",
     "text": [
      "INFO:pypsa.pf:Performing non-linear load-flow on AC sub-network SubNetwork 0 for snapshots Index(['now'], dtype='object')\n",
      "INFO:pypsa.pf:Newton-Raphson solved in 4 iterations with error of 0.000000 in 0.048917 seconds\n"
     ]
    },
    {
     "name": "stdout",
     "output_type": "stream",
     "text": [
      "222766.7217188713\n",
      "[75, 115, 38, 58, 18, 44]\n"
     ]
    },
    {
     "name": "stderr",
     "output_type": "stream",
     "text": [
      "INFO:pypsa.pf:Performing non-linear load-flow on AC sub-network SubNetwork 0 for snapshots Index(['now'], dtype='object')\n",
      "INFO:pypsa.pf:Newton-Raphson solved in 4 iterations with error of 0.000000 in 0.049715 seconds\n"
     ]
    },
    {
     "name": "stdout",
     "output_type": "stream",
     "text": [
      "0.1894672418977783\n",
      "[75, 67, 25, 85, 64, 30]\n"
     ]
    },
    {
     "name": "stderr",
     "output_type": "stream",
     "text": [
      "INFO:pypsa.pf:Performing non-linear load-flow on AC sub-network SubNetwork 0 for snapshots Index(['now'], dtype='object')\n",
      "INFO:pypsa.pf:Newton-Raphson solved in 4 iterations with error of 0.000000 in 0.050036 seconds\n"
     ]
    },
    {
     "name": "stdout",
     "output_type": "stream",
     "text": [
      "294505.5161367213\n",
      "[75, 67, 25, 85, 64, 30]\n"
     ]
    },
    {
     "name": "stderr",
     "output_type": "stream",
     "text": [
      "INFO:pypsa.pf:Performing non-linear load-flow on AC sub-network SubNetwork 0 for snapshots Index(['now'], dtype='object')\n",
      "INFO:pypsa.pf:Newton-Raphson solved in 4 iterations with error of 0.000000 in 0.048285 seconds\n"
     ]
    },
    {
     "name": "stdout",
     "output_type": "stream",
     "text": [
      "0.1295109299995545\n",
      "[46, 5, 70, 92, 18, 54]\n"
     ]
    },
    {
     "name": "stderr",
     "output_type": "stream",
     "text": [
      "INFO:pypsa.pf:Performing non-linear load-flow on AC sub-network SubNetwork 0 for snapshots Index(['now'], dtype='object')\n",
      "INFO:pypsa.pf:Newton-Raphson solved in 3 iterations with error of 0.000000 in 0.039999 seconds\n"
     ]
    },
    {
     "name": "stdout",
     "output_type": "stream",
     "text": [
      "91748.04797258766\n",
      "[46, 5, 70, 92, 18, 54]\n"
     ]
    },
    {
     "name": "stderr",
     "output_type": "stream",
     "text": [
      "INFO:pypsa.pf:Performing non-linear load-flow on AC sub-network SubNetwork 0 for snapshots Index(['now'], dtype='object')\n",
      "INFO:pypsa.pf:Newton-Raphson solved in 3 iterations with error of 0.000000 in 0.039961 seconds\n"
     ]
    },
    {
     "name": "stdout",
     "output_type": "stream",
     "text": [
      "0.41130288093385037\n",
      "[79, 2, 15, 106, 45, 61]\n"
     ]
    },
    {
     "name": "stderr",
     "output_type": "stream",
     "text": [
      "INFO:pypsa.pf:Performing non-linear load-flow on AC sub-network SubNetwork 0 for snapshots Index(['now'], dtype='object')\n",
      "INFO:pypsa.pf:Newton-Raphson solved in 3 iterations with error of 0.000000 in 0.042429 seconds\n"
     ]
    },
    {
     "name": "stdout",
     "output_type": "stream",
     "text": [
      "80330.67096834983\n",
      "[79, 2, 15, 106, 45, 61]\n"
     ]
    },
    {
     "name": "stderr",
     "output_type": "stream",
     "text": [
      "INFO:pypsa.pf:Performing non-linear load-flow on AC sub-network SubNetwork 0 for snapshots Index(['now'], dtype='object')\n",
      "INFO:pypsa.pf:Newton-Raphson solved in 3 iterations with error of 0.000000 in 0.037779 seconds\n"
     ]
    },
    {
     "name": "stdout",
     "output_type": "stream",
     "text": [
      "1.0953092825034427\n",
      "[87, 59, 71, 100, 12, 82]\n"
     ]
    },
    {
     "name": "stderr",
     "output_type": "stream",
     "text": [
      "INFO:pypsa.pf:Performing non-linear load-flow on AC sub-network SubNetwork 0 for snapshots Index(['now'], dtype='object')\n",
      "INFO:pypsa.pf:Newton-Raphson solved in 3 iterations with error of 0.000000 in 0.038235 seconds\n"
     ]
    },
    {
     "name": "stdout",
     "output_type": "stream",
     "text": [
      "72115.13164945222\n",
      "[87, 59, 71, 100, 12, 82]\n"
     ]
    },
    {
     "name": "stderr",
     "output_type": "stream",
     "text": [
      "INFO:pypsa.pf:Performing non-linear load-flow on AC sub-network SubNetwork 0 for snapshots Index(['now'], dtype='object')\n",
      "INFO:pypsa.pf:Newton-Raphson solved in 3 iterations with error of 0.000000 in 0.040005 seconds\n"
     ]
    },
    {
     "name": "stdout",
     "output_type": "stream",
     "text": [
      "0.1768319405516472\n",
      "[75, 115, 38, 58, 18, 44]\n"
     ]
    },
    {
     "name": "stderr",
     "output_type": "stream",
     "text": [
      "INFO:pypsa.pf:Performing non-linear load-flow on AC sub-network SubNetwork 0 for snapshots Index(['now'], dtype='object')\n",
      "INFO:pypsa.pf:Newton-Raphson solved in 4 iterations with error of 0.000000 in 0.054044 seconds\n"
     ]
    },
    {
     "name": "stdout",
     "output_type": "stream",
     "text": [
      "[75, 67, 25, 85, 64, 30]\n"
     ]
    },
    {
     "name": "stderr",
     "output_type": "stream",
     "text": [
      "INFO:pypsa.pf:Performing non-linear load-flow on AC sub-network SubNetwork 0 for snapshots Index(['now'], dtype='object')\n",
      "INFO:pypsa.pf:Newton-Raphson solved in 4 iterations with error of 0.000000 in 0.050003 seconds\n"
     ]
    },
    {
     "name": "stdout",
     "output_type": "stream",
     "text": [
      "[46, 5, 70, 92, 18, 54]\n"
     ]
    },
    {
     "name": "stderr",
     "output_type": "stream",
     "text": [
      "INFO:pypsa.pf:Performing non-linear load-flow on AC sub-network SubNetwork 0 for snapshots Index(['now'], dtype='object')\n",
      "INFO:pypsa.pf:Newton-Raphson solved in 4 iterations with error of 0.000000 in 0.050002 seconds\n"
     ]
    },
    {
     "name": "stdout",
     "output_type": "stream",
     "text": [
      "[79, 2, 15, 106, 45, 61]\n"
     ]
    },
    {
     "name": "stderr",
     "output_type": "stream",
     "text": [
      "INFO:pypsa.pf:Performing non-linear load-flow on AC sub-network SubNetwork 0 for snapshots Index(['now'], dtype='object')\n",
      "INFO:pypsa.pf:Newton-Raphson solved in 4 iterations with error of 0.000000 in 0.061079 seconds\n"
     ]
    },
    {
     "name": "stdout",
     "output_type": "stream",
     "text": [
      "[87, 59, 71, 100, 12, 82]\n"
     ]
    },
    {
     "name": "stderr",
     "output_type": "stream",
     "text": [
      "INFO:pypsa.pf:Performing non-linear load-flow on AC sub-network SubNetwork 0 for snapshots Index(['now'], dtype='object')\n",
      "INFO:pypsa.pf:Newton-Raphson solved in 4 iterations with error of 0.000000 in 0.081208 seconds\n"
     ]
    }
   ],
   "source": [
    "import matplotlib.pyplot as plt\n",
    "import math\n",
    "\n",
    "def f1(x,zdata,xylis,df3):\n",
    "    r=1\n",
    "    df1=df3.buses_t.v_mag_pu\n",
    "    mini=100000000000\n",
    "    for i in range(118):\n",
    "        if(df1.iloc[0][i]<mini):\n",
    "            mini=df1.iloc[0][i]\n",
    "    vdev=(1-mini)\n",
    "    \n",
    "    return vdev*100\n",
    "\n",
    "def f2(x,zdata,xylis,df3):\n",
    "    df5 = df3.lines_t\n",
    "    nploss=0\n",
    "    for i in range(186):\n",
    "        nploss+=(df5.p0.iloc[0][i]+df5.p1.iloc[0][i])\n",
    "        \n",
    "    for i in range(1,7):\n",
    "        network.remove(\"Load\",\"Load No {}\".format(i)) \n",
    "    return abs(nploss*250.57)\n",
    "\n",
    "size = 5\n",
    "m_r  = 0.15\n",
    "minv = [1,1,1,1,1,1]\n",
    "maxv = [118,118,118,118,118,118]\n",
    "lof  = [f1,f2]\n",
    "gen  = 3\n",
    "mu   = 2\n",
    "eta  = 3\n",
    "\n",
    "\n",
    "# Calling OMOPSO Function\n",
    "omopso_kursawe = optimized_multiobjective_particle_swarm_optimization(swarm_size = size, min_values = minv, max_values = maxv, iterations = gen, list_of_functions = lof, mutation_rate = m_r, eta = eta)"
   ]
  },
  {
   "cell_type": "code",
   "execution_count": 41,
   "metadata": {},
   "outputs": [
    {
     "data": {
      "image/png": "[encoded data removed]",
      "text/plain": [
       "<Figure size 720x360 with 1 Axes>"
      ]
     },
     "metadata": {
      "needs_background": "light"
     },
     "output_type": "display_data"
    },
    {
     "ename": "NameError",
     "evalue": "name 'paes_kursawe1' is not defined",
     "output_type": "error",
     "traceback": [
      "\u001b[1;31m---------------------------------------------------------------------------\u001b[0m",
      "\u001b[1;31mNameError\u001b[0m                                 Traceback (most recent call last)",
      "\u001b[1;32m<ipython-input-41-a76babda42cb>\u001b[0m in \u001b[0;36m<module>\u001b[1;34m\u001b[0m\n\u001b[0;32m     10\u001b[0m \u001b[1;33m\u001b[0m\u001b[0m\n\u001b[0;32m     11\u001b[0m \u001b[0mfunc\u001b[0m\u001b[1;33m=\u001b[0m\u001b[1;33m[\u001b[0m\u001b[1;33m]\u001b[0m\u001b[1;33m\u001b[0m\u001b[1;33m\u001b[0m\u001b[0m\n\u001b[1;32m---> 12\u001b[1;33m \u001b[0mfunc1\u001b[0m\u001b[1;33m=\u001b[0m\u001b[0mpaes_kursawe1\u001b[0m\u001b[1;33m[\u001b[0m\u001b[1;33m:\u001b[0m\u001b[1;33m,\u001b[0m\u001b[1;33m-\u001b[0m\u001b[1;36m3\u001b[0m\u001b[1;33m]\u001b[0m\u001b[1;33m\u001b[0m\u001b[1;33m\u001b[0m\u001b[0m\n\u001b[0m\u001b[0;32m     13\u001b[0m \u001b[0mfunc2\u001b[0m\u001b[1;33m=\u001b[0m\u001b[0mpaes_kursawe1\u001b[0m\u001b[1;33m[\u001b[0m\u001b[1;33m:\u001b[0m\u001b[1;33m,\u001b[0m\u001b[1;33m-\u001b[0m\u001b[1;36m2\u001b[0m\u001b[1;33m]\u001b[0m\u001b[1;33m\u001b[0m\u001b[1;33m\u001b[0m\u001b[0m\n\u001b[0;32m     14\u001b[0m \u001b[0mfunc3\u001b[0m\u001b[1;33m=\u001b[0m\u001b[0mpaes_kursawe1\u001b[0m\u001b[1;33m[\u001b[0m\u001b[1;33m:\u001b[0m\u001b[1;33m,\u001b[0m\u001b[1;33m-\u001b[0m\u001b[1;36m1\u001b[0m\u001b[1;33m]\u001b[0m\u001b[1;33m\u001b[0m\u001b[1;33m\u001b[0m\u001b[0m\n",
      "\u001b[1;31mNameError\u001b[0m: name 'paes_kursawe1' is not defined"
     ]
    }
   ],
   "source": [
    "plt.style.use('bmh')\n",
    "plt.figure(figsize = (10, 5))\n",
    "plt.xlabel('Function 1', fontsize = 12)\n",
    "plt.ylabel('Function 2', fontsize = 12)\n",
    "plt.scatter(omopso_kursawe[:,-2], omopso_kursawe[:,-1], c = 'r', s = 45, marker = 'o', label = 'OMOPSO')\n",
    "##plt.scatter(kursawe_1,          kursawe_2,             c = 'k', s = 2,  marker = '.', label = 'Solutions')\n",
    "plt.legend(loc = 'upper right')\n",
    "plt.show()\n",
    "\n",
    "\n",
    "func=[]\n",
    "func1=omopso_kursawe[:,-2]\n",
    "func2=omopso_kursawe[:,-1]\n",
    "for i in range(len(func1)):\n",
    "    func.append([func1[i],func2[i]])\n",
    "    \n",
    "#print(func)\n",
    "\n",
    "\n",
    "treeDepth = math.floor(math.log(len(func), 2))\n",
    " \n",
    "print(\"The optimal value is : \", end = \"\")\n",
    "minimaxval=minimax(0, 0, True, func, treeDepth)\n",
    "print(minimaxval)\n",
    "\n",
    "for i in omopso_kursawe:\n",
    "    if(minimaxval[0] in i):\n",
    "        xlist=i\n",
    "        \n",
    "xlist=[int(i) for i in xlist]\n",
    "print(xlist[:6])"
   ]
  },
  {
   "cell_type": "code",
   "execution_count": 40,
   "metadata": {},
   "outputs": [
    {
     "ename": "NameError",
     "evalue": "name 'final_placement' is not defined",
     "output_type": "error",
     "traceback": [
      "\u001b[1;31m---------------------------------------------------------------------------\u001b[0m",
      "\u001b[1;31mNameError\u001b[0m                                 Traceback (most recent call last)",
      "\u001b[1;32m<ipython-input-40-e79111575d7d>\u001b[0m in \u001b[0;36m<module>\u001b[1;34m\u001b[0m\n\u001b[0;32m     43\u001b[0m \u001b[1;33m\u001b[0m\u001b[0m\n\u001b[0;32m     44\u001b[0m \u001b[1;33m\u001b[0m\u001b[0m\n\u001b[1;32m---> 45\u001b[1;33m \u001b[0mmvd\u001b[0m\u001b[1;33m=\u001b[0m\u001b[0mf2\u001b[0m\u001b[1;33m(\u001b[0m\u001b[0mfinal_placement\u001b[0m\u001b[1;33m)\u001b[0m\u001b[1;33m\u001b[0m\u001b[1;33m\u001b[0m\u001b[0m\n\u001b[0m\u001b[0;32m     46\u001b[0m \u001b[0mprint\u001b[0m\u001b[1;33m(\u001b[0m\u001b[0mmvd\u001b[0m\u001b[1;33m,\u001b[0m\u001b[0mminimaxval\u001b[0m\u001b[1;33m)\u001b[0m\u001b[1;33m\u001b[0m\u001b[1;33m\u001b[0m\u001b[0m\n",
      "\u001b[1;31mNameError\u001b[0m: name 'final_placement' is not defined"
     ]
    }
   ],
   "source": [
    "def f2(x):\n",
    "    xylis=[]\n",
    "    print(x)\n",
    "    for busno in x:\n",
    "        xbus=busxy['x'][busno-1]\n",
    "        ybus=busxy['y'][busno-1]\n",
    "        xylis.append([xbus,ybus])\n",
    "    print(xylis)\n",
    "    zdata=pd.read_excel(\"xy.xlsx\",sheet_name=\"Sheet3\")\n",
    "    for j in range(1,181):\n",
    "\n",
    "        dist=100000000\n",
    "        h=0\n",
    "        \n",
    "        for i in xylis:\n",
    "            x1=zonexy['x'][j-1]\n",
    "            x2=i[0]\n",
    "            y1=zonexy['y'][j-1]\n",
    "            y2=i[1]\n",
    "\n",
    "            dist1=np.sqrt((x2-x1)**2 + (y2-y1)**2)\n",
    "            if(dist1<dist):\n",
    "                dist=dist1\n",
    "                h=(xylis.index(i))+1\n",
    "\n",
    "        df2 = {'st': h, 'zone':j}\n",
    "        zdata = zdata.append(df2, ignore_index = True)\n",
    "        k=1\n",
    "       \n",
    "    for i in x:\n",
    "        network.add(\"Load\",\"Load No {}\".format(k),bus = \"Bus No {}\".format(i),p_set=capFCS(k,zdata),q_set=200)\n",
    "        k+=1\n",
    "    network.pf()\n",
    "    df1=network.buses_t.v_mag_pu\n",
    "    mini=100000000000\n",
    "    for i in range(118):\n",
    "        if(df1.iloc[0][i]<mini):\n",
    "            mini=df1.iloc[0][i]\n",
    "    vdev=1-mini\n",
    "    for i in range(1,7):\n",
    "        network.remove(\"Load\",\"Load No {}\".format(i))\n",
    "    return vdev\n",
    "\n",
    "\n",
    "mvd=f2(final_placement)\n",
    "print(mvd,minimaxval)"
   ]
  },
  {
   "cell_type": "code",
   "execution_count": 44,
   "metadata": {},
   "outputs": [],
   "source": [
    "for i in range(1,7):\n",
    "    network.remove(\"Load\",\"Load No {}\".format(i)) "
   ]
  },
  {
   "cell_type": "code",
   "execution_count": 46,
   "metadata": {},
   "outputs": [
    {
     "name": "stdout",
     "output_type": "stream",
     "text": [
      "[74, 34, 6, 105, 98, 64]\n"
     ]
    },
    {
     "name": "stderr",
     "output_type": "stream",
     "text": [
      "INFO:pypsa.pf:Performing non-linear load-flow on AC sub-network SubNetwork 0 for snapshots Index(['now'], dtype='object')\n",
      "INFO:pypsa.pf:Newton-Raphson solved in 4 iterations with error of 0.000000 in 0.050000 seconds\n"
     ]
    },
    {
     "name": "stdout",
     "output_type": "stream",
     "text": [
      "[16, 41, 97, 67, 47, 35]\n"
     ]
    },
    {
     "name": "stderr",
     "output_type": "stream",
     "text": [
      "INFO:pypsa.pf:Performing non-linear load-flow on AC sub-network SubNetwork 0 for snapshots Index(['now'], dtype='object')\n",
      "INFO:pypsa.pf:Newton-Raphson solved in 4 iterations with error of 0.000000 in 0.050005 seconds\n"
     ]
    },
    {
     "name": "stdout",
     "output_type": "stream",
     "text": [
      "[93, 78, 39, 90, 32, 79]\n"
     ]
    },
    {
     "name": "stderr",
     "output_type": "stream",
     "text": [
      "INFO:pypsa.pf:Performing non-linear load-flow on AC sub-network SubNetwork 0 for snapshots Index(['now'], dtype='object')\n",
      "INFO:pypsa.pf:Newton-Raphson solved in 4 iterations with error of 0.000000 in 0.050000 seconds\n"
     ]
    },
    {
     "name": "stdout",
     "output_type": "stream",
     "text": [
      "[64, 40, 47, 13, 27, 63]\n"
     ]
    },
    {
     "name": "stderr",
     "output_type": "stream",
     "text": [
      "INFO:pypsa.pf:Performing non-linear load-flow on AC sub-network SubNetwork 0 for snapshots Index(['now'], dtype='object')\n",
      "INFO:pypsa.pf:Newton-Raphson solved in 4 iterations with error of 0.000000 in 0.056066 seconds\n"
     ]
    },
    {
     "name": "stdout",
     "output_type": "stream",
     "text": [
      "[88, 80, 23, 57, 24, 97]\n"
     ]
    },
    {
     "name": "stderr",
     "output_type": "stream",
     "text": [
      "INFO:pypsa.pf:Performing non-linear load-flow on AC sub-network SubNetwork 0 for snapshots Index(['now'], dtype='object')\n",
      "INFO:pypsa.pf:Newton-Raphson solved in 4 iterations with error of 0.000000 in 0.050008 seconds\n"
     ]
    },
    {
     "name": "stdout",
     "output_type": "stream",
     "text": [
      "\u001b[1m\u001b[31mGeneration = \u001b[0m 0\n",
      "[84, 18, 18, 24, 72, 9]\n"
     ]
    },
    {
     "name": "stderr",
     "output_type": "stream",
     "text": [
      "INFO:pypsa.pf:Performing non-linear load-flow on AC sub-network SubNetwork 0 for snapshots Index(['now'], dtype='object')\n",
      "INFO:pypsa.pf:Newton-Raphson solved in 4 iterations with error of 0.000000 in 0.050006 seconds\n"
     ]
    },
    {
     "name": "stdout",
     "output_type": "stream",
     "text": [
      "222729.30222650047\n",
      "[84, 18, 18, 24, 72, 9]\n"
     ]
    },
    {
     "name": "stderr",
     "output_type": "stream",
     "text": [
      "INFO:pypsa.pf:Performing non-linear load-flow on AC sub-network SubNetwork 0 for snapshots Index(['now'], dtype='object')\n",
      "INFO:pypsa.pf:Newton-Raphson solved in 4 iterations with error of 0.000000 in 0.046070 seconds\n"
     ]
    },
    {
     "name": "stdout",
     "output_type": "stream",
     "text": [
      "0.18947873704020513\n",
      "[31, 64, 13, 31, 10, 94]\n"
     ]
    },
    {
     "name": "stderr",
     "output_type": "stream",
     "text": [
      "INFO:pypsa.pf:Performing non-linear load-flow on AC sub-network SubNetwork 0 for snapshots Index(['now'], dtype='object')\n",
      "INFO:pypsa.pf:Newton-Raphson solved in 4 iterations with error of 0.000000 in 0.050003 seconds\n"
     ]
    },
    {
     "name": "stdout",
     "output_type": "stream",
     "text": [
      "120963.48976496219\n",
      "[31, 64, 13, 31, 10, 94]\n"
     ]
    },
    {
     "name": "stderr",
     "output_type": "stream",
     "text": [
      "INFO:pypsa.pf:Performing non-linear load-flow on AC sub-network SubNetwork 0 for snapshots Index(['now'], dtype='object')\n",
      "INFO:pypsa.pf:Newton-Raphson solved in 4 iterations with error of 0.000000 in 0.050008 seconds\n"
     ]
    },
    {
     "name": "stdout",
     "output_type": "stream",
     "text": [
      "1.8577160296800677\n",
      "[56, 57, 94, 55, 74, 96]\n"
     ]
    },
    {
     "name": "stderr",
     "output_type": "stream",
     "text": [
      "INFO:pypsa.pf:Performing non-linear load-flow on AC sub-network SubNetwork 0 for snapshots Index(['now'], dtype='object')\n",
      "INFO:pypsa.pf:Newton-Raphson solved in 4 iterations with error of 0.000000 in 0.050000 seconds\n"
     ]
    },
    {
     "name": "stdout",
     "output_type": "stream",
     "text": [
      "400143.18870814505\n",
      "[56, 57, 94, 55, 74, 96]\n"
     ]
    },
    {
     "name": "stderr",
     "output_type": "stream",
     "text": [
      "INFO:pypsa.pf:Performing non-linear load-flow on AC sub-network SubNetwork 0 for snapshots Index(['now'], dtype='object')\n",
      "INFO:pypsa.pf:Newton-Raphson solved in 4 iterations with error of 0.000000 in 0.056063 seconds\n"
     ]
    },
    {
     "name": "stdout",
     "output_type": "stream",
     "text": [
      "2.2011951628463033\n",
      "[97, 68, 94, 79, 64, 33]\n"
     ]
    },
    {
     "name": "stderr",
     "output_type": "stream",
     "text": [
      "INFO:pypsa.pf:Performing non-linear load-flow on AC sub-network SubNetwork 0 for snapshots Index(['now'], dtype='object')\n",
      "INFO:pypsa.pf:Newton-Raphson solved in 4 iterations with error of 0.000000 in 0.050001 seconds\n"
     ]
    },
    {
     "name": "stdout",
     "output_type": "stream",
     "text": [
      "306830.32364527613\n",
      "[97, 68, 94, 79, 64, 33]\n"
     ]
    },
    {
     "name": "stderr",
     "output_type": "stream",
     "text": [
      "INFO:pypsa.pf:Performing non-linear load-flow on AC sub-network SubNetwork 0 for snapshots Index(['now'], dtype='object')\n",
      "INFO:pypsa.pf:Newton-Raphson solved in 4 iterations with error of 0.000000 in 0.050000 seconds\n"
     ]
    },
    {
     "name": "stdout",
     "output_type": "stream",
     "text": [
      "2.1536732438515727\n",
      "[48, 6, 86, 104, 66, 92]\n"
     ]
    },
    {
     "name": "stderr",
     "output_type": "stream",
     "text": [
      "INFO:pypsa.pf:Performing non-linear load-flow on AC sub-network SubNetwork 0 for snapshots Index(['now'], dtype='object')\n",
      "INFO:pypsa.pf:Newton-Raphson solved in 3 iterations with error of 0.000000 in 0.038090 seconds\n"
     ]
    },
    {
     "name": "stdout",
     "output_type": "stream",
     "text": [
      "102890.53527610269\n",
      "[48, 6, 86, 104, 66, 92]\n"
     ]
    },
    {
     "name": "stderr",
     "output_type": "stream",
     "text": [
      "INFO:pypsa.pf:Performing non-linear load-flow on AC sub-network SubNetwork 0 for snapshots Index(['now'], dtype='object')\n",
      "INFO:pypsa.pf:Newton-Raphson solved in 3 iterations with error of 0.000000 in 0.034110 seconds\n"
     ]
    },
    {
     "name": "stdout",
     "output_type": "stream",
     "text": [
      "0.27532993655990934\n",
      "[84, 18, 18, 24, 72, 9]\n"
     ]
    },
    {
     "name": "stderr",
     "output_type": "stream",
     "text": [
      "INFO:pypsa.pf:Performing non-linear load-flow on AC sub-network SubNetwork 0 for snapshots Index(['now'], dtype='object')\n",
      "INFO:pypsa.pf:Newton-Raphson solved in 4 iterations with error of 0.000000 in 0.050003 seconds\n"
     ]
    },
    {
     "name": "stdout",
     "output_type": "stream",
     "text": [
      "[31, 64, 13, 31, 10, 94]\n"
     ]
    },
    {
     "name": "stderr",
     "output_type": "stream",
     "text": [
      "INFO:pypsa.pf:Performing non-linear load-flow on AC sub-network SubNetwork 0 for snapshots Index(['now'], dtype='object')\n",
      "INFO:pypsa.pf:Newton-Raphson solved in 4 iterations with error of 0.000000 in 0.048043 seconds\n"
     ]
    },
    {
     "name": "stdout",
     "output_type": "stream",
     "text": [
      "[56, 57, 94, 55, 74, 96]\n"
     ]
    },
    {
     "name": "stderr",
     "output_type": "stream",
     "text": [
      "INFO:pypsa.pf:Performing non-linear load-flow on AC sub-network SubNetwork 0 for snapshots Index(['now'], dtype='object')\n",
      "INFO:pypsa.pf:Newton-Raphson solved in 4 iterations with error of 0.000000 in 0.060037 seconds\n"
     ]
    },
    {
     "name": "stdout",
     "output_type": "stream",
     "text": [
      "[97, 68, 94, 79, 64, 33]\n"
     ]
    },
    {
     "name": "stderr",
     "output_type": "stream",
     "text": [
      "INFO:pypsa.pf:Performing non-linear load-flow on AC sub-network SubNetwork 0 for snapshots Index(['now'], dtype='object')\n",
      "INFO:pypsa.pf:Newton-Raphson solved in 4 iterations with error of 0.000000 in 0.060002 seconds\n"
     ]
    },
    {
     "name": "stdout",
     "output_type": "stream",
     "text": [
      "[48, 6, 86, 104, 66, 92]\n"
     ]
    },
    {
     "name": "stderr",
     "output_type": "stream",
     "text": [
      "INFO:pypsa.pf:Performing non-linear load-flow on AC sub-network SubNetwork 0 for snapshots Index(['now'], dtype='object')\n",
      "INFO:pypsa.pf:Newton-Raphson solved in 3 iterations with error of 0.000001 in 0.040036 seconds\n"
     ]
    },
    {
     "name": "stdout",
     "output_type": "stream",
     "text": [
      "\u001b[1m\u001b[31mGeneration = \u001b[0m 1\n",
      "[50, 64, 42, 88, 16, 41]\n"
     ]
    },
    {
     "name": "stderr",
     "output_type": "stream",
     "text": [
      "INFO:pypsa.pf:Performing non-linear load-flow on AC sub-network SubNetwork 0 for snapshots Index(['now'], dtype='object')\n",
      "INFO:pypsa.pf:Newton-Raphson solved in 4 iterations with error of 0.000000 in 0.050004 seconds\n"
     ]
    },
    {
     "name": "stdout",
     "output_type": "stream",
     "text": [
      "367944.1849283074\n",
      "[50, 64, 42, 88, 16, 41]\n"
     ]
    },
    {
     "name": "stderr",
     "output_type": "stream",
     "text": [
      "INFO:pypsa.pf:Performing non-linear load-flow on AC sub-network SubNetwork 0 for snapshots Index(['now'], dtype='object')\n",
      "INFO:pypsa.pf:Newton-Raphson solved in 4 iterations with error of 0.000000 in 0.050034 seconds\n"
     ]
    },
    {
     "name": "stdout",
     "output_type": "stream",
     "text": [
      "0.9725216740609666\n",
      "[111, 108, 54, 93, 83, 62]\n"
     ]
    },
    {
     "name": "stderr",
     "output_type": "stream",
     "text": [
      "INFO:pypsa.pf:Performing non-linear load-flow on AC sub-network SubNetwork 0 for snapshots Index(['now'], dtype='object')\n",
      "INFO:pypsa.pf:Newton-Raphson solved in 4 iterations with error of 0.000000 in 0.049998 seconds\n"
     ]
    },
    {
     "name": "stdout",
     "output_type": "stream",
     "text": [
      "326320.5400333066\n",
      "[111, 108, 54, 93, 83, 62]\n"
     ]
    },
    {
     "name": "stderr",
     "output_type": "stream",
     "text": [
      "INFO:pypsa.pf:Performing non-linear load-flow on AC sub-network SubNetwork 0 for snapshots Index(['now'], dtype='object')\n",
      "INFO:pypsa.pf:Newton-Raphson solved in 4 iterations with error of 0.000000 in 0.046098 seconds\n"
     ]
    },
    {
     "name": "stdout",
     "output_type": "stream",
     "text": [
      "0.09928850010647583\n",
      "[101, 18, 86, 66, 1, 48]\n"
     ]
    },
    {
     "name": "stderr",
     "output_type": "stream",
     "text": [
      "INFO:pypsa.pf:Performing non-linear load-flow on AC sub-network SubNetwork 0 for snapshots Index(['now'], dtype='object')\n",
      "INFO:pypsa.pf:Newton-Raphson solved in 3 iterations with error of 0.000000 in 0.030000 seconds\n"
     ]
    },
    {
     "name": "stdout",
     "output_type": "stream",
     "text": [
      "34155.37237204619\n",
      "[101, 18, 86, 66, 1, 48]\n"
     ]
    },
    {
     "name": "stderr",
     "output_type": "stream",
     "text": [
      "INFO:pypsa.pf:Performing non-linear load-flow on AC sub-network SubNetwork 0 for snapshots Index(['now'], dtype='object')\n",
      "INFO:pypsa.pf:Newton-Raphson solved in 3 iterations with error of 0.000000 in 0.036039 seconds\n"
     ]
    },
    {
     "name": "stdout",
     "output_type": "stream",
     "text": [
      "0.24487168566154072\n",
      "[41, 104, 83, 34, 10, 21]\n"
     ]
    },
    {
     "name": "stderr",
     "output_type": "stream",
     "text": [
      "INFO:pypsa.pf:Performing non-linear load-flow on AC sub-network SubNetwork 0 for snapshots Index(['now'], dtype='object')\n",
      "INFO:pypsa.pf:Newton-Raphson solved in 4 iterations with error of 0.000000 in 0.070002 seconds\n"
     ]
    },
    {
     "name": "stdout",
     "output_type": "stream",
     "text": [
      "591369.8447043087\n",
      "[41, 104, 83, 34, 10, 21]\n"
     ]
    },
    {
     "name": "stderr",
     "output_type": "stream",
     "text": [
      "INFO:pypsa.pf:Performing non-linear load-flow on AC sub-network SubNetwork 0 for snapshots Index(['now'], dtype='object')\n",
      "INFO:pypsa.pf:Newton-Raphson solved in 4 iterations with error of 0.000000 in 0.060003 seconds\n"
     ]
    },
    {
     "name": "stdout",
     "output_type": "stream",
     "text": [
      "0.18478566207849045\n",
      "[109, 61, 97, 1, 9, 79]\n"
     ]
    },
    {
     "name": "stderr",
     "output_type": "stream",
     "text": [
      "INFO:pypsa.pf:Performing non-linear load-flow on AC sub-network SubNetwork 0 for snapshots Index(['now'], dtype='object')\n",
      "INFO:pypsa.pf:Newton-Raphson solved in 3 iterations with error of 0.000000 in 0.059997 seconds\n"
     ]
    },
    {
     "name": "stdout",
     "output_type": "stream",
     "text": [
      "34159.23715839188\n",
      "[109, 61, 97, 1, 9, 79]\n"
     ]
    },
    {
     "name": "stderr",
     "output_type": "stream",
     "text": [
      "INFO:pypsa.pf:Performing non-linear load-flow on AC sub-network SubNetwork 0 for snapshots Index(['now'], dtype='object')\n",
      "INFO:pypsa.pf:Newton-Raphson solved in 3 iterations with error of 0.000000 in 0.040003 seconds\n"
     ]
    },
    {
     "name": "stdout",
     "output_type": "stream",
     "text": [
      "0.24487096242427064\n",
      "[50, 64, 42, 88, 16, 41]\n"
     ]
    },
    {
     "name": "stderr",
     "output_type": "stream",
     "text": [
      "INFO:pypsa.pf:Performing non-linear load-flow on AC sub-network SubNetwork 0 for snapshots Index(['now'], dtype='object')\n",
      "INFO:pypsa.pf:Newton-Raphson solved in 4 iterations with error of 0.000000 in 0.050004 seconds\n"
     ]
    },
    {
     "name": "stdout",
     "output_type": "stream",
     "text": [
      "[111, 108, 54, 93, 83, 62]\n"
     ]
    },
    {
     "name": "stderr",
     "output_type": "stream",
     "text": [
      "INFO:pypsa.pf:Performing non-linear load-flow on AC sub-network SubNetwork 0 for snapshots Index(['now'], dtype='object')\n",
      "INFO:pypsa.pf:Newton-Raphson solved in 4 iterations with error of 0.000000 in 0.050007 seconds\n"
     ]
    },
    {
     "name": "stdout",
     "output_type": "stream",
     "text": [
      "[101, 18, 86, 66, 0, 48]\n"
     ]
    },
    {
     "name": "stderr",
     "output_type": "stream",
     "text": [
      "INFO:pypsa.pf:Performing non-linear load-flow on AC sub-network SubNetwork 0 for snapshots Index(['now'], dtype='object')\n",
      "INFO:pypsa.pf:Newton-Raphson solved in 4 iterations with error of 0.000000 in 0.048085 seconds\n"
     ]
    },
    {
     "name": "stdout",
     "output_type": "stream",
     "text": [
      "[41, 104, 83, 34, 10, 21]\n"
     ]
    },
    {
     "name": "stderr",
     "output_type": "stream",
     "text": [
      "INFO:pypsa.pf:Performing non-linear load-flow on AC sub-network SubNetwork 0 for snapshots Index(['now'], dtype='object')\n",
      "INFO:pypsa.pf:Newton-Raphson solved in 4 iterations with error of 0.000000 in 0.050000 seconds\n"
     ]
    },
    {
     "name": "stdout",
     "output_type": "stream",
     "text": [
      "[109, 61, 97, 0, 9, 79]\n"
     ]
    },
    {
     "name": "stderr",
     "output_type": "stream",
     "text": [
      "INFO:pypsa.pf:Performing non-linear load-flow on AC sub-network SubNetwork 0 for snapshots Index(['now'], dtype='object')\n",
      "INFO:pypsa.pf:Newton-Raphson solved in 4 iterations with error of 0.000000 in 0.056033 seconds\n"
     ]
    },
    {
     "name": "stdout",
     "output_type": "stream",
     "text": [
      "\u001b[1m\u001b[31mGeneration = \u001b[0m 2\n",
      "[18, 35, 60, 75, 22, 45]\n"
     ]
    },
    {
     "name": "stderr",
     "output_type": "stream",
     "text": [
      "INFO:pypsa.pf:Performing non-linear load-flow on AC sub-network SubNetwork 0 for snapshots Index(['now'], dtype='object')\n",
      "INFO:pypsa.pf:Newton-Raphson solved in 4 iterations with error of 0.000000 in 0.050117 seconds\n"
     ]
    },
    {
     "name": "stdout",
     "output_type": "stream",
     "text": [
      "359124.33208312315\n",
      "[18, 35, 60, 75, 22, 45]\n"
     ]
    },
    {
     "name": "stderr",
     "output_type": "stream",
     "text": [
      "INFO:pypsa.pf:Performing non-linear load-flow on AC sub-network SubNetwork 0 for snapshots Index(['now'], dtype='object')\n",
      "INFO:pypsa.pf:Newton-Raphson solved in 4 iterations with error of 0.000000 in 0.050002 seconds\n"
     ]
    },
    {
     "name": "stdout",
     "output_type": "stream",
     "text": [
      "2.574166669147704\n",
      "[84, 49, 49, 67, 86, 72]\n"
     ]
    },
    {
     "name": "stderr",
     "output_type": "stream",
     "text": [
      "INFO:pypsa.pf:Performing non-linear load-flow on AC sub-network SubNetwork 0 for snapshots Index(['now'], dtype='object')\n",
      "INFO:pypsa.pf:Newton-Raphson solved in 4 iterations with error of 0.000000 in 0.050031 seconds\n"
     ]
    },
    {
     "name": "stdout",
     "output_type": "stream",
     "text": [
      "295030.037825091\n",
      "[84, 49, 49, 67, 86, 72]\n"
     ]
    },
    {
     "name": "stderr",
     "output_type": "stream",
     "text": [
      "INFO:pypsa.pf:Performing non-linear load-flow on AC sub-network SubNetwork 0 for snapshots Index(['now'], dtype='object')\n",
      "INFO:pypsa.pf:Newton-Raphson solved in 4 iterations with error of 0.000000 in 0.050003 seconds\n"
     ]
    },
    {
     "name": "stdout",
     "output_type": "stream",
     "text": [
      "0.09928850010646473\n",
      "[88, 73, 64, 90, 40, 88]\n"
     ]
    },
    {
     "name": "stderr",
     "output_type": "stream",
     "text": [
      "INFO:pypsa.pf:Performing non-linear load-flow on AC sub-network SubNetwork 0 for snapshots Index(['now'], dtype='object')\n",
      "INFO:pypsa.pf:Newton-Raphson solved in 4 iterations with error of 0.000000 in 0.060007 seconds\n"
     ]
    },
    {
     "name": "stdout",
     "output_type": "stream",
     "text": [
      "336581.7743040088\n",
      "[88, 73, 64, 90, 40, 88]\n"
     ]
    },
    {
     "name": "stderr",
     "output_type": "stream",
     "text": [
      "INFO:pypsa.pf:Performing non-linear load-flow on AC sub-network SubNetwork 0 for snapshots Index(['now'], dtype='object')\n",
      "INFO:pypsa.pf:Newton-Raphson solved in 4 iterations with error of 0.000000 in 0.054508 seconds\n"
     ]
    },
    {
     "name": "stdout",
     "output_type": "stream",
     "text": [
      "0.09928850010647583\n",
      "[23, 51, 67, 1, 32, 60]\n"
     ]
    },
    {
     "name": "stderr",
     "output_type": "stream",
     "text": [
      "INFO:pypsa.pf:Performing non-linear load-flow on AC sub-network SubNetwork 0 for snapshots Index(['now'], dtype='object')\n",
      "INFO:pypsa.pf:Newton-Raphson solved in 3 iterations with error of 0.000000 in 0.057952 seconds\n"
     ]
    },
    {
     "name": "stdout",
     "output_type": "stream",
     "text": [
      "34156.754751619585\n",
      "[23, 51, 67, 1, 32, 60]\n"
     ]
    },
    {
     "name": "stderr",
     "output_type": "stream",
     "text": [
      "INFO:pypsa.pf:Performing non-linear load-flow on AC sub-network SubNetwork 0 for snapshots Index(['now'], dtype='object')\n",
      "INFO:pypsa.pf:Newton-Raphson solved in 3 iterations with error of 0.000000 in 0.048039 seconds\n"
     ]
    },
    {
     "name": "stdout",
     "output_type": "stream",
     "text": [
      "0.24488466103544937\n",
      "[81, 42, 54, 30, 33, 54]\n"
     ]
    },
    {
     "name": "stderr",
     "output_type": "stream",
     "text": [
      "INFO:pypsa.pf:Performing non-linear load-flow on AC sub-network SubNetwork 0 for snapshots Index(['now'], dtype='object')\n",
      "INFO:pypsa.pf:Newton-Raphson solved in 4 iterations with error of 0.000000 in 0.054151 seconds\n"
     ]
    },
    {
     "name": "stdout",
     "output_type": "stream",
     "text": [
      "294741.41122150456\n",
      "[81, 42, 54, 30, 33, 54]\n"
     ]
    },
    {
     "name": "stderr",
     "output_type": "stream",
     "text": [
      "INFO:pypsa.pf:Performing non-linear load-flow on AC sub-network SubNetwork 0 for snapshots Index(['now'], dtype='object')\n",
      "INFO:pypsa.pf:Newton-Raphson solved in 4 iterations with error of 0.000000 in 0.053152 seconds\n"
     ]
    },
    {
     "name": "stdout",
     "output_type": "stream",
     "text": [
      "0.13033663555118702\n",
      "[18, 35, 60, 75, 22, 45]\n"
     ]
    },
    {
     "name": "stderr",
     "output_type": "stream",
     "text": [
      "INFO:pypsa.pf:Performing non-linear load-flow on AC sub-network SubNetwork 0 for snapshots Index(['now'], dtype='object')\n",
      "INFO:pypsa.pf:Newton-Raphson solved in 4 iterations with error of 0.000000 in 0.049960 seconds\n"
     ]
    },
    {
     "name": "stdout",
     "output_type": "stream",
     "text": [
      "[84, 49, 49, 67, 86, 72]\n"
     ]
    },
    {
     "name": "stderr",
     "output_type": "stream",
     "text": [
      "INFO:pypsa.pf:Performing non-linear load-flow on AC sub-network SubNetwork 0 for snapshots Index(['now'], dtype='object')\n",
      "INFO:pypsa.pf:Newton-Raphson solved in 4 iterations with error of 0.000000 in 0.060006 seconds\n"
     ]
    },
    {
     "name": "stdout",
     "output_type": "stream",
     "text": [
      "[88, 73, 64, 90, 40, 88]\n"
     ]
    },
    {
     "name": "stderr",
     "output_type": "stream",
     "text": [
      "INFO:pypsa.pf:Performing non-linear load-flow on AC sub-network SubNetwork 0 for snapshots Index(['now'], dtype='object')\n",
      "INFO:pypsa.pf:Newton-Raphson solved in 4 iterations with error of 0.000000 in 0.050004 seconds\n"
     ]
    },
    {
     "name": "stdout",
     "output_type": "stream",
     "text": [
      "[23, 51, 67, 0, 32, 60]\n"
     ]
    },
    {
     "name": "stderr",
     "output_type": "stream",
     "text": [
      "INFO:pypsa.pf:Performing non-linear load-flow on AC sub-network SubNetwork 0 for snapshots Index(['now'], dtype='object')\n",
      "INFO:pypsa.pf:Newton-Raphson solved in 4 iterations with error of 0.000000 in 0.050000 seconds\n"
     ]
    },
    {
     "name": "stdout",
     "output_type": "stream",
     "text": [
      "[81, 42, 54, 30, 33, 54]\n"
     ]
    },
    {
     "name": "stderr",
     "output_type": "stream",
     "text": [
      "INFO:pypsa.pf:Performing non-linear load-flow on AC sub-network SubNetwork 0 for snapshots Index(['now'], dtype='object')\n",
      "INFO:pypsa.pf:Newton-Raphson solved in 4 iterations with error of 0.000000 in 0.054104 seconds\n"
     ]
    },
    {
     "name": "stdout",
     "output_type": "stream",
     "text": [
      "\u001b[1m\u001b[31mGeneration = \u001b[0m 3\n",
      "[50, 61, 107, 87, 50, 22]\n"
     ]
    },
    {
     "name": "stderr",
     "output_type": "stream",
     "text": [
      "INFO:pypsa.pf:Performing non-linear load-flow on AC sub-network SubNetwork 0 for snapshots Index(['now'], dtype='object')\n",
      "INFO:pypsa.pf:Newton-Raphson solved in 4 iterations with error of 0.000000 in 0.048054 seconds\n"
     ]
    },
    {
     "name": "stdout",
     "output_type": "stream",
     "text": [
      "359151.7546008494\n",
      "[50, 61, 107, 87, 50, 22]\n"
     ]
    },
    {
     "name": "stderr",
     "output_type": "stream",
     "text": [
      "INFO:pypsa.pf:Performing non-linear load-flow on AC sub-network SubNetwork 0 for snapshots Index(['now'], dtype='object')\n",
      "INFO:pypsa.pf:Newton-Raphson solved in 4 iterations with error of 0.000000 in 0.059957 seconds\n"
     ]
    },
    {
     "name": "stdout",
     "output_type": "stream",
     "text": [
      "2.5741721204835977\n",
      "[99, 1, 103, 85, 97, 88]\n"
     ]
    },
    {
     "name": "stderr",
     "output_type": "stream",
     "text": [
      "INFO:pypsa.pf:Performing non-linear load-flow on AC sub-network SubNetwork 0 for snapshots Index(['now'], dtype='object')\n",
      "INFO:pypsa.pf:Newton-Raphson solved in 3 iterations with error of 0.000000 in 0.040225 seconds\n"
     ]
    },
    {
     "name": "stdout",
     "output_type": "stream",
     "text": [
      "34139.25051253444\n",
      "[99, 1, 103, 85, 97, 88]\n"
     ]
    },
    {
     "name": "stderr",
     "output_type": "stream",
     "text": [
      "INFO:pypsa.pf:Performing non-linear load-flow on AC sub-network SubNetwork 0 for snapshots Index(['now'], dtype='object')\n",
      "INFO:pypsa.pf:Newton-Raphson solved in 3 iterations with error of 0.000000 in 0.034093 seconds\n"
     ]
    },
    {
     "name": "stdout",
     "output_type": "stream",
     "text": [
      "0.24487540485400583\n",
      "[103, 77, 47, 95, 56, 93]\n"
     ]
    },
    {
     "name": "stderr",
     "output_type": "stream",
     "text": [
      "INFO:pypsa.pf:Performing non-linear load-flow on AC sub-network SubNetwork 0 for snapshots Index(['now'], dtype='object')\n",
      "INFO:pypsa.pf:Newton-Raphson solved in 4 iterations with error of 0.000000 in 0.054112 seconds\n"
     ]
    },
    {
     "name": "stdout",
     "output_type": "stream",
     "text": [
      "336964.02621732466\n",
      "[103, 77, 47, 95, 56, 93]\n"
     ]
    },
    {
     "name": "stderr",
     "output_type": "stream",
     "text": [
      "INFO:pypsa.pf:Performing non-linear load-flow on AC sub-network SubNetwork 0 for snapshots Index(['now'], dtype='object')\n",
      "INFO:pypsa.pf:Newton-Raphson solved in 4 iterations with error of 0.000000 in 0.044050 seconds\n"
     ]
    },
    {
     "name": "stdout",
     "output_type": "stream",
     "text": [
      "1.0080785929928004\n",
      "[53, 1, 47, 35, 52, 30]\n"
     ]
    },
    {
     "name": "stderr",
     "output_type": "stream",
     "text": [
      "INFO:pypsa.pf:Performing non-linear load-flow on AC sub-network SubNetwork 0 for snapshots Index(['now'], dtype='object')\n",
      "INFO:pypsa.pf:Newton-Raphson solved in 3 iterations with error of 0.000000 in 0.039961 seconds\n"
     ]
    },
    {
     "name": "stdout",
     "output_type": "stream",
     "text": [
      "34172.030492972604\n",
      "[53, 1, 47, 35, 52, 30]\n"
     ]
    },
    {
     "name": "stderr",
     "output_type": "stream",
     "text": [
      "INFO:pypsa.pf:Performing non-linear load-flow on AC sub-network SubNetwork 0 for snapshots Index(['now'], dtype='object')\n",
      "INFO:pypsa.pf:Newton-Raphson solved in 3 iterations with error of 0.000000 in 0.030001 seconds\n"
     ]
    },
    {
     "name": "stdout",
     "output_type": "stream",
     "text": [
      "0.2448527267513767\n",
      "[100, 62, 43, 47, 52, 82]\n"
     ]
    },
    {
     "name": "stderr",
     "output_type": "stream",
     "text": [
      "INFO:pypsa.pf:Performing non-linear load-flow on AC sub-network SubNetwork 0 for snapshots Index(['now'], dtype='object')\n",
      "INFO:pypsa.pf:Newton-Raphson solved in 4 iterations with error of 0.000000 in 0.050003 seconds\n"
     ]
    },
    {
     "name": "stdout",
     "output_type": "stream",
     "text": [
      "383575.15456896106\n",
      "[100, 62, 43, 47, 52, 82]\n"
     ]
    },
    {
     "name": "stderr",
     "output_type": "stream",
     "text": [
      "INFO:pypsa.pf:Performing non-linear load-flow on AC sub-network SubNetwork 0 for snapshots Index(['now'], dtype='object')\n",
      "INFO:pypsa.pf:Newton-Raphson solved in 4 iterations with error of 0.000000 in 0.060004 seconds\n"
     ]
    },
    {
     "name": "stdout",
     "output_type": "stream",
     "text": [
      "3.1947079233916154\n",
      "[50, 61, 107, 87, 50, 22]\n"
     ]
    },
    {
     "name": "stderr",
     "output_type": "stream",
     "text": [
      "INFO:pypsa.pf:Performing non-linear load-flow on AC sub-network SubNetwork 0 for snapshots Index(['now'], dtype='object')\n",
      "INFO:pypsa.pf:Newton-Raphson solved in 4 iterations with error of 0.000000 in 0.044120 seconds\n"
     ]
    },
    {
     "name": "stdout",
     "output_type": "stream",
     "text": [
      "[99, 0, 103, 85, 97, 88]\n"
     ]
    },
    {
     "name": "stderr",
     "output_type": "stream",
     "text": [
      "INFO:pypsa.pf:Performing non-linear load-flow on AC sub-network SubNetwork 0 for snapshots Index(['now'], dtype='object')\n",
      "INFO:pypsa.pf:Newton-Raphson solved in 4 iterations with error of 0.000000 in 0.050000 seconds\n"
     ]
    },
    {
     "name": "stdout",
     "output_type": "stream",
     "text": [
      "[103, 77, 47, 95, 56, 93]\n"
     ]
    },
    {
     "name": "stderr",
     "output_type": "stream",
     "text": [
      "INFO:pypsa.pf:Performing non-linear load-flow on AC sub-network SubNetwork 0 for snapshots Index(['now'], dtype='object')\n",
      "INFO:pypsa.pf:Newton-Raphson solved in 4 iterations with error of 0.000000 in 0.054016 seconds\n"
     ]
    },
    {
     "name": "stdout",
     "output_type": "stream",
     "text": [
      "[53, 1, 47, 35, 52, 30]\n"
     ]
    },
    {
     "name": "stderr",
     "output_type": "stream",
     "text": [
      "INFO:pypsa.pf:Performing non-linear load-flow on AC sub-network SubNetwork 0 for snapshots Index(['now'], dtype='object')\n",
      "INFO:pypsa.pf:Newton-Raphson solved in 4 iterations with error of 0.000000 in 0.049999 seconds\n"
     ]
    },
    {
     "name": "stdout",
     "output_type": "stream",
     "text": [
      "[100, 62, 43, 47, 52, 82]\n"
     ]
    },
    {
     "name": "stderr",
     "output_type": "stream",
     "text": [
      "INFO:pypsa.pf:Performing non-linear load-flow on AC sub-network SubNetwork 0 for snapshots Index(['now'], dtype='object')\n",
      "INFO:pypsa.pf:Newton-Raphson solved in 4 iterations with error of 0.000000 in 0.049999 seconds\n"
     ]
    },
    {
     "name": "stdout",
     "output_type": "stream",
     "text": [
      "The optimal value is : [88.30030209555959, 0.1877628012449617, 130978.22566946628]\n"
     ]
    },
    {
     "ename": "NameError",
     "evalue": "name 'evol' is not defined",
     "output_type": "error",
     "traceback": [
      "\u001b[1;31m---------------------------------------------------------------------------\u001b[0m",
      "\u001b[1;31mNameError\u001b[0m                                 Traceback (most recent call last)",
      "\u001b[1;32m<ipython-input-46-7a0d9951d718>\u001b[0m in \u001b[0;36m<module>\u001b[1;34m\u001b[0m\n\u001b[0;32m     68\u001b[0m \u001b[0mminimaxval\u001b[0m\u001b[1;33m=\u001b[0m\u001b[0mminimax\u001b[0m\u001b[1;33m(\u001b[0m\u001b[1;36m0\u001b[0m\u001b[1;33m,\u001b[0m \u001b[1;36m0\u001b[0m\u001b[1;33m,\u001b[0m \u001b[1;32mTrue\u001b[0m\u001b[1;33m,\u001b[0m \u001b[0mfunc\u001b[0m\u001b[1;33m,\u001b[0m \u001b[0mtreeDepth\u001b[0m\u001b[1;33m)\u001b[0m\u001b[1;33m\u001b[0m\u001b[1;33m\u001b[0m\u001b[0m\n\u001b[0;32m     69\u001b[0m \u001b[0mprint\u001b[0m\u001b[1;33m(\u001b[0m\u001b[0mminimaxval\u001b[0m\u001b[1;33m)\u001b[0m\u001b[1;33m\u001b[0m\u001b[1;33m\u001b[0m\u001b[0m\n\u001b[1;32m---> 70\u001b[1;33m \u001b[0mfeat\u001b[0m\u001b[1;33m=\u001b[0m\u001b[1;33m[\u001b[0m\u001b[0mi\u001b[0m\u001b[1;33m.\u001b[0m\u001b[0mfeatures\u001b[0m \u001b[1;32mfor\u001b[0m \u001b[0mi\u001b[0m \u001b[1;32min\u001b[0m \u001b[0mevol\u001b[0m\u001b[1;33m]\u001b[0m\u001b[1;33m\u001b[0m\u001b[1;33m\u001b[0m\u001b[0m\n\u001b[0m\u001b[0;32m     71\u001b[0m \u001b[1;32mfor\u001b[0m \u001b[0mi\u001b[0m \u001b[1;32min\u001b[0m \u001b[0mrange\u001b[0m\u001b[1;33m(\u001b[0m\u001b[0mlen\u001b[0m\u001b[1;33m(\u001b[0m\u001b[0mfunc\u001b[0m\u001b[1;33m)\u001b[0m\u001b[1;33m)\u001b[0m\u001b[1;33m:\u001b[0m\u001b[1;33m\u001b[0m\u001b[1;33m\u001b[0m\u001b[0m\n\u001b[0;32m     72\u001b[0m     \u001b[1;32mif\u001b[0m \u001b[0mminimaxval\u001b[0m\u001b[1;33m[\u001b[0m\u001b[1;36m0\u001b[0m\u001b[1;33m]\u001b[0m\u001b[1;33m==\u001b[0m\u001b[0mfunc\u001b[0m\u001b[1;33m[\u001b[0m\u001b[0mi\u001b[0m\u001b[1;33m]\u001b[0m\u001b[1;33m[\u001b[0m\u001b[1;36m0\u001b[0m\u001b[1;33m]\u001b[0m\u001b[1;33m:\u001b[0m\u001b[1;33m\u001b[0m\u001b[1;33m\u001b[0m\u001b[0m\n",
      "\u001b[1;31mNameError\u001b[0m: name 'evol' is not defined"
     ]
    },
    {
     "data": {
      "image/png": "[encoded data removed]",
      "text/plain": [
       "<Figure size 432x288 with 1 Axes>"
      ]
     },
     "metadata": {
      "needs_background": "light"
     },
     "output_type": "display_data"
    }
   ],
   "source": [
    "\n",
    "import matplotlib.pyplot as plt\n",
    "import math\n",
    "\n",
    "def f1(x,zdata,xylis,network):\n",
    "    \n",
    "    \n",
    "    df1=network.buses_t.v_mag_pu\n",
    "    mini=100000000000\n",
    "    for i in range(118):\n",
    "        if(df1.iloc[0][i]<mini):\n",
    "            mini=df1.iloc[0][i]\n",
    "    vdev=(1-mini)*100\n",
    "    \n",
    "    return vdev\n",
    "def f2(x,zdata,xylis,network):\n",
    "    \n",
    "    \n",
    "    df2 = network.lines_t\n",
    "    nploss=0\n",
    "    for i in range(186):\n",
    "        nploss+=(df2.p0.iloc[0][i]+df2.p1.iloc[0][i])\n",
    "        \n",
    "    for i in range(1,7):\n",
    "        network.remove(\"Load\",\"Load No {}\".format(i))  \n",
    "    return abs(nploss*250.57)\n",
    "\n",
    "def f3(x,zdata,xylis,network):\n",
    "    s = 0\n",
    "    \n",
    "     \n",
    "    for zon in range(1,181):\n",
    "       \n",
    "        s+=evucnew(zon,xylis)\n",
    "    \n",
    "    return s\n",
    "    \n",
    "\n",
    "size = 5\n",
    "m_r  = 0.15\n",
    "minv = [1,1,1,1,1,1]\n",
    "maxv = [118,118,118,118,118,118]\n",
    "lof  = [f1,f2]\n",
    "gen  = 3\n",
    "mu   = 2\n",
    "eta  = 3\n",
    "\n",
    "\n",
    "# Calling OMOPSO Function\n",
    "omopso_kursawe = optimized_multiobjective_particle_swarm_optimization(swarm_size = size, min_values = minv, max_values = maxv, iterations = gen, list_of_functions = lof, mutation_rate = m_r, eta = eta)\n",
    "\n",
    "func=[]\n",
    "func1=omopso_kursawe[:,-3]\n",
    "func2=omopso_kursawe[:,-2]\n",
    "func3=omopso_kursawe[:,-1]\n",
    "for i in range(len(func1)):\n",
    "    func.append([func1[i],func2[i],func3[i]])\n",
    "\n",
    "ax = plt.axes(projection='3d')\n",
    "function1 = [i[0] for i in func]\n",
    "function2 = [i[1] for i in func]\n",
    "function3 = [i[2] for i in func]\n",
    "ax.scatter3D(function1, function2, function3, c=function3)\n",
    "\n",
    "treeDepth = math.floor(math.log(len(func), 2))\n",
    " \n",
    "print(\"The optimal value is : \", end = \"\")\n",
    "minimaxval=minimax(0, 0, True, func, treeDepth)\n",
    "print(minimaxval)\n",
    "feat=[i.features for i in evol]\n",
    "for i in range(len(func)):\n",
    "    if minimaxval[0]==func[i][0]:\n",
    "        print(feat[i])\n",
    "\n"
   ]
  },
  {
   "cell_type": "code",
   "execution_count": null,
   "metadata": {},
   "outputs": [],
   "source": []
  },
  {
   "cell_type": "code",
   "execution_count": 47,
   "metadata": {},
   "outputs": [
    {
     "data": {
      "text/html": [
       "<details>\n",
       "<summary>Click to view session information</summary>\n",
       "<pre>\n",
       "-----\n",
       "matplotlib          3.5.0\n",
       "numpy               1.21.4\n",
       "pandas              1.3.4\n",
       "pypsa               0.18.1\n",
       "session_info        1.0.0\n",
       "termcolor           1.1.0\n",
       "-----\n",
       "</pre>\n",
       "<details>\n",
       "<summary>Click to view modules imported as dependencies</summary>\n",
       "<pre>\n",
       "PIL                 8.3.2\n",
       "backcall            0.1.0\n",
       "bottleneck          1.2.1\n",
       "cffi                1.12.2\n",
       "cftime              1.5.1.1\n",
       "click               8.0.1\n",
       "cloudpickle         0.8.0\n",
       "colorama            0.4.1\n",
       "cycler              0.10.0\n",
       "cython_runtime      NA\n",
       "cytoolz             0.9.0.1\n",
       "dask                1.1.4\n",
       "dateutil            2.8.0\n",
       "decorator           4.4.0\n",
       "defusedxml          0.5.0\n",
       "deprecation         2.1.0\n",
       "distributed         1.26.0\n",
       "importlib_metadata  NA\n",
       "ipykernel           5.1.0\n",
       "ipython_genutils    0.2.0\n",
       "ipywidgets          7.4.2\n",
       "jdcal               1.4\n",
       "jedi                0.13.3\n",
       "kiwisolver          1.0.1\n",
       "lxml                NA\n",
       "mpl_toolkits        NA\n",
       "msgpack             0.6.1\n",
       "netCDF4             1.5.8\n",
       "networkx            2.6.3\n",
       "nt                  NA\n",
       "numexpr             2.6.9\n",
       "openpyxl            3.0.0\n",
       "packaging           21.3\n",
       "parso               0.3.4\n",
       "pickleshare         0.7.5\n",
       "pkg_resources       NA\n",
       "plotly              4.14.3\n",
       "ply                 3.11\n",
       "prompt_toolkit      2.0.9\n",
       "psutil              5.6.1\n",
       "pygments            2.3.1\n",
       "pyomo               6.1.2\n",
       "pyparsing           2.3.1\n",
       "pythoncom           NA\n",
       "pytz                2018.9\n",
       "pywintypes          NA\n",
       "scipy               1.2.1\n",
       "six                 1.12.0\n",
       "sortedcontainers    2.1.0\n",
       "sphinxcontrib       NA\n",
       "storemagic          NA\n",
       "tblib               1.3.2\n",
       "toolz               0.9.0\n",
       "tornado             6.0.2\n",
       "traitlets           4.3.2\n",
       "typing_extensions   NA\n",
       "wcwidth             NA\n",
       "win32api            NA\n",
       "win32com            NA\n",
       "win32file           NA\n",
       "win32pipe           NA\n",
       "xarray              0.20.1\n",
       "xlrd                1.2.0\n",
       "yaml                5.1\n",
       "zipp                NA\n",
       "zmq                 18.0.0\n",
       "zope                NA\n",
       "</pre>\n",
       "</details> <!-- seems like this ends pre, so might as well be explicit -->\n",
       "<pre>\n",
       "-----\n",
       "IPython             7.4.0\n",
       "jupyter_client      5.2.4\n",
       "jupyter_core        4.4.0\n",
       "jupyterlab          0.35.4\n",
       "notebook            5.7.8\n",
       "-----\n",
       "Python 3.7.3 (default, Mar 27 2019, 17:13:21) [MSC v.1915 64 bit (AMD64)]\n",
       "Windows-10-10.0.19041-SP0\n",
       "-----\n",
       "Session information updated at 2022-05-08 11:05\n",
       "</pre>\n",
       "</details>"
      ],
      "text/plain": [
       "<IPython.core.display.HTML object>"
      ]
     },
     "execution_count": 47,
     "metadata": {},
     "output_type": "execute_result"
    }
   ],
   "source": [
    "import session_info\n",
    "session_info.show()"
   ]
  },
  {
   "cell_type": "code",
   "execution_count": 46,
   "metadata": {},
   "outputs": [],
   "source": [
    "def sdcnew(x):\n",
    "    xylis=[]\n",
    "    \n",
    "    for busno in x:\n",
    "        xbus=busxy['x'][busno-1]\n",
    "        ybus=busxy['y'][busno-1]\n",
    "        xylis.append([xbus,ybus])\n",
    "    \n",
    "    zdata=pd.read_excel(\"xy.xlsx\",sheet_name=\"Sheet3\")\n",
    "    for j in range(1,181):\n",
    "\n",
    "        dist=100000000\n",
    "        h=0\n",
    "        \n",
    "        for i in xylis:\n",
    "            x1=zonexy['x'][j-1]\n",
    "            x2=i[0]\n",
    "            y1=zonexy['y'][j-1]\n",
    "            y2=i[1]\n",
    "\n",
    "            dist1=np.sqrt((x2-x1)**2 + (y2-y1)**2)\n",
    "            if(dist1<dist):\n",
    "                dist=dist1\n",
    "                h=(xylis.index(i))+1\n",
    "\n",
    "        df2 = {'st': h, 'zone':j}\n",
    "        zdata = zdata.append(df2, ignore_index = True)\n",
    "        \n",
    "        \n",
    "    sdcval=0\n",
    "    for x in range(1,ns+1):\n",
    "        \n",
    "        value=sdc(x)\n",
    "        sdcval+=value\n",
    "        \n",
    "    print(sdcval)"
   ]
  },
  {
   "cell_type": "code",
   "execution_count": 48,
   "metadata": {},
   "outputs": [
    {
     "name": "stdout",
     "output_type": "stream",
     "text": [
      "4993152.576000003\n"
     ]
    }
   ],
   "source": [
    "sdcnew([11,56,61,65,78,112])"
   ]
  },
  {
   "cell_type": "code",
   "execution_count": 49,
   "metadata": {},
   "outputs": [
    {
     "name": "stdout",
     "output_type": "stream",
     "text": [
      "4993152.576000003\n"
     ]
    }
   ],
   "source": [
    "sdcnew([7,12,15,24,70,71])"
   ]
  },
  {
   "cell_type": "code",
   "execution_count": null,
   "metadata": {},
   "outputs": [],
   "source": []
  }
 ],
 "metadata": {
  "extensions": {
   "jupyter_dashboards": {
    "activeView": "grid_default",
    "version": 1,
    "views": {
     "grid_default": {
      "cellMargin": 10,
      "defaultCellHeight": 20,
      "maxColumns": 12,
      "name": "grid",
      "type": "grid"
     },
     "report_default": {
      "name": "report",
      "type": "report"
     }
    }
   }
  },
  "kernelspec": {
   "display_name": "Python 3",
   "language": "python",
   "name": "python3"
  },
  "language_info": {
   "codemirror_mode": {
    "name": "ipython",
    "version": 3
   },
   "file_extension": ".py",
   "mimetype": "text/x-python",
   "name": "python",
   "nbconvert_exporter": "python",
   "pygments_lexer": "ipython3",
   "version": "3.7.3"
  }
 },
 "nbformat": 4,
 "nbformat_minor": 2
}
